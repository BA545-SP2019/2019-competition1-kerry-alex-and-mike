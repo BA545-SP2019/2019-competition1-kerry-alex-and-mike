{
 "cells": [
  {
   "cell_type": "code",
   "execution_count": 1,
   "metadata": {},
   "outputs": [],
   "source": [
    "# import packages \n",
    "import pandas as pd\n",
    "import numpy as np\n",
    "import matplotlib.pyplot as plt"
   ]
  },
  {
   "cell_type": "code",
   "execution_count": 2,
   "metadata": {},
   "outputs": [
    {
     "data": {
      "text/html": [
       "<div>\n",
       "<style scoped>\n",
       "    .dataframe tbody tr th:only-of-type {\n",
       "        vertical-align: middle;\n",
       "    }\n",
       "\n",
       "    .dataframe tbody tr th {\n",
       "        vertical-align: top;\n",
       "    }\n",
       "\n",
       "    .dataframe thead th {\n",
       "        text-align: right;\n",
       "    }\n",
       "</style>\n",
       "<table border=\"1\" class=\"dataframe\">\n",
       "  <thead>\n",
       "    <tr style=\"text-align: right;\">\n",
       "      <th></th>\n",
       "      <th>C1</th>\n",
       "      <th>C4</th>\n",
       "      <th>C7</th>\n",
       "      <th>C3p</th>\n",
       "      <th>C5p</th>\n",
       "      <th>C6p</th>\n",
       "      <th>T4p</th>\n",
       "      <th>T3p</th>\n",
       "      <th>T5p</th>\n",
       "      <th>S1p</th>\n",
       "      <th>S2p</th>\n",
       "      <th>S3p</th>\n",
       "      <th>C2</th>\n",
       "    </tr>\n",
       "  </thead>\n",
       "  <tbody>\n",
       "    <tr>\n",
       "      <th>0</th>\n",
       "      <td>122.0</td>\n",
       "      <td>0.029074</td>\n",
       "      <td>51.345</td>\n",
       "      <td>0</td>\n",
       "      <td>3.864345</td>\n",
       "      <td>11.111111</td>\n",
       "      <td>0.640426</td>\n",
       "      <td>0.908876</td>\n",
       "      <td>0.054250</td>\n",
       "      <td>0.004875</td>\n",
       "      <td>0.009199</td>\n",
       "      <td>0.010929</td>\n",
       "      <td>1.0</td>\n",
       "    </tr>\n",
       "    <tr>\n",
       "      <th>1</th>\n",
       "      <td>259.0</td>\n",
       "      <td>-0.013352</td>\n",
       "      <td>25.936</td>\n",
       "      <td>1</td>\n",
       "      <td>12.028832</td>\n",
       "      <td>0.000000</td>\n",
       "      <td>0.644753</td>\n",
       "      <td>0.898724</td>\n",
       "      <td>0.051395</td>\n",
       "      <td>0.003258</td>\n",
       "      <td>0.011105</td>\n",
       "      <td>0.010876</td>\n",
       "      <td>0.0</td>\n",
       "    </tr>\n",
       "    <tr>\n",
       "      <th>2</th>\n",
       "      <td>90.0</td>\n",
       "      <td>0.020715</td>\n",
       "      <td>7.378</td>\n",
       "      <td>1</td>\n",
       "      <td>3.369134</td>\n",
       "      <td>0.000000</td>\n",
       "      <td>0.636816</td>\n",
       "      <td>0.909350</td>\n",
       "      <td>0.061764</td>\n",
       "      <td>0.011593</td>\n",
       "      <td>0.006271</td>\n",
       "      <td>0.011403</td>\n",
       "      <td>1.0</td>\n",
       "    </tr>\n",
       "    <tr>\n",
       "      <th>3</th>\n",
       "      <td>209.0</td>\n",
       "      <td>0.020023</td>\n",
       "      <td>8.526</td>\n",
       "      <td>1</td>\n",
       "      <td>3.299697</td>\n",
       "      <td>0.000000</td>\n",
       "      <td>0.539634</td>\n",
       "      <td>0.917060</td>\n",
       "      <td>0.061630</td>\n",
       "      <td>0.009686</td>\n",
       "      <td>0.007144</td>\n",
       "      <td>0.013319</td>\n",
       "      <td>1.0</td>\n",
       "    </tr>\n",
       "    <tr>\n",
       "      <th>4</th>\n",
       "      <td>80.0</td>\n",
       "      <td>-0.034895</td>\n",
       "      <td>632.298</td>\n",
       "      <td>0</td>\n",
       "      <td>3.726269</td>\n",
       "      <td>5.000000</td>\n",
       "      <td>0.587413</td>\n",
       "      <td>0.888469</td>\n",
       "      <td>0.048550</td>\n",
       "      <td>0.004518</td>\n",
       "      <td>0.010047</td>\n",
       "      <td>0.011261</td>\n",
       "      <td>1.0</td>\n",
       "    </tr>\n",
       "  </tbody>\n",
       "</table>\n",
       "</div>"
      ],
      "text/plain": [
       "      C1        C4       C7  C3p        C5p        C6p       T4p       T3p  \\\n",
       "0  122.0  0.029074   51.345    0   3.864345  11.111111  0.640426  0.908876   \n",
       "1  259.0 -0.013352   25.936    1  12.028832   0.000000  0.644753  0.898724   \n",
       "2   90.0  0.020715    7.378    1   3.369134   0.000000  0.636816  0.909350   \n",
       "3  209.0  0.020023    8.526    1   3.299697   0.000000  0.539634  0.917060   \n",
       "4   80.0 -0.034895  632.298    0   3.726269   5.000000  0.587413  0.888469   \n",
       "\n",
       "        T5p       S1p       S2p       S3p   C2  \n",
       "0  0.054250  0.004875  0.009199  0.010929  1.0  \n",
       "1  0.051395  0.003258  0.011105  0.010876  0.0  \n",
       "2  0.061764  0.011593  0.006271  0.011403  1.0  \n",
       "3  0.061630  0.009686  0.007144  0.013319  1.0  \n",
       "4  0.048550  0.004518  0.010047  0.011261  1.0  "
      ]
     },
     "execution_count": 2,
     "metadata": {},
     "output_type": "execute_result"
    }
   ],
   "source": [
    "# read imputed csv file\n",
    "dfx = pd.read_csv('../csv_files/p4xmean.csv', index_col=0)\n",
    "dfx.head()"
   ]
  },
  {
   "cell_type": "code",
   "execution_count": 3,
   "metadata": {},
   "outputs": [
    {
     "data": {
      "text/plain": [
       "C1      5.742449\n",
       "C4     -0.485756\n",
       "C7     12.382952\n",
       "C3p     0.147347\n",
       "C5p    10.648764\n",
       "C6p     4.436698\n",
       "T4p     0.079998\n",
       "T3p    25.462582\n",
       "T5p    26.111002\n",
       "S1p    20.846925\n",
       "S2p    10.311730\n",
       "S3p    22.121962\n",
       "C2     -2.123926\n",
       "dtype: float64"
      ]
     },
     "execution_count": 3,
     "metadata": {},
     "output_type": "execute_result"
    }
   ],
   "source": [
    "# examine skew of each column\n",
    "# keep in mind we do not have to fix the skew of C2 or C3p because they are binary \n",
    "dfx.skew()"
   ]
  },
  {
   "cell_type": "code",
   "execution_count": 4,
   "metadata": {},
   "outputs": [
    {
     "data": {
      "image/png": "[encoded data removed]",
      "text/plain": [
       "<Figure size 432x288 with 16 Axes>"
      ]
     },
     "metadata": {},
     "output_type": "display_data"
    }
   ],
   "source": [
    "# examine distribution of each column\n",
    "for col in dfx.columns:\n",
    "    dfx.hist(color='blue')\n",
    "    break\n",
    "plt.show()"
   ]
  },
  {
   "cell_type": "markdown",
   "metadata": {},
   "source": [
    "**Fixing Skewness of Columns**"
   ]
  },
  {
   "cell_type": "code",
   "execution_count": 5,
   "metadata": {},
   "outputs": [
    {
     "data": {
      "text/plain": [
       "0.8604030074298509"
      ]
     },
     "execution_count": 5,
     "metadata": {},
     "output_type": "execute_result"
    }
   ],
   "source": [
    "dfx['C1'] = np.cbrt(np.sqrt(dfx['C1']))\n",
    "dfx['C1'].skew()"
   ]
  },
  {
   "cell_type": "code",
   "execution_count": 6,
   "metadata": {},
   "outputs": [
    {
     "data": {
      "text/plain": [
       "0.6042543530587303"
      ]
     },
     "execution_count": 6,
     "metadata": {},
     "output_type": "execute_result"
    }
   ],
   "source": [
    "dfx['C6p'] = np.sqrt(np.cbrt(dfx['C6p']))\n",
    "dfx['C6p'].skew()"
   ]
  },
  {
   "cell_type": "code",
   "execution_count": 7,
   "metadata": {},
   "outputs": [
    {
     "data": {
      "text/plain": [
       "0.42965828360148195"
      ]
     },
     "execution_count": 7,
     "metadata": {},
     "output_type": "execute_result"
    }
   ],
   "source": [
    "dfx['C7'] = np.cbrt(np.sqrt(dfx['C7']))\n",
    "dfx['C7'].skew()"
   ]
  },
  {
   "cell_type": "code",
   "execution_count": 8,
   "metadata": {},
   "outputs": [
    {
     "data": {
      "text/plain": [
       "0.8217829602661499"
      ]
     },
     "execution_count": 8,
     "metadata": {},
     "output_type": "execute_result"
    }
   ],
   "source": [
    "dfx['C5p'] = np.log(dfx['C5p'])\n",
    "dfx['C5p'].skew()"
   ]
  },
  {
   "cell_type": "code",
   "execution_count": 9,
   "metadata": {},
   "outputs": [
    {
     "data": {
      "text/plain": [
       "-9.700060243308764"
      ]
     },
     "execution_count": 9,
     "metadata": {},
     "output_type": "execute_result"
    }
   ],
   "source": [
    "dfx['T3p'] = np.sqrt(np.cbrt(abs(dfx['T3p'])))\n",
    "dfx['T3p'].skew()"
   ]
  },
  {
   "cell_type": "code",
   "execution_count": 10,
   "metadata": {},
   "outputs": [
    {
     "data": {
      "text/plain": [
       "5.032391045094357"
      ]
     },
     "execution_count": 10,
     "metadata": {},
     "output_type": "execute_result"
    }
   ],
   "source": [
    "dfx['T5p'] = np.sqrt(np.cbrt(abs(dfx['T5p'])))\n",
    "dfx['T5p'].skew()"
   ]
  },
  {
   "cell_type": "code",
   "execution_count": 11,
   "metadata": {},
   "outputs": [
    {
     "data": {
      "text/plain": [
       "1.2539499866193393"
      ]
     },
     "execution_count": 11,
     "metadata": {},
     "output_type": "execute_result"
    }
   ],
   "source": [
    "dfx['S1p'] = np.cbrt(dfx['S1p'])\n",
    "dfx['S1p'].skew()"
   ]
  },
  {
   "cell_type": "code",
   "execution_count": 12,
   "metadata": {},
   "outputs": [
    {
     "data": {
      "text/plain": [
       "0.021245196574128076"
      ]
     },
     "execution_count": 12,
     "metadata": {},
     "output_type": "execute_result"
    }
   ],
   "source": [
    "dfx['S2p'] = np.cbrt(dfx['S2p'])\n",
    "dfx['S2p'].skew()"
   ]
  },
  {
   "cell_type": "code",
   "execution_count": 13,
   "metadata": {},
   "outputs": [
    {
     "data": {
      "text/plain": [
       "3.2245723147414767"
      ]
     },
     "execution_count": 13,
     "metadata": {},
     "output_type": "execute_result"
    }
   ],
   "source": [
    "dfx['S3p'] = np.cbrt(dfx['S3p'])\n",
    "dfx['S3p'].skew()"
   ]
  },
  {
   "cell_type": "code",
   "execution_count": 14,
   "metadata": {},
   "outputs": [
    {
     "data": {
      "text/plain": [
       "C1     0.860403\n",
       "C4    -0.485756\n",
       "C7     0.429658\n",
       "C3p    0.147347\n",
       "C5p    0.821783\n",
       "C6p    0.604254\n",
       "T4p    0.079998\n",
       "T3p   -9.700060\n",
       "T5p    5.032391\n",
       "S1p    1.253950\n",
       "S2p    0.021245\n",
       "S3p    3.224572\n",
       "C2    -2.123926\n",
       "dtype: float64"
      ]
     },
     "execution_count": 14,
     "metadata": {},
     "output_type": "execute_result"
    }
   ],
   "source": [
    "# check skew of columns \n",
    "# should be relatively normal (bell-shaped) or as close as possible \n",
    "dfx.skew()"
   ]
  },
  {
   "cell_type": "code",
   "execution_count": 15,
   "metadata": {},
   "outputs": [
    {
     "data": {
      "image/png": "[encoded data removed]",
      "text/plain": [
       "<Figure size 432x288 with 16 Axes>"
      ]
     },
     "metadata": {},
     "output_type": "display_data"
    }
   ],
   "source": [
    "# visualize distribution of variables \n",
    "for col in dfx.columns:\n",
    "    dfx.hist(color='blue')\n",
    "    break\n",
    "plt.show()"
   ]
  },
  {
   "cell_type": "code",
   "execution_count": 16,
   "metadata": {},
   "outputs": [
    {
     "data": {
      "text/html": [
       "<div>\n",
       "<style scoped>\n",
       "    .dataframe tbody tr th:only-of-type {\n",
       "        vertical-align: middle;\n",
       "    }\n",
       "\n",
       "    .dataframe tbody tr th {\n",
       "        vertical-align: top;\n",
       "    }\n",
       "\n",
       "    .dataframe thead th {\n",
       "        text-align: right;\n",
       "    }\n",
       "</style>\n",
       "<table border=\"1\" class=\"dataframe\">\n",
       "  <thead>\n",
       "    <tr style=\"text-align: right;\">\n",
       "      <th></th>\n",
       "      <th>C1</th>\n",
       "      <th>C4</th>\n",
       "      <th>C7</th>\n",
       "      <th>C3p</th>\n",
       "      <th>C5p</th>\n",
       "      <th>C6p</th>\n",
       "      <th>T4p</th>\n",
       "      <th>T3p</th>\n",
       "      <th>T5p</th>\n",
       "      <th>S1p</th>\n",
       "      <th>S2p</th>\n",
       "      <th>S3p</th>\n",
       "      <th>C2</th>\n",
       "    </tr>\n",
       "  </thead>\n",
       "  <tbody>\n",
       "    <tr>\n",
       "      <th>0</th>\n",
       "      <td>2.227033</td>\n",
       "      <td>0.029074</td>\n",
       "      <td>1.927893</td>\n",
       "      <td>0</td>\n",
       "      <td>1.351792</td>\n",
       "      <td>1.493802</td>\n",
       "      <td>0.640426</td>\n",
       "      <td>0.984202</td>\n",
       "      <td>0.615270</td>\n",
       "      <td>0.169556</td>\n",
       "      <td>0.209529</td>\n",
       "      <td>0.221915</td>\n",
       "      <td>1.0</td>\n",
       "    </tr>\n",
       "    <tr>\n",
       "      <th>1</th>\n",
       "      <td>2.524740</td>\n",
       "      <td>-0.013352</td>\n",
       "      <td>1.720483</td>\n",
       "      <td>1</td>\n",
       "      <td>2.487306</td>\n",
       "      <td>0.000000</td>\n",
       "      <td>0.644753</td>\n",
       "      <td>0.982361</td>\n",
       "      <td>0.609752</td>\n",
       "      <td>0.148247</td>\n",
       "      <td>0.223103</td>\n",
       "      <td>0.221556</td>\n",
       "      <td>0.0</td>\n",
       "    </tr>\n",
       "    <tr>\n",
       "      <th>2</th>\n",
       "      <td>2.116933</td>\n",
       "      <td>0.020715</td>\n",
       "      <td>1.395264</td>\n",
       "      <td>1</td>\n",
       "      <td>1.214656</td>\n",
       "      <td>0.000000</td>\n",
       "      <td>0.636816</td>\n",
       "      <td>0.984287</td>\n",
       "      <td>0.628717</td>\n",
       "      <td>0.226322</td>\n",
       "      <td>0.184411</td>\n",
       "      <td>0.225078</td>\n",
       "      <td>1.0</td>\n",
       "    </tr>\n",
       "    <tr>\n",
       "      <th>3</th>\n",
       "      <td>2.436077</td>\n",
       "      <td>0.020023</td>\n",
       "      <td>1.429303</td>\n",
       "      <td>1</td>\n",
       "      <td>1.193831</td>\n",
       "      <td>0.000000</td>\n",
       "      <td>0.539634</td>\n",
       "      <td>0.985673</td>\n",
       "      <td>0.628490</td>\n",
       "      <td>0.213167</td>\n",
       "      <td>0.192593</td>\n",
       "      <td>0.237040</td>\n",
       "      <td>1.0</td>\n",
       "    </tr>\n",
       "    <tr>\n",
       "      <th>4</th>\n",
       "      <td>2.075782</td>\n",
       "      <td>-0.034895</td>\n",
       "      <td>2.929681</td>\n",
       "      <td>0</td>\n",
       "      <td>1.315407</td>\n",
       "      <td>1.307660</td>\n",
       "      <td>0.587413</td>\n",
       "      <td>0.980484</td>\n",
       "      <td>0.603993</td>\n",
       "      <td>0.165315</td>\n",
       "      <td>0.215782</td>\n",
       "      <td>0.224143</td>\n",
       "      <td>1.0</td>\n",
       "    </tr>\n",
       "  </tbody>\n",
       "</table>\n",
       "</div>"
      ],
      "text/plain": [
       "         C1        C4        C7  C3p       C5p       C6p       T4p       T3p  \\\n",
       "0  2.227033  0.029074  1.927893    0  1.351792  1.493802  0.640426  0.984202   \n",
       "1  2.524740 -0.013352  1.720483    1  2.487306  0.000000  0.644753  0.982361   \n",
       "2  2.116933  0.020715  1.395264    1  1.214656  0.000000  0.636816  0.984287   \n",
       "3  2.436077  0.020023  1.429303    1  1.193831  0.000000  0.539634  0.985673   \n",
       "4  2.075782 -0.034895  2.929681    0  1.315407  1.307660  0.587413  0.980484   \n",
       "\n",
       "        T5p       S1p       S2p       S3p   C2  \n",
       "0  0.615270  0.169556  0.209529  0.221915  1.0  \n",
       "1  0.609752  0.148247  0.223103  0.221556  0.0  \n",
       "2  0.628717  0.226322  0.184411  0.225078  1.0  \n",
       "3  0.628490  0.213167  0.192593  0.237040  1.0  \n",
       "4  0.603993  0.165315  0.215782  0.224143  1.0  "
      ]
     },
     "execution_count": 16,
     "metadata": {},
     "output_type": "execute_result"
    }
   ],
   "source": [
    "dfx.head()"
   ]
  },
  {
   "cell_type": "code",
   "execution_count": 17,
   "metadata": {},
   "outputs": [],
   "source": [
    "dfx.to_csv('../csv_files/p4no_skew.csv')"
   ]
  },
  {
   "cell_type": "code",
   "execution_count": null,
   "metadata": {},
   "outputs": [],
   "source": []
  }
 ],
 "metadata": {
  "kernelspec": {
   "display_name": "Python 3",
   "language": "python",
   "name": "python3"
  },
  "language_info": {
   "codemirror_mode": {
    "name": "ipython",
    "version": 3
   },
   "file_extension": ".py",
   "mimetype": "text/x-python",
   "name": "python",
   "nbconvert_exporter": "python",
   "pygments_lexer": "ipython3",
   "version": "3.6.5"
  }
 },
 "nbformat": 4,
 "nbformat_minor": 2
}
