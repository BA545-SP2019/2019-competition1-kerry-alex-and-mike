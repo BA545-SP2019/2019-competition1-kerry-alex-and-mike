{
 "cells": [
  {
   "cell_type": "code",
   "execution_count": 1,
   "metadata": {},
   "outputs": [],
   "source": [
    "import pandas as pd\n",
    "import numpy as np\n",
    "from sklearn.feature_selection import SelectKBest\n",
    "from sklearn.feature_selection import chi2"
   ]
  },
  {
   "cell_type": "code",
   "execution_count": 2,
   "metadata": {},
   "outputs": [
    {
     "data": {
      "text/html": [
       "<div>\n",
       "<style scoped>\n",
       "    .dataframe tbody tr th:only-of-type {\n",
       "        vertical-align: middle;\n",
       "    }\n",
       "\n",
       "    .dataframe tbody tr th {\n",
       "        vertical-align: top;\n",
       "    }\n",
       "\n",
       "    .dataframe thead th {\n",
       "        text-align: right;\n",
       "    }\n",
       "</style>\n",
       "<table border=\"1\" class=\"dataframe\">\n",
       "  <thead>\n",
       "    <tr style=\"text-align: right;\">\n",
       "      <th></th>\n",
       "      <th>C1</th>\n",
       "      <th>C4</th>\n",
       "      <th>C6p</th>\n",
       "      <th>C7</th>\n",
       "      <th>C5p</th>\n",
       "      <th>T4p</th>\n",
       "      <th>T3p</th>\n",
       "      <th>T5p</th>\n",
       "      <th>S1p</th>\n",
       "      <th>S2p</th>\n",
       "      <th>S3p</th>\n",
       "      <th>C2</th>\n",
       "      <th>C3p</th>\n",
       "      <th>Industry_Bins</th>\n",
       "      <th>Y1</th>\n",
       "      <th>Y2</th>\n",
       "    </tr>\n",
       "  </thead>\n",
       "  <tbody>\n",
       "    <tr>\n",
       "      <th>0</th>\n",
       "      <td>0.013297</td>\n",
       "      <td>0.671107</td>\n",
       "      <td>1.282356</td>\n",
       "      <td>-0.561408</td>\n",
       "      <td>0.054797</td>\n",
       "      <td>0.168664</td>\n",
       "      <td>0.174370</td>\n",
       "      <td>0.310576</td>\n",
       "      <td>-0.147291</td>\n",
       "      <td>0.165044</td>\n",
       "      <td>-0.128181</td>\n",
       "      <td>1.0</td>\n",
       "      <td>0</td>\n",
       "      <td>1</td>\n",
       "      <td>0</td>\n",
       "      <td>1</td>\n",
       "    </tr>\n",
       "    <tr>\n",
       "      <th>1</th>\n",
       "      <td>1.259277</td>\n",
       "      <td>-0.641901</td>\n",
       "      <td>-0.759933</td>\n",
       "      <td>-0.861441</td>\n",
       "      <td>2.432764</td>\n",
       "      <td>0.229323</td>\n",
       "      <td>0.099791</td>\n",
       "      <td>-0.016410</td>\n",
       "      <td>-1.241195</td>\n",
       "      <td>0.781034</td>\n",
       "      <td>-0.147795</td>\n",
       "      <td>0.0</td>\n",
       "      <td>1</td>\n",
       "      <td>1</td>\n",
       "      <td>1</td>\n",
       "      <td>0</td>\n",
       "    </tr>\n",
       "    <tr>\n",
       "      <th>2</th>\n",
       "      <td>-0.447500</td>\n",
       "      <td>0.412402</td>\n",
       "      <td>-0.759933</td>\n",
       "      <td>-1.331894</td>\n",
       "      <td>-0.232390</td>\n",
       "      <td>0.118072</td>\n",
       "      <td>0.177832</td>\n",
       "      <td>1.107408</td>\n",
       "      <td>2.766871</td>\n",
       "      <td>-0.974778</td>\n",
       "      <td>0.044531</td>\n",
       "      <td>1.0</td>\n",
       "      <td>1</td>\n",
       "      <td>1</td>\n",
       "      <td>1</td>\n",
       "      <td>0</td>\n",
       "    </tr>\n",
       "    <tr>\n",
       "      <th>3</th>\n",
       "      <td>0.888201</td>\n",
       "      <td>0.390990</td>\n",
       "      <td>-0.759933</td>\n",
       "      <td>-1.282655</td>\n",
       "      <td>-0.276002</td>\n",
       "      <td>-1.244015</td>\n",
       "      <td>0.233984</td>\n",
       "      <td>1.093939</td>\n",
       "      <td>2.091573</td>\n",
       "      <td>-0.603481</td>\n",
       "      <td>0.697712</td>\n",
       "      <td>1.0</td>\n",
       "      <td>1</td>\n",
       "      <td>1</td>\n",
       "      <td>1</td>\n",
       "      <td>1</td>\n",
       "    </tr>\n",
       "    <tr>\n",
       "      <th>4</th>\n",
       "      <td>-0.619728</td>\n",
       "      <td>-1.308620</td>\n",
       "      <td>1.027869</td>\n",
       "      <td>0.887747</td>\n",
       "      <td>-0.021399</td>\n",
       "      <td>-0.574359</td>\n",
       "      <td>0.023742</td>\n",
       "      <td>-0.357698</td>\n",
       "      <td>-0.365024</td>\n",
       "      <td>0.448793</td>\n",
       "      <td>-0.006539</td>\n",
       "      <td>1.0</td>\n",
       "      <td>0</td>\n",
       "      <td>3</td>\n",
       "      <td>0</td>\n",
       "      <td>1</td>\n",
       "    </tr>\n",
       "  </tbody>\n",
       "</table>\n",
       "</div>"
      ],
      "text/plain": [
       "         C1        C4       C6p        C7       C5p       T4p       T3p  \\\n",
       "0  0.013297  0.671107  1.282356 -0.561408  0.054797  0.168664  0.174370   \n",
       "1  1.259277 -0.641901 -0.759933 -0.861441  2.432764  0.229323  0.099791   \n",
       "2 -0.447500  0.412402 -0.759933 -1.331894 -0.232390  0.118072  0.177832   \n",
       "3  0.888201  0.390990 -0.759933 -1.282655 -0.276002 -1.244015  0.233984   \n",
       "4 -0.619728 -1.308620  1.027869  0.887747 -0.021399 -0.574359  0.023742   \n",
       "\n",
       "        T5p       S1p       S2p       S3p   C2  C3p  Industry_Bins  Y1  Y2  \n",
       "0  0.310576 -0.147291  0.165044 -0.128181  1.0    0              1   0   1  \n",
       "1 -0.016410 -1.241195  0.781034 -0.147795  0.0    1              1   1   0  \n",
       "2  1.107408  2.766871 -0.974778  0.044531  1.0    1              1   1   0  \n",
       "3  1.093939  2.091573 -0.603481  0.697712  1.0    1              1   1   1  \n",
       "4 -0.357698 -0.365024  0.448793 -0.006539  1.0    0              3   0   1  "
      ]
     },
     "execution_count": 2,
     "metadata": {},
     "output_type": "execute_result"
    }
   ],
   "source": [
    "# read in file \n",
    "df = pd.read_csv('../csv_files/p4feature-selection.csv', index_col=0)\n",
    "df.head()"
   ]
  },
  {
   "cell_type": "code",
   "execution_count": 3,
   "metadata": {},
   "outputs": [],
   "source": [
    "#Converting the dataframe into the correct arrays to make filtering easier \n",
    "array = df.values\n",
    "X = abs(array[:,:-2]) #features\n",
    "Y1 = array[:,-2] #Target 1\n",
    "Y2 = array[:,-1] #Target 2"
   ]
  },
  {
   "cell_type": "code",
   "execution_count": 5,
   "metadata": {},
   "outputs": [
    {
     "name": "stdout",
     "output_type": "stream",
     "text": [
      "[7.198e-01 1.065e+00 2.760e+01 7.433e+00 4.251e-01 1.449e-01 2.396e+00\n",
      " 1.904e-02 3.008e-01 5.036e-02 6.121e-01 4.750e-01 4.831e+00 2.006e+00]\n"
     ]
    }
   ],
   "source": [
    "# Feature selection for Target 1\n",
    "test = SelectKBest(score_func=chi2, k=4)\n",
    "fit = test.fit(X, Y1)\n",
    "#Printing out the results\n",
    "np.set_printoptions(precision=3)\n",
    "print(fit.scores_)"
   ]
  },
  {
   "cell_type": "code",
   "execution_count": 6,
   "metadata": {},
   "outputs": [
    {
     "name": "stdout",
     "output_type": "stream",
     "text": [
      "[ 0.066  0.131  3.963  0.343  2.621  0.51  10.524  5.504  1.076  0.919\n",
      "  1.451  0.183  0.421  2.095]\n"
     ]
    }
   ],
   "source": [
    "# Feature selection for Target 1\n",
    "test = SelectKBest(score_func=chi2, k=4)\n",
    "fit = test.fit(X, Y2)\n",
    "#Printing out the results\n",
    "np.set_printoptions(precision=3)\n",
    "print(fit.scores_)"
   ]
  },
  {
   "cell_type": "code",
   "execution_count": null,
   "metadata": {},
   "outputs": [],
   "source": []
  }
 ],
 "metadata": {
  "kernelspec": {
   "display_name": "Python 3",
   "language": "python",
   "name": "python3"
  },
  "language_info": {
   "codemirror_mode": {
    "name": "ipython",
    "version": 3
   },
   "file_extension": ".py",
   "mimetype": "text/x-python",
   "name": "python",
   "nbconvert_exporter": "python",
   "pygments_lexer": "ipython3",
   "version": "3.6.5"
  }
 },
 "nbformat": 4,
 "nbformat_minor": 2
}
