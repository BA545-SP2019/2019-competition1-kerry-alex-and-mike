{
 "cells": [
  {
   "cell_type": "code",
   "execution_count": 1,
   "metadata": {},
   "outputs": [],
   "source": [
    "import numpy as np\n",
    "import pandas as pd\n",
    "import matplotlib.pyplot as plt"
   ]
  },
  {
   "cell_type": "code",
   "execution_count": 2,
   "metadata": {},
   "outputs": [
    {
     "data": {
      "text/html": [
       "<div>\n",
       "<style scoped>\n",
       "    .dataframe tbody tr th:only-of-type {\n",
       "        vertical-align: middle;\n",
       "    }\n",
       "\n",
       "    .dataframe tbody tr th {\n",
       "        vertical-align: top;\n",
       "    }\n",
       "\n",
       "    .dataframe thead th {\n",
       "        text-align: right;\n",
       "    }\n",
       "</style>\n",
       "<table border=\"1\" class=\"dataframe\">\n",
       "  <thead>\n",
       "    <tr style=\"text-align: right;\">\n",
       "      <th></th>\n",
       "      <th>C1</th>\n",
       "      <th>C3</th>\n",
       "      <th>C4</th>\n",
       "      <th>C5</th>\n",
       "      <th>C6</th>\n",
       "      <th>C7</th>\n",
       "      <th>T1</th>\n",
       "      <th>T2</th>\n",
       "      <th>T3</th>\n",
       "      <th>T4</th>\n",
       "      <th>...</th>\n",
       "      <th>S3</th>\n",
       "      <th>C3p</th>\n",
       "      <th>C5p</th>\n",
       "      <th>C2</th>\n",
       "      <th>LongSentences</th>\n",
       "      <th>RealWords</th>\n",
       "      <th>LongWords</th>\n",
       "      <th>PositiveWords</th>\n",
       "      <th>NegativeWords</th>\n",
       "      <th>UncertainWords</th>\n",
       "    </tr>\n",
       "  </thead>\n",
       "  <tbody>\n",
       "    <tr>\n",
       "      <th>0</th>\n",
       "      <td>2.227033</td>\n",
       "      <td>1.488400</td>\n",
       "      <td>0.029074</td>\n",
       "      <td>17.528157</td>\n",
       "      <td>16.176365</td>\n",
       "      <td>1.927893</td>\n",
       "      <td>21.679483</td>\n",
       "      <td>112.778544</td>\n",
       "      <td>107.517440</td>\n",
       "      <td>17.349352</td>\n",
       "      <td>...</td>\n",
       "      <td>2.275984</td>\n",
       "      <td>0</td>\n",
       "      <td>1.351792</td>\n",
       "      <td>1.0</td>\n",
       "      <td>0.640426</td>\n",
       "      <td>0.646515</td>\n",
       "      <td>0.615270</td>\n",
       "      <td>0.169556</td>\n",
       "      <td>0.209529</td>\n",
       "      <td>0.221915</td>\n",
       "    </tr>\n",
       "    <tr>\n",
       "      <th>1</th>\n",
       "      <td>2.524740</td>\n",
       "      <td>0.963174</td>\n",
       "      <td>-0.013352</td>\n",
       "      <td>17.178286</td>\n",
       "      <td>14.690979</td>\n",
       "      <td>1.720483</td>\n",
       "      <td>28.124722</td>\n",
       "      <td>147.621137</td>\n",
       "      <td>139.946418</td>\n",
       "      <td>22.583180</td>\n",
       "      <td>...</td>\n",
       "      <td>2.487662</td>\n",
       "      <td>1</td>\n",
       "      <td>2.487306</td>\n",
       "      <td>0.0</td>\n",
       "      <td>0.644753</td>\n",
       "      <td>0.641182</td>\n",
       "      <td>0.609752</td>\n",
       "      <td>0.148247</td>\n",
       "      <td>0.223103</td>\n",
       "      <td>0.221556</td>\n",
       "    </tr>\n",
       "    <tr>\n",
       "      <th>2</th>\n",
       "      <td>2.116933</td>\n",
       "      <td>0.806476</td>\n",
       "      <td>0.020715</td>\n",
       "      <td>16.639604</td>\n",
       "      <td>15.424948</td>\n",
       "      <td>1.395264</td>\n",
       "      <td>14.177447</td>\n",
       "      <td>72.539644</td>\n",
       "      <td>69.173694</td>\n",
       "      <td>11.313708</td>\n",
       "      <td>...</td>\n",
       "      <td>1.978602</td>\n",
       "      <td>1</td>\n",
       "      <td>1.214656</td>\n",
       "      <td>1.0</td>\n",
       "      <td>0.636816</td>\n",
       "      <td>0.646763</td>\n",
       "      <td>0.628717</td>\n",
       "      <td>0.226322</td>\n",
       "      <td>0.184411</td>\n",
       "      <td>0.225078</td>\n",
       "    </tr>\n",
       "    <tr>\n",
       "      <th>3</th>\n",
       "      <td>2.436077</td>\n",
       "      <td>0.647103</td>\n",
       "      <td>0.020023</td>\n",
       "      <td>16.513419</td>\n",
       "      <td>15.319588</td>\n",
       "      <td>1.429303</td>\n",
       "      <td>18.110770</td>\n",
       "      <td>90.879040</td>\n",
       "      <td>87.028731</td>\n",
       "      <td>13.304135</td>\n",
       "      <td>...</td>\n",
       "      <td>2.188931</td>\n",
       "      <td>1</td>\n",
       "      <td>1.193831</td>\n",
       "      <td>1.0</td>\n",
       "      <td>0.539634</td>\n",
       "      <td>0.650793</td>\n",
       "      <td>0.628490</td>\n",
       "      <td>0.213167</td>\n",
       "      <td>0.192593</td>\n",
       "      <td>0.237040</td>\n",
       "    </tr>\n",
       "    <tr>\n",
       "      <th>4</th>\n",
       "      <td>2.075782</td>\n",
       "      <td>0.067659</td>\n",
       "      <td>-0.034895</td>\n",
       "      <td>17.241131</td>\n",
       "      <td>15.925724</td>\n",
       "      <td>2.929681</td>\n",
       "      <td>23.916521</td>\n",
       "      <td>121.778487</td>\n",
       "      <td>114.786759</td>\n",
       "      <td>18.330303</td>\n",
       "      <td>...</td>\n",
       "      <td>2.346674</td>\n",
       "      <td>0</td>\n",
       "      <td>1.315407</td>\n",
       "      <td>1.0</td>\n",
       "      <td>0.587413</td>\n",
       "      <td>0.635767</td>\n",
       "      <td>0.603993</td>\n",
       "      <td>0.165315</td>\n",
       "      <td>0.215782</td>\n",
       "      <td>0.224143</td>\n",
       "    </tr>\n",
       "  </tbody>\n",
       "</table>\n",
       "<p>5 rows × 23 columns</p>\n",
       "</div>"
      ],
      "text/plain": [
       "         C1        C3        C4         C5         C6        C7         T1  \\\n",
       "0  2.227033  1.488400  0.029074  17.528157  16.176365  1.927893  21.679483   \n",
       "1  2.524740  0.963174 -0.013352  17.178286  14.690979  1.720483  28.124722   \n",
       "2  2.116933  0.806476  0.020715  16.639604  15.424948  1.395264  14.177447   \n",
       "3  2.436077  0.647103  0.020023  16.513419  15.319588  1.429303  18.110770   \n",
       "4  2.075782  0.067659 -0.034895  17.241131  15.925724  2.929681  23.916521   \n",
       "\n",
       "           T2          T3         T4       ...              S3  C3p       C5p  \\\n",
       "0  112.778544  107.517440  17.349352       ...        2.275984    0  1.351792   \n",
       "1  147.621137  139.946418  22.583180       ...        2.487662    1  2.487306   \n",
       "2   72.539644   69.173694  11.313708       ...        1.978602    1  1.214656   \n",
       "3   90.879040   87.028731  13.304135       ...        2.188931    1  1.193831   \n",
       "4  121.778487  114.786759  18.330303       ...        2.346674    0  1.315407   \n",
       "\n",
       "    C2  LongSentences  RealWords  LongWords  PositiveWords  NegativeWords  \\\n",
       "0  1.0       0.640426   0.646515   0.615270       0.169556       0.209529   \n",
       "1  0.0       0.644753   0.641182   0.609752       0.148247       0.223103   \n",
       "2  1.0       0.636816   0.646763   0.628717       0.226322       0.184411   \n",
       "3  1.0       0.539634   0.650793   0.628490       0.213167       0.192593   \n",
       "4  1.0       0.587413   0.635767   0.603993       0.165315       0.215782   \n",
       "\n",
       "   UncertainWords  \n",
       "0        0.221915  \n",
       "1        0.221556  \n",
       "2        0.225078  \n",
       "3        0.237040  \n",
       "4        0.224143  \n",
       "\n",
       "[5 rows x 23 columns]"
      ]
     },
     "execution_count": 2,
     "metadata": {},
     "output_type": "execute_result"
    }
   ],
   "source": [
    "# read file \n",
    "dfx = pd.read_csv('csv_files/p2no_skew.csv', index_col=0)\n",
    "dfx.head()"
   ]
  },
  {
   "cell_type": "code",
   "execution_count": 3,
   "metadata": {},
   "outputs": [
    {
     "data": {
      "text/html": [
       "<div>\n",
       "<style scoped>\n",
       "    .dataframe tbody tr th:only-of-type {\n",
       "        vertical-align: middle;\n",
       "    }\n",
       "\n",
       "    .dataframe tbody tr th {\n",
       "        vertical-align: top;\n",
       "    }\n",
       "\n",
       "    .dataframe thead th {\n",
       "        text-align: right;\n",
       "    }\n",
       "</style>\n",
       "<table border=\"1\" class=\"dataframe\">\n",
       "  <thead>\n",
       "    <tr style=\"text-align: right;\">\n",
       "      <th></th>\n",
       "      <th>C2</th>\n",
       "      <th>C3p</th>\n",
       "    </tr>\n",
       "  </thead>\n",
       "  <tbody>\n",
       "    <tr>\n",
       "      <th>0</th>\n",
       "      <td>1.0</td>\n",
       "      <td>0</td>\n",
       "    </tr>\n",
       "    <tr>\n",
       "      <th>1</th>\n",
       "      <td>0.0</td>\n",
       "      <td>1</td>\n",
       "    </tr>\n",
       "    <tr>\n",
       "      <th>2</th>\n",
       "      <td>1.0</td>\n",
       "      <td>1</td>\n",
       "    </tr>\n",
       "    <tr>\n",
       "      <th>3</th>\n",
       "      <td>1.0</td>\n",
       "      <td>1</td>\n",
       "    </tr>\n",
       "    <tr>\n",
       "      <th>4</th>\n",
       "      <td>1.0</td>\n",
       "      <td>0</td>\n",
       "    </tr>\n",
       "  </tbody>\n",
       "</table>\n",
       "</div>"
      ],
      "text/plain": [
       "    C2  C3p\n",
       "0  1.0    0\n",
       "1  0.0    1\n",
       "2  1.0    1\n",
       "3  1.0    1\n",
       "4  1.0    0"
      ]
     },
     "execution_count": 3,
     "metadata": {},
     "output_type": "execute_result"
    }
   ],
   "source": [
    "dfbinary = dfx.filter(['C2', 'C3p'])\n",
    "dfbinary.head()"
   ]
  },
  {
   "cell_type": "code",
   "execution_count": 4,
   "metadata": {},
   "outputs": [
    {
     "data": {
      "text/html": [
       "<div>\n",
       "<style scoped>\n",
       "    .dataframe tbody tr th:only-of-type {\n",
       "        vertical-align: middle;\n",
       "    }\n",
       "\n",
       "    .dataframe tbody tr th {\n",
       "        vertical-align: top;\n",
       "    }\n",
       "\n",
       "    .dataframe thead th {\n",
       "        text-align: right;\n",
       "    }\n",
       "</style>\n",
       "<table border=\"1\" class=\"dataframe\">\n",
       "  <thead>\n",
       "    <tr style=\"text-align: right;\">\n",
       "      <th></th>\n",
       "      <th>C1</th>\n",
       "      <th>C3</th>\n",
       "      <th>C4</th>\n",
       "      <th>C5</th>\n",
       "      <th>C6</th>\n",
       "      <th>C7</th>\n",
       "      <th>T1</th>\n",
       "      <th>T2</th>\n",
       "      <th>T3</th>\n",
       "      <th>T4</th>\n",
       "      <th>...</th>\n",
       "      <th>S1</th>\n",
       "      <th>S2</th>\n",
       "      <th>S3</th>\n",
       "      <th>C5p</th>\n",
       "      <th>LongSentences</th>\n",
       "      <th>RealWords</th>\n",
       "      <th>LongWords</th>\n",
       "      <th>PositiveWords</th>\n",
       "      <th>NegativeWords</th>\n",
       "      <th>UncertainWords</th>\n",
       "    </tr>\n",
       "  </thead>\n",
       "  <tbody>\n",
       "    <tr>\n",
       "      <th>0</th>\n",
       "      <td>2.227033</td>\n",
       "      <td>1.488400</td>\n",
       "      <td>0.029074</td>\n",
       "      <td>17.528157</td>\n",
       "      <td>16.176365</td>\n",
       "      <td>1.927893</td>\n",
       "      <td>21.679483</td>\n",
       "      <td>112.778544</td>\n",
       "      <td>107.517440</td>\n",
       "      <td>17.349352</td>\n",
       "      <td>...</td>\n",
       "      <td>3.957892</td>\n",
       "      <td>2.211554</td>\n",
       "      <td>2.275984</td>\n",
       "      <td>1.351792</td>\n",
       "      <td>0.640426</td>\n",
       "      <td>0.646515</td>\n",
       "      <td>0.615270</td>\n",
       "      <td>0.169556</td>\n",
       "      <td>0.209529</td>\n",
       "      <td>0.221915</td>\n",
       "    </tr>\n",
       "    <tr>\n",
       "      <th>1</th>\n",
       "      <td>2.524740</td>\n",
       "      <td>0.963174</td>\n",
       "      <td>-0.013352</td>\n",
       "      <td>17.178286</td>\n",
       "      <td>14.690979</td>\n",
       "      <td>1.720483</td>\n",
       "      <td>28.124722</td>\n",
       "      <td>147.621137</td>\n",
       "      <td>139.946418</td>\n",
       "      <td>22.583180</td>\n",
       "      <td>...</td>\n",
       "      <td>4.140818</td>\n",
       "      <td>2.496333</td>\n",
       "      <td>2.487662</td>\n",
       "      <td>2.487306</td>\n",
       "      <td>0.644753</td>\n",
       "      <td>0.641182</td>\n",
       "      <td>0.609752</td>\n",
       "      <td>0.148247</td>\n",
       "      <td>0.223103</td>\n",
       "      <td>0.221556</td>\n",
       "    </tr>\n",
       "    <tr>\n",
       "      <th>2</th>\n",
       "      <td>2.116933</td>\n",
       "      <td>0.806476</td>\n",
       "      <td>0.020715</td>\n",
       "      <td>16.639604</td>\n",
       "      <td>15.424948</td>\n",
       "      <td>1.395264</td>\n",
       "      <td>14.177447</td>\n",
       "      <td>72.539644</td>\n",
       "      <td>69.173694</td>\n",
       "      <td>11.313708</td>\n",
       "      <td>...</td>\n",
       "      <td>3.936497</td>\n",
       "      <td>1.790959</td>\n",
       "      <td>1.978602</td>\n",
       "      <td>1.214656</td>\n",
       "      <td>0.636816</td>\n",
       "      <td>0.646763</td>\n",
       "      <td>0.628717</td>\n",
       "      <td>0.226322</td>\n",
       "      <td>0.184411</td>\n",
       "      <td>0.225078</td>\n",
       "    </tr>\n",
       "    <tr>\n",
       "      <th>3</th>\n",
       "      <td>2.436077</td>\n",
       "      <td>0.647103</td>\n",
       "      <td>0.020023</td>\n",
       "      <td>16.513419</td>\n",
       "      <td>15.319588</td>\n",
       "      <td>1.429303</td>\n",
       "      <td>18.110770</td>\n",
       "      <td>90.879040</td>\n",
       "      <td>87.028731</td>\n",
       "      <td>13.304135</td>\n",
       "      <td>...</td>\n",
       "      <td>4.308869</td>\n",
       "      <td>1.973068</td>\n",
       "      <td>2.188931</td>\n",
       "      <td>1.193831</td>\n",
       "      <td>0.539634</td>\n",
       "      <td>0.650793</td>\n",
       "      <td>0.628490</td>\n",
       "      <td>0.213167</td>\n",
       "      <td>0.192593</td>\n",
       "      <td>0.237040</td>\n",
       "    </tr>\n",
       "    <tr>\n",
       "      <th>4</th>\n",
       "      <td>2.075782</td>\n",
       "      <td>0.067659</td>\n",
       "      <td>-0.034895</td>\n",
       "      <td>17.241131</td>\n",
       "      <td>15.925724</td>\n",
       "      <td>2.929681</td>\n",
       "      <td>23.916521</td>\n",
       "      <td>121.778487</td>\n",
       "      <td>114.786759</td>\n",
       "      <td>18.330303</td>\n",
       "      <td>...</td>\n",
       "      <td>4.061548</td>\n",
       "      <td>2.302490</td>\n",
       "      <td>2.346674</td>\n",
       "      <td>1.315407</td>\n",
       "      <td>0.587413</td>\n",
       "      <td>0.635767</td>\n",
       "      <td>0.603993</td>\n",
       "      <td>0.165315</td>\n",
       "      <td>0.215782</td>\n",
       "      <td>0.224143</td>\n",
       "    </tr>\n",
       "  </tbody>\n",
       "</table>\n",
       "<p>5 rows × 21 columns</p>\n",
       "</div>"
      ],
      "text/plain": [
       "         C1        C3        C4         C5         C6        C7         T1  \\\n",
       "0  2.227033  1.488400  0.029074  17.528157  16.176365  1.927893  21.679483   \n",
       "1  2.524740  0.963174 -0.013352  17.178286  14.690979  1.720483  28.124722   \n",
       "2  2.116933  0.806476  0.020715  16.639604  15.424948  1.395264  14.177447   \n",
       "3  2.436077  0.647103  0.020023  16.513419  15.319588  1.429303  18.110770   \n",
       "4  2.075782  0.067659 -0.034895  17.241131  15.925724  2.929681  23.916521   \n",
       "\n",
       "           T2          T3         T4       ...              S1        S2  \\\n",
       "0  112.778544  107.517440  17.349352       ...        3.957892  2.211554   \n",
       "1  147.621137  139.946418  22.583180       ...        4.140818  2.496333   \n",
       "2   72.539644   69.173694  11.313708       ...        3.936497  1.790959   \n",
       "3   90.879040   87.028731  13.304135       ...        4.308869  1.973068   \n",
       "4  121.778487  114.786759  18.330303       ...        4.061548  2.302490   \n",
       "\n",
       "         S3       C5p  LongSentences  RealWords  LongWords  PositiveWords  \\\n",
       "0  2.275984  1.351792       0.640426   0.646515   0.615270       0.169556   \n",
       "1  2.487662  2.487306       0.644753   0.641182   0.609752       0.148247   \n",
       "2  1.978602  1.214656       0.636816   0.646763   0.628717       0.226322   \n",
       "3  2.188931  1.193831       0.539634   0.650793   0.628490       0.213167   \n",
       "4  2.346674  1.315407       0.587413   0.635767   0.603993       0.165315   \n",
       "\n",
       "   NegativeWords  UncertainWords  \n",
       "0       0.209529        0.221915  \n",
       "1       0.223103        0.221556  \n",
       "2       0.184411        0.225078  \n",
       "3       0.192593        0.237040  \n",
       "4       0.215782        0.224143  \n",
       "\n",
       "[5 rows x 21 columns]"
      ]
     },
     "execution_count": 4,
     "metadata": {},
     "output_type": "execute_result"
    }
   ],
   "source": [
    "dfx = dfx.drop(labels=['C2', 'C3p'],axis=1)\n",
    "dfx.head()"
   ]
  },
  {
   "cell_type": "markdown",
   "metadata": {},
   "source": [
    "**One Column**"
   ]
  },
  {
   "cell_type": "code",
   "execution_count": 5,
   "metadata": {},
   "outputs": [
    {
     "data": {
      "text/plain": [
       "0    2.227033\n",
       "1    2.524740\n",
       "2    2.116933\n",
       "3    2.436077\n",
       "4    2.075782\n",
       "Name: C1, dtype: float64"
      ]
     },
     "execution_count": 5,
     "metadata": {},
     "output_type": "execute_result"
    }
   ],
   "source": [
    "my_col = dfx['C1']\n",
    "my_col.head()"
   ]
  },
  {
   "cell_type": "code",
   "execution_count": 6,
   "metadata": {},
   "outputs": [
    {
     "name": "stdout",
     "output_type": "stream",
     "text": [
      "2.975333116663967\n"
     ]
    }
   ],
   "source": [
    "# define upper boundary\n",
    "u_bound = my_col.mean() + 3* my_col.std()\n",
    "print(u_bound)"
   ]
  },
  {
   "cell_type": "code",
   "execution_count": 7,
   "metadata": {},
   "outputs": [
    {
     "data": {
      "text/plain": [
       "65     3.574816\n",
       "141    3.067427\n",
       "228    3.089133\n",
       "391    3.316625\n",
       "413    3.004782\n",
       "628    3.063733\n",
       "665    3.289497\n",
       "Name: C1, dtype: float64"
      ]
     },
     "execution_count": 7,
     "metadata": {},
     "output_type": "execute_result"
    }
   ],
   "source": [
    "# which records are above the upper boundary\n",
    "my_col[my_col>u_bound]"
   ]
  },
  {
   "cell_type": "code",
   "execution_count": 8,
   "metadata": {},
   "outputs": [],
   "source": [
    "# replace outliers with upper boundary\n",
    "my_col[my_col>u_bound] = u_bound"
   ]
  },
  {
   "cell_type": "code",
   "execution_count": 9,
   "metadata": {},
   "outputs": [
    {
     "data": {
      "text/plain": [
       "False    682\n",
       "Name: C1, dtype: int64"
      ]
     },
     "execution_count": 9,
     "metadata": {},
     "output_type": "execute_result"
    }
   ],
   "source": [
    "# check\n",
    "pd.Series(my_col>u_bound).value_counts()"
   ]
  },
  {
   "cell_type": "code",
   "execution_count": 10,
   "metadata": {},
   "outputs": [
    {
     "data": {
      "text/plain": [
       "Series([], Name: C1, dtype: float64)"
      ]
     },
     "execution_count": 10,
     "metadata": {},
     "output_type": "execute_result"
    }
   ],
   "source": [
    "# another check\n",
    "my_col[my_col>u_bound]"
   ]
  },
  {
   "cell_type": "code",
   "execution_count": 11,
   "metadata": {},
   "outputs": [
    {
     "name": "stdout",
     "output_type": "stream",
     "text": [
      "1.5019178597752965\n"
     ]
    }
   ],
   "source": [
    "# define lower boundary \n",
    "l_bound = my_col.mean() - 3* my_col.std()\n",
    "print(l_bound)"
   ]
  },
  {
   "cell_type": "code",
   "execution_count": 12,
   "metadata": {},
   "outputs": [
    {
     "data": {
      "text/plain": [
       "148    1.491301\n",
       "575    1.467799\n",
       "589    1.467799\n",
       "Name: C1, dtype: float64"
      ]
     },
     "execution_count": 12,
     "metadata": {},
     "output_type": "execute_result"
    }
   ],
   "source": [
    "# which records are under the lower boundary\n",
    "my_col[my_col<l_bound]"
   ]
  },
  {
   "cell_type": "code",
   "execution_count": 13,
   "metadata": {},
   "outputs": [],
   "source": [
    "# replace outliers with lower boundary\n",
    "my_col[my_col<l_bound] = l_bound"
   ]
  },
  {
   "cell_type": "code",
   "execution_count": 14,
   "metadata": {},
   "outputs": [
    {
     "data": {
      "text/plain": [
       "False    682\n",
       "Name: C1, dtype: int64"
      ]
     },
     "execution_count": 14,
     "metadata": {},
     "output_type": "execute_result"
    }
   ],
   "source": [
    "# check\n",
    "pd.Series(my_col<l_bound).value_counts()"
   ]
  },
  {
   "cell_type": "code",
   "execution_count": 15,
   "metadata": {},
   "outputs": [
    {
     "data": {
      "text/plain": [
       "Series([], Name: C1, dtype: float64)"
      ]
     },
     "execution_count": 15,
     "metadata": {},
     "output_type": "execute_result"
    }
   ],
   "source": [
    "# another check\n",
    "my_col[my_col<l_bound]"
   ]
  },
  {
   "cell_type": "markdown",
   "metadata": {},
   "source": [
    "**All Columns Upper**"
   ]
  },
  {
   "cell_type": "code",
   "execution_count": 16,
   "metadata": {},
   "outputs": [],
   "source": [
    "for col in dfx.columns:\n",
    "    u_bound = dfx[col].mean() + 3* dfx[col].std()\n",
    "    dfx[col][dfx[col] > u_bound] = u_bound"
   ]
  },
  {
   "cell_type": "code",
   "execution_count": 17,
   "metadata": {},
   "outputs": [
    {
     "data": {
      "text/plain": [
       "False    682\n",
       "Name: UncertainWords, dtype: int64"
      ]
     },
     "execution_count": 17,
     "metadata": {},
     "output_type": "execute_result"
    }
   ],
   "source": [
    "# check\n",
    "pd.Series(dfx[col][dfx[col]] > u_bound).value_counts()"
   ]
  },
  {
   "cell_type": "markdown",
   "metadata": {},
   "source": [
    "**All Columns Lower**"
   ]
  },
  {
   "cell_type": "code",
   "execution_count": 18,
   "metadata": {},
   "outputs": [],
   "source": [
    "for col in dfx.columns:\n",
    "    l_bound = dfx[col].mean() - 3* dfx[col].std()\n",
    "    dfx[col][dfx[col] < l_bound] = l_bound"
   ]
  },
  {
   "cell_type": "code",
   "execution_count": 19,
   "metadata": {},
   "outputs": [
    {
     "data": {
      "text/plain": [
       "False    682\n",
       "Name: UncertainWords, dtype: int64"
      ]
     },
     "execution_count": 19,
     "metadata": {},
     "output_type": "execute_result"
    }
   ],
   "source": [
    "# check\n",
    "pd.Series(dfx[col][dfx[col]] < l_bound).value_counts()"
   ]
  },
  {
   "cell_type": "markdown",
   "metadata": {},
   "source": [
    "**Verifying that outliers were removed**"
   ]
  },
  {
   "cell_type": "markdown",
   "metadata": {},
   "source": [
    "whis = 'range' allows the whiskers of the plot to encompass all values up until the upper and lower bounds "
   ]
  },
  {
   "cell_type": "code",
   "execution_count": 20,
   "metadata": {},
   "outputs": [
    {
     "data": {
      "image/png": "[encoded data removed]",
      "text/plain": [
       "<Figure size 432x288 with 1 Axes>"
      ]
     },
     "metadata": {},
     "output_type": "display_data"
    }
   ],
   "source": [
    "plt.boxplot(dfx['C1'], whis='range')\n",
    "plt.show()"
   ]
  },
  {
   "cell_type": "code",
   "execution_count": 21,
   "metadata": {},
   "outputs": [
    {
     "data": {
      "image/png": "[encoded data removed]",
      "text/plain": [
       "<Figure size 432x288 with 1 Axes>"
      ]
     },
     "metadata": {},
     "output_type": "display_data"
    }
   ],
   "source": [
    "plt.boxplot(dfx['C3'], whis='range')\n",
    "plt.show()"
   ]
  },
  {
   "cell_type": "code",
   "execution_count": 22,
   "metadata": {},
   "outputs": [
    {
     "data": {
      "image/png": "[encoded data removed]",
      "text/plain": [
       "<Figure size 432x288 with 1 Axes>"
      ]
     },
     "metadata": {},
     "output_type": "display_data"
    }
   ],
   "source": [
    "plt.boxplot(dfx['C4'], whis='range')\n",
    "plt.show()"
   ]
  },
  {
   "cell_type": "code",
   "execution_count": 23,
   "metadata": {},
   "outputs": [
    {
     "data": {
      "image/png": "[encoded data removed]",
      "text/plain": [
       "<Figure size 432x288 with 1 Axes>"
      ]
     },
     "metadata": {},
     "output_type": "display_data"
    }
   ],
   "source": [
    "plt.boxplot(dfx['C5'], whis='range')\n",
    "plt.show()"
   ]
  },
  {
   "cell_type": "code",
   "execution_count": 24,
   "metadata": {},
   "outputs": [
    {
     "data": {
      "image/png": "[encoded data removed]",
      "text/plain": [
       "<Figure size 432x288 with 1 Axes>"
      ]
     },
     "metadata": {},
     "output_type": "display_data"
    }
   ],
   "source": [
    "plt.boxplot(dfx['C6'], whis='range')\n",
    "plt.show()"
   ]
  },
  {
   "cell_type": "code",
   "execution_count": 25,
   "metadata": {},
   "outputs": [
    {
     "data": {
      "image/png": "[encoded data removed]",
      "text/plain": [
       "<Figure size 432x288 with 1 Axes>"
      ]
     },
     "metadata": {},
     "output_type": "display_data"
    }
   ],
   "source": [
    "plt.boxplot(dfx['C7'], whis='range')\n",
    "plt.show()"
   ]
  },
  {
   "cell_type": "code",
   "execution_count": 26,
   "metadata": {},
   "outputs": [
    {
     "data": {
      "image/png": "[encoded data removed]",
      "text/plain": [
       "<Figure size 432x288 with 1 Axes>"
      ]
     },
     "metadata": {},
     "output_type": "display_data"
    }
   ],
   "source": [
    "plt.boxplot(dfx['T1'], whis='range')\n",
    "plt.show()"
   ]
  },
  {
   "cell_type": "code",
   "execution_count": 27,
   "metadata": {},
   "outputs": [
    {
     "data": {
      "image/png": "[encoded data removed]",
      "text/plain": [
       "<Figure size 432x288 with 1 Axes>"
      ]
     },
     "metadata": {},
     "output_type": "display_data"
    }
   ],
   "source": [
    "plt.boxplot(dfx['T2'], whis='range')\n",
    "plt.show()"
   ]
  },
  {
   "cell_type": "code",
   "execution_count": 28,
   "metadata": {},
   "outputs": [
    {
     "data": {
      "image/png": "[encoded data removed]",
      "text/plain": [
       "<Figure size 432x288 with 1 Axes>"
      ]
     },
     "metadata": {},
     "output_type": "display_data"
    }
   ],
   "source": [
    "plt.boxplot(dfx['T3'], whis='range')\n",
    "plt.show()"
   ]
  },
  {
   "cell_type": "code",
   "execution_count": 29,
   "metadata": {},
   "outputs": [
    {
     "data": {
      "image/png": "[encoded data removed]",
      "text/plain": [
       "<Figure size 432x288 with 1 Axes>"
      ]
     },
     "metadata": {},
     "output_type": "display_data"
    }
   ],
   "source": [
    "plt.boxplot(dfx['T4'], whis='range')\n",
    "plt.show()"
   ]
  },
  {
   "cell_type": "code",
   "execution_count": 30,
   "metadata": {},
   "outputs": [
    {
     "data": {
      "image/png": "[encoded data removed]",
      "text/plain": [
       "<Figure size 432x288 with 1 Axes>"
      ]
     },
     "metadata": {},
     "output_type": "display_data"
    }
   ],
   "source": [
    "plt.boxplot(dfx['T5'], whis='range')\n",
    "plt.show()"
   ]
  },
  {
   "cell_type": "code",
   "execution_count": 31,
   "metadata": {},
   "outputs": [
    {
     "data": {
      "image/png": "[encoded data removed]",
      "text/plain": [
       "<Figure size 432x288 with 1 Axes>"
      ]
     },
     "metadata": {},
     "output_type": "display_data"
    }
   ],
   "source": [
    "plt.boxplot(dfx['S1'], whis='range')\n",
    "plt.show()"
   ]
  },
  {
   "cell_type": "code",
   "execution_count": 32,
   "metadata": {},
   "outputs": [
    {
     "data": {
      "image/png": "[encoded data removed]",
      "text/plain": [
       "<Figure size 432x288 with 1 Axes>"
      ]
     },
     "metadata": {},
     "output_type": "display_data"
    }
   ],
   "source": [
    "plt.boxplot(dfx['S2'], whis='range')\n",
    "plt.show()"
   ]
  },
  {
   "cell_type": "code",
   "execution_count": 33,
   "metadata": {},
   "outputs": [
    {
     "data": {
      "image/png": "[encoded data removed]",
      "text/plain": [
       "<Figure size 432x288 with 1 Axes>"
      ]
     },
     "metadata": {},
     "output_type": "display_data"
    }
   ],
   "source": [
    "plt.boxplot(dfx['S3'], whis='range')\n",
    "plt.show()"
   ]
  },
  {
   "cell_type": "code",
   "execution_count": 34,
   "metadata": {},
   "outputs": [
    {
     "data": {
      "image/png": "[encoded data removed]",
      "text/plain": [
       "<Figure size 432x288 with 1 Axes>"
      ]
     },
     "metadata": {},
     "output_type": "display_data"
    }
   ],
   "source": [
    "plt.boxplot(dfx['C5p'], whis='range')\n",
    "plt.show()"
   ]
  },
  {
   "cell_type": "code",
   "execution_count": 35,
   "metadata": {},
   "outputs": [
    {
     "data": {
      "image/png": "[encoded data removed]",
      "text/plain": [
       "<Figure size 432x288 with 1 Axes>"
      ]
     },
     "metadata": {},
     "output_type": "display_data"
    }
   ],
   "source": [
    "plt.boxplot(dfx['LongSentences'], whis='range')\n",
    "plt.show()"
   ]
  },
  {
   "cell_type": "code",
   "execution_count": 36,
   "metadata": {},
   "outputs": [
    {
     "data": {
      "image/png": "[encoded data removed]",
      "text/plain": [
       "<Figure size 432x288 with 1 Axes>"
      ]
     },
     "metadata": {},
     "output_type": "display_data"
    }
   ],
   "source": [
    "plt.boxplot(dfx['RealWords'], whis='range')\n",
    "plt.show()"
   ]
  },
  {
   "cell_type": "code",
   "execution_count": 37,
   "metadata": {},
   "outputs": [
    {
     "data": {
      "image/png": "[encoded data removed]",
      "text/plain": [
       "<Figure size 432x288 with 1 Axes>"
      ]
     },
     "metadata": {},
     "output_type": "display_data"
    }
   ],
   "source": [
    "plt.boxplot(dfx['LongWords'], whis='range')\n",
    "plt.show()"
   ]
  },
  {
   "cell_type": "code",
   "execution_count": 38,
   "metadata": {},
   "outputs": [
    {
     "data": {
      "image/png": "[encoded data removed]",
      "text/plain": [
       "<Figure size 432x288 with 1 Axes>"
      ]
     },
     "metadata": {},
     "output_type": "display_data"
    }
   ],
   "source": [
    "plt.boxplot(dfx['PositiveWords'], whis='range')\n",
    "plt.show()"
   ]
  },
  {
   "cell_type": "code",
   "execution_count": 39,
   "metadata": {},
   "outputs": [
    {
     "data": {
      "image/png": "[encoded data removed]",
      "text/plain": [
       "<Figure size 432x288 with 1 Axes>"
      ]
     },
     "metadata": {},
     "output_type": "display_data"
    }
   ],
   "source": [
    "plt.boxplot(dfx['NegativeWords'], whis='range')\n",
    "plt.show()"
   ]
  },
  {
   "cell_type": "code",
   "execution_count": 40,
   "metadata": {},
   "outputs": [
    {
     "data": {
      "image/png": "[encoded data removed]",
      "text/plain": [
       "<Figure size 432x288 with 1 Axes>"
      ]
     },
     "metadata": {},
     "output_type": "display_data"
    }
   ],
   "source": [
    "plt.boxplot(dfx['UncertainWords'], whis='range')\n",
    "plt.show()"
   ]
  },
  {
   "cell_type": "code",
   "execution_count": 42,
   "metadata": {},
   "outputs": [
    {
     "data": {
      "text/html": [
       "<div>\n",
       "<style scoped>\n",
       "    .dataframe tbody tr th:only-of-type {\n",
       "        vertical-align: middle;\n",
       "    }\n",
       "\n",
       "    .dataframe tbody tr th {\n",
       "        vertical-align: top;\n",
       "    }\n",
       "\n",
       "    .dataframe thead th {\n",
       "        text-align: right;\n",
       "    }\n",
       "</style>\n",
       "<table border=\"1\" class=\"dataframe\">\n",
       "  <thead>\n",
       "    <tr style=\"text-align: right;\">\n",
       "      <th></th>\n",
       "      <th>C1</th>\n",
       "      <th>C3</th>\n",
       "      <th>C4</th>\n",
       "      <th>C5</th>\n",
       "      <th>C6</th>\n",
       "      <th>C7</th>\n",
       "      <th>T1</th>\n",
       "      <th>T2</th>\n",
       "      <th>T3</th>\n",
       "      <th>T4</th>\n",
       "      <th>...</th>\n",
       "      <th>S3</th>\n",
       "      <th>C5p</th>\n",
       "      <th>LongSentences</th>\n",
       "      <th>RealWords</th>\n",
       "      <th>LongWords</th>\n",
       "      <th>PositiveWords</th>\n",
       "      <th>NegativeWords</th>\n",
       "      <th>UncertainWords</th>\n",
       "      <th>C2</th>\n",
       "      <th>C3p</th>\n",
       "    </tr>\n",
       "  </thead>\n",
       "  <tbody>\n",
       "    <tr>\n",
       "      <th>0</th>\n",
       "      <td>2.227033</td>\n",
       "      <td>1.488400</td>\n",
       "      <td>0.029074</td>\n",
       "      <td>17.528157</td>\n",
       "      <td>16.176365</td>\n",
       "      <td>1.927893</td>\n",
       "      <td>21.679483</td>\n",
       "      <td>112.778544</td>\n",
       "      <td>107.517440</td>\n",
       "      <td>17.349352</td>\n",
       "      <td>...</td>\n",
       "      <td>2.275984</td>\n",
       "      <td>1.351792</td>\n",
       "      <td>0.640426</td>\n",
       "      <td>0.646515</td>\n",
       "      <td>0.615270</td>\n",
       "      <td>0.169556</td>\n",
       "      <td>0.209529</td>\n",
       "      <td>0.221915</td>\n",
       "      <td>1.0</td>\n",
       "      <td>0</td>\n",
       "    </tr>\n",
       "    <tr>\n",
       "      <th>1</th>\n",
       "      <td>2.524740</td>\n",
       "      <td>0.963174</td>\n",
       "      <td>-0.013352</td>\n",
       "      <td>17.178286</td>\n",
       "      <td>14.690979</td>\n",
       "      <td>1.720483</td>\n",
       "      <td>28.124722</td>\n",
       "      <td>147.621137</td>\n",
       "      <td>139.946418</td>\n",
       "      <td>22.583180</td>\n",
       "      <td>...</td>\n",
       "      <td>2.487662</td>\n",
       "      <td>2.487306</td>\n",
       "      <td>0.644753</td>\n",
       "      <td>0.641182</td>\n",
       "      <td>0.609752</td>\n",
       "      <td>0.148247</td>\n",
       "      <td>0.223103</td>\n",
       "      <td>0.221556</td>\n",
       "      <td>0.0</td>\n",
       "      <td>1</td>\n",
       "    </tr>\n",
       "    <tr>\n",
       "      <th>2</th>\n",
       "      <td>2.116933</td>\n",
       "      <td>0.806476</td>\n",
       "      <td>0.020715</td>\n",
       "      <td>16.639604</td>\n",
       "      <td>15.424948</td>\n",
       "      <td>1.395264</td>\n",
       "      <td>14.177447</td>\n",
       "      <td>72.539644</td>\n",
       "      <td>69.173694</td>\n",
       "      <td>11.313708</td>\n",
       "      <td>...</td>\n",
       "      <td>1.978602</td>\n",
       "      <td>1.214656</td>\n",
       "      <td>0.636816</td>\n",
       "      <td>0.646763</td>\n",
       "      <td>0.628717</td>\n",
       "      <td>0.226322</td>\n",
       "      <td>0.184411</td>\n",
       "      <td>0.225078</td>\n",
       "      <td>1.0</td>\n",
       "      <td>1</td>\n",
       "    </tr>\n",
       "    <tr>\n",
       "      <th>3</th>\n",
       "      <td>2.436077</td>\n",
       "      <td>0.647103</td>\n",
       "      <td>0.020023</td>\n",
       "      <td>16.513419</td>\n",
       "      <td>15.319588</td>\n",
       "      <td>1.429303</td>\n",
       "      <td>18.110770</td>\n",
       "      <td>90.879040</td>\n",
       "      <td>87.028731</td>\n",
       "      <td>13.304135</td>\n",
       "      <td>...</td>\n",
       "      <td>2.188931</td>\n",
       "      <td>1.193831</td>\n",
       "      <td>0.539634</td>\n",
       "      <td>0.650793</td>\n",
       "      <td>0.628490</td>\n",
       "      <td>0.213167</td>\n",
       "      <td>0.192593</td>\n",
       "      <td>0.237040</td>\n",
       "      <td>1.0</td>\n",
       "      <td>1</td>\n",
       "    </tr>\n",
       "    <tr>\n",
       "      <th>4</th>\n",
       "      <td>2.075782</td>\n",
       "      <td>0.067659</td>\n",
       "      <td>-0.034895</td>\n",
       "      <td>17.241131</td>\n",
       "      <td>15.925724</td>\n",
       "      <td>2.929681</td>\n",
       "      <td>23.916521</td>\n",
       "      <td>121.778487</td>\n",
       "      <td>114.786759</td>\n",
       "      <td>18.330303</td>\n",
       "      <td>...</td>\n",
       "      <td>2.346674</td>\n",
       "      <td>1.315407</td>\n",
       "      <td>0.587413</td>\n",
       "      <td>0.635767</td>\n",
       "      <td>0.603993</td>\n",
       "      <td>0.165315</td>\n",
       "      <td>0.215782</td>\n",
       "      <td>0.224143</td>\n",
       "      <td>1.0</td>\n",
       "      <td>0</td>\n",
       "    </tr>\n",
       "  </tbody>\n",
       "</table>\n",
       "<p>5 rows × 23 columns</p>\n",
       "</div>"
      ],
      "text/plain": [
       "         C1        C3        C4         C5         C6        C7         T1  \\\n",
       "0  2.227033  1.488400  0.029074  17.528157  16.176365  1.927893  21.679483   \n",
       "1  2.524740  0.963174 -0.013352  17.178286  14.690979  1.720483  28.124722   \n",
       "2  2.116933  0.806476  0.020715  16.639604  15.424948  1.395264  14.177447   \n",
       "3  2.436077  0.647103  0.020023  16.513419  15.319588  1.429303  18.110770   \n",
       "4  2.075782  0.067659 -0.034895  17.241131  15.925724  2.929681  23.916521   \n",
       "\n",
       "           T2          T3         T4 ...         S3       C5p  LongSentences  \\\n",
       "0  112.778544  107.517440  17.349352 ...   2.275984  1.351792       0.640426   \n",
       "1  147.621137  139.946418  22.583180 ...   2.487662  2.487306       0.644753   \n",
       "2   72.539644   69.173694  11.313708 ...   1.978602  1.214656       0.636816   \n",
       "3   90.879040   87.028731  13.304135 ...   2.188931  1.193831       0.539634   \n",
       "4  121.778487  114.786759  18.330303 ...   2.346674  1.315407       0.587413   \n",
       "\n",
       "   RealWords  LongWords  PositiveWords  NegativeWords  UncertainWords   C2  \\\n",
       "0   0.646515   0.615270       0.169556       0.209529        0.221915  1.0   \n",
       "1   0.641182   0.609752       0.148247       0.223103        0.221556  0.0   \n",
       "2   0.646763   0.628717       0.226322       0.184411        0.225078  1.0   \n",
       "3   0.650793   0.628490       0.213167       0.192593        0.237040  1.0   \n",
       "4   0.635767   0.603993       0.165315       0.215782        0.224143  1.0   \n",
       "\n",
       "   C3p  \n",
       "0    0  \n",
       "1    1  \n",
       "2    1  \n",
       "3    1  \n",
       "4    0  \n",
       "\n",
       "[5 rows x 23 columns]"
      ]
     },
     "execution_count": 42,
     "metadata": {},
     "output_type": "execute_result"
    }
   ],
   "source": [
    "dfx = pd.concat([dfx, dfbinary], axis=1)\n",
    "dfx.head()"
   ]
  },
  {
   "cell_type": "code",
   "execution_count": 43,
   "metadata": {},
   "outputs": [],
   "source": [
    "dfx.to_csv('csv_files/p2stdev.csv')"
   ]
  },
  {
   "cell_type": "code",
   "execution_count": null,
   "metadata": {},
   "outputs": [],
   "source": []
  }
 ],
 "metadata": {
  "kernelspec": {
   "display_name": "Python 3",
   "language": "python",
   "name": "python3"
  },
  "language_info": {
   "codemirror_mode": {
    "name": "ipython",
    "version": 3
   },
   "file_extension": ".py",
   "mimetype": "text/x-python",
   "name": "python",
   "nbconvert_exporter": "python",
   "pygments_lexer": "ipython3",
   "version": "3.6.5"
  }
 },
 "nbformat": 4,
 "nbformat_minor": 2
}
