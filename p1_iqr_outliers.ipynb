{
 "cells": [
  {
   "cell_type": "code",
   "execution_count": 1,
   "metadata": {},
   "outputs": [],
   "source": [
    "import pandas as pd\n",
    "import numpy as np\n",
    "import matplotlib.pyplot as plt"
   ]
  },
  {
   "cell_type": "code",
   "execution_count": 2,
   "metadata": {},
   "outputs": [
    {
     "data": {
      "text/html": [
       "<div>\n",
       "<style scoped>\n",
       "    .dataframe tbody tr th:only-of-type {\n",
       "        vertical-align: middle;\n",
       "    }\n",
       "\n",
       "    .dataframe tbody tr th {\n",
       "        vertical-align: top;\n",
       "    }\n",
       "\n",
       "    .dataframe thead th {\n",
       "        text-align: right;\n",
       "    }\n",
       "</style>\n",
       "<table border=\"1\" class=\"dataframe\">\n",
       "  <thead>\n",
       "    <tr style=\"text-align: right;\">\n",
       "      <th></th>\n",
       "      <th>I1</th>\n",
       "      <th>I2</th>\n",
       "      <th>I3</th>\n",
       "      <th>pIPO</th>\n",
       "      <th>pH</th>\n",
       "      <th>pL</th>\n",
       "      <th>p1day</th>\n",
       "      <th>C1</th>\n",
       "      <th>C2</th>\n",
       "      <th>C3</th>\n",
       "      <th>...</th>\n",
       "      <th>C6</th>\n",
       "      <th>C7</th>\n",
       "      <th>T1</th>\n",
       "      <th>T2</th>\n",
       "      <th>T3</th>\n",
       "      <th>T4</th>\n",
       "      <th>T5</th>\n",
       "      <th>S1</th>\n",
       "      <th>S2</th>\n",
       "      <th>S3</th>\n",
       "    </tr>\n",
       "  </thead>\n",
       "  <tbody>\n",
       "    <tr>\n",
       "      <th>0</th>\n",
       "      <td>AATI</td>\n",
       "      <td>ADVANCED ANALOGIC TECHNOLOGIES INC</td>\n",
       "      <td>3674</td>\n",
       "      <td>10</td>\n",
       "      <td>9.5</td>\n",
       "      <td>8.5</td>\n",
       "      <td>11.8699998855591</td>\n",
       "      <td>122</td>\n",
       "      <td>1</td>\n",
       "      <td>3.43</td>\n",
       "      <td>...</td>\n",
       "      <td>10600000</td>\n",
       "      <td>51.345</td>\n",
       "      <td>470</td>\n",
       "      <td>12719</td>\n",
       "      <td>11560</td>\n",
       "      <td>301</td>\n",
       "      <td>690</td>\n",
       "      <td>62</td>\n",
       "      <td>117</td>\n",
       "      <td>139</td>\n",
       "    </tr>\n",
       "    <tr>\n",
       "      <th>1</th>\n",
       "      <td>ABPI</td>\n",
       "      <td>ACCENTIA BIOPHARMACEUTICALS INC</td>\n",
       "      <td>2834</td>\n",
       "      <td>8</td>\n",
       "      <td>10</td>\n",
       "      <td>8</td>\n",
       "      <td>7.25</td>\n",
       "      <td>259</td>\n",
       "      <td>0</td>\n",
       "      <td>-1.62</td>\n",
       "      <td>...</td>\n",
       "      <td>2400000</td>\n",
       "      <td>25.936</td>\n",
       "      <td>791</td>\n",
       "      <td>21792</td>\n",
       "      <td>19585</td>\n",
       "      <td>510</td>\n",
       "      <td>1120</td>\n",
       "      <td>71</td>\n",
       "      <td>242</td>\n",
       "      <td>237</td>\n",
       "    </tr>\n",
       "    <tr>\n",
       "      <th>2</th>\n",
       "      <td>ACAD</td>\n",
       "      <td>ACADIA PHARMACEUTICALS INC</td>\n",
       "      <td>2834</td>\n",
       "      <td>7</td>\n",
       "      <td>14</td>\n",
       "      <td>12</td>\n",
       "      <td>6.69999980926514</td>\n",
       "      <td>90</td>\n",
       "      <td>1</td>\n",
       "      <td>-1.24</td>\n",
       "      <td>...</td>\n",
       "      <td>5000000</td>\n",
       "      <td>7.378</td>\n",
       "      <td>201</td>\n",
       "      <td>5262</td>\n",
       "      <td>4785</td>\n",
       "      <td>128</td>\n",
       "      <td>325</td>\n",
       "      <td>61</td>\n",
       "      <td>33</td>\n",
       "      <td>60</td>\n",
       "    </tr>\n",
       "    <tr>\n",
       "      <th>3</th>\n",
       "      <td>ACHN</td>\n",
       "      <td>ACHILLION PHARMACEUTICALS INC</td>\n",
       "      <td>2834</td>\n",
       "      <td>11.5</td>\n",
       "      <td>16</td>\n",
       "      <td>14</td>\n",
       "      <td>12.3900003433228</td>\n",
       "      <td>209</td>\n",
       "      <td>1</td>\n",
       "      <td>-0.91</td>\n",
       "      <td>...</td>\n",
       "      <td>4500000</td>\n",
       "      <td>8.526</td>\n",
       "      <td>328</td>\n",
       "      <td>8259</td>\n",
       "      <td>7574</td>\n",
       "      <td>177</td>\n",
       "      <td>509</td>\n",
       "      <td>80</td>\n",
       "      <td>59</td>\n",
       "      <td>110</td>\n",
       "    </tr>\n",
       "    <tr>\n",
       "      <th>4</th>\n",
       "      <td>ACLI</td>\n",
       "      <td>AMERICAN COMMERCIAL LINES INC.</td>\n",
       "      <td>4492</td>\n",
       "      <td>21</td>\n",
       "      <td>21</td>\n",
       "      <td>19</td>\n",
       "      <td>56.5999984741211</td>\n",
       "      <td>80</td>\n",
       "      <td>1</td>\n",
       "      <td>0.07</td>\n",
       "      <td>...</td>\n",
       "      <td>8250000</td>\n",
       "      <td>632.298</td>\n",
       "      <td>572</td>\n",
       "      <td>14830</td>\n",
       "      <td>13176</td>\n",
       "      <td>336</td>\n",
       "      <td>720</td>\n",
       "      <td>67</td>\n",
       "      <td>149</td>\n",
       "      <td>167</td>\n",
       "    </tr>\n",
       "  </tbody>\n",
       "</table>\n",
       "<p>5 rows × 22 columns</p>\n",
       "</div>"
      ],
      "text/plain": [
       "     I1                                  I2    I3  pIPO   pH   pL  \\\n",
       "0  AATI  ADVANCED ANALOGIC TECHNOLOGIES INC  3674    10  9.5  8.5   \n",
       "1  ABPI     ACCENTIA BIOPHARMACEUTICALS INC  2834     8   10    8   \n",
       "2  ACAD          ACADIA PHARMACEUTICALS INC  2834     7   14   12   \n",
       "3  ACHN       ACHILLION PHARMACEUTICALS INC  2834  11.5   16   14   \n",
       "4  ACLI     AMERICAN COMMERCIAL LINES INC.   4492    21   21   19   \n",
       "\n",
       "              p1day   C1 C2     C3 ...         C6       C7   T1     T2     T3  \\\n",
       "0  11.8699998855591  122  1   3.43 ...   10600000   51.345  470  12719  11560   \n",
       "1              7.25  259  0  -1.62 ...    2400000   25.936  791  21792  19585   \n",
       "2  6.69999980926514   90  1  -1.24 ...    5000000    7.378  201   5262   4785   \n",
       "3  12.3900003433228  209  1  -0.91 ...    4500000    8.526  328   8259   7574   \n",
       "4  56.5999984741211   80  1   0.07 ...    8250000  632.298  572  14830  13176   \n",
       "\n",
       "    T4    T5  S1   S2   S3  \n",
       "0  301   690  62  117  139  \n",
       "1  510  1120  71  242  237  \n",
       "2  128   325  61   33   60  \n",
       "3  177   509  80   59  110  \n",
       "4  336   720  67  149  167  \n",
       "\n",
       "[5 rows x 22 columns]"
      ]
     },
     "execution_count": 2,
     "metadata": {},
     "output_type": "execute_result"
    }
   ],
   "source": [
    "dfx = pd.read_csv('csv_files/imputed.csv', index_col=0)\n",
    "dfx.head()"
   ]
  },
  {
   "cell_type": "code",
   "execution_count": 3,
   "metadata": {},
   "outputs": [
    {
     "data": {
      "text/html": [
       "<div>\n",
       "<style scoped>\n",
       "    .dataframe tbody tr th:only-of-type {\n",
       "        vertical-align: middle;\n",
       "    }\n",
       "\n",
       "    .dataframe tbody tr th {\n",
       "        vertical-align: top;\n",
       "    }\n",
       "\n",
       "    .dataframe thead th {\n",
       "        text-align: right;\n",
       "    }\n",
       "</style>\n",
       "<table border=\"1\" class=\"dataframe\">\n",
       "  <thead>\n",
       "    <tr style=\"text-align: right;\">\n",
       "      <th></th>\n",
       "      <th>I1</th>\n",
       "      <th>I2</th>\n",
       "      <th>I3</th>\n",
       "    </tr>\n",
       "  </thead>\n",
       "  <tbody>\n",
       "    <tr>\n",
       "      <th>0</th>\n",
       "      <td>AATI</td>\n",
       "      <td>ADVANCED ANALOGIC TECHNOLOGIES INC</td>\n",
       "      <td>3674</td>\n",
       "    </tr>\n",
       "    <tr>\n",
       "      <th>1</th>\n",
       "      <td>ABPI</td>\n",
       "      <td>ACCENTIA BIOPHARMACEUTICALS INC</td>\n",
       "      <td>2834</td>\n",
       "    </tr>\n",
       "    <tr>\n",
       "      <th>2</th>\n",
       "      <td>ACAD</td>\n",
       "      <td>ACADIA PHARMACEUTICALS INC</td>\n",
       "      <td>2834</td>\n",
       "    </tr>\n",
       "    <tr>\n",
       "      <th>3</th>\n",
       "      <td>ACHN</td>\n",
       "      <td>ACHILLION PHARMACEUTICALS INC</td>\n",
       "      <td>2834</td>\n",
       "    </tr>\n",
       "    <tr>\n",
       "      <th>4</th>\n",
       "      <td>ACLI</td>\n",
       "      <td>AMERICAN COMMERCIAL LINES INC.</td>\n",
       "      <td>4492</td>\n",
       "    </tr>\n",
       "  </tbody>\n",
       "</table>\n",
       "</div>"
      ],
      "text/plain": [
       "     I1                                  I2    I3\n",
       "0  AATI  ADVANCED ANALOGIC TECHNOLOGIES INC  3674\n",
       "1  ABPI     ACCENTIA BIOPHARMACEUTICALS INC  2834\n",
       "2  ACAD          ACADIA PHARMACEUTICALS INC  2834\n",
       "3  ACHN       ACHILLION PHARMACEUTICALS INC  2834\n",
       "4  ACLI     AMERICAN COMMERCIAL LINES INC.   4492"
      ]
     },
     "execution_count": 3,
     "metadata": {},
     "output_type": "execute_result"
    }
   ],
   "source": [
    "df_ids = df.filter(items=['I1', 'I2', 'I3'])\n",
    "df_ids.head()"
   ]
  },
  {
   "cell_type": "code",
   "execution_count": 4,
   "metadata": {},
   "outputs": [
    {
     "data": {
      "text/html": [
       "<div>\n",
       "<style scoped>\n",
       "    .dataframe tbody tr th:only-of-type {\n",
       "        vertical-align: middle;\n",
       "    }\n",
       "\n",
       "    .dataframe tbody tr th {\n",
       "        vertical-align: top;\n",
       "    }\n",
       "\n",
       "    .dataframe thead th {\n",
       "        text-align: right;\n",
       "    }\n",
       "</style>\n",
       "<table border=\"1\" class=\"dataframe\">\n",
       "  <thead>\n",
       "    <tr style=\"text-align: right;\">\n",
       "      <th></th>\n",
       "      <th>pIPO</th>\n",
       "      <th>pH</th>\n",
       "      <th>pL</th>\n",
       "      <th>p1day</th>\n",
       "      <th>C1</th>\n",
       "      <th>C2</th>\n",
       "      <th>C3</th>\n",
       "      <th>C4</th>\n",
       "      <th>C5</th>\n",
       "      <th>C6</th>\n",
       "      <th>C7</th>\n",
       "      <th>T1</th>\n",
       "      <th>T2</th>\n",
       "      <th>T3</th>\n",
       "      <th>T4</th>\n",
       "      <th>T5</th>\n",
       "      <th>S1</th>\n",
       "      <th>S2</th>\n",
       "      <th>S3</th>\n",
       "    </tr>\n",
       "  </thead>\n",
       "  <tbody>\n",
       "    <tr>\n",
       "      <th>0</th>\n",
       "      <td>10.0</td>\n",
       "      <td>9.5</td>\n",
       "      <td>8.5</td>\n",
       "      <td>11.870000</td>\n",
       "      <td>122.0</td>\n",
       "      <td>1.0</td>\n",
       "      <td>3.43</td>\n",
       "      <td>0.029074</td>\n",
       "      <td>40962052.0</td>\n",
       "      <td>10600000.0</td>\n",
       "      <td>51.345</td>\n",
       "      <td>470.0</td>\n",
       "      <td>12719.0</td>\n",
       "      <td>11560.0</td>\n",
       "      <td>301.0</td>\n",
       "      <td>690.0</td>\n",
       "      <td>62.0</td>\n",
       "      <td>117.0</td>\n",
       "      <td>139.0</td>\n",
       "    </tr>\n",
       "    <tr>\n",
       "      <th>1</th>\n",
       "      <td>8.0</td>\n",
       "      <td>10.0</td>\n",
       "      <td>8.0</td>\n",
       "      <td>7.250000</td>\n",
       "      <td>259.0</td>\n",
       "      <td>0.0</td>\n",
       "      <td>-1.62</td>\n",
       "      <td>-0.013352</td>\n",
       "      <td>28869196.0</td>\n",
       "      <td>2400000.0</td>\n",
       "      <td>25.936</td>\n",
       "      <td>791.0</td>\n",
       "      <td>21792.0</td>\n",
       "      <td>19585.0</td>\n",
       "      <td>510.0</td>\n",
       "      <td>1120.0</td>\n",
       "      <td>71.0</td>\n",
       "      <td>242.0</td>\n",
       "      <td>237.0</td>\n",
       "    </tr>\n",
       "    <tr>\n",
       "      <th>2</th>\n",
       "      <td>7.0</td>\n",
       "      <td>14.0</td>\n",
       "      <td>12.0</td>\n",
       "      <td>6.700000</td>\n",
       "      <td>90.0</td>\n",
       "      <td>1.0</td>\n",
       "      <td>-1.24</td>\n",
       "      <td>0.020715</td>\n",
       "      <td>16845668.0</td>\n",
       "      <td>5000000.0</td>\n",
       "      <td>7.378</td>\n",
       "      <td>201.0</td>\n",
       "      <td>5262.0</td>\n",
       "      <td>4785.0</td>\n",
       "      <td>128.0</td>\n",
       "      <td>325.0</td>\n",
       "      <td>61.0</td>\n",
       "      <td>33.0</td>\n",
       "      <td>60.0</td>\n",
       "    </tr>\n",
       "    <tr>\n",
       "      <th>3</th>\n",
       "      <td>11.5</td>\n",
       "      <td>16.0</td>\n",
       "      <td>14.0</td>\n",
       "      <td>12.390000</td>\n",
       "      <td>209.0</td>\n",
       "      <td>1.0</td>\n",
       "      <td>-0.91</td>\n",
       "      <td>0.020023</td>\n",
       "      <td>14848637.0</td>\n",
       "      <td>4500000.0</td>\n",
       "      <td>8.526</td>\n",
       "      <td>328.0</td>\n",
       "      <td>8259.0</td>\n",
       "      <td>7574.0</td>\n",
       "      <td>177.0</td>\n",
       "      <td>509.0</td>\n",
       "      <td>80.0</td>\n",
       "      <td>59.0</td>\n",
       "      <td>110.0</td>\n",
       "    </tr>\n",
       "    <tr>\n",
       "      <th>4</th>\n",
       "      <td>21.0</td>\n",
       "      <td>21.0</td>\n",
       "      <td>19.0</td>\n",
       "      <td>56.599998</td>\n",
       "      <td>80.0</td>\n",
       "      <td>1.0</td>\n",
       "      <td>0.07</td>\n",
       "      <td>-0.034895</td>\n",
       "      <td>30741716.0</td>\n",
       "      <td>8250000.0</td>\n",
       "      <td>632.298</td>\n",
       "      <td>572.0</td>\n",
       "      <td>14830.0</td>\n",
       "      <td>13176.0</td>\n",
       "      <td>336.0</td>\n",
       "      <td>720.0</td>\n",
       "      <td>67.0</td>\n",
       "      <td>149.0</td>\n",
       "      <td>167.0</td>\n",
       "    </tr>\n",
       "  </tbody>\n",
       "</table>\n",
       "</div>"
      ],
      "text/plain": [
       "   pIPO    pH    pL      p1day     C1   C2    C3        C4          C5  \\\n",
       "0  10.0   9.5   8.5  11.870000  122.0  1.0  3.43  0.029074  40962052.0   \n",
       "1   8.0  10.0   8.0   7.250000  259.0  0.0 -1.62 -0.013352  28869196.0   \n",
       "2   7.0  14.0  12.0   6.700000   90.0  1.0 -1.24  0.020715  16845668.0   \n",
       "3  11.5  16.0  14.0  12.390000  209.0  1.0 -0.91  0.020023  14848637.0   \n",
       "4  21.0  21.0  19.0  56.599998   80.0  1.0  0.07 -0.034895  30741716.0   \n",
       "\n",
       "           C6       C7     T1       T2       T3     T4      T5    S1     S2  \\\n",
       "0  10600000.0   51.345  470.0  12719.0  11560.0  301.0   690.0  62.0  117.0   \n",
       "1   2400000.0   25.936  791.0  21792.0  19585.0  510.0  1120.0  71.0  242.0   \n",
       "2   5000000.0    7.378  201.0   5262.0   4785.0  128.0   325.0  61.0   33.0   \n",
       "3   4500000.0    8.526  328.0   8259.0   7574.0  177.0   509.0  80.0   59.0   \n",
       "4   8250000.0  632.298  572.0  14830.0  13176.0  336.0   720.0  67.0  149.0   \n",
       "\n",
       "      S3  \n",
       "0  139.0  \n",
       "1  237.0  \n",
       "2   60.0  \n",
       "3  110.0  \n",
       "4  167.0  "
      ]
     },
     "execution_count": 4,
     "metadata": {},
     "output_type": "execute_result"
    }
   ],
   "source": [
    "df_values = df.filter(items=['pIPO', 'pH', 'pL', 'p1day', 'C1', 'C2', 'C3', 'C4', 'C5', 'C6', 'C7', 'T1', 'T2', 'T3', 'T4', 'T5', 'S1', 'S2', 'S3'])\n",
    "df_values.head()                            "
   ]
  },
  {
   "cell_type": "code",
   "execution_count": 5,
   "metadata": {},
   "outputs": [
    {
     "name": "stdout",
     "output_type": "stream",
     "text": [
      "pIPO     7.000000e+00\n",
      "pH       4.000000e+00\n",
      "pL       4.000000e+00\n",
      "p1day    9.937501e+00\n",
      "C1       6.775000e+01\n",
      "C2       0.000000e+00\n",
      "C3       1.350000e+00\n",
      "C4       4.429223e-02\n",
      "C5       3.063502e+07\n",
      "C6       7.083029e+06\n",
      "C7       4.589485e+02\n",
      "T1       1.995000e+02\n",
      "T2       6.044500e+03\n",
      "T3       5.583500e+03\n",
      "T4       1.405000e+02\n",
      "T5       3.322500e+02\n",
      "S1       3.975000e+01\n",
      "S2       6.875000e+01\n",
      "S3       7.300000e+01\n",
      "dtype: float64\n"
     ]
    }
   ],
   "source": [
    "# finding IQR for each variable \n",
    "Q1 = df_values.quantile(0.25)\n",
    "Q3 = df_values.quantile(0.75)\n",
    "IQR = Q3 - Q1\n",
    "print(IQR)"
   ]
  },
  {
   "cell_type": "code",
   "execution_count": 6,
   "metadata": {},
   "outputs": [
    {
     "name": "stdout",
     "output_type": "stream",
     "text": [
      "      pIPO     pH     pL  p1day     C1     C2     C3     C4     C5     C6  \\\n",
      "0    False  False  False  False  False  False   True  False  False  False   \n",
      "1    False  False  False  False   True   True  False  False  False  False   \n",
      "2    False  False  False  False  False  False  False  False  False  False   \n",
      "3    False  False  False  False  False  False  False  False  False  False   \n",
      "4    False  False  False   True  False  False  False  False  False  False   \n",
      "5    False  False  False  False  False  False  False  False  False  False   \n",
      "6    False  False  False  False  False  False  False  False  False  False   \n",
      "7    False  False  False  False  False   True  False  False  False  False   \n",
      "8    False  False  False  False  False  False  False  False  False  False   \n",
      "9    False  False  False  False  False  False  False  False  False  False   \n",
      "10   False  False  False  False  False   True  False  False  False  False   \n",
      "11   False  False  False  False  False  False   True  False  False  False   \n",
      "12   False  False  False  False  False  False  False  False  False  False   \n",
      "13   False   True   True  False  False  False  False  False  False  False   \n",
      "14   False  False  False  False   True  False  False  False  False  False   \n",
      "15   False  False  False  False  False  False  False   True  False  False   \n",
      "16   False  False  False  False  False  False  False  False  False  False   \n",
      "17   False  False  False  False  False  False  False  False  False  False   \n",
      "18   False  False  False  False  False  False  False  False  False  False   \n",
      "19   False  False  False  False  False  False  False  False  False  False   \n",
      "20   False  False  False  False  False  False  False  False  False  False   \n",
      "21   False  False  False  False  False  False  False  False  False  False   \n",
      "22   False  False  False  False  False  False  False  False  False  False   \n",
      "23   False  False  False  False  False  False   True  False  False  False   \n",
      "24   False  False  False  False  False  False  False  False  False  False   \n",
      "25   False  False  False   True  False  False   True  False  False  False   \n",
      "26   False  False  False  False   True  False  False  False  False  False   \n",
      "27   False  False  False  False  False  False  False  False  False   True   \n",
      "28   False  False  False  False  False  False  False  False  False  False   \n",
      "29   False  False  False  False  False  False  False  False  False  False   \n",
      "..     ...    ...    ...    ...    ...    ...    ...    ...    ...    ...   \n",
      "652  False  False  False  False  False   True  False  False  False  False   \n",
      "653  False  False  False  False  False  False  False  False  False  False   \n",
      "654  False  False  False  False  False  False   True  False   True   True   \n",
      "655   True   True   True   True  False  False  False  False   True   True   \n",
      "656  False  False  False  False  False  False  False  False  False  False   \n",
      "657  False  False  False  False  False   True  False  False  False  False   \n",
      "658  False  False  False  False  False  False  False  False  False  False   \n",
      "659  False  False  False  False  False  False   True  False  False  False   \n",
      "660  False  False  False  False  False  False  False  False  False  False   \n",
      "661  False   True   True  False  False  False   True  False   True   True   \n",
      "662  False  False  False  False  False  False   True  False  False  False   \n",
      "663  False  False  False  False  False  False  False  False  False  False   \n",
      "664  False  False  False  False  False   True  False  False  False  False   \n",
      "665  False   True   True  False   True  False   True  False  False  False   \n",
      "666  False  False  False  False   True  False   True  False  False  False   \n",
      "667  False  False  False   True  False   True   True  False  False  False   \n",
      "668  False  False  False  False  False  False   True  False  False  False   \n",
      "669  False  False  False  False  False  False  False  False  False  False   \n",
      "670  False  False  False   True   True  False   True  False  False  False   \n",
      "671  False  False  False  False  False  False  False  False  False  False   \n",
      "672  False  False  False  False  False   True  False  False  False  False   \n",
      "673  False  False  False  False  False  False  False  False  False  False   \n",
      "674  False   True  False  False  False   True  False  False  False  False   \n",
      "675  False  False  False  False  False   True  False  False  False  False   \n",
      "676  False  False  False  False  False  False   True  False  False  False   \n",
      "677  False  False  False  False   True  False  False  False  False  False   \n",
      "678  False  False  False  False  False  False  False  False  False  False   \n",
      "679  False  False  False  False  False   True  False  False  False  False   \n",
      "680  False  False  False  False  False  False  False  False  False  False   \n",
      "681  False  False  False  False   True  False  False  False  False   True   \n",
      "\n",
      "        C7     T1     T2     T3     T4     T5     S1     S2     S3  \n",
      "0    False  False  False  False  False  False  False  False  False  \n",
      "1    False  False  False  False  False  False  False  False  False  \n",
      "2    False  False  False  False  False  False  False  False  False  \n",
      "3    False  False  False  False  False  False  False  False  False  \n",
      "4    False  False  False  False  False  False  False  False  False  \n",
      "5    False  False  False  False  False  False  False  False  False  \n",
      "6    False  False  False  False  False  False  False  False  False  \n",
      "7    False  False  False  False  False  False  False  False  False  \n",
      "8    False  False  False  False  False  False  False  False  False  \n",
      "9    False  False  False  False  False  False  False  False  False  \n",
      "10   False  False  False  False  False  False  False  False  False  \n",
      "11   False  False  False  False  False  False  False  False  False  \n",
      "12   False  False  False  False  False  False  False  False  False  \n",
      "13   False  False  False  False  False  False  False  False  False  \n",
      "14   False  False  False  False  False  False  False   True  False  \n",
      "15   False  False  False  False  False  False  False  False  False  \n",
      "16   False  False  False  False  False  False  False  False  False  \n",
      "17   False  False  False  False  False  False  False  False  False  \n",
      "18   False  False  False  False  False  False  False  False  False  \n",
      "19   False  False  False  False  False  False  False  False  False  \n",
      "20   False  False  False  False  False  False  False  False  False  \n",
      "21    True  False  False  False  False  False  False  False  False  \n",
      "22   False  False  False  False  False  False  False  False  False  \n",
      "23   False  False  False  False  False  False  False  False  False  \n",
      "24   False  False  False  False  False  False  False  False  False  \n",
      "25   False  False  False  False  False  False  False  False  False  \n",
      "26   False  False  False  False  False  False  False  False  False  \n",
      "27   False  False  False  False  False  False  False  False  False  \n",
      "28   False  False  False  False  False  False  False  False  False  \n",
      "29   False  False  False  False  False  False  False  False  False  \n",
      "..     ...    ...    ...    ...    ...    ...    ...    ...    ...  \n",
      "652  False  False  False  False  False  False  False  False  False  \n",
      "653  False  False  False  False  False  False  False  False  False  \n",
      "654  False  False  False  False  False  False  False  False  False  \n",
      "655  False  False  False  False  False  False  False  False  False  \n",
      "656  False  False  False  False  False  False  False  False  False  \n",
      "657  False  False  False  False  False  False  False  False  False  \n",
      "658   True  False  False  False  False  False  False  False  False  \n",
      "659  False  False  False  False  False  False  False  False  False  \n",
      "660  False  False  False  False  False  False  False  False  False  \n",
      "661   True  False  False  False  False  False  False   True  False  \n",
      "662   True  False  False  False  False  False  False  False  False  \n",
      "663  False  False  False  False  False  False  False  False  False  \n",
      "664  False  False  False  False  False  False  False  False  False  \n",
      "665  False  False  False  False  False  False  False  False  False  \n",
      "666  False  False  False  False  False  False  False  False  False  \n",
      "667  False  False  False  False  False  False  False  False  False  \n",
      "668  False  False  False  False  False  False  False  False  False  \n",
      "669  False  False  False  False  False  False  False  False  False  \n",
      "670  False  False  False  False  False  False  False  False  False  \n",
      "671  False  False  False  False  False  False  False  False  False  \n",
      "672  False  False  False  False  False  False  False  False  False  \n",
      "673  False  False  False  False  False  False  False  False  False  \n",
      "674  False  False  False  False  False  False  False  False  False  \n",
      "675  False  False  False  False  False  False  False  False  False  \n",
      "676  False  False  False  False  False  False  False  False  False  \n",
      "677  False  False  False  False  False  False  False  False  False  \n",
      "678  False  False  False  False  False  False  False  False  False  \n",
      "679  False  False  False  False  False  False  False  False  False  \n",
      "680  False  False  False  False  False  False  False  False  False  \n",
      "681   True  False  False  False  False  False  False  False  False  \n",
      "\n",
      "[682 rows x 19 columns]\n"
     ]
    }
   ],
   "source": [
    "# identifying outlier value locations sort of \n",
    "# Q1 - 1.5 * IQR = lower bound \n",
    "# Q3 + 1.5 * IQR = upper bound \n",
    "upper = Q3 + 1.5 * IQR\n",
    "lower = Q1 - 1.5 * IQR\n",
    "outlier = (df_values < lower) | (df_values > upper)\n",
    "# above is equivalent to this: outlier = (df_values < (Q1 - 1.5 * IQR)) | (df_values > (Q3 + 1.5 * IQR))\n",
    "print(outlier)"
   ]
  },
  {
   "cell_type": "code",
   "execution_count": 7,
   "metadata": {},
   "outputs": [],
   "source": [
    "def replace(v):\n",
    "    if v > upper:\n",
    "        v = upper\n",
    "    elif v < lower:\n",
    "        v = lower\n",
    "    else:\n",
    "        pass\n",
    "    return (v)"
   ]
  },
  {
   "cell_type": "code",
   "execution_count": 8,
   "metadata": {},
   "outputs": [
    {
     "data": {
      "text/plain": [
       "{'whiskers': [<matplotlib.lines.Line2D at 0x7fb678ca1a90>,\n",
       "  <matplotlib.lines.Line2D at 0x7fb678ca1dd8>],\n",
       " 'caps': [<matplotlib.lines.Line2D at 0x7fb678c3a160>,\n",
       "  <matplotlib.lines.Line2D at 0x7fb678c3a4a8>],\n",
       " 'boxes': [<matplotlib.lines.Line2D at 0x7fb678ca1940>],\n",
       " 'medians': [<matplotlib.lines.Line2D at 0x7fb678c3a7f0>],\n",
       " 'fliers': [<matplotlib.lines.Line2D at 0x7fb678c3ab38>],\n",
       " 'means': []}"
      ]
     },
     "execution_count": 8,
     "metadata": {},
     "output_type": "execute_result"
    },
    {
     "data": {
      "image/png": "[encoded data removed]",
      "text/plain": [
       "<Figure size 432x288 with 1 Axes>"
      ]
     },
     "metadata": {},
     "output_type": "display_data"
    }
   ],
   "source": [
    "Q1 = df_values['pIPO'].quantile(0.25)\n",
    "Q3 = df_values['pIPO'].quantile(0.75)\n",
    "IQR = Q3 - Q1\n",
    "upper = Q3 + 1.5 * IQR\n",
    "lower = Q1 - 1.5 * IQR\n",
    "df_values.pIPO = df_values.pIPO.apply(lambda v: replace(v))\n",
    "plt.boxplot(df_values.pIPO)"
   ]
  },
  {
   "cell_type": "code",
   "execution_count": 9,
   "metadata": {},
   "outputs": [
    {
     "data": {
      "text/plain": [
       "{'whiskers': [<matplotlib.lines.Line2D at 0x7fb678baf358>,\n",
       "  <matplotlib.lines.Line2D at 0x7fb678baf6a0>],\n",
       " 'caps': [<matplotlib.lines.Line2D at 0x7fb678baf9e8>,\n",
       "  <matplotlib.lines.Line2D at 0x7fb678bafd30>],\n",
       " 'boxes': [<matplotlib.lines.Line2D at 0x7fb678baf208>],\n",
       " 'medians': [<matplotlib.lines.Line2D at 0x7fb678bb90b8>],\n",
       " 'fliers': [<matplotlib.lines.Line2D at 0x7fb678bb9400>],\n",
       " 'means': []}"
      ]
     },
     "execution_count": 9,
     "metadata": {},
     "output_type": "execute_result"
    },
    {
     "data": {
      "image/png": "[encoded data removed]",
      "text/plain": [
       "<Figure size 432x288 with 1 Axes>"
      ]
     },
     "metadata": {},
     "output_type": "display_data"
    }
   ],
   "source": [
    "Q1 = df_values['pH'].quantile(0.25)\n",
    "Q3 = df_values['pH'].quantile(0.75)\n",
    "IQR = Q3 - Q1\n",
    "upper = Q3 + 1.5 * IQR\n",
    "lower = Q1 - 1.5 * IQR\n",
    "df_values.pH = df_values.pH.apply(lambda v: replace(v))\n",
    "plt.boxplot(df_values.pH)"
   ]
  },
  {
   "cell_type": "code",
   "execution_count": 10,
   "metadata": {},
   "outputs": [
    {
     "data": {
      "text/plain": [
       "{'whiskers': [<matplotlib.lines.Line2D at 0x7fb678b91ac8>,\n",
       "  <matplotlib.lines.Line2D at 0x7fb678b91e10>],\n",
       " 'caps': [<matplotlib.lines.Line2D at 0x7fb678b99198>,\n",
       "  <matplotlib.lines.Line2D at 0x7fb678b994e0>],\n",
       " 'boxes': [<matplotlib.lines.Line2D at 0x7fb678b91978>],\n",
       " 'medians': [<matplotlib.lines.Line2D at 0x7fb678b99828>],\n",
       " 'fliers': [<matplotlib.lines.Line2D at 0x7fb678b99b70>],\n",
       " 'means': []}"
      ]
     },
     "execution_count": 10,
     "metadata": {},
     "output_type": "execute_result"
    },
    {
     "data": {
      "image/png": "[encoded data removed]",
      "text/plain": [
       "<Figure size 432x288 with 1 Axes>"
      ]
     },
     "metadata": {},
     "output_type": "display_data"
    }
   ],
   "source": [
    "Q1 = df_values['pL'].quantile(0.25)\n",
    "Q3 = df_values['pL'].quantile(0.75)\n",
    "IQR = Q3 - Q1\n",
    "upper = Q3 + 1.5 * IQR\n",
    "lower = Q1 - 1.5 * IQR\n",
    "df_values.pL = df_values.pL.apply(lambda v: replace(v))\n",
    "plt.boxplot(df_values.pL)"
   ]
  },
  {
   "cell_type": "code",
   "execution_count": 11,
   "metadata": {},
   "outputs": [
    {
     "data": {
      "text/plain": [
       "{'whiskers': [<matplotlib.lines.Line2D at 0x7fb678afa240>,\n",
       "  <matplotlib.lines.Line2D at 0x7fb678afa588>],\n",
       " 'caps': [<matplotlib.lines.Line2D at 0x7fb678afa8d0>,\n",
       "  <matplotlib.lines.Line2D at 0x7fb678afac18>],\n",
       " 'boxes': [<matplotlib.lines.Line2D at 0x7fb678afa0f0>],\n",
       " 'medians': [<matplotlib.lines.Line2D at 0x7fb678afaf60>],\n",
       " 'fliers': [<matplotlib.lines.Line2D at 0x7fb678b062e8>],\n",
       " 'means': []}"
      ]
     },
     "execution_count": 11,
     "metadata": {},
     "output_type": "execute_result"
    },
    {
     "data": {
      "image/png": "[encoded data removed]",
      "text/plain": [
       "<Figure size 432x288 with 1 Axes>"
      ]
     },
     "metadata": {},
     "output_type": "display_data"
    }
   ],
   "source": [
    "Q1 = df_values['p1day'].quantile(0.25)\n",
    "Q3 = df_values['p1day'].quantile(0.75)\n",
    "IQR = Q3 - Q1\n",
    "upper = Q3 + 1.5 * IQR\n",
    "lower = Q1 - 1.5 * IQR\n",
    "df_values.p1day = df_values.p1day.apply(lambda v: replace(v))\n",
    "plt.boxplot(df_values.p1day)"
   ]
  },
  {
   "cell_type": "code",
   "execution_count": 12,
   "metadata": {},
   "outputs": [
    {
     "data": {
      "text/plain": [
       "{'whiskers': [<matplotlib.lines.Line2D at 0x7fb678ada5f8>,\n",
       "  <matplotlib.lines.Line2D at 0x7fb678ada940>],\n",
       " 'caps': [<matplotlib.lines.Line2D at 0x7fb678adac88>,\n",
       "  <matplotlib.lines.Line2D at 0x7fb678adafd0>],\n",
       " 'boxes': [<matplotlib.lines.Line2D at 0x7fb678ada4a8>],\n",
       " 'medians': [<matplotlib.lines.Line2D at 0x7fb678ae2358>],\n",
       " 'fliers': [<matplotlib.lines.Line2D at 0x7fb678ae26a0>],\n",
       " 'means': []}"
      ]
     },
     "execution_count": 12,
     "metadata": {},
     "output_type": "execute_result"
    },
    {
     "data": {
      "image/png": "[encoded data removed]",
      "text/plain": [
       "<Figure size 432x288 with 1 Axes>"
      ]
     },
     "metadata": {},
     "output_type": "display_data"
    }
   ],
   "source": [
    "Q1 = df_values['C1'].quantile(0.25)\n",
    "Q3 = df_values['C1'].quantile(0.75)\n",
    "IQR = Q3 - Q1\n",
    "upper = Q3 + 1.5 * IQR\n",
    "lower = Q1 - 1.5 * IQR\n",
    "df_values.C1 = df_values.C1.apply(lambda v: replace(v))\n",
    "plt.boxplot(df_values.C1)"
   ]
  },
  {
   "cell_type": "code",
   "execution_count": 13,
   "metadata": {},
   "outputs": [
    {
     "data": {
      "text/plain": [
       "{'whiskers': [<matplotlib.lines.Line2D at 0x7fb678a36048>,\n",
       "  <matplotlib.lines.Line2D at 0x7fb678a36390>],\n",
       " 'caps': [<matplotlib.lines.Line2D at 0x7fb678a366d8>,\n",
       "  <matplotlib.lines.Line2D at 0x7fb678a36a20>],\n",
       " 'boxes': [<matplotlib.lines.Line2D at 0x7fb678a2aeb8>],\n",
       " 'medians': [<matplotlib.lines.Line2D at 0x7fb678a36d68>],\n",
       " 'fliers': [<matplotlib.lines.Line2D at 0x7fb678a3e0f0>],\n",
       " 'means': []}"
      ]
     },
     "execution_count": 13,
     "metadata": {},
     "output_type": "execute_result"
    },
    {
     "data": {
      "image/png": "[encoded data removed]",
      "text/plain": [
       "<Figure size 432x288 with 1 Axes>"
      ]
     },
     "metadata": {},
     "output_type": "display_data"
    }
   ],
   "source": [
    "Q1 = df_values['C3'].quantile(0.25)\n",
    "Q3 = df_values['C3'].quantile(0.75)\n",
    "IQR = Q3 - Q1\n",
    "upper = Q3 + 1.5 * IQR\n",
    "lower = Q1 - 1.5 * IQR\n",
    "df_values.C3 = df_values.C3.apply(lambda v: replace(v))\n",
    "plt.boxplot(df_values.C3)"
   ]
  },
  {
   "cell_type": "code",
   "execution_count": 14,
   "metadata": {},
   "outputs": [
    {
     "data": {
      "text/plain": [
       "{'whiskers': [<matplotlib.lines.Line2D at 0x7fb678a069b0>,\n",
       "  <matplotlib.lines.Line2D at 0x7fb678a06cf8>],\n",
       " 'caps': [<matplotlib.lines.Line2D at 0x7fb678a0f080>,\n",
       "  <matplotlib.lines.Line2D at 0x7fb678a0f3c8>],\n",
       " 'boxes': [<matplotlib.lines.Line2D at 0x7fb678a06860>],\n",
       " 'medians': [<matplotlib.lines.Line2D at 0x7fb678a0f710>],\n",
       " 'fliers': [<matplotlib.lines.Line2D at 0x7fb678a0fa58>],\n",
       " 'means': []}"
      ]
     },
     "execution_count": 14,
     "metadata": {},
     "output_type": "execute_result"
    },
    {
     "data": {
      "image/png": "[encoded data removed]",
      "text/plain": [
       "<Figure size 432x288 with 1 Axes>"
      ]
     },
     "metadata": {},
     "output_type": "display_data"
    }
   ],
   "source": [
    "Q1 = df_values['C4'].quantile(0.25)\n",
    "Q3 = df_values['C4'].quantile(0.75)\n",
    "IQR = Q3 - Q1\n",
    "upper = Q3 + 1.5 * IQR\n",
    "lower = Q1 - 1.5 * IQR\n",
    "df_values.C4 = df_values.C4.apply(lambda v: replace(v))\n",
    "plt.boxplot(df_values.C4)"
   ]
  },
  {
   "cell_type": "code",
   "execution_count": 15,
   "metadata": {},
   "outputs": [
    {
     "data": {
      "text/plain": [
       "{'whiskers': [<matplotlib.lines.Line2D at 0x7fb6789e1cf8>,\n",
       "  <matplotlib.lines.Line2D at 0x7fb67896c080>],\n",
       " 'caps': [<matplotlib.lines.Line2D at 0x7fb67896c3c8>,\n",
       "  <matplotlib.lines.Line2D at 0x7fb67896c710>],\n",
       " 'boxes': [<matplotlib.lines.Line2D at 0x7fb6789e1ba8>],\n",
       " 'medians': [<matplotlib.lines.Line2D at 0x7fb67896ca58>],\n",
       " 'fliers': [<matplotlib.lines.Line2D at 0x7fb67896cda0>],\n",
       " 'means': []}"
      ]
     },
     "execution_count": 15,
     "metadata": {},
     "output_type": "execute_result"
    },
    {
     "data": {
      "image/png": "[encoded data removed]",
      "text/plain": [
       "<Figure size 432x288 with 1 Axes>"
      ]
     },
     "metadata": {},
     "output_type": "display_data"
    }
   ],
   "source": [
    "Q1 = df_values['C5'].quantile(0.25)\n",
    "Q3 = df_values['C5'].quantile(0.75)\n",
    "IQR = Q3 - Q1\n",
    "upper = Q3 + 1.5 * IQR\n",
    "lower = Q1 - 1.5 * IQR\n",
    "df_values.C5 = df_values.C5.apply(lambda v: replace(v))\n",
    "plt.boxplot(df_values.C5)"
   ]
  },
  {
   "cell_type": "code",
   "execution_count": 16,
   "metadata": {},
   "outputs": [
    {
     "data": {
      "text/plain": [
       "{'whiskers': [<matplotlib.lines.Line2D at 0x7fb678942400>,\n",
       "  <matplotlib.lines.Line2D at 0x7fb678942748>],\n",
       " 'caps': [<matplotlib.lines.Line2D at 0x7fb678942a90>,\n",
       "  <matplotlib.lines.Line2D at 0x7fb678942dd8>],\n",
       " 'boxes': [<matplotlib.lines.Line2D at 0x7fb6789422b0>],\n",
       " 'medians': [<matplotlib.lines.Line2D at 0x7fb678949160>],\n",
       " 'fliers': [<matplotlib.lines.Line2D at 0x7fb6789494a8>],\n",
       " 'means': []}"
      ]
     },
     "execution_count": 16,
     "metadata": {},
     "output_type": "execute_result"
    },
    {
     "data": {
      "image/png": "[encoded data removed]",
      "text/plain": [
       "<Figure size 432x288 with 1 Axes>"
      ]
     },
     "metadata": {},
     "output_type": "display_data"
    }
   ],
   "source": [
    "Q1 = df_values['C6'].quantile(0.25)\n",
    "Q3 = df_values['C6'].quantile(0.75)\n",
    "IQR = Q3 - Q1\n",
    "upper = Q3 + 1.5 * IQR\n",
    "lower = Q1 - 1.5 * IQR\n",
    "df_values.C6 = df_values.C6.apply(lambda v: replace(v))\n",
    "plt.boxplot(df_values.C6)"
   ]
  },
  {
   "cell_type": "code",
   "execution_count": 17,
   "metadata": {},
   "outputs": [
    {
     "data": {
      "text/plain": [
       "{'whiskers': [<matplotlib.lines.Line2D at 0x7fb6789109e8>,\n",
       "  <matplotlib.lines.Line2D at 0x7fb678910d30>],\n",
       " 'caps': [<matplotlib.lines.Line2D at 0x7fb67891d0b8>,\n",
       "  <matplotlib.lines.Line2D at 0x7fb67891d400>],\n",
       " 'boxes': [<matplotlib.lines.Line2D at 0x7fb678910898>],\n",
       " 'medians': [<matplotlib.lines.Line2D at 0x7fb67891d748>],\n",
       " 'fliers': [<matplotlib.lines.Line2D at 0x7fb67891da90>],\n",
       " 'means': []}"
      ]
     },
     "execution_count": 17,
     "metadata": {},
     "output_type": "execute_result"
    },
    {
     "data": {
      "image/png": "[encoded data removed]",
      "text/plain": [
       "<Figure size 432x288 with 1 Axes>"
      ]
     },
     "metadata": {},
     "output_type": "display_data"
    }
   ],
   "source": [
    "Q1 = df_values['T1'].quantile(0.25)\n",
    "Q3 = df_values['T1'].quantile(0.75)\n",
    "IQR = Q3 - Q1\n",
    "upper = Q3 + 1.5 * IQR\n",
    "lower = Q1 - 1.5 * IQR\n",
    "df_values.T1 = df_values.T1.apply(lambda v: replace(v))\n",
    "plt.boxplot(df_values.T1)"
   ]
  },
  {
   "cell_type": "code",
   "execution_count": 18,
   "metadata": {},
   "outputs": [
    {
     "data": {
      "text/plain": [
       "{'whiskers': [<matplotlib.lines.Line2D at 0x7fb67886cda0>,\n",
       "  <matplotlib.lines.Line2D at 0x7fb678877128>],\n",
       " 'caps': [<matplotlib.lines.Line2D at 0x7fb678877470>,\n",
       "  <matplotlib.lines.Line2D at 0x7fb6788777b8>],\n",
       " 'boxes': [<matplotlib.lines.Line2D at 0x7fb67886cc50>],\n",
       " 'medians': [<matplotlib.lines.Line2D at 0x7fb678877b00>],\n",
       " 'fliers': [<matplotlib.lines.Line2D at 0x7fb678877e48>],\n",
       " 'means': []}"
      ]
     },
     "execution_count": 18,
     "metadata": {},
     "output_type": "execute_result"
    },
    {
     "data": {
      "image/png": "[encoded data removed]",
      "text/plain": [
       "<Figure size 432x288 with 1 Axes>"
      ]
     },
     "metadata": {},
     "output_type": "display_data"
    }
   ],
   "source": [
    "Q1 = df_values['T2'].quantile(0.25)\n",
    "Q3 = df_values['T2'].quantile(0.75)\n",
    "IQR = Q3 - Q1\n",
    "upper = Q3 + 1.5 * IQR\n",
    "lower = Q1 - 1.5 * IQR\n",
    "df_values.T2 = df_values.T2.apply(lambda v: replace(v))\n",
    "plt.boxplot(df_values.T2)"
   ]
  },
  {
   "cell_type": "code",
   "execution_count": 19,
   "metadata": {},
   "outputs": [
    {
     "data": {
      "text/plain": [
       "{'whiskers': [<matplotlib.lines.Line2D at 0x7fb6788477f0>,\n",
       "  <matplotlib.lines.Line2D at 0x7fb678847b38>],\n",
       " 'caps': [<matplotlib.lines.Line2D at 0x7fb678847e80>,\n",
       "  <matplotlib.lines.Line2D at 0x7fb678852208>],\n",
       " 'boxes': [<matplotlib.lines.Line2D at 0x7fb6788476a0>],\n",
       " 'medians': [<matplotlib.lines.Line2D at 0x7fb678852550>],\n",
       " 'fliers': [<matplotlib.lines.Line2D at 0x7fb678852898>],\n",
       " 'means': []}"
      ]
     },
     "execution_count": 19,
     "metadata": {},
     "output_type": "execute_result"
    },
    {
     "data": {
      "image/png": "[encoded data removed]",
      "text/plain": [
       "<Figure size 432x288 with 1 Axes>"
      ]
     },
     "metadata": {},
     "output_type": "display_data"
    }
   ],
   "source": [
    "Q1 = df_values['T3'].quantile(0.25)\n",
    "Q3 = df_values['T3'].quantile(0.75)\n",
    "IQR = Q3 - Q1\n",
    "upper = Q3 + 1.5 * IQR\n",
    "lower = Q1 - 1.5 * IQR\n",
    "df_values.T3 = df_values.T3.apply(lambda v: replace(v))\n",
    "plt.boxplot(df_values.T3)"
   ]
  },
  {
   "cell_type": "code",
   "execution_count": 20,
   "metadata": {},
   "outputs": [
    {
     "data": {
      "text/plain": [
       "{'whiskers': [<matplotlib.lines.Line2D at 0x7fb67881ad68>,\n",
       "  <matplotlib.lines.Line2D at 0x7fb6787a40f0>],\n",
       " 'caps': [<matplotlib.lines.Line2D at 0x7fb6787a4438>,\n",
       "  <matplotlib.lines.Line2D at 0x7fb6787a4780>],\n",
       " 'boxes': [<matplotlib.lines.Line2D at 0x7fb67881ac18>],\n",
       " 'medians': [<matplotlib.lines.Line2D at 0x7fb6787a4ac8>],\n",
       " 'fliers': [<matplotlib.lines.Line2D at 0x7fb6787a4e10>],\n",
       " 'means': []}"
      ]
     },
     "execution_count": 20,
     "metadata": {},
     "output_type": "execute_result"
    },
    {
     "data": {
      "image/png": "[encoded data removed]",
      "text/plain": [
       "<Figure size 432x288 with 1 Axes>"
      ]
     },
     "metadata": {},
     "output_type": "display_data"
    }
   ],
   "source": [
    "Q1 = df_values['T4'].quantile(0.25)\n",
    "Q3 = df_values['T4'].quantile(0.75)\n",
    "IQR = Q3 - Q1\n",
    "upper = Q3 + 1.5 * IQR\n",
    "lower = Q1 - 1.5 * IQR\n",
    "df_values.T4 = df_values.T4.apply(lambda v: replace(v))\n",
    "plt.boxplot(df_values.T4)"
   ]
  },
  {
   "cell_type": "code",
   "execution_count": 21,
   "metadata": {},
   "outputs": [
    {
     "data": {
      "text/plain": [
       "{'whiskers': [<matplotlib.lines.Line2D at 0x7fb6787767b8>,\n",
       "  <matplotlib.lines.Line2D at 0x7fb678776b00>],\n",
       " 'caps': [<matplotlib.lines.Line2D at 0x7fb678776e48>,\n",
       "  <matplotlib.lines.Line2D at 0x7fb6787821d0>],\n",
       " 'boxes': [<matplotlib.lines.Line2D at 0x7fb678776668>],\n",
       " 'medians': [<matplotlib.lines.Line2D at 0x7fb678782518>],\n",
       " 'fliers': [<matplotlib.lines.Line2D at 0x7fb678782860>],\n",
       " 'means': []}"
      ]
     },
     "execution_count": 21,
     "metadata": {},
     "output_type": "execute_result"
    },
    {
     "data": {
      "image/png": "[encoded data removed]",
      "text/plain": [
       "<Figure size 432x288 with 1 Axes>"
      ]
     },
     "metadata": {},
     "output_type": "display_data"
    }
   ],
   "source": [
    "Q1 = df_values['T5'].quantile(0.25)\n",
    "Q3 = df_values['T5'].quantile(0.75)\n",
    "IQR = Q3 - Q1\n",
    "upper = Q3 + 1.5 * IQR\n",
    "lower = Q1 - 1.5 * IQR\n",
    "df_values.T5 = df_values.T5.apply(lambda v: replace(v))\n",
    "plt.boxplot(df_values.T5)"
   ]
  },
  {
   "cell_type": "code",
   "execution_count": 22,
   "metadata": {},
   "outputs": [
    {
     "data": {
      "text/plain": [
       "{'whiskers': [<matplotlib.lines.Line2D at 0x7fb6787566a0>,\n",
       "  <matplotlib.lines.Line2D at 0x7fb6787569e8>],\n",
       " 'caps': [<matplotlib.lines.Line2D at 0x7fb678756d30>,\n",
       "  <matplotlib.lines.Line2D at 0x7fb6787620b8>],\n",
       " 'boxes': [<matplotlib.lines.Line2D at 0x7fb678756550>],\n",
       " 'medians': [<matplotlib.lines.Line2D at 0x7fb678762400>],\n",
       " 'fliers': [<matplotlib.lines.Line2D at 0x7fb678762748>],\n",
       " 'means': []}"
      ]
     },
     "execution_count": 22,
     "metadata": {},
     "output_type": "execute_result"
    },
    {
     "data": {
      "image/png": "[encoded data removed]",
      "text/plain": [
       "<Figure size 432x288 with 1 Axes>"
      ]
     },
     "metadata": {},
     "output_type": "display_data"
    }
   ],
   "source": [
    "Q1 = df_values['S1'].quantile(0.25)\n",
    "Q3 = df_values['S1'].quantile(0.75)\n",
    "IQR = Q3 - Q1\n",
    "upper = Q3 + 1.5 * IQR\n",
    "lower = Q1 - 1.5 * IQR\n",
    "df_values.S1 = df_values.S1.apply(lambda v: replace(v))\n",
    "plt.boxplot(df_values.S1)"
   ]
  },
  {
   "cell_type": "code",
   "execution_count": 23,
   "metadata": {},
   "outputs": [
    {
     "data": {
      "text/plain": [
       "{'whiskers': [<matplotlib.lines.Line2D at 0x7fb676670a20>,\n",
       "  <matplotlib.lines.Line2D at 0x7fb676670d68>],\n",
       " 'caps': [<matplotlib.lines.Line2D at 0x7fb6766790f0>,\n",
       "  <matplotlib.lines.Line2D at 0x7fb676679438>],\n",
       " 'boxes': [<matplotlib.lines.Line2D at 0x7fb6766708d0>],\n",
       " 'medians': [<matplotlib.lines.Line2D at 0x7fb676679780>],\n",
       " 'fliers': [<matplotlib.lines.Line2D at 0x7fb676679ac8>],\n",
       " 'means': []}"
      ]
     },
     "execution_count": 23,
     "metadata": {},
     "output_type": "execute_result"
    },
    {
     "data": {
      "image/png": "[encoded data removed]",
      "text/plain": [
       "<Figure size 432x288 with 1 Axes>"
      ]
     },
     "metadata": {},
     "output_type": "display_data"
    }
   ],
   "source": [
    "Q1 = df_values['S2'].quantile(0.25)\n",
    "Q3 = df_values['S2'].quantile(0.75)\n",
    "IQR = Q3 - Q1\n",
    "upper = Q3 + 1.5 * IQR\n",
    "lower = Q1 - 1.5 * IQR\n",
    "df_values.S2 = df_values.S2.apply(lambda v: replace(v))\n",
    "plt.boxplot(df_values.S2)"
   ]
  },
  {
   "cell_type": "code",
   "execution_count": 24,
   "metadata": {},
   "outputs": [
    {
     "data": {
      "text/plain": [
       "{'whiskers': [<matplotlib.lines.Line2D at 0x7fb67669efd0>,\n",
       "  <matplotlib.lines.Line2D at 0x7fb67664b358>],\n",
       " 'caps': [<matplotlib.lines.Line2D at 0x7fb67664b6a0>,\n",
       "  <matplotlib.lines.Line2D at 0x7fb67664b9e8>],\n",
       " 'boxes': [<matplotlib.lines.Line2D at 0x7fb67669ee80>],\n",
       " 'medians': [<matplotlib.lines.Line2D at 0x7fb67664bd30>],\n",
       " 'fliers': [<matplotlib.lines.Line2D at 0x7fb6766540b8>],\n",
       " 'means': []}"
      ]
     },
     "execution_count": 24,
     "metadata": {},
     "output_type": "execute_result"
    },
    {
     "data": {
      "image/png": "[encoded data removed]",
      "text/plain": [
       "<Figure size 432x288 with 1 Axes>"
      ]
     },
     "metadata": {},
     "output_type": "display_data"
    }
   ],
   "source": [
    "Q1 = df_values['S3'].quantile(0.25)\n",
    "Q3 = df_values['S3'].quantile(0.75)\n",
    "IQR = Q3 - Q1\n",
    "upper = Q3 + 1.5 * IQR\n",
    "lower = Q1 - 1.5 * IQR\n",
    "df_values.S3 = df_values.S3.apply(lambda v: replace(v))\n",
    "plt.boxplot(df_values.S3)"
   ]
  },
  {
   "cell_type": "code",
   "execution_count": 27,
   "metadata": {},
   "outputs": [
    {
     "data": {
      "text/html": [
       "<div>\n",
       "<style scoped>\n",
       "    .dataframe tbody tr th:only-of-type {\n",
       "        vertical-align: middle;\n",
       "    }\n",
       "\n",
       "    .dataframe tbody tr th {\n",
       "        vertical-align: top;\n",
       "    }\n",
       "\n",
       "    .dataframe thead th {\n",
       "        text-align: right;\n",
       "    }\n",
       "</style>\n",
       "<table border=\"1\" class=\"dataframe\">\n",
       "  <thead>\n",
       "    <tr style=\"text-align: right;\">\n",
       "      <th></th>\n",
       "      <th>I1</th>\n",
       "      <th>I2</th>\n",
       "      <th>I3</th>\n",
       "      <th>pIPO</th>\n",
       "      <th>pH</th>\n",
       "      <th>pL</th>\n",
       "      <th>p1day</th>\n",
       "      <th>C1</th>\n",
       "      <th>C2</th>\n",
       "      <th>C3</th>\n",
       "      <th>...</th>\n",
       "      <th>C6</th>\n",
       "      <th>C7</th>\n",
       "      <th>T1</th>\n",
       "      <th>T2</th>\n",
       "      <th>T3</th>\n",
       "      <th>T4</th>\n",
       "      <th>T5</th>\n",
       "      <th>S1</th>\n",
       "      <th>S2</th>\n",
       "      <th>S3</th>\n",
       "    </tr>\n",
       "  </thead>\n",
       "  <tbody>\n",
       "    <tr>\n",
       "      <th>0</th>\n",
       "      <td>AATI</td>\n",
       "      <td>ADVANCED ANALOGIC TECHNOLOGIES INC</td>\n",
       "      <td>3674</td>\n",
       "      <td>10.0</td>\n",
       "      <td>9.5</td>\n",
       "      <td>8.5</td>\n",
       "      <td>11.870000</td>\n",
       "      <td>122.000</td>\n",
       "      <td>1.0</td>\n",
       "      <td>2.625</td>\n",
       "      <td>...</td>\n",
       "      <td>10600000.0</td>\n",
       "      <td>51.345</td>\n",
       "      <td>470.0</td>\n",
       "      <td>12719.0</td>\n",
       "      <td>11560.0</td>\n",
       "      <td>301.0</td>\n",
       "      <td>690.0</td>\n",
       "      <td>62.0</td>\n",
       "      <td>117.0</td>\n",
       "      <td>139.0</td>\n",
       "    </tr>\n",
       "    <tr>\n",
       "      <th>1</th>\n",
       "      <td>ABPI</td>\n",
       "      <td>ACCENTIA BIOPHARMACEUTICALS INC</td>\n",
       "      <td>2834</td>\n",
       "      <td>8.0</td>\n",
       "      <td>10.0</td>\n",
       "      <td>8.0</td>\n",
       "      <td>7.250000</td>\n",
       "      <td>254.375</td>\n",
       "      <td>0.0</td>\n",
       "      <td>-1.620</td>\n",
       "      <td>...</td>\n",
       "      <td>2400000.0</td>\n",
       "      <td>25.936</td>\n",
       "      <td>791.0</td>\n",
       "      <td>21792.0</td>\n",
       "      <td>19585.0</td>\n",
       "      <td>510.0</td>\n",
       "      <td>1120.0</td>\n",
       "      <td>71.0</td>\n",
       "      <td>242.0</td>\n",
       "      <td>237.0</td>\n",
       "    </tr>\n",
       "    <tr>\n",
       "      <th>2</th>\n",
       "      <td>ACAD</td>\n",
       "      <td>ACADIA PHARMACEUTICALS INC</td>\n",
       "      <td>2834</td>\n",
       "      <td>7.0</td>\n",
       "      <td>14.0</td>\n",
       "      <td>12.0</td>\n",
       "      <td>6.700000</td>\n",
       "      <td>90.000</td>\n",
       "      <td>1.0</td>\n",
       "      <td>-1.240</td>\n",
       "      <td>...</td>\n",
       "      <td>5000000.0</td>\n",
       "      <td>7.378</td>\n",
       "      <td>201.0</td>\n",
       "      <td>5262.0</td>\n",
       "      <td>4785.0</td>\n",
       "      <td>128.0</td>\n",
       "      <td>325.0</td>\n",
       "      <td>61.0</td>\n",
       "      <td>33.0</td>\n",
       "      <td>60.0</td>\n",
       "    </tr>\n",
       "    <tr>\n",
       "      <th>3</th>\n",
       "      <td>ACHN</td>\n",
       "      <td>ACHILLION PHARMACEUTICALS INC</td>\n",
       "      <td>2834</td>\n",
       "      <td>11.5</td>\n",
       "      <td>16.0</td>\n",
       "      <td>14.0</td>\n",
       "      <td>12.390000</td>\n",
       "      <td>209.000</td>\n",
       "      <td>1.0</td>\n",
       "      <td>-0.910</td>\n",
       "      <td>...</td>\n",
       "      <td>4500000.0</td>\n",
       "      <td>8.526</td>\n",
       "      <td>328.0</td>\n",
       "      <td>8259.0</td>\n",
       "      <td>7574.0</td>\n",
       "      <td>177.0</td>\n",
       "      <td>509.0</td>\n",
       "      <td>80.0</td>\n",
       "      <td>59.0</td>\n",
       "      <td>110.0</td>\n",
       "    </tr>\n",
       "    <tr>\n",
       "      <th>4</th>\n",
       "      <td>ACLI</td>\n",
       "      <td>AMERICAN COMMERCIAL LINES INC.</td>\n",
       "      <td>4492</td>\n",
       "      <td>21.0</td>\n",
       "      <td>21.0</td>\n",
       "      <td>19.0</td>\n",
       "      <td>35.936252</td>\n",
       "      <td>80.000</td>\n",
       "      <td>1.0</td>\n",
       "      <td>0.070</td>\n",
       "      <td>...</td>\n",
       "      <td>8250000.0</td>\n",
       "      <td>632.298</td>\n",
       "      <td>572.0</td>\n",
       "      <td>14830.0</td>\n",
       "      <td>13176.0</td>\n",
       "      <td>336.0</td>\n",
       "      <td>720.0</td>\n",
       "      <td>67.0</td>\n",
       "      <td>149.0</td>\n",
       "      <td>167.0</td>\n",
       "    </tr>\n",
       "  </tbody>\n",
       "</table>\n",
       "<p>5 rows × 22 columns</p>\n",
       "</div>"
      ],
      "text/plain": [
       "     I1                                  I2    I3  pIPO    pH    pL  \\\n",
       "0  AATI  ADVANCED ANALOGIC TECHNOLOGIES INC  3674  10.0   9.5   8.5   \n",
       "1  ABPI     ACCENTIA BIOPHARMACEUTICALS INC  2834   8.0  10.0   8.0   \n",
       "2  ACAD          ACADIA PHARMACEUTICALS INC  2834   7.0  14.0  12.0   \n",
       "3  ACHN       ACHILLION PHARMACEUTICALS INC  2834  11.5  16.0  14.0   \n",
       "4  ACLI     AMERICAN COMMERCIAL LINES INC.   4492  21.0  21.0  19.0   \n",
       "\n",
       "       p1day       C1   C2     C3  ...            C6       C7     T1       T2  \\\n",
       "0  11.870000  122.000  1.0  2.625  ...    10600000.0   51.345  470.0  12719.0   \n",
       "1   7.250000  254.375  0.0 -1.620  ...     2400000.0   25.936  791.0  21792.0   \n",
       "2   6.700000   90.000  1.0 -1.240  ...     5000000.0    7.378  201.0   5262.0   \n",
       "3  12.390000  209.000  1.0 -0.910  ...     4500000.0    8.526  328.0   8259.0   \n",
       "4  35.936252   80.000  1.0  0.070  ...     8250000.0  632.298  572.0  14830.0   \n",
       "\n",
       "        T3     T4      T5    S1     S2     S3  \n",
       "0  11560.0  301.0   690.0  62.0  117.0  139.0  \n",
       "1  19585.0  510.0  1120.0  71.0  242.0  237.0  \n",
       "2   4785.0  128.0   325.0  61.0   33.0   60.0  \n",
       "3   7574.0  177.0   509.0  80.0   59.0  110.0  \n",
       "4  13176.0  336.0   720.0  67.0  149.0  167.0  \n",
       "\n",
       "[5 rows x 22 columns]"
      ]
     },
     "execution_count": 27,
     "metadata": {},
     "output_type": "execute_result"
    }
   ],
   "source": [
    "df = pd.concat([df_ids, df_values], axis=1)\n",
    "df.head()"
   ]
  },
  {
   "cell_type": "code",
   "execution_count": 29,
   "metadata": {},
   "outputs": [],
   "source": [
    "df.to_csv('csv_files/no_outliers.csv')"
   ]
  },
  {
   "cell_type": "code",
   "execution_count": null,
   "metadata": {},
   "outputs": [],
   "source": []
  }
 ],
 "metadata": {
  "kernelspec": {
   "display_name": "Python 3",
   "language": "python",
   "name": "python3"
  },
  "language_info": {
   "codemirror_mode": {
    "name": "ipython",
    "version": 3
   },
   "file_extension": ".py",
   "mimetype": "text/x-python",
   "name": "python",
   "nbconvert_exporter": "python",
   "pygments_lexer": "ipython3",
   "version": "3.6.5"
  }
 },
 "nbformat": 4,
 "nbformat_minor": 2
}
