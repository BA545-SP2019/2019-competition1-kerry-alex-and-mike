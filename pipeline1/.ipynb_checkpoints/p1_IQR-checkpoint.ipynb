{
 "cells": [
  {
   "cell_type": "code",
   "execution_count": 1,
   "metadata": {},
   "outputs": [],
   "source": [
    "# import packages\n",
    "import numpy as np\n",
    "import pandas as pd\n",
    "import matplotlib.pyplot as plt"
   ]
  },
  {
   "cell_type": "code",
   "execution_count": 2,
   "metadata": {},
   "outputs": [
    {
     "data": {
      "text/html": [
       "<div>\n",
       "<style scoped>\n",
       "    .dataframe tbody tr th:only-of-type {\n",
       "        vertical-align: middle;\n",
       "    }\n",
       "\n",
       "    .dataframe tbody tr th {\n",
       "        vertical-align: top;\n",
       "    }\n",
       "\n",
       "    .dataframe thead th {\n",
       "        text-align: right;\n",
       "    }\n",
       "</style>\n",
       "<table border=\"1\" class=\"dataframe\">\n",
       "  <thead>\n",
       "    <tr style=\"text-align: right;\">\n",
       "      <th></th>\n",
       "      <th>C1</th>\n",
       "      <th>C3</th>\n",
       "      <th>C4</th>\n",
       "      <th>C5</th>\n",
       "      <th>C6</th>\n",
       "      <th>C7</th>\n",
       "      <th>T1</th>\n",
       "      <th>T2</th>\n",
       "      <th>T3</th>\n",
       "      <th>T4</th>\n",
       "      <th>T5</th>\n",
       "      <th>S1</th>\n",
       "      <th>S2</th>\n",
       "      <th>S3</th>\n",
       "      <th>C3p</th>\n",
       "      <th>C5p</th>\n",
       "      <th>C2</th>\n",
       "    </tr>\n",
       "  </thead>\n",
       "  <tbody>\n",
       "    <tr>\n",
       "      <th>0</th>\n",
       "      <td>122.0</td>\n",
       "      <td>3.43</td>\n",
       "      <td>0.029074</td>\n",
       "      <td>40962052.0</td>\n",
       "      <td>10600000.0</td>\n",
       "      <td>51.345</td>\n",
       "      <td>470.0</td>\n",
       "      <td>12719.0</td>\n",
       "      <td>11560.0</td>\n",
       "      <td>301.0</td>\n",
       "      <td>690.0</td>\n",
       "      <td>62.0</td>\n",
       "      <td>117.0</td>\n",
       "      <td>139.0</td>\n",
       "      <td>0</td>\n",
       "      <td>3.864345</td>\n",
       "      <td>1.0</td>\n",
       "    </tr>\n",
       "    <tr>\n",
       "      <th>1</th>\n",
       "      <td>259.0</td>\n",
       "      <td>-1.62</td>\n",
       "      <td>-0.013352</td>\n",
       "      <td>28869196.0</td>\n",
       "      <td>2400000.0</td>\n",
       "      <td>25.936</td>\n",
       "      <td>791.0</td>\n",
       "      <td>21792.0</td>\n",
       "      <td>19585.0</td>\n",
       "      <td>510.0</td>\n",
       "      <td>1120.0</td>\n",
       "      <td>71.0</td>\n",
       "      <td>242.0</td>\n",
       "      <td>237.0</td>\n",
       "      <td>1</td>\n",
       "      <td>12.028832</td>\n",
       "      <td>0.0</td>\n",
       "    </tr>\n",
       "    <tr>\n",
       "      <th>2</th>\n",
       "      <td>90.0</td>\n",
       "      <td>-1.24</td>\n",
       "      <td>0.020715</td>\n",
       "      <td>16845668.0</td>\n",
       "      <td>5000000.0</td>\n",
       "      <td>7.378</td>\n",
       "      <td>201.0</td>\n",
       "      <td>5262.0</td>\n",
       "      <td>4785.0</td>\n",
       "      <td>128.0</td>\n",
       "      <td>325.0</td>\n",
       "      <td>61.0</td>\n",
       "      <td>33.0</td>\n",
       "      <td>60.0</td>\n",
       "      <td>1</td>\n",
       "      <td>3.369134</td>\n",
       "      <td>1.0</td>\n",
       "    </tr>\n",
       "    <tr>\n",
       "      <th>3</th>\n",
       "      <td>209.0</td>\n",
       "      <td>-0.91</td>\n",
       "      <td>0.020023</td>\n",
       "      <td>14848637.0</td>\n",
       "      <td>4500000.0</td>\n",
       "      <td>8.526</td>\n",
       "      <td>328.0</td>\n",
       "      <td>8259.0</td>\n",
       "      <td>7574.0</td>\n",
       "      <td>177.0</td>\n",
       "      <td>509.0</td>\n",
       "      <td>80.0</td>\n",
       "      <td>59.0</td>\n",
       "      <td>110.0</td>\n",
       "      <td>1</td>\n",
       "      <td>3.299697</td>\n",
       "      <td>1.0</td>\n",
       "    </tr>\n",
       "    <tr>\n",
       "      <th>4</th>\n",
       "      <td>80.0</td>\n",
       "      <td>0.07</td>\n",
       "      <td>-0.034895</td>\n",
       "      <td>30741716.0</td>\n",
       "      <td>8250000.0</td>\n",
       "      <td>632.298</td>\n",
       "      <td>572.0</td>\n",
       "      <td>14830.0</td>\n",
       "      <td>13176.0</td>\n",
       "      <td>336.0</td>\n",
       "      <td>720.0</td>\n",
       "      <td>67.0</td>\n",
       "      <td>149.0</td>\n",
       "      <td>167.0</td>\n",
       "      <td>0</td>\n",
       "      <td>3.726269</td>\n",
       "      <td>1.0</td>\n",
       "    </tr>\n",
       "  </tbody>\n",
       "</table>\n",
       "</div>"
      ],
      "text/plain": [
       "      C1    C3        C4          C5          C6       C7     T1       T2  \\\n",
       "0  122.0  3.43  0.029074  40962052.0  10600000.0   51.345  470.0  12719.0   \n",
       "1  259.0 -1.62 -0.013352  28869196.0   2400000.0   25.936  791.0  21792.0   \n",
       "2   90.0 -1.24  0.020715  16845668.0   5000000.0    7.378  201.0   5262.0   \n",
       "3  209.0 -0.91  0.020023  14848637.0   4500000.0    8.526  328.0   8259.0   \n",
       "4   80.0  0.07 -0.034895  30741716.0   8250000.0  632.298  572.0  14830.0   \n",
       "\n",
       "        T3     T4      T5    S1     S2     S3  C3p        C5p   C2  \n",
       "0  11560.0  301.0   690.0  62.0  117.0  139.0    0   3.864345  1.0  \n",
       "1  19585.0  510.0  1120.0  71.0  242.0  237.0    1  12.028832  0.0  \n",
       "2   4785.0  128.0   325.0  61.0   33.0   60.0    1   3.369134  1.0  \n",
       "3   7574.0  177.0   509.0  80.0   59.0  110.0    1   3.299697  1.0  \n",
       "4  13176.0  336.0   720.0  67.0  149.0  167.0    0   3.726269  1.0  "
      ]
     },
     "execution_count": 2,
     "metadata": {},
     "output_type": "execute_result"
    }
   ],
   "source": [
    "# read imputed data filev - x.csv\n",
    "dfx = pd.read_csv('../csv_files/x.csv', index_col=0)\n",
    "dfx.head()"
   ]
  },
  {
   "cell_type": "code",
   "execution_count": 3,
   "metadata": {},
   "outputs": [
    {
     "data": {
      "text/html": [
       "<div>\n",
       "<style scoped>\n",
       "    .dataframe tbody tr th:only-of-type {\n",
       "        vertical-align: middle;\n",
       "    }\n",
       "\n",
       "    .dataframe tbody tr th {\n",
       "        vertical-align: top;\n",
       "    }\n",
       "\n",
       "    .dataframe thead th {\n",
       "        text-align: right;\n",
       "    }\n",
       "</style>\n",
       "<table border=\"1\" class=\"dataframe\">\n",
       "  <thead>\n",
       "    <tr style=\"text-align: right;\">\n",
       "      <th></th>\n",
       "      <th>C2</th>\n",
       "      <th>C3p</th>\n",
       "    </tr>\n",
       "  </thead>\n",
       "  <tbody>\n",
       "    <tr>\n",
       "      <th>0</th>\n",
       "      <td>1.0</td>\n",
       "      <td>0</td>\n",
       "    </tr>\n",
       "    <tr>\n",
       "      <th>1</th>\n",
       "      <td>0.0</td>\n",
       "      <td>1</td>\n",
       "    </tr>\n",
       "    <tr>\n",
       "      <th>2</th>\n",
       "      <td>1.0</td>\n",
       "      <td>1</td>\n",
       "    </tr>\n",
       "    <tr>\n",
       "      <th>3</th>\n",
       "      <td>1.0</td>\n",
       "      <td>1</td>\n",
       "    </tr>\n",
       "    <tr>\n",
       "      <th>4</th>\n",
       "      <td>1.0</td>\n",
       "      <td>0</td>\n",
       "    </tr>\n",
       "  </tbody>\n",
       "</table>\n",
       "</div>"
      ],
      "text/plain": [
       "    C2  C3p\n",
       "0  1.0    0\n",
       "1  0.0    1\n",
       "2  1.0    1\n",
       "3  1.0    1\n",
       "4  1.0    0"
      ]
     },
     "execution_count": 3,
     "metadata": {},
     "output_type": "execute_result"
    }
   ],
   "source": [
    "# create separate dataframe for C2 and C3p as we do not need to change any outliers because it is a binary variable\n",
    "# will concat this df with dfx dataframe later \n",
    "dfbinary = dfx.filter(['C2', 'C3p'])\n",
    "dfbinary.head()"
   ]
  },
  {
   "cell_type": "code",
   "execution_count": 4,
   "metadata": {},
   "outputs": [
    {
     "data": {
      "text/html": [
       "<div>\n",
       "<style scoped>\n",
       "    .dataframe tbody tr th:only-of-type {\n",
       "        vertical-align: middle;\n",
       "    }\n",
       "\n",
       "    .dataframe tbody tr th {\n",
       "        vertical-align: top;\n",
       "    }\n",
       "\n",
       "    .dataframe thead th {\n",
       "        text-align: right;\n",
       "    }\n",
       "</style>\n",
       "<table border=\"1\" class=\"dataframe\">\n",
       "  <thead>\n",
       "    <tr style=\"text-align: right;\">\n",
       "      <th></th>\n",
       "      <th>C1</th>\n",
       "      <th>C3</th>\n",
       "      <th>C4</th>\n",
       "      <th>C5</th>\n",
       "      <th>C6</th>\n",
       "      <th>C7</th>\n",
       "      <th>T1</th>\n",
       "      <th>T2</th>\n",
       "      <th>T3</th>\n",
       "      <th>T4</th>\n",
       "      <th>T5</th>\n",
       "      <th>S1</th>\n",
       "      <th>S2</th>\n",
       "      <th>S3</th>\n",
       "      <th>C5p</th>\n",
       "    </tr>\n",
       "  </thead>\n",
       "  <tbody>\n",
       "    <tr>\n",
       "      <th>0</th>\n",
       "      <td>122.0</td>\n",
       "      <td>3.43</td>\n",
       "      <td>0.029074</td>\n",
       "      <td>40962052.0</td>\n",
       "      <td>10600000.0</td>\n",
       "      <td>51.345</td>\n",
       "      <td>470.0</td>\n",
       "      <td>12719.0</td>\n",
       "      <td>11560.0</td>\n",
       "      <td>301.0</td>\n",
       "      <td>690.0</td>\n",
       "      <td>62.0</td>\n",
       "      <td>117.0</td>\n",
       "      <td>139.0</td>\n",
       "      <td>3.864345</td>\n",
       "    </tr>\n",
       "    <tr>\n",
       "      <th>1</th>\n",
       "      <td>259.0</td>\n",
       "      <td>-1.62</td>\n",
       "      <td>-0.013352</td>\n",
       "      <td>28869196.0</td>\n",
       "      <td>2400000.0</td>\n",
       "      <td>25.936</td>\n",
       "      <td>791.0</td>\n",
       "      <td>21792.0</td>\n",
       "      <td>19585.0</td>\n",
       "      <td>510.0</td>\n",
       "      <td>1120.0</td>\n",
       "      <td>71.0</td>\n",
       "      <td>242.0</td>\n",
       "      <td>237.0</td>\n",
       "      <td>12.028832</td>\n",
       "    </tr>\n",
       "    <tr>\n",
       "      <th>2</th>\n",
       "      <td>90.0</td>\n",
       "      <td>-1.24</td>\n",
       "      <td>0.020715</td>\n",
       "      <td>16845668.0</td>\n",
       "      <td>5000000.0</td>\n",
       "      <td>7.378</td>\n",
       "      <td>201.0</td>\n",
       "      <td>5262.0</td>\n",
       "      <td>4785.0</td>\n",
       "      <td>128.0</td>\n",
       "      <td>325.0</td>\n",
       "      <td>61.0</td>\n",
       "      <td>33.0</td>\n",
       "      <td>60.0</td>\n",
       "      <td>3.369134</td>\n",
       "    </tr>\n",
       "    <tr>\n",
       "      <th>3</th>\n",
       "      <td>209.0</td>\n",
       "      <td>-0.91</td>\n",
       "      <td>0.020023</td>\n",
       "      <td>14848637.0</td>\n",
       "      <td>4500000.0</td>\n",
       "      <td>8.526</td>\n",
       "      <td>328.0</td>\n",
       "      <td>8259.0</td>\n",
       "      <td>7574.0</td>\n",
       "      <td>177.0</td>\n",
       "      <td>509.0</td>\n",
       "      <td>80.0</td>\n",
       "      <td>59.0</td>\n",
       "      <td>110.0</td>\n",
       "      <td>3.299697</td>\n",
       "    </tr>\n",
       "    <tr>\n",
       "      <th>4</th>\n",
       "      <td>80.0</td>\n",
       "      <td>0.07</td>\n",
       "      <td>-0.034895</td>\n",
       "      <td>30741716.0</td>\n",
       "      <td>8250000.0</td>\n",
       "      <td>632.298</td>\n",
       "      <td>572.0</td>\n",
       "      <td>14830.0</td>\n",
       "      <td>13176.0</td>\n",
       "      <td>336.0</td>\n",
       "      <td>720.0</td>\n",
       "      <td>67.0</td>\n",
       "      <td>149.0</td>\n",
       "      <td>167.0</td>\n",
       "      <td>3.726269</td>\n",
       "    </tr>\n",
       "  </tbody>\n",
       "</table>\n",
       "</div>"
      ],
      "text/plain": [
       "      C1    C3        C4          C5          C6       C7     T1       T2  \\\n",
       "0  122.0  3.43  0.029074  40962052.0  10600000.0   51.345  470.0  12719.0   \n",
       "1  259.0 -1.62 -0.013352  28869196.0   2400000.0   25.936  791.0  21792.0   \n",
       "2   90.0 -1.24  0.020715  16845668.0   5000000.0    7.378  201.0   5262.0   \n",
       "3  209.0 -0.91  0.020023  14848637.0   4500000.0    8.526  328.0   8259.0   \n",
       "4   80.0  0.07 -0.034895  30741716.0   8250000.0  632.298  572.0  14830.0   \n",
       "\n",
       "        T3     T4      T5    S1     S2     S3        C5p  \n",
       "0  11560.0  301.0   690.0  62.0  117.0  139.0   3.864345  \n",
       "1  19585.0  510.0  1120.0  71.0  242.0  237.0  12.028832  \n",
       "2   4785.0  128.0   325.0  61.0   33.0   60.0   3.369134  \n",
       "3   7574.0  177.0   509.0  80.0   59.0  110.0   3.299697  \n",
       "4  13176.0  336.0   720.0  67.0  149.0  167.0   3.726269  "
      ]
     },
     "execution_count": 4,
     "metadata": {},
     "output_type": "execute_result"
    }
   ],
   "source": [
    "# drop C2 and C3p variable from working dfx dataframe\n",
    "dfx = dfx.drop(labels=['C2', 'C3p'], axis=1)\n",
    "dfx.head()"
   ]
  },
  {
   "cell_type": "code",
   "execution_count": 5,
   "metadata": {},
   "outputs": [
    {
     "name": "stdout",
     "output_type": "stream",
     "text": [
      "C1     6.775000e+01\n",
      "C3     1.190000e+00\n",
      "C4     4.429223e-02\n",
      "C5     3.061682e+07\n",
      "C6     6.930076e+06\n",
      "C7     2.482465e+02\n",
      "T1     1.995000e+02\n",
      "T2     6.044500e+03\n",
      "T3     5.583500e+03\n",
      "T4     1.405000e+02\n",
      "T5     3.322500e+02\n",
      "S1     3.975000e+01\n",
      "S2     6.875000e+01\n",
      "S3     7.300000e+01\n",
      "C5p    2.011641e+00\n",
      "dtype: float64\n"
     ]
    }
   ],
   "source": [
    "# finding IQR for each column\n",
    "Q1 = dfx.quantile(0.25)\n",
    "Q3 = dfx.quantile(0.75)\n",
    "IQR = Q3 - Q1\n",
    "print(IQR)"
   ]
  },
  {
   "cell_type": "code",
   "execution_count": 6,
   "metadata": {},
   "outputs": [
    {
     "name": "stdout",
     "output_type": "stream",
     "text": [
      "Q1 Values\n",
      "C1     8.500000e+01\n",
      "C3    -7.500000e-01\n",
      "C4    -1.335164e-02\n",
      "C5     1.874682e+07\n",
      "C6     5.004180e+06\n",
      "C7     4.151150e+01\n",
      "T1     3.512500e+02\n",
      "T2     9.195750e+03\n",
      "T3     8.168000e+03\n",
      "T4     2.132500e+02\n",
      "T5     4.622500e+02\n",
      "S1     4.500000e+01\n",
      "S2     7.300000e+01\n",
      "S3     1.000000e+02\n",
      "C5p    2.853439e+00\n",
      "Name: 0.25, dtype: float64\n",
      "Q3 Values\n",
      "C1     1.527500e+02\n",
      "C3     4.400000e-01\n",
      "C4     3.094059e-02\n",
      "C5     4.936364e+07\n",
      "C6     1.193426e+07\n",
      "C7     2.897580e+02\n",
      "T1     5.507500e+02\n",
      "T2     1.524025e+04\n",
      "T3     1.375150e+04\n",
      "T4     3.537500e+02\n",
      "T5     7.945000e+02\n",
      "S1     8.475000e+01\n",
      "S2     1.417500e+02\n",
      "S3     1.730000e+02\n",
      "C5p    4.865080e+00\n",
      "Name: 0.75, dtype: float64\n"
     ]
    }
   ],
   "source": [
    "# print out Q1 and Q3 values for each variable \n",
    "print('Q1 Values')\n",
    "print(Q1)\n",
    "print('Q3 Values')\n",
    "print(Q3)"
   ]
  },
  {
   "cell_type": "code",
   "execution_count": 7,
   "metadata": {},
   "outputs": [
    {
     "name": "stdout",
     "output_type": "stream",
     "text": [
      "        C1     C3     C4     C5     C6     C7     T1     T2     T3     T4  \\\n",
      "0    False   True  False  False  False  False  False  False  False  False   \n",
      "1     True  False  False  False  False  False  False  False  False  False   \n",
      "2    False  False  False  False  False  False  False  False  False  False   \n",
      "3    False  False  False  False  False  False  False  False  False  False   \n",
      "4    False  False  False  False  False  False  False  False  False  False   \n",
      "5    False  False  False  False  False  False  False  False  False  False   \n",
      "6    False  False  False  False  False  False  False  False  False  False   \n",
      "7    False  False  False  False  False  False  False  False  False  False   \n",
      "8    False  False  False  False  False  False  False  False  False  False   \n",
      "9    False  False  False  False  False  False  False  False  False  False   \n",
      "10   False  False  False  False  False  False  False  False  False  False   \n",
      "11   False   True  False  False  False  False  False  False  False  False   \n",
      "12   False  False  False  False  False  False  False  False  False  False   \n",
      "13   False  False  False  False  False  False  False  False  False  False   \n",
      "14    True  False  False  False  False  False  False  False  False  False   \n",
      "15   False  False   True  False  False  False  False  False  False  False   \n",
      "16   False  False  False  False  False  False  False  False  False  False   \n",
      "17   False  False  False  False  False  False  False  False  False  False   \n",
      "18   False  False  False  False  False  False  False  False  False  False   \n",
      "19   False  False  False  False  False  False  False  False  False  False   \n",
      "20   False  False  False  False  False  False  False  False  False  False   \n",
      "21   False  False  False  False  False   True  False  False  False  False   \n",
      "22   False  False  False  False  False  False  False  False  False  False   \n",
      "23   False   True  False  False  False  False  False  False  False  False   \n",
      "24   False  False  False  False  False  False  False  False  False  False   \n",
      "25   False   True  False  False  False  False  False  False  False  False   \n",
      "26    True  False  False  False  False  False  False  False  False  False   \n",
      "27   False  False  False  False   True  False  False  False  False  False   \n",
      "28   False  False  False  False  False  False  False  False  False  False   \n",
      "29   False  False  False  False  False  False  False  False  False  False   \n",
      "..     ...    ...    ...    ...    ...    ...    ...    ...    ...    ...   \n",
      "652  False  False  False  False  False  False  False  False  False  False   \n",
      "653  False  False  False  False  False   True  False  False  False  False   \n",
      "654  False   True  False   True   True  False  False  False  False  False   \n",
      "655  False  False  False   True   True  False  False  False  False  False   \n",
      "656  False  False  False  False  False  False  False  False  False  False   \n",
      "657  False  False  False  False  False  False  False  False  False  False   \n",
      "658  False  False  False  False  False   True  False  False  False  False   \n",
      "659  False   True  False  False  False  False  False  False  False  False   \n",
      "660  False  False  False  False  False  False  False  False  False  False   \n",
      "661  False   True  False   True   True   True  False  False  False  False   \n",
      "662  False   True  False  False   True   True  False  False  False  False   \n",
      "663  False  False  False  False  False  False  False  False  False  False   \n",
      "664  False  False  False  False  False  False  False  False  False  False   \n",
      "665   True   True  False  False  False   True  False  False  False  False   \n",
      "666   True   True  False  False  False  False  False  False  False  False   \n",
      "667  False   True  False  False  False  False  False  False  False  False   \n",
      "668  False   True  False  False  False  False  False  False  False  False   \n",
      "669  False  False  False  False  False  False  False  False  False  False   \n",
      "670   True   True  False  False  False  False  False  False  False  False   \n",
      "671  False  False  False  False  False  False  False  False  False  False   \n",
      "672  False  False  False  False  False  False  False  False  False  False   \n",
      "673  False  False  False  False  False  False  False  False  False  False   \n",
      "674  False  False  False  False  False  False  False  False  False  False   \n",
      "675  False  False  False  False  False  False  False  False  False  False   \n",
      "676  False   True  False  False  False  False  False  False  False  False   \n",
      "677   True  False  False  False  False  False  False  False  False  False   \n",
      "678  False  False  False  False  False  False  False  False  False  False   \n",
      "679  False  False  False  False  False  False  False  False  False  False   \n",
      "680  False  False  False  False  False  False  False  False  False  False   \n",
      "681   True  False  False  False   True   True  False  False  False  False   \n",
      "\n",
      "        T5     S1     S2     S3    C5p  \n",
      "0    False  False  False  False  False  \n",
      "1    False  False  False  False   True  \n",
      "2    False  False  False  False  False  \n",
      "3    False  False  False  False  False  \n",
      "4    False  False  False  False  False  \n",
      "5    False  False  False  False  False  \n",
      "6    False  False  False  False  False  \n",
      "7    False  False  False  False  False  \n",
      "8    False  False  False  False  False  \n",
      "9    False  False  False  False  False  \n",
      "10   False  False  False  False  False  \n",
      "11   False  False  False  False  False  \n",
      "12   False  False  False  False  False  \n",
      "13   False  False  False  False  False  \n",
      "14   False  False   True  False  False  \n",
      "15   False  False  False  False   True  \n",
      "16   False  False  False  False  False  \n",
      "17   False  False  False  False  False  \n",
      "18   False  False  False  False  False  \n",
      "19   False  False  False  False  False  \n",
      "20   False  False  False  False  False  \n",
      "21   False  False  False  False  False  \n",
      "22   False  False  False  False  False  \n",
      "23   False  False  False  False  False  \n",
      "24   False  False  False  False  False  \n",
      "25   False  False  False  False  False  \n",
      "26   False  False  False  False  False  \n",
      "27   False  False  False  False  False  \n",
      "28   False  False  False  False  False  \n",
      "29   False  False  False  False  False  \n",
      "..     ...    ...    ...    ...    ...  \n",
      "652  False  False  False  False  False  \n",
      "653  False  False  False  False  False  \n",
      "654  False  False  False  False  False  \n",
      "655  False  False  False  False  False  \n",
      "656  False  False  False  False  False  \n",
      "657  False  False  False  False  False  \n",
      "658  False  False  False  False  False  \n",
      "659  False  False  False  False  False  \n",
      "660  False  False  False  False  False  \n",
      "661  False  False   True  False  False  \n",
      "662  False  False  False  False  False  \n",
      "663  False  False  False  False  False  \n",
      "664  False  False  False  False  False  \n",
      "665  False  False  False  False  False  \n",
      "666  False  False  False  False  False  \n",
      "667  False  False  False  False  False  \n",
      "668  False  False  False  False  False  \n",
      "669  False  False  False  False  False  \n",
      "670  False  False  False  False  False  \n",
      "671  False  False  False  False  False  \n",
      "672  False  False  False  False  False  \n",
      "673  False  False  False  False  False  \n",
      "674  False  False  False  False  False  \n",
      "675  False  False  False  False  False  \n",
      "676  False  False  False  False  False  \n",
      "677  False  False  False  False  False  \n",
      "678  False  False  False  False  False  \n",
      "679  False  False  False  False  False  \n",
      "680  False  False  False  False  False  \n",
      "681  False  False  False  False  False  \n",
      "\n",
      "[682 rows x 15 columns]\n"
     ]
    }
   ],
   "source": [
    "# identifying outlier value locations sort of \n",
    "# Q1 - 1.5 * IQR = lower bound \n",
    "# Q3 + 1.5 * IQR = upper bound \n",
    "\n",
    "# define upper bound\n",
    "upper = Q3 + 1.5 * IQR\n",
    "# define lower bound \n",
    "lower = Q1 - 1.5 * IQR\n",
    "# define outlier variable \n",
    "# below is equivalent to this formula: outlier = (dfx < (Q1 - 1.5 * IQR)) | (dfx > (Q3 + 1.5 * IQR))\n",
    "outlier = (dfx < lower) | (dfx > upper)\n",
    "\n",
    "# print out the results\n",
    "# gives the location of the outlier values (indicated by True) based on the bounds defined above \n",
    "print(outlier)"
   ]
  },
  {
   "cell_type": "code",
   "execution_count": 8,
   "metadata": {},
   "outputs": [
    {
     "name": "stdout",
     "output_type": "stream",
     "text": [
      "C1     2.543750e+02\n",
      "C3     2.225000e+00\n",
      "C4     9.737893e-02\n",
      "C5     9.528888e+07\n",
      "C6     2.232937e+07\n",
      "C7     6.621277e+02\n",
      "T1     8.500000e+02\n",
      "T2     2.430700e+04\n",
      "T3     2.212675e+04\n",
      "T4     5.645000e+02\n",
      "T5     1.292875e+03\n",
      "S1     1.443750e+02\n",
      "S2     2.448750e+02\n",
      "S3     2.825000e+02\n",
      "C5p    7.882541e+00\n",
      "dtype: float64\n"
     ]
    }
   ],
   "source": [
    "# print the upper bound value for each variable\n",
    "print(upper)"
   ]
  },
  {
   "cell_type": "code",
   "execution_count": 9,
   "metadata": {},
   "outputs": [
    {
     "name": "stdout",
     "output_type": "stream",
     "text": [
      "C1    -1.662500e+01\n",
      "C3    -2.535000e+00\n",
      "C4    -7.978998e-02\n",
      "C5    -2.717841e+07\n",
      "C6    -5.390933e+06\n",
      "C7    -3.308582e+02\n",
      "T1     5.200000e+01\n",
      "T2     1.290000e+02\n",
      "T3    -2.072500e+02\n",
      "T4     2.500000e+00\n",
      "T5    -3.612500e+01\n",
      "S1    -1.462500e+01\n",
      "S2    -3.012500e+01\n",
      "S3    -9.500000e+00\n",
      "C5p   -1.640217e-01\n",
      "dtype: float64\n"
     ]
    }
   ],
   "source": [
    "# print the lower bound for each variable \n",
    "print(lower)"
   ]
  },
  {
   "cell_type": "code",
   "execution_count": 10,
   "metadata": {},
   "outputs": [],
   "source": [
    "# define upper and lower lists\n",
    "upper = []\n",
    "lower = []\n",
    "\n",
    "# create for loop that will iterate over each value in every column\n",
    "for i in dfx.columns:\n",
    "    # define Q1 and Q3 for each column\n",
    "    Q1 = dfx[i].quantile(0.25)\n",
    "    Q3 = dfx[i].quantile(0.75)\n",
    "    # define IQR for each column\n",
    "    IQR = Q3 - Q1\n",
    "    # append empty lists upper and lower\n",
    "    upper_list = Q3 + 1.5 * IQR\n",
    "    upper.append(upper_list)\n",
    "    lower_list = Q1 - 1.5 * IQR\n",
    "    lower.append(lower_list)\n",
    "    "
   ]
  },
  {
   "cell_type": "code",
   "execution_count": 11,
   "metadata": {},
   "outputs": [],
   "source": [
    "# define the function that will replace outlier values in each column with the appropriate upper or lower limit \n",
    "def outlier_handling(x, upper, lower):\n",
    "    if x > upper:\n",
    "        x = upper\n",
    "    elif x < lower:\n",
    "            x = lower\n",
    "    else:\n",
    "        pass\n",
    "    return x"
   ]
  },
  {
   "cell_type": "code",
   "execution_count": 12,
   "metadata": {},
   "outputs": [],
   "source": [
    "# apply the outlier handling function to the dfx dataframe to replace the outlier values in each column\n",
    "for col in dfx.columns:\n",
    "    q1 = dfx.loc[:, col].quantile(0.25)\n",
    "    q3 = dfx.loc[:, col].quantile(0.75)\n",
    "    IQR = q3 - q1\n",
    "    lbound = q1 - 1.5*IQR\n",
    "    ubound = q3 + 1.5*IQR\n",
    "    dfx.loc[:, col] = dfx.loc[:, col].apply(lambda x: outlier_handling(x, ubound,lbound))"
   ]
  },
  {
   "cell_type": "markdown",
   "metadata": {},
   "source": [
    "### Check that the Outlier Handling function Worked\n",
    "### Examine the boxplots for each variable (should see no outliers) "
   ]
  },
  {
   "cell_type": "code",
   "execution_count": 13,
   "metadata": {},
   "outputs": [
    {
     "data": {
      "text/plain": [
       "{'whiskers': [<matplotlib.lines.Line2D at 0x7fdfb7b894a8>,\n",
       "  <matplotlib.lines.Line2D at 0x7fdfb7b897f0>],\n",
       " 'caps': [<matplotlib.lines.Line2D at 0x7fdfb7b89b38>,\n",
       "  <matplotlib.lines.Line2D at 0x7fdfb7b89e80>],\n",
       " 'boxes': [<matplotlib.lines.Line2D at 0x7fdfb7b89358>],\n",
       " 'medians': [<matplotlib.lines.Line2D at 0x7fdfb7b1c208>],\n",
       " 'fliers': [<matplotlib.lines.Line2D at 0x7fdfb7b1c550>],\n",
       " 'means': []}"
      ]
     },
     "execution_count": 13,
     "metadata": {},
     "output_type": "execute_result"
    },
    {
     "data": {
      "image/png": "[encoded data removed]",
      "text/plain": [
       "<Figure size 432x288 with 1 Axes>"
      ]
     },
     "metadata": {},
     "output_type": "display_data"
    }
   ],
   "source": [
    "plt.boxplot(dfx['C1'])"
   ]
  },
  {
   "cell_type": "code",
   "execution_count": 14,
   "metadata": {},
   "outputs": [
    {
     "data": {
      "text/plain": [
       "{'whiskers': [<matplotlib.lines.Line2D at 0x7fdfb7b0bd68>,\n",
       "  <matplotlib.lines.Line2D at 0x7fdfb7a960f0>],\n",
       " 'caps': [<matplotlib.lines.Line2D at 0x7fdfb7a96438>,\n",
       "  <matplotlib.lines.Line2D at 0x7fdfb7a96780>],\n",
       " 'boxes': [<matplotlib.lines.Line2D at 0x7fdfb7b0b9e8>],\n",
       " 'medians': [<matplotlib.lines.Line2D at 0x7fdfb7a96ac8>],\n",
       " 'fliers': [<matplotlib.lines.Line2D at 0x7fdfb7a96e10>],\n",
       " 'means': []}"
      ]
     },
     "execution_count": 14,
     "metadata": {},
     "output_type": "execute_result"
    },
    {
     "data": {
      "image/png": "[encoded data removed]",
      "text/plain": [
       "<Figure size 432x288 with 1 Axes>"
      ]
     },
     "metadata": {},
     "output_type": "display_data"
    }
   ],
   "source": [
    "plt.boxplot(dfx['C3'])"
   ]
  },
  {
   "cell_type": "code",
   "execution_count": 15,
   "metadata": {},
   "outputs": [
    {
     "data": {
      "text/plain": [
       "{'whiskers': [<matplotlib.lines.Line2D at 0x7fdfb7a66fd0>,\n",
       "  <matplotlib.lines.Line2D at 0x7fdfb7a6e358>],\n",
       " 'caps': [<matplotlib.lines.Line2D at 0x7fdfb7a6e6a0>,\n",
       "  <matplotlib.lines.Line2D at 0x7fdfb7a6e9e8>],\n",
       " 'boxes': [<matplotlib.lines.Line2D at 0x7fdfb7a66e80>],\n",
       " 'medians': [<matplotlib.lines.Line2D at 0x7fdfb7a6ed30>],\n",
       " 'fliers': [<matplotlib.lines.Line2D at 0x7fdfb7a770b8>],\n",
       " 'means': []}"
      ]
     },
     "execution_count": 15,
     "metadata": {},
     "output_type": "execute_result"
    },
    {
     "data": {
      "image/png": "[encoded data removed]",
      "text/plain": [
       "<Figure size 432x288 with 1 Axes>"
      ]
     },
     "metadata": {},
     "output_type": "display_data"
    }
   ],
   "source": [
    "plt.boxplot(dfx['C4'])"
   ]
  },
  {
   "cell_type": "code",
   "execution_count": 16,
   "metadata": {},
   "outputs": [
    {
     "data": {
      "text/plain": [
       "{'whiskers': [<matplotlib.lines.Line2D at 0x7fdfb7a1d2b0>,\n",
       "  <matplotlib.lines.Line2D at 0x7fdfb7a1d5f8>],\n",
       " 'caps': [<matplotlib.lines.Line2D at 0x7fdfb7a1d940>,\n",
       "  <matplotlib.lines.Line2D at 0x7fdfb7a1dc88>],\n",
       " 'boxes': [<matplotlib.lines.Line2D at 0x7fdfb7a1d160>],\n",
       " 'medians': [<matplotlib.lines.Line2D at 0x7fdfb7a1dfd0>],\n",
       " 'fliers': [<matplotlib.lines.Line2D at 0x7fdfb79d9358>],\n",
       " 'means': []}"
      ]
     },
     "execution_count": 16,
     "metadata": {},
     "output_type": "execute_result"
    },
    {
     "data": {
      "image/png": "[encoded data removed]",
      "text/plain": [
       "<Figure size 432x288 with 1 Axes>"
      ]
     },
     "metadata": {},
     "output_type": "display_data"
    }
   ],
   "source": [
    "plt.boxplot(dfx['C5'])"
   ]
  },
  {
   "cell_type": "code",
   "execution_count": 17,
   "metadata": {},
   "outputs": [
    {
     "data": {
      "text/plain": [
       "{'whiskers': [<matplotlib.lines.Line2D at 0x7fdfb79a6668>,\n",
       "  <matplotlib.lines.Line2D at 0x7fdfb79a69b0>],\n",
       " 'caps': [<matplotlib.lines.Line2D at 0x7fdfb79a6cf8>,\n",
       "  <matplotlib.lines.Line2D at 0x7fdfb79af080>],\n",
       " 'boxes': [<matplotlib.lines.Line2D at 0x7fdfb79a6518>],\n",
       " 'medians': [<matplotlib.lines.Line2D at 0x7fdfb79af3c8>],\n",
       " 'fliers': [<matplotlib.lines.Line2D at 0x7fdfb79af710>],\n",
       " 'means': []}"
      ]
     },
     "execution_count": 17,
     "metadata": {},
     "output_type": "execute_result"
    },
    {
     "data": {
      "image/png": "[encoded data removed]",
      "text/plain": [
       "<Figure size 432x288 with 1 Axes>"
      ]
     },
     "metadata": {},
     "output_type": "display_data"
    }
   ],
   "source": [
    "plt.boxplot(dfx['C6'])"
   ]
  },
  {
   "cell_type": "code",
   "execution_count": 18,
   "metadata": {},
   "outputs": [
    {
     "data": {
      "text/plain": [
       "{'whiskers': [<matplotlib.lines.Line2D at 0x7fdfb797a7f0>,\n",
       "  <matplotlib.lines.Line2D at 0x7fdfb797ab38>],\n",
       " 'caps': [<matplotlib.lines.Line2D at 0x7fdfb797ae80>,\n",
       "  <matplotlib.lines.Line2D at 0x7fdfb7983208>],\n",
       " 'boxes': [<matplotlib.lines.Line2D at 0x7fdfb797a470>],\n",
       " 'medians': [<matplotlib.lines.Line2D at 0x7fdfb7983550>],\n",
       " 'fliers': [<matplotlib.lines.Line2D at 0x7fdfb7983898>],\n",
       " 'means': []}"
      ]
     },
     "execution_count": 18,
     "metadata": {},
     "output_type": "execute_result"
    },
    {
     "data": {
      "image/png": "[encoded data removed]",
      "text/plain": [
       "<Figure size 432x288 with 1 Axes>"
      ]
     },
     "metadata": {},
     "output_type": "display_data"
    }
   ],
   "source": [
    "plt.boxplot(dfx['C7'])"
   ]
  },
  {
   "cell_type": "code",
   "execution_count": 19,
   "metadata": {},
   "outputs": [
    {
     "data": {
      "text/plain": [
       "{'whiskers': [<matplotlib.lines.Line2D at 0x7fdfb9bb5a90>,\n",
       "  <matplotlib.lines.Line2D at 0x7fdfb9bb5dd8>],\n",
       " 'caps': [<matplotlib.lines.Line2D at 0x7fdfb9baf128>,\n",
       "  <matplotlib.lines.Line2D at 0x7fdfb9baf470>],\n",
       " 'boxes': [<matplotlib.lines.Line2D at 0x7fdfb9bb5908>],\n",
       " 'medians': [<matplotlib.lines.Line2D at 0x7fdfb9baf0b8>],\n",
       " 'fliers': [<matplotlib.lines.Line2D at 0x7fdfb9bafb38>],\n",
       " 'means': []}"
      ]
     },
     "execution_count": 19,
     "metadata": {},
     "output_type": "execute_result"
    },
    {
     "data": {
      "image/png": "[encoded data removed]",
      "text/plain": [
       "<Figure size 432x288 with 1 Axes>"
      ]
     },
     "metadata": {},
     "output_type": "display_data"
    }
   ],
   "source": [
    "plt.boxplot(dfx['T1'])"
   ]
  },
  {
   "cell_type": "code",
   "execution_count": 20,
   "metadata": {},
   "outputs": [
    {
     "data": {
      "text/plain": [
       "{'whiskers': [<matplotlib.lines.Line2D at 0x7fdfb78ad6d8>,\n",
       "  <matplotlib.lines.Line2D at 0x7fdfb78ada20>],\n",
       " 'caps': [<matplotlib.lines.Line2D at 0x7fdfb78add68>,\n",
       "  <matplotlib.lines.Line2D at 0x7fdfb78b80f0>],\n",
       " 'boxes': [<matplotlib.lines.Line2D at 0x7fdfb78ad588>],\n",
       " 'medians': [<matplotlib.lines.Line2D at 0x7fdfb78b8438>],\n",
       " 'fliers': [<matplotlib.lines.Line2D at 0x7fdfb78b8780>],\n",
       " 'means': []}"
      ]
     },
     "execution_count": 20,
     "metadata": {},
     "output_type": "execute_result"
    },
    {
     "data": {
      "image/png": "[encoded data removed]",
      "text/plain": [
       "<Figure size 432x288 with 1 Axes>"
      ]
     },
     "metadata": {},
     "output_type": "display_data"
    }
   ],
   "source": [
    "plt.boxplot(dfx['T2'])"
   ]
  },
  {
   "cell_type": "code",
   "execution_count": 21,
   "metadata": {},
   "outputs": [
    {
     "data": {
      "text/plain": [
       "{'whiskers': [<matplotlib.lines.Line2D at 0x7fdfb7881e80>,\n",
       "  <matplotlib.lines.Line2D at 0x7fdfb788c208>],\n",
       " 'caps': [<matplotlib.lines.Line2D at 0x7fdfb788c550>,\n",
       "  <matplotlib.lines.Line2D at 0x7fdfb788c898>],\n",
       " 'boxes': [<matplotlib.lines.Line2D at 0x7fdfb7881d30>],\n",
       " 'medians': [<matplotlib.lines.Line2D at 0x7fdfb788cbe0>],\n",
       " 'fliers': [<matplotlib.lines.Line2D at 0x7fdfb788cf28>],\n",
       " 'means': []}"
      ]
     },
     "execution_count": 21,
     "metadata": {},
     "output_type": "execute_result"
    },
    {
     "data": {
      "image/png": "[encoded data removed]",
      "text/plain": [
       "<Figure size 432x288 with 1 Axes>"
      ]
     },
     "metadata": {},
     "output_type": "display_data"
    }
   ],
   "source": [
    "plt.boxplot(dfx['T3'])"
   ]
  },
  {
   "cell_type": "code",
   "execution_count": 22,
   "metadata": {},
   "outputs": [
    {
     "data": {
      "text/plain": [
       "{'whiskers': [<matplotlib.lines.Line2D at 0x7fdfb77e0400>,\n",
       "  <matplotlib.lines.Line2D at 0x7fdfb77e0748>],\n",
       " 'caps': [<matplotlib.lines.Line2D at 0x7fdfb77e0a90>,\n",
       "  <matplotlib.lines.Line2D at 0x7fdfb77e0dd8>],\n",
       " 'boxes': [<matplotlib.lines.Line2D at 0x7fdfb77e02b0>],\n",
       " 'medians': [<matplotlib.lines.Line2D at 0x7fdfb77e7160>],\n",
       " 'fliers': [<matplotlib.lines.Line2D at 0x7fdfb77e74a8>],\n",
       " 'means': []}"
      ]
     },
     "execution_count": 22,
     "metadata": {},
     "output_type": "execute_result"
    },
    {
     "data": {
      "image/png": "[encoded data removed]",
      "text/plain": [
       "<Figure size 432x288 with 1 Axes>"
      ]
     },
     "metadata": {},
     "output_type": "display_data"
    }
   ],
   "source": [
    "plt.boxplot(dfx['T4'])"
   ]
  },
  {
   "cell_type": "code",
   "execution_count": 23,
   "metadata": {},
   "outputs": [
    {
     "data": {
      "text/plain": [
       "{'whiskers': [<matplotlib.lines.Line2D at 0x7fdfb7806390>,\n",
       "  <matplotlib.lines.Line2D at 0x7fdfb77b3ef0>],\n",
       " 'caps': [<matplotlib.lines.Line2D at 0x7fdfb77bc278>,\n",
       "  <matplotlib.lines.Line2D at 0x7fdfb77bc5c0>],\n",
       " 'boxes': [<matplotlib.lines.Line2D at 0x7fdfb77b3ac8>],\n",
       " 'medians': [<matplotlib.lines.Line2D at 0x7fdfb77bc908>],\n",
       " 'fliers': [<matplotlib.lines.Line2D at 0x7fdfb77bcc50>],\n",
       " 'means': []}"
      ]
     },
     "execution_count": 23,
     "metadata": {},
     "output_type": "execute_result"
    },
    {
     "data": {
      "image/png": "[encoded data removed]",
      "text/plain": [
       "<Figure size 432x288 with 1 Axes>"
      ]
     },
     "metadata": {},
     "output_type": "display_data"
    }
   ],
   "source": [
    "plt.boxplot(dfx['T5'])"
   ]
  },
  {
   "cell_type": "code",
   "execution_count": 24,
   "metadata": {},
   "outputs": [
    {
     "data": {
      "text/plain": [
       "{'whiskers': [<matplotlib.lines.Line2D at 0x7fdfb7791978>,\n",
       "  <matplotlib.lines.Line2D at 0x7fdfb7791cc0>],\n",
       " 'caps': [<matplotlib.lines.Line2D at 0x7fdfb7719048>,\n",
       "  <matplotlib.lines.Line2D at 0x7fdfb7719390>],\n",
       " 'boxes': [<matplotlib.lines.Line2D at 0x7fdfb7791588>],\n",
       " 'medians': [<matplotlib.lines.Line2D at 0x7fdfb77196d8>],\n",
       " 'fliers': [<matplotlib.lines.Line2D at 0x7fdfb7719a20>],\n",
       " 'means': []}"
      ]
     },
     "execution_count": 24,
     "metadata": {},
     "output_type": "execute_result"
    },
    {
     "data": {
      "image/png": "[encoded data removed]",
      "text/plain": [
       "<Figure size 432x288 with 1 Axes>"
      ]
     },
     "metadata": {},
     "output_type": "display_data"
    }
   ],
   "source": [
    "plt.boxplot(dfx['S1'])"
   ]
  },
  {
   "cell_type": "code",
   "execution_count": 25,
   "metadata": {},
   "outputs": [
    {
     "data": {
      "text/plain": [
       "{'whiskers': [<matplotlib.lines.Line2D at 0x7fdfb76efb38>,\n",
       "  <matplotlib.lines.Line2D at 0x7fdfb76efe80>],\n",
       " 'caps': [<matplotlib.lines.Line2D at 0x7fdfb76f9208>,\n",
       "  <matplotlib.lines.Line2D at 0x7fdfb76f9550>],\n",
       " 'boxes': [<matplotlib.lines.Line2D at 0x7fdfb76ef9e8>],\n",
       " 'medians': [<matplotlib.lines.Line2D at 0x7fdfb76f9898>],\n",
       " 'fliers': [<matplotlib.lines.Line2D at 0x7fdfb76f9be0>],\n",
       " 'means': []}"
      ]
     },
     "execution_count": 25,
     "metadata": {},
     "output_type": "execute_result"
    },
    {
     "data": {
      "image/png": "[encoded data removed]",
      "text/plain": [
       "<Figure size 432x288 with 1 Axes>"
      ]
     },
     "metadata": {},
     "output_type": "display_data"
    }
   ],
   "source": [
    "plt.boxplot(dfx['S2'])"
   ]
  },
  {
   "cell_type": "code",
   "execution_count": 26,
   "metadata": {},
   "outputs": [
    {
     "data": {
      "text/plain": [
       "{'whiskers': [<matplotlib.lines.Line2D at 0x7fdfb76c3f98>,\n",
       "  <matplotlib.lines.Line2D at 0x7fdfb76cd320>],\n",
       " 'caps': [<matplotlib.lines.Line2D at 0x7fdfb76cd668>,\n",
       "  <matplotlib.lines.Line2D at 0x7fdfb76cd9e8>],\n",
       " 'boxes': [<matplotlib.lines.Line2D at 0x7fdfb76c3e48>],\n",
       " 'medians': [<matplotlib.lines.Line2D at 0x7fdfb76cdd30>],\n",
       " 'fliers': [<matplotlib.lines.Line2D at 0x7fdfb76570b8>],\n",
       " 'means': []}"
      ]
     },
     "execution_count": 26,
     "metadata": {},
     "output_type": "execute_result"
    },
    {
     "data": {
      "image/png": "[encoded data removed]",
      "text/plain": [
       "<Figure size 432x288 with 1 Axes>"
      ]
     },
     "metadata": {},
     "output_type": "display_data"
    }
   ],
   "source": [
    "plt.boxplot(dfx['S3'])"
   ]
  },
  {
   "cell_type": "code",
   "execution_count": 27,
   "metadata": {},
   "outputs": [
    {
     "data": {
      "text/html": [
       "<div>\n",
       "<style scoped>\n",
       "    .dataframe tbody tr th:only-of-type {\n",
       "        vertical-align: middle;\n",
       "    }\n",
       "\n",
       "    .dataframe tbody tr th {\n",
       "        vertical-align: top;\n",
       "    }\n",
       "\n",
       "    .dataframe thead th {\n",
       "        text-align: right;\n",
       "    }\n",
       "</style>\n",
       "<table border=\"1\" class=\"dataframe\">\n",
       "  <thead>\n",
       "    <tr style=\"text-align: right;\">\n",
       "      <th></th>\n",
       "      <th>C1</th>\n",
       "      <th>C3</th>\n",
       "      <th>C4</th>\n",
       "      <th>C5</th>\n",
       "      <th>C6</th>\n",
       "      <th>C7</th>\n",
       "      <th>T1</th>\n",
       "      <th>T2</th>\n",
       "      <th>T3</th>\n",
       "      <th>T4</th>\n",
       "      <th>T5</th>\n",
       "      <th>S1</th>\n",
       "      <th>S2</th>\n",
       "      <th>S3</th>\n",
       "      <th>C5p</th>\n",
       "      <th>C2</th>\n",
       "      <th>C3p</th>\n",
       "    </tr>\n",
       "  </thead>\n",
       "  <tbody>\n",
       "    <tr>\n",
       "      <th>0</th>\n",
       "      <td>122.000</td>\n",
       "      <td>2.225</td>\n",
       "      <td>0.029074</td>\n",
       "      <td>40962052.0</td>\n",
       "      <td>10600000.0</td>\n",
       "      <td>51.345</td>\n",
       "      <td>470.0</td>\n",
       "      <td>12719.0</td>\n",
       "      <td>11560.0</td>\n",
       "      <td>301.0</td>\n",
       "      <td>690.0</td>\n",
       "      <td>62.0</td>\n",
       "      <td>117.0</td>\n",
       "      <td>139.0</td>\n",
       "      <td>3.864345</td>\n",
       "      <td>1.0</td>\n",
       "      <td>0</td>\n",
       "    </tr>\n",
       "    <tr>\n",
       "      <th>1</th>\n",
       "      <td>254.375</td>\n",
       "      <td>-1.620</td>\n",
       "      <td>-0.013352</td>\n",
       "      <td>28869196.0</td>\n",
       "      <td>2400000.0</td>\n",
       "      <td>25.936</td>\n",
       "      <td>791.0</td>\n",
       "      <td>21792.0</td>\n",
       "      <td>19585.0</td>\n",
       "      <td>510.0</td>\n",
       "      <td>1120.0</td>\n",
       "      <td>71.0</td>\n",
       "      <td>242.0</td>\n",
       "      <td>237.0</td>\n",
       "      <td>7.882541</td>\n",
       "      <td>0.0</td>\n",
       "      <td>1</td>\n",
       "    </tr>\n",
       "    <tr>\n",
       "      <th>2</th>\n",
       "      <td>90.000</td>\n",
       "      <td>-1.240</td>\n",
       "      <td>0.020715</td>\n",
       "      <td>16845668.0</td>\n",
       "      <td>5000000.0</td>\n",
       "      <td>7.378</td>\n",
       "      <td>201.0</td>\n",
       "      <td>5262.0</td>\n",
       "      <td>4785.0</td>\n",
       "      <td>128.0</td>\n",
       "      <td>325.0</td>\n",
       "      <td>61.0</td>\n",
       "      <td>33.0</td>\n",
       "      <td>60.0</td>\n",
       "      <td>3.369134</td>\n",
       "      <td>1.0</td>\n",
       "      <td>1</td>\n",
       "    </tr>\n",
       "    <tr>\n",
       "      <th>3</th>\n",
       "      <td>209.000</td>\n",
       "      <td>-0.910</td>\n",
       "      <td>0.020023</td>\n",
       "      <td>14848637.0</td>\n",
       "      <td>4500000.0</td>\n",
       "      <td>8.526</td>\n",
       "      <td>328.0</td>\n",
       "      <td>8259.0</td>\n",
       "      <td>7574.0</td>\n",
       "      <td>177.0</td>\n",
       "      <td>509.0</td>\n",
       "      <td>80.0</td>\n",
       "      <td>59.0</td>\n",
       "      <td>110.0</td>\n",
       "      <td>3.299697</td>\n",
       "      <td>1.0</td>\n",
       "      <td>1</td>\n",
       "    </tr>\n",
       "    <tr>\n",
       "      <th>4</th>\n",
       "      <td>80.000</td>\n",
       "      <td>0.070</td>\n",
       "      <td>-0.034895</td>\n",
       "      <td>30741716.0</td>\n",
       "      <td>8250000.0</td>\n",
       "      <td>632.298</td>\n",
       "      <td>572.0</td>\n",
       "      <td>14830.0</td>\n",
       "      <td>13176.0</td>\n",
       "      <td>336.0</td>\n",
       "      <td>720.0</td>\n",
       "      <td>67.0</td>\n",
       "      <td>149.0</td>\n",
       "      <td>167.0</td>\n",
       "      <td>3.726269</td>\n",
       "      <td>1.0</td>\n",
       "      <td>0</td>\n",
       "    </tr>\n",
       "  </tbody>\n",
       "</table>\n",
       "</div>"
      ],
      "text/plain": [
       "        C1     C3        C4          C5          C6       C7     T1       T2  \\\n",
       "0  122.000  2.225  0.029074  40962052.0  10600000.0   51.345  470.0  12719.0   \n",
       "1  254.375 -1.620 -0.013352  28869196.0   2400000.0   25.936  791.0  21792.0   \n",
       "2   90.000 -1.240  0.020715  16845668.0   5000000.0    7.378  201.0   5262.0   \n",
       "3  209.000 -0.910  0.020023  14848637.0   4500000.0    8.526  328.0   8259.0   \n",
       "4   80.000  0.070 -0.034895  30741716.0   8250000.0  632.298  572.0  14830.0   \n",
       "\n",
       "        T3     T4      T5    S1     S2     S3       C5p   C2  C3p  \n",
       "0  11560.0  301.0   690.0  62.0  117.0  139.0  3.864345  1.0    0  \n",
       "1  19585.0  510.0  1120.0  71.0  242.0  237.0  7.882541  0.0    1  \n",
       "2   4785.0  128.0   325.0  61.0   33.0   60.0  3.369134  1.0    1  \n",
       "3   7574.0  177.0   509.0  80.0   59.0  110.0  3.299697  1.0    1  \n",
       "4  13176.0  336.0   720.0  67.0  149.0  167.0  3.726269  1.0    0  "
      ]
     },
     "execution_count": 27,
     "metadata": {},
     "output_type": "execute_result"
    }
   ],
   "source": [
    "# concat dfx dataframe and dfbinary dataframe to create the full x-variable dataframe \n",
    "dfx = pd.concat([dfx, dfbinary], axis=1)\n",
    "dfx.head()"
   ]
  },
  {
   "cell_type": "code",
   "execution_count": 28,
   "metadata": {},
   "outputs": [],
   "source": [
    "# export the new csv file to use in normalization using min/max scaler \n",
    "dfx.to_csv('../csv_files/p1iqr.csv')"
   ]
  },
  {
   "cell_type": "code",
   "execution_count": null,
   "metadata": {},
   "outputs": [],
   "source": []
  }
 ],
 "metadata": {
  "kernelspec": {
   "display_name": "Python 3",
   "language": "python",
   "name": "python3"
  },
  "language_info": {
   "codemirror_mode": {
    "name": "ipython",
    "version": 3
   },
   "file_extension": ".py",
   "mimetype": "text/x-python",
   "name": "python",
   "nbconvert_exporter": "python",
   "pygments_lexer": "ipython3",
   "version": "3.6.5"
  }
 },
 "nbformat": 4,
 "nbformat_minor": 2
}
