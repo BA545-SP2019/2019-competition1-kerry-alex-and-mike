{
 "cells": [
  {
   "cell_type": "code",
   "execution_count": 10,
   "metadata": {},
   "outputs": [],
   "source": [
    "import pandas as pd\n",
    "import numpy as np\n",
    "from sklearn.linear_model import Ridge"
   ]
  },
  {
   "cell_type": "code",
   "execution_count": 11,
   "metadata": {},
   "outputs": [],
   "source": [
    "# load the dataset into a DataFrame object\n",
    "finaldata = pd.read_csv(\"evalcodep1.csv\", index_col = 0)\n",
    "finaldata2 = finaldata.drop('C2', axis=1)"
   ]
  },
  {
   "cell_type": "code",
   "execution_count": 12,
   "metadata": {},
   "outputs": [
    {
     "name": "stdout",
     "output_type": "stream",
     "text": [
      "         C1        C4        C6        C7       C5p       T4p       T3p  \\\n",
      "0  0.458312  0.630418  0.673869  0.207673  0.570284  0.441786  0.427704   \n",
      "1  1.000000  0.384735  0.290706  0.147494  0.698942  0.444796  0.426904   \n",
      "2  0.327366  0.582011  0.449107  0.078383  0.555596  0.439275  0.427741   \n",
      "3  0.814322  0.578004  0.423274  0.084319  0.553374  0.371690  0.428343   \n",
      "4  0.286445  0.259983  0.590068  0.729255  0.566377  0.404918  0.426088   \n",
      "\n",
      "        T5p       S1p       S2p       S3p  C3p  Industry_Bins  Y1  Y2  \n",
      "0  0.428334  0.428161  0.397992  0.379065    0              1   0   1  \n",
      "1  0.424499  0.400971  0.414195  0.378486    1              1   1   0  \n",
      "2  0.437681  0.493771  0.363924  0.384058    1              1   1   0  \n",
      "3  0.437523  0.479331  0.375764  0.401495    1              1   1   1  \n",
      "4  0.420497  0.422876  0.405605  0.382601    0              3   0   1  \n",
      "(682, 15)\n"
     ]
    }
   ],
   "source": [
    "# print out the first five columns of the data\n",
    "print(finaldata2.head())\n",
    "print(finaldata2.shape)"
   ]
  },
  {
   "cell_type": "code",
   "execution_count": 13,
   "metadata": {},
   "outputs": [],
   "source": [
    "# convert the Dataframe to a Numpy array\n",
    "array = finaldata2.values\n",
    "X = array[:,:13] #features\n",
    "Y1 = array[:,13] #Y1target\n"
   ]
  },
  {
   "cell_type": "code",
   "execution_count": 14,
   "metadata": {},
   "outputs": [
    {
     "data": {
      "text/plain": [
       "Ridge(alpha=1.0, copy_X=True, fit_intercept=True, max_iter=None,\n",
       "   normalize=False, random_state=None, solver='auto', tol=0.001)"
      ]
     },
     "execution_count": 14,
     "metadata": {},
     "output_type": "execute_result"
    }
   ],
   "source": [
    "# use Ridge regression\n",
    "ridge = Ridge(alpha=1.0)\n",
    "ridge.fit(X,Y1)"
   ]
  },
  {
   "cell_type": "code",
   "execution_count": 15,
   "metadata": {},
   "outputs": [],
   "source": [
    "# A helper method for pretty-printing the coefficients\n",
    "def pretty_print_coefs(coefs, names = None, sort = False):\n",
    "    if names == None:\n",
    "        names = [\"X%s\" % x for x in range(len(coefs))]\n",
    "    lst = zip(coefs, names)\n",
    "    if sort:\n",
    "        lst = sorted(lst,  key = lambda x:-np.abs(x[0]))\n",
    "    return \" + \".join(\"%s * %s\" % (round(coef, 3), name)\n",
    "                                   for coef, name in lst)"
   ]
  },
  {
   "cell_type": "code",
   "execution_count": 16,
   "metadata": {},
   "outputs": [
    {
     "name": "stdout",
     "output_type": "stream",
     "text": [
      "Ridge model: 0.133 * X0 + -0.241 * X1 + -0.167 * X2 + 0.109 * X3 + -0.639 * X4 + 0.302 * X5 + -0.245 * X6 + -0.083 * X7 + 0.392 * X8 + 0.814 * X9 + -0.016 * X10 + 0.101 * X11 + -0.049 * X12\n"
     ]
    }
   ],
   "source": [
    "print (\"Ridge model:\", pretty_print_coefs(ridge.coef_))"
   ]
  },
  {
   "cell_type": "code",
   "execution_count": 17,
   "metadata": {},
   "outputs": [],
   "source": [
    "# convert the Dataframe to a Numpy array\n",
    "array = finaldata2.values\n",
    "X = array[:,:13] #features\n",
    "Y2 = array[:,14] #Y2target"
   ]
  },
  {
   "cell_type": "code",
   "execution_count": 18,
   "metadata": {},
   "outputs": [
    {
     "data": {
      "text/plain": [
       "Ridge(alpha=1.0, copy_X=True, fit_intercept=True, max_iter=None,\n",
       "   normalize=False, random_state=None, solver='auto', tol=0.001)"
      ]
     },
     "execution_count": 18,
     "metadata": {},
     "output_type": "execute_result"
    }
   ],
   "source": [
    "# use Ridge regression\n",
    "ridge = Ridge(alpha=1.0)\n",
    "ridge.fit(X,Y2)"
   ]
  },
  {
   "cell_type": "code",
   "execution_count": 19,
   "metadata": {},
   "outputs": [],
   "source": [
    "# A helper method for pretty-printing the coefficients\n",
    "def pretty_print_coefs(coefs, names = None, sort = False):\n",
    "    if names == None:\n",
    "        names = [\"X%s\" % x for x in range(len(coefs))]\n",
    "    lst = zip(coefs, names)\n",
    "    if sort:\n",
    "        lst = sorted(lst,  key = lambda x:-np.abs(x[0]))\n",
    "    return \" + \".join(\"%s * %s\" % (round(coef, 3), name)\n",
    "                                   for coef, name in lst)"
   ]
  },
  {
   "cell_type": "code",
   "execution_count": 20,
   "metadata": {},
   "outputs": [
    {
     "name": "stdout",
     "output_type": "stream",
     "text": [
      "Ridge model: -0.06 * X0 + 0.235 * X1 + 0.094 * X2 + -0.108 * X3 + 0.299 * X4 + -0.021 * X5 + -0.115 * X6 + 0.113 * X7 + -0.414 * X8 + -0.598 * X9 + 0.055 * X10 + 0.004 * X11 + -0.044 * X12\n"
     ]
    }
   ],
   "source": [
    "print (\"Ridge model:\", pretty_print_coefs(ridge.coef_))"
   ]
  },
  {
   "cell_type": "code",
   "execution_count": null,
   "metadata": {},
   "outputs": [],
   "source": []
  }
 ],
 "metadata": {
  "kernelspec": {
   "display_name": "Python 3",
   "language": "python",
   "name": "python3"
  },
  "language_info": {
   "codemirror_mode": {
    "name": "ipython",
    "version": 3
   },
   "file_extension": ".py",
   "mimetype": "text/x-python",
   "name": "python",
   "nbconvert_exporter": "python",
   "pygments_lexer": "ipython3",
   "version": "3.6.5"
  }
 },
 "nbformat": 4,
 "nbformat_minor": 2
}
