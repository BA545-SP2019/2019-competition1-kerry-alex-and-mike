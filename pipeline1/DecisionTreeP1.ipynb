{
 "cells": [
  {
   "cell_type": "code",
   "execution_count": 1,
   "metadata": {},
   "outputs": [],
   "source": [
    "# Imports\n",
    "import pandas as pd\n",
    "import numpy as np\n",
    "from sklearn import tree\n",
    "from sklearn.tree import DecisionTreeClassifier # Import Decision Tree Classifier\n",
    "from sklearn.model_selection import train_test_split # Import train_test_split function\n",
    "from sklearn import metrics #Import scikit-learn metrics module for accuracy calculation"
   ]
  },
  {
   "cell_type": "code",
   "execution_count": 2,
   "metadata": {},
   "outputs": [],
   "source": [
    "# load the dataset into a DataFrame object\n",
    "finaldata = pd.read_csv(\"../csv_files/p1feature-selection.csv\", index_col = 0)"
   ]
  },
  {
   "cell_type": "code",
   "execution_count": 3,
   "metadata": {},
   "outputs": [
    {
     "name": "stdout",
     "output_type": "stream",
     "text": [
      "Dataset Length:  682\n",
      "Dataset Shape:  (682, 16)\n",
      "C1               float64\n",
      "C4               float64\n",
      "C6               float64\n",
      "C7               float64\n",
      "C5p              float64\n",
      "T4p              float64\n",
      "T3p              float64\n",
      "T5p              float64\n",
      "S1p              float64\n",
      "S2p              float64\n",
      "S3p              float64\n",
      "C2               float64\n",
      "C3p                int64\n",
      "Industry_Bins      int64\n",
      "Y1                 int64\n",
      "Y2                 int64\n",
      "dtype: object\n"
     ]
    }
   ],
   "source": [
    "print (\"Dataset Length: \", len(finaldata))\n",
    "print (\"Dataset Shape: \", finaldata.shape)\n",
    "print(finaldata.dtypes)"
   ]
  },
  {
   "cell_type": "code",
   "execution_count": 4,
   "metadata": {},
   "outputs": [
    {
     "name": "stdout",
     "output_type": "stream",
     "text": [
      "Index(['C1', 'C4', 'C6', 'C7', 'C5p', 'T4p', 'T3p', 'T5p', 'S1p', 'S2p', 'S3p',\n",
      "       'C2', 'C3p', 'Industry_Bins', 'Y1', 'Y2'],\n",
      "      dtype='object')\n"
     ]
    }
   ],
   "source": [
    "print(finaldata.columns)"
   ]
  },
  {
   "cell_type": "code",
   "execution_count": 5,
   "metadata": {},
   "outputs": [],
   "source": [
    "cols = ['C1', 'C4', 'C6', 'C7', 'C5p', 'T4p', 'T3p', 'T5p', 'S1p', 'S2p', 'S3p',\n",
    "       'C2', 'C3p', 'Industry_Bins']\n",
    "\n",
    "X = finaldata[cols]\n",
    "Y1 = finaldata.Y1"
   ]
  },
  {
   "cell_type": "code",
   "execution_count": 6,
   "metadata": {},
   "outputs": [],
   "source": [
    "X_train, X_test, Y1_train, Y1_test = train_test_split(X, Y1, test_size = 0.20, random_state = 2)"
   ]
  },
  {
   "cell_type": "code",
   "execution_count": 7,
   "metadata": {},
   "outputs": [],
   "source": [
    "# Create Decision Tree classifer object\n",
    "clf = DecisionTreeClassifier()\n",
    "\n",
    "# Train Decision Tree Classifer\n",
    "clf = clf.fit(X_train,Y1_train)\n",
    "\n",
    "#Predict the response for test dataset\n",
    "prediction = clf.predict(X_test)"
   ]
  },
  {
   "cell_type": "code",
   "execution_count": 8,
   "metadata": {},
   "outputs": [
    {
     "name": "stdout",
     "output_type": "stream",
     "text": [
      "         C1        C4        C6        C7       C5p       T4p       T3p  \\\n",
      "0  0.458312  0.630418  0.679752  0.278285  0.570284  0.441786  0.427704   \n",
      "1  1.000000  0.384735  0.293244  0.197644  0.698942  0.444796  0.426904   \n",
      "2  0.327366  0.582011  0.453028  0.105035  0.555596  0.439275  0.427741   \n",
      "3  0.814322  0.578004  0.426969  0.112988  0.553374  0.371690  0.428343   \n",
      "4  0.286445  0.259982  0.595220  0.977212  0.566377  0.404918  0.426088   \n",
      "\n",
      "        T5p       S1p       S2p       S3p   C2  C3p  Industry_Bins  Y1  Y2  \n",
      "0  0.428334  0.428161  0.397992  0.379065  1.0    0              1   0   1  \n",
      "1  0.424499  0.400971  0.414195  0.378486  0.0    1              1   1   0  \n",
      "2  0.437681  0.493771  0.363924  0.384058  1.0    1              1   1   0  \n",
      "3  0.437523  0.479331  0.375764  0.401495  1.0    1              1   1   1  \n",
      "4  0.420497  0.422876  0.405605  0.382601  1.0    0              3   0   1  \n"
     ]
    }
   ],
   "source": [
    "# print out the first five columns of the data\n",
    "print(finaldata.head())"
   ]
  },
  {
   "cell_type": "code",
   "execution_count": 15,
   "metadata": {},
   "outputs": [
    {
     "name": "stdout",
     "output_type": "stream",
     "text": [
      "Best score is: 0.5730994152046783\n"
     ]
    }
   ],
   "source": [
    "print(\"Best score is:\", metrics.accuracy_score(Y1_test, prediction))"
   ]
  },
  {
   "cell_type": "code",
   "execution_count": 10,
   "metadata": {},
   "outputs": [],
   "source": [
    "cols = ['C1', 'C4', 'C6', 'C7', 'C5p', 'T4p', 'T3p', 'T5p', 'S1p', 'S2p', 'S3p',\n",
    "       'C2', 'C3p', 'Industry_Bins']\n",
    "\n",
    "X = finaldata[cols]\n",
    "Y2 = finaldata.Y2"
   ]
  },
  {
   "cell_type": "code",
   "execution_count": 11,
   "metadata": {},
   "outputs": [],
   "source": [
    "X_train, X_test, Y2_train, Y2_test = train_test_split(X, Y1, test_size = 0.20, random_state = 2)"
   ]
  },
  {
   "cell_type": "code",
   "execution_count": 12,
   "metadata": {},
   "outputs": [],
   "source": [
    "# Create Decision Tree classifer object\n",
    "clf = DecisionTreeClassifier()\n",
    "\n",
    "# Train Decision Tree Classifer\n",
    "clf = clf.fit(X_train,Y2_train)\n",
    "\n",
    "#Predict the response for test dataset\n",
    "prediction = clf.predict(X_test)"
   ]
  },
  {
   "cell_type": "code",
   "execution_count": 13,
   "metadata": {},
   "outputs": [
    {
     "name": "stdout",
     "output_type": "stream",
     "text": [
      "         C1        C4        C6        C7       C5p       T4p       T3p  \\\n",
      "0  0.458312  0.630418  0.679752  0.278285  0.570284  0.441786  0.427704   \n",
      "1  1.000000  0.384735  0.293244  0.197644  0.698942  0.444796  0.426904   \n",
      "2  0.327366  0.582011  0.453028  0.105035  0.555596  0.439275  0.427741   \n",
      "3  0.814322  0.578004  0.426969  0.112988  0.553374  0.371690  0.428343   \n",
      "4  0.286445  0.259982  0.595220  0.977212  0.566377  0.404918  0.426088   \n",
      "\n",
      "        T5p       S1p       S2p       S3p   C2  C3p  Industry_Bins  Y1  Y2  \n",
      "0  0.428334  0.428161  0.397992  0.379065  1.0    0              1   0   1  \n",
      "1  0.424499  0.400971  0.414195  0.378486  0.0    1              1   1   0  \n",
      "2  0.437681  0.493771  0.363924  0.384058  1.0    1              1   1   0  \n",
      "3  0.437523  0.479331  0.375764  0.401495  1.0    1              1   1   1  \n",
      "4  0.420497  0.422876  0.405605  0.382601  1.0    0              3   0   1  \n"
     ]
    }
   ],
   "source": [
    "# print out the first five columns of the data\n",
    "print(finaldata.head())"
   ]
  },
  {
   "cell_type": "code",
   "execution_count": 16,
   "metadata": {},
   "outputs": [
    {
     "name": "stdout",
     "output_type": "stream",
     "text": [
      "Best score is: 0.5730994152046783\n"
     ]
    }
   ],
   "source": [
    "print(\"Best score is:\", metrics.accuracy_score(Y2_test, prediction))"
   ]
  },
  {
   "cell_type": "markdown",
   "metadata": {},
   "source": [
    "Source:  https://www.datacamp.com/community/tutorials/decision-tree-classification-python"
   ]
  },
  {
   "cell_type": "code",
   "execution_count": null,
   "metadata": {},
   "outputs": [],
   "source": []
  }
 ],
 "metadata": {
  "kernelspec": {
   "display_name": "Python 3",
   "language": "python",
   "name": "python3"
  },
  "language_info": {
   "codemirror_mode": {
    "name": "ipython",
    "version": 3
   },
   "file_extension": ".py",
   "mimetype": "text/x-python",
   "name": "python",
   "nbconvert_exporter": "python",
   "pygments_lexer": "ipython3",
   "version": "3.6.5"
  }
 },
 "nbformat": 4,
 "nbformat_minor": 2
}
