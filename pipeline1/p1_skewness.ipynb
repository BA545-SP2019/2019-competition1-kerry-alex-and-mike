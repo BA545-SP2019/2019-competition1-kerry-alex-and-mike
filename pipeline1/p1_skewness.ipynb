{
 "cells": [
  {
   "cell_type": "code",
   "execution_count": 1,
   "metadata": {},
   "outputs": [],
   "source": [
    "# import packacges \n",
    "import pandas as pd\n",
    "import numpy as np\n",
    "import matplotlib.pyplot as plt"
   ]
  },
  {
   "cell_type": "code",
   "execution_count": 2,
   "metadata": {},
   "outputs": [
    {
     "data": {
      "text/html": [
       "<div>\n",
       "<style scoped>\n",
       "    .dataframe tbody tr th:only-of-type {\n",
       "        vertical-align: middle;\n",
       "    }\n",
       "\n",
       "    .dataframe tbody tr th {\n",
       "        vertical-align: top;\n",
       "    }\n",
       "\n",
       "    .dataframe thead th {\n",
       "        text-align: right;\n",
       "    }\n",
       "</style>\n",
       "<table border=\"1\" class=\"dataframe\">\n",
       "  <thead>\n",
       "    <tr style=\"text-align: right;\">\n",
       "      <th></th>\n",
       "      <th>C1</th>\n",
       "      <th>C3</th>\n",
       "      <th>C4</th>\n",
       "      <th>C5</th>\n",
       "      <th>C6</th>\n",
       "      <th>C7</th>\n",
       "      <th>T1</th>\n",
       "      <th>T2</th>\n",
       "      <th>T3</th>\n",
       "      <th>T4</th>\n",
       "      <th>...</th>\n",
       "      <th>S3</th>\n",
       "      <th>C5p</th>\n",
       "      <th>LongSentences</th>\n",
       "      <th>RealWords</th>\n",
       "      <th>LongWords</th>\n",
       "      <th>PositiveWords</th>\n",
       "      <th>NegativeWords</th>\n",
       "      <th>UncertainWords</th>\n",
       "      <th>C2</th>\n",
       "      <th>C3p</th>\n",
       "    </tr>\n",
       "  </thead>\n",
       "  <tbody>\n",
       "    <tr>\n",
       "      <th>0</th>\n",
       "      <td>0.458312</td>\n",
       "      <td>1.000000</td>\n",
       "      <td>0.630418</td>\n",
       "      <td>0.406884</td>\n",
       "      <td>0.462063</td>\n",
       "      <td>0.077442</td>\n",
       "      <td>0.470752</td>\n",
       "      <td>0.520721</td>\n",
       "      <td>0.522445</td>\n",
       "      <td>0.531139</td>\n",
       "      <td>...</td>\n",
       "      <td>0.440546</td>\n",
       "      <td>0.034399</td>\n",
       "      <td>0.441786</td>\n",
       "      <td>0.006121</td>\n",
       "      <td>0.006176</td>\n",
       "      <td>0.006161</td>\n",
       "      <td>0.003974</td>\n",
       "      <td>0.002967</td>\n",
       "      <td>1.0</td>\n",
       "      <td>0</td>\n",
       "    </tr>\n",
       "    <tr>\n",
       "      <th>1</th>\n",
       "      <td>1.000000</td>\n",
       "      <td>0.192227</td>\n",
       "      <td>0.384735</td>\n",
       "      <td>0.274860</td>\n",
       "      <td>0.085992</td>\n",
       "      <td>0.039063</td>\n",
       "      <td>0.917827</td>\n",
       "      <td>0.895980</td>\n",
       "      <td>0.885128</td>\n",
       "      <td>0.903025</td>\n",
       "      <td>...</td>\n",
       "      <td>0.822612</td>\n",
       "      <td>0.116586</td>\n",
       "      <td>0.444796</td>\n",
       "      <td>0.006053</td>\n",
       "      <td>0.005851</td>\n",
       "      <td>0.004156</td>\n",
       "      <td>0.005049</td>\n",
       "      <td>0.002940</td>\n",
       "      <td>0.0</td>\n",
       "      <td>1</td>\n",
       "    </tr>\n",
       "    <tr>\n",
       "      <th>2</th>\n",
       "      <td>0.327366</td>\n",
       "      <td>0.272059</td>\n",
       "      <td>0.582011</td>\n",
       "      <td>0.143592</td>\n",
       "      <td>0.205234</td>\n",
       "      <td>0.011032</td>\n",
       "      <td>0.096100</td>\n",
       "      <td>0.212300</td>\n",
       "      <td>0.216254</td>\n",
       "      <td>0.223310</td>\n",
       "      <td>...</td>\n",
       "      <td>0.132554</td>\n",
       "      <td>0.029414</td>\n",
       "      <td>0.439275</td>\n",
       "      <td>0.006125</td>\n",
       "      <td>0.007030</td>\n",
       "      <td>0.014493</td>\n",
       "      <td>0.002323</td>\n",
       "      <td>0.003209</td>\n",
       "      <td>1.0</td>\n",
       "      <td>1</td>\n",
       "    </tr>\n",
       "    <tr>\n",
       "      <th>3</th>\n",
       "      <td>0.814322</td>\n",
       "      <td>0.341387</td>\n",
       "      <td>0.578004</td>\n",
       "      <td>0.121790</td>\n",
       "      <td>0.182303</td>\n",
       "      <td>0.012766</td>\n",
       "      <td>0.272981</td>\n",
       "      <td>0.336256</td>\n",
       "      <td>0.342301</td>\n",
       "      <td>0.310498</td>\n",
       "      <td>...</td>\n",
       "      <td>0.327485</td>\n",
       "      <td>0.028715</td>\n",
       "      <td>0.371690</td>\n",
       "      <td>0.006177</td>\n",
       "      <td>0.007015</td>\n",
       "      <td>0.012129</td>\n",
       "      <td>0.002815</td>\n",
       "      <td>0.004189</td>\n",
       "      <td>1.0</td>\n",
       "      <td>1</td>\n",
       "    </tr>\n",
       "    <tr>\n",
       "      <th>4</th>\n",
       "      <td>0.286445</td>\n",
       "      <td>0.547269</td>\n",
       "      <td>0.259982</td>\n",
       "      <td>0.295303</td>\n",
       "      <td>0.354287</td>\n",
       "      <td>0.954944</td>\n",
       "      <td>0.612813</td>\n",
       "      <td>0.608032</td>\n",
       "      <td>0.595478</td>\n",
       "      <td>0.593416</td>\n",
       "      <td>...</td>\n",
       "      <td>0.549708</td>\n",
       "      <td>0.033009</td>\n",
       "      <td>0.404918</td>\n",
       "      <td>0.005984</td>\n",
       "      <td>0.005528</td>\n",
       "      <td>0.005718</td>\n",
       "      <td>0.004453</td>\n",
       "      <td>0.003137</td>\n",
       "      <td>1.0</td>\n",
       "      <td>0</td>\n",
       "    </tr>\n",
       "  </tbody>\n",
       "</table>\n",
       "<p>5 rows × 23 columns</p>\n",
       "</div>"
      ],
      "text/plain": [
       "         C1        C3        C4        C5        C6        C7        T1  \\\n",
       "0  0.458312  1.000000  0.630418  0.406884  0.462063  0.077442  0.470752   \n",
       "1  1.000000  0.192227  0.384735  0.274860  0.085992  0.039063  0.917827   \n",
       "2  0.327366  0.272059  0.582011  0.143592  0.205234  0.011032  0.096100   \n",
       "3  0.814322  0.341387  0.578004  0.121790  0.182303  0.012766  0.272981   \n",
       "4  0.286445  0.547269  0.259982  0.295303  0.354287  0.954944  0.612813   \n",
       "\n",
       "         T2        T3        T4 ...         S3       C5p  LongSentences  \\\n",
       "0  0.520721  0.522445  0.531139 ...   0.440546  0.034399       0.441786   \n",
       "1  0.895980  0.885128  0.903025 ...   0.822612  0.116586       0.444796   \n",
       "2  0.212300  0.216254  0.223310 ...   0.132554  0.029414       0.439275   \n",
       "3  0.336256  0.342301  0.310498 ...   0.327485  0.028715       0.371690   \n",
       "4  0.608032  0.595478  0.593416 ...   0.549708  0.033009       0.404918   \n",
       "\n",
       "   RealWords  LongWords  PositiveWords  NegativeWords  UncertainWords   C2  \\\n",
       "0   0.006121   0.006176       0.006161       0.003974        0.002967  1.0   \n",
       "1   0.006053   0.005851       0.004156       0.005049        0.002940  0.0   \n",
       "2   0.006125   0.007030       0.014493       0.002323        0.003209  1.0   \n",
       "3   0.006177   0.007015       0.012129       0.002815        0.004189  1.0   \n",
       "4   0.005984   0.005528       0.005718       0.004453        0.003137  1.0   \n",
       "\n",
       "   C3p  \n",
       "0    0  \n",
       "1    1  \n",
       "2    1  \n",
       "3    1  \n",
       "4    0  \n",
       "\n",
       "[5 rows x 23 columns]"
      ]
     },
     "execution_count": 2,
     "metadata": {},
     "output_type": "execute_result"
    }
   ],
   "source": [
    "# read normalized csv file \n",
    "# don't need to separate out binary variables. we just won't try to change the skew\n",
    "dfx = pd.read_csv('../csv_files/p1minmax.csv', index_col=0)\n",
    "dfx.head()"
   ]
  },
  {
   "cell_type": "code",
   "execution_count": 3,
   "metadata": {},
   "outputs": [
    {
     "data": {
      "text/plain": [
       "C1                 0.826473\n",
       "C3                -0.312503\n",
       "C4                -0.308635\n",
       "C5                 1.091480\n",
       "C6                 1.061550\n",
       "C7                 1.176757\n",
       "T1                 0.491482\n",
       "T2                 0.512087\n",
       "T3                 0.536280\n",
       "T4                 0.503151\n",
       "T5                 0.655835\n",
       "S1                 0.709680\n",
       "S2                 0.838372\n",
       "S3                 0.714360\n",
       "C5p               11.299339\n",
       "LongSentences      0.093179\n",
       "RealWords         18.279244\n",
       "LongWords         17.585465\n",
       "PositiveWords     18.631946\n",
       "NegativeWords     18.379271\n",
       "UncertainWords    18.359321\n",
       "C2                -2.123926\n",
       "C3p                0.147347\n",
       "dtype: float64"
      ]
     },
     "execution_count": 3,
     "metadata": {},
     "output_type": "execute_result"
    }
   ],
   "source": [
    "# examine skew for each column\n",
    "# keep in mind that we do not need to fix the skew for C2 or C3p because they are binary \n",
    "dfx.skew()"
   ]
  },
  {
   "cell_type": "code",
   "execution_count": 4,
   "metadata": {},
   "outputs": [
    {
     "data": {
      "image/png": "[encoded data removed]",
      "text/plain": [
       "<Figure size 432x288 with 25 Axes>"
      ]
     },
     "metadata": {},
     "output_type": "display_data"
    }
   ],
   "source": [
    "# examine distribution of variables before fixing skew\n",
    "for col in dfx.columns:\n",
    "    dfx.hist(color='blue')\n",
    "    break\n",
    "plt.show()"
   ]
  },
  {
   "cell_type": "markdown",
   "metadata": {},
   "source": [
    "**Fixing Skewness of Columns**"
   ]
  },
  {
   "cell_type": "code",
   "execution_count": 5,
   "metadata": {},
   "outputs": [],
   "source": [
    "#dfx['C1'] = np.cbrt(dfx['C1'])\n",
    "#dfx['C1'].skew()"
   ]
  },
  {
   "cell_type": "code",
   "execution_count": 6,
   "metadata": {},
   "outputs": [],
   "source": [
    "#['C3'] = np.cbrt(np.sqrt(dfx['C3']))\n",
    "#dfx['C3'].skew()"
   ]
  },
  {
   "cell_type": "code",
   "execution_count": 7,
   "metadata": {},
   "outputs": [
    {
     "data": {
      "text/plain": [
       "0.5084650760320711"
      ]
     },
     "execution_count": 7,
     "metadata": {},
     "output_type": "execute_result"
    }
   ],
   "source": [
    "dfx['C5'] = np.sqrt(dfx['C5'])\n",
    "dfx['C5'].skew()"
   ]
  },
  {
   "cell_type": "code",
   "execution_count": 8,
   "metadata": {},
   "outputs": [
    {
     "data": {
      "text/plain": [
       "0.46238126390541046"
      ]
     },
     "execution_count": 8,
     "metadata": {},
     "output_type": "execute_result"
    }
   ],
   "source": [
    "dfx['C6'] = np.sqrt(dfx['C6'])\n",
    "dfx['C6'].skew()"
   ]
  },
  {
   "cell_type": "code",
   "execution_count": 9,
   "metadata": {},
   "outputs": [
    {
     "data": {
      "text/plain": [
       "0.5755368550177864"
      ]
     },
     "execution_count": 9,
     "metadata": {},
     "output_type": "execute_result"
    }
   ],
   "source": [
    "dfx['C7'] = np.sqrt(dfx['C7'])\n",
    "dfx['C7'].skew()"
   ]
  },
  {
   "cell_type": "code",
   "execution_count": 10,
   "metadata": {},
   "outputs": [],
   "source": [
    "#dfx['T1'] = np.sqrt(dfx['T1'])\n",
    "#dfx['T1'].skew()"
   ]
  },
  {
   "cell_type": "code",
   "execution_count": 11,
   "metadata": {},
   "outputs": [],
   "source": [
    "#dfx['T2'] = np.sqrt(dfx['T2'])\n",
    "#dfx['T2'].skew()"
   ]
  },
  {
   "cell_type": "code",
   "execution_count": 12,
   "metadata": {},
   "outputs": [],
   "source": [
    "#dfx['T3'] = np.sqrt(dfx['T3'])\n",
    "#dfx['T3'].skew()"
   ]
  },
  {
   "cell_type": "code",
   "execution_count": 13,
   "metadata": {},
   "outputs": [],
   "source": [
    "#dfx['T4'] = np.sqrt(dfx['T4'])\n",
    "#dfx['T4'].skew()"
   ]
  },
  {
   "cell_type": "code",
   "execution_count": 14,
   "metadata": {},
   "outputs": [
    {
     "data": {
      "text/plain": [
       "0.062350203659273726"
      ]
     },
     "execution_count": 14,
     "metadata": {},
     "output_type": "execute_result"
    }
   ],
   "source": [
    "dfx['T5'] = np.sqrt(dfx['T5'])\n",
    "dfx['T5'].skew()"
   ]
  },
  {
   "cell_type": "code",
   "execution_count": 15,
   "metadata": {},
   "outputs": [
    {
     "data": {
      "text/plain": [
       "0.07255261122807356"
      ]
     },
     "execution_count": 15,
     "metadata": {},
     "output_type": "execute_result"
    }
   ],
   "source": [
    "dfx['S1'] = np.sqrt(dfx['S1'])\n",
    "dfx['S1'].skew()"
   ]
  },
  {
   "cell_type": "code",
   "execution_count": 16,
   "metadata": {},
   "outputs": [
    {
     "data": {
      "text/plain": [
       "0.12535039877371976"
      ]
     },
     "execution_count": 16,
     "metadata": {},
     "output_type": "execute_result"
    }
   ],
   "source": [
    "dfx['S2'] = np.sqrt(dfx['S2'])\n",
    "dfx['S2'].skew()"
   ]
  },
  {
   "cell_type": "code",
   "execution_count": 17,
   "metadata": {},
   "outputs": [
    {
     "data": {
      "text/plain": [
       "0.06376207388534023"
      ]
     },
     "execution_count": 17,
     "metadata": {},
     "output_type": "execute_result"
    }
   ],
   "source": [
    "dfx['S3'] = np.sqrt(dfx['S3'])\n",
    "dfx['S3'].skew()"
   ]
  },
  {
   "cell_type": "code",
   "execution_count": 18,
   "metadata": {},
   "outputs": [],
   "source": [
    "#dfx['C3p'] = np.sqrt(dfx['C3p'])\n",
    "#dfx['C3p'].skew()"
   ]
  },
  {
   "cell_type": "code",
   "execution_count": 19,
   "metadata": {},
   "outputs": [
    {
     "data": {
      "text/plain": [
       "0.32136745666775657"
      ]
     },
     "execution_count": 19,
     "metadata": {},
     "output_type": "execute_result"
    }
   ],
   "source": [
    "dfx['C5p'] = np.sqrt(np.cbrt(dfx['C5p']))\n",
    "dfx['C5p'].skew()"
   ]
  },
  {
   "cell_type": "code",
   "execution_count": 20,
   "metadata": {},
   "outputs": [],
   "source": [
    "#df['LongSentences'] = np.cbrt(df['LongSentences'])\n",
    "#df['LongSentences'].skew()"
   ]
  },
  {
   "cell_type": "code",
   "execution_count": 21,
   "metadata": {},
   "outputs": [
    {
     "data": {
      "text/plain": [
       "2.837516850934388"
      ]
     },
     "execution_count": 21,
     "metadata": {},
     "output_type": "execute_result"
    }
   ],
   "source": [
    "dfx['RealWords'] = np.sqrt(np.cbrt(dfx['RealWords']))\n",
    "dfx['RealWords'].skew()"
   ]
  },
  {
   "cell_type": "code",
   "execution_count": 22,
   "metadata": {},
   "outputs": [
    {
     "data": {
      "text/plain": [
       "8.647927981265312"
      ]
     },
     "execution_count": 22,
     "metadata": {},
     "output_type": "execute_result"
    }
   ],
   "source": [
    "dfx['LongWords'] = np.sqrt(np.cbrt(dfx['LongWords']))\n",
    "dfx['LongWords'].skew()"
   ]
  },
  {
   "cell_type": "code",
   "execution_count": 23,
   "metadata": {},
   "outputs": [
    {
     "data": {
      "text/plain": [
       "5.258293471884766"
      ]
     },
     "execution_count": 23,
     "metadata": {},
     "output_type": "execute_result"
    }
   ],
   "source": [
    "dfx['PositiveWords'] = np.sqrt(np.cbrt(dfx['PositiveWords']))\n",
    "dfx['PositiveWords'].skew()"
   ]
  },
  {
   "cell_type": "code",
   "execution_count": 24,
   "metadata": {},
   "outputs": [
    {
     "data": {
      "text/plain": [
       "6.381349358908114"
      ]
     },
     "execution_count": 24,
     "metadata": {},
     "output_type": "execute_result"
    }
   ],
   "source": [
    "dfx['NegativeWords'] = np.sqrt(np.cbrt(dfx['NegativeWords']))\n",
    "dfx['NegativeWords'].skew()"
   ]
  },
  {
   "cell_type": "code",
   "execution_count": 25,
   "metadata": {},
   "outputs": [
    {
     "data": {
      "text/plain": [
       "5.629279455777345"
      ]
     },
     "execution_count": 25,
     "metadata": {},
     "output_type": "execute_result"
    }
   ],
   "source": [
    "dfx['UncertainWords'] = np.sqrt(np.cbrt(dfx['UncertainWords']))\n",
    "dfx['UncertainWords'].skew()"
   ]
  },
  {
   "cell_type": "code",
   "execution_count": 26,
   "metadata": {},
   "outputs": [
    {
     "data": {
      "text/plain": [
       "C1                0.826473\n",
       "C3               -0.312503\n",
       "C4               -0.308635\n",
       "C5                0.508465\n",
       "C6                0.462381\n",
       "C7                0.575537\n",
       "T1                0.491482\n",
       "T2                0.512087\n",
       "T3                0.536280\n",
       "T4                0.503151\n",
       "T5                0.062350\n",
       "S1                0.072553\n",
       "S2                0.125350\n",
       "S3                0.063762\n",
       "C5p               0.321367\n",
       "LongSentences     0.093179\n",
       "RealWords         2.837517\n",
       "LongWords         8.647928\n",
       "PositiveWords     5.258293\n",
       "NegativeWords     6.381349\n",
       "UncertainWords    5.629279\n",
       "C2               -2.123926\n",
       "C3p               0.147347\n",
       "dtype: float64"
      ]
     },
     "execution_count": 26,
     "metadata": {},
     "output_type": "execute_result"
    }
   ],
   "source": [
    "# rexamine skew of columns \n",
    "# skew should be between 0.5 and -0.5 but close enough to these values is also fine \n",
    "dfx.skew()"
   ]
  },
  {
   "cell_type": "code",
   "execution_count": 27,
   "metadata": {},
   "outputs": [
    {
     "data": {
      "image/png": "[encoded data removed]",
      "text/plain": [
       "<Figure size 432x288 with 25 Axes>"
      ]
     },
     "metadata": {},
     "output_type": "display_data"
    }
   ],
   "source": [
    "# examine distribution of columns after fixing skewness\n",
    "# histograms should have an even distribution (or as close to it as possible)\n",
    "for col in dfx.columns:\n",
    "    dfx.hist(color='blue')\n",
    "    break\n",
    "plt.show()"
   ]
  },
  {
   "cell_type": "code",
   "execution_count": 28,
   "metadata": {},
   "outputs": [
    {
     "data": {
      "text/html": [
       "<div>\n",
       "<style scoped>\n",
       "    .dataframe tbody tr th:only-of-type {\n",
       "        vertical-align: middle;\n",
       "    }\n",
       "\n",
       "    .dataframe tbody tr th {\n",
       "        vertical-align: top;\n",
       "    }\n",
       "\n",
       "    .dataframe thead th {\n",
       "        text-align: right;\n",
       "    }\n",
       "</style>\n",
       "<table border=\"1\" class=\"dataframe\">\n",
       "  <thead>\n",
       "    <tr style=\"text-align: right;\">\n",
       "      <th></th>\n",
       "      <th>C1</th>\n",
       "      <th>C3</th>\n",
       "      <th>C4</th>\n",
       "      <th>C5</th>\n",
       "      <th>C6</th>\n",
       "      <th>C7</th>\n",
       "      <th>T1</th>\n",
       "      <th>T2</th>\n",
       "      <th>T3</th>\n",
       "      <th>T4</th>\n",
       "      <th>...</th>\n",
       "      <th>S3</th>\n",
       "      <th>C5p</th>\n",
       "      <th>LongSentences</th>\n",
       "      <th>RealWords</th>\n",
       "      <th>LongWords</th>\n",
       "      <th>PositiveWords</th>\n",
       "      <th>NegativeWords</th>\n",
       "      <th>UncertainWords</th>\n",
       "      <th>C2</th>\n",
       "      <th>C3p</th>\n",
       "    </tr>\n",
       "  </thead>\n",
       "  <tbody>\n",
       "    <tr>\n",
       "      <th>0</th>\n",
       "      <td>0.458312</td>\n",
       "      <td>1.000000</td>\n",
       "      <td>0.630418</td>\n",
       "      <td>0.637875</td>\n",
       "      <td>0.679752</td>\n",
       "      <td>0.278285</td>\n",
       "      <td>0.470752</td>\n",
       "      <td>0.520721</td>\n",
       "      <td>0.522445</td>\n",
       "      <td>0.531139</td>\n",
       "      <td>...</td>\n",
       "      <td>0.663736</td>\n",
       "      <td>0.570284</td>\n",
       "      <td>0.441786</td>\n",
       "      <td>0.427704</td>\n",
       "      <td>0.428334</td>\n",
       "      <td>0.428161</td>\n",
       "      <td>0.397992</td>\n",
       "      <td>0.379065</td>\n",
       "      <td>1.0</td>\n",
       "      <td>0</td>\n",
       "    </tr>\n",
       "    <tr>\n",
       "      <th>1</th>\n",
       "      <td>1.000000</td>\n",
       "      <td>0.192227</td>\n",
       "      <td>0.384735</td>\n",
       "      <td>0.524271</td>\n",
       "      <td>0.293244</td>\n",
       "      <td>0.197644</td>\n",
       "      <td>0.917827</td>\n",
       "      <td>0.895980</td>\n",
       "      <td>0.885128</td>\n",
       "      <td>0.903025</td>\n",
       "      <td>...</td>\n",
       "      <td>0.906980</td>\n",
       "      <td>0.698942</td>\n",
       "      <td>0.444796</td>\n",
       "      <td>0.426904</td>\n",
       "      <td>0.424499</td>\n",
       "      <td>0.400971</td>\n",
       "      <td>0.414195</td>\n",
       "      <td>0.378486</td>\n",
       "      <td>0.0</td>\n",
       "      <td>1</td>\n",
       "    </tr>\n",
       "    <tr>\n",
       "      <th>2</th>\n",
       "      <td>0.327366</td>\n",
       "      <td>0.272059</td>\n",
       "      <td>0.582011</td>\n",
       "      <td>0.378936</td>\n",
       "      <td>0.453028</td>\n",
       "      <td>0.105035</td>\n",
       "      <td>0.096100</td>\n",
       "      <td>0.212300</td>\n",
       "      <td>0.216254</td>\n",
       "      <td>0.223310</td>\n",
       "      <td>...</td>\n",
       "      <td>0.364079</td>\n",
       "      <td>0.555596</td>\n",
       "      <td>0.439275</td>\n",
       "      <td>0.427741</td>\n",
       "      <td>0.437681</td>\n",
       "      <td>0.493771</td>\n",
       "      <td>0.363924</td>\n",
       "      <td>0.384058</td>\n",
       "      <td>1.0</td>\n",
       "      <td>1</td>\n",
       "    </tr>\n",
       "    <tr>\n",
       "      <th>3</th>\n",
       "      <td>0.814322</td>\n",
       "      <td>0.341387</td>\n",
       "      <td>0.578004</td>\n",
       "      <td>0.348984</td>\n",
       "      <td>0.426969</td>\n",
       "      <td>0.112988</td>\n",
       "      <td>0.272981</td>\n",
       "      <td>0.336256</td>\n",
       "      <td>0.342301</td>\n",
       "      <td>0.310498</td>\n",
       "      <td>...</td>\n",
       "      <td>0.572263</td>\n",
       "      <td>0.553374</td>\n",
       "      <td>0.371690</td>\n",
       "      <td>0.428343</td>\n",
       "      <td>0.437523</td>\n",
       "      <td>0.479331</td>\n",
       "      <td>0.375764</td>\n",
       "      <td>0.401495</td>\n",
       "      <td>1.0</td>\n",
       "      <td>1</td>\n",
       "    </tr>\n",
       "    <tr>\n",
       "      <th>4</th>\n",
       "      <td>0.286445</td>\n",
       "      <td>0.547269</td>\n",
       "      <td>0.259982</td>\n",
       "      <td>0.543418</td>\n",
       "      <td>0.595220</td>\n",
       "      <td>0.977212</td>\n",
       "      <td>0.612813</td>\n",
       "      <td>0.608032</td>\n",
       "      <td>0.595478</td>\n",
       "      <td>0.593416</td>\n",
       "      <td>...</td>\n",
       "      <td>0.741423</td>\n",
       "      <td>0.566377</td>\n",
       "      <td>0.404918</td>\n",
       "      <td>0.426088</td>\n",
       "      <td>0.420497</td>\n",
       "      <td>0.422876</td>\n",
       "      <td>0.405605</td>\n",
       "      <td>0.382601</td>\n",
       "      <td>1.0</td>\n",
       "      <td>0</td>\n",
       "    </tr>\n",
       "  </tbody>\n",
       "</table>\n",
       "<p>5 rows × 23 columns</p>\n",
       "</div>"
      ],
      "text/plain": [
       "         C1        C3        C4        C5        C6        C7        T1  \\\n",
       "0  0.458312  1.000000  0.630418  0.637875  0.679752  0.278285  0.470752   \n",
       "1  1.000000  0.192227  0.384735  0.524271  0.293244  0.197644  0.917827   \n",
       "2  0.327366  0.272059  0.582011  0.378936  0.453028  0.105035  0.096100   \n",
       "3  0.814322  0.341387  0.578004  0.348984  0.426969  0.112988  0.272981   \n",
       "4  0.286445  0.547269  0.259982  0.543418  0.595220  0.977212  0.612813   \n",
       "\n",
       "         T2        T3        T4 ...         S3       C5p  LongSentences  \\\n",
       "0  0.520721  0.522445  0.531139 ...   0.663736  0.570284       0.441786   \n",
       "1  0.895980  0.885128  0.903025 ...   0.906980  0.698942       0.444796   \n",
       "2  0.212300  0.216254  0.223310 ...   0.364079  0.555596       0.439275   \n",
       "3  0.336256  0.342301  0.310498 ...   0.572263  0.553374       0.371690   \n",
       "4  0.608032  0.595478  0.593416 ...   0.741423  0.566377       0.404918   \n",
       "\n",
       "   RealWords  LongWords  PositiveWords  NegativeWords  UncertainWords   C2  \\\n",
       "0   0.427704   0.428334       0.428161       0.397992        0.379065  1.0   \n",
       "1   0.426904   0.424499       0.400971       0.414195        0.378486  0.0   \n",
       "2   0.427741   0.437681       0.493771       0.363924        0.384058  1.0   \n",
       "3   0.428343   0.437523       0.479331       0.375764        0.401495  1.0   \n",
       "4   0.426088   0.420497       0.422876       0.405605        0.382601  1.0   \n",
       "\n",
       "   C3p  \n",
       "0    0  \n",
       "1    1  \n",
       "2    1  \n",
       "3    1  \n",
       "4    0  \n",
       "\n",
       "[5 rows x 23 columns]"
      ]
     },
     "execution_count": 28,
     "metadata": {},
     "output_type": "execute_result"
    }
   ],
   "source": [
    "# print out dfx \n",
    "dfx.head()"
   ]
  },
  {
   "cell_type": "code",
   "execution_count": 29,
   "metadata": {},
   "outputs": [
    {
     "data": {
      "text/html": [
       "<div>\n",
       "<style scoped>\n",
       "    .dataframe tbody tr th:only-of-type {\n",
       "        vertical-align: middle;\n",
       "    }\n",
       "\n",
       "    .dataframe tbody tr th {\n",
       "        vertical-align: top;\n",
       "    }\n",
       "\n",
       "    .dataframe thead th {\n",
       "        text-align: right;\n",
       "    }\n",
       "</style>\n",
       "<table border=\"1\" class=\"dataframe\">\n",
       "  <thead>\n",
       "    <tr style=\"text-align: right;\">\n",
       "      <th></th>\n",
       "      <th>pIPO</th>\n",
       "      <th>pH</th>\n",
       "      <th>pL</th>\n",
       "      <th>p1day</th>\n",
       "      <th>Pmid</th>\n",
       "      <th>Y1</th>\n",
       "      <th>Y2</th>\n",
       "      <th>C6p</th>\n",
       "    </tr>\n",
       "  </thead>\n",
       "  <tbody>\n",
       "    <tr>\n",
       "      <th>0</th>\n",
       "      <td>10.0</td>\n",
       "      <td>9.5</td>\n",
       "      <td>8.5</td>\n",
       "      <td>11.870000</td>\n",
       "      <td>9.0</td>\n",
       "      <td>0</td>\n",
       "      <td>1</td>\n",
       "      <td>11.111111</td>\n",
       "    </tr>\n",
       "    <tr>\n",
       "      <th>1</th>\n",
       "      <td>8.0</td>\n",
       "      <td>10.0</td>\n",
       "      <td>8.0</td>\n",
       "      <td>7.250000</td>\n",
       "      <td>9.0</td>\n",
       "      <td>1</td>\n",
       "      <td>0</td>\n",
       "      <td>0.000000</td>\n",
       "    </tr>\n",
       "    <tr>\n",
       "      <th>2</th>\n",
       "      <td>7.0</td>\n",
       "      <td>14.0</td>\n",
       "      <td>12.0</td>\n",
       "      <td>6.700000</td>\n",
       "      <td>13.0</td>\n",
       "      <td>1</td>\n",
       "      <td>0</td>\n",
       "      <td>0.000000</td>\n",
       "    </tr>\n",
       "    <tr>\n",
       "      <th>3</th>\n",
       "      <td>11.5</td>\n",
       "      <td>16.0</td>\n",
       "      <td>14.0</td>\n",
       "      <td>12.390000</td>\n",
       "      <td>15.0</td>\n",
       "      <td>1</td>\n",
       "      <td>1</td>\n",
       "      <td>0.000000</td>\n",
       "    </tr>\n",
       "    <tr>\n",
       "      <th>4</th>\n",
       "      <td>21.0</td>\n",
       "      <td>21.0</td>\n",
       "      <td>19.0</td>\n",
       "      <td>56.599998</td>\n",
       "      <td>20.0</td>\n",
       "      <td>0</td>\n",
       "      <td>1</td>\n",
       "      <td>5.000000</td>\n",
       "    </tr>\n",
       "  </tbody>\n",
       "</table>\n",
       "</div>"
      ],
      "text/plain": [
       "   pIPO    pH    pL      p1day  Pmid  Y1  Y2        C6p\n",
       "0  10.0   9.5   8.5  11.870000   9.0   0   1  11.111111\n",
       "1   8.0  10.0   8.0   7.250000   9.0   1   0   0.000000\n",
       "2   7.0  14.0  12.0   6.700000  13.0   1   0   0.000000\n",
       "3  11.5  16.0  14.0  12.390000  15.0   1   1   0.000000\n",
       "4  21.0  21.0  19.0  56.599998  20.0   0   1   5.000000"
      ]
     },
     "execution_count": 29,
     "metadata": {},
     "output_type": "execute_result"
    }
   ],
   "source": [
    "# read in dfy csv file\n",
    "dfy = pd.read_csv('../csv_files/y.csv', index_col=0)\n",
    "dfy.head()"
   ]
  },
  {
   "cell_type": "code",
   "execution_count": 30,
   "metadata": {},
   "outputs": [
    {
     "data": {
      "text/html": [
       "<div>\n",
       "<style scoped>\n",
       "    .dataframe tbody tr th:only-of-type {\n",
       "        vertical-align: middle;\n",
       "    }\n",
       "\n",
       "    .dataframe tbody tr th {\n",
       "        vertical-align: top;\n",
       "    }\n",
       "\n",
       "    .dataframe thead th {\n",
       "        text-align: right;\n",
       "    }\n",
       "</style>\n",
       "<table border=\"1\" class=\"dataframe\">\n",
       "  <thead>\n",
       "    <tr style=\"text-align: right;\">\n",
       "      <th></th>\n",
       "      <th>I1</th>\n",
       "      <th>I2</th>\n",
       "      <th>I3</th>\n",
       "    </tr>\n",
       "  </thead>\n",
       "  <tbody>\n",
       "    <tr>\n",
       "      <th>0</th>\n",
       "      <td>AATI</td>\n",
       "      <td>ADVANCED ANALOGIC TECHNOLOGIES INC</td>\n",
       "      <td>3674</td>\n",
       "    </tr>\n",
       "    <tr>\n",
       "      <th>1</th>\n",
       "      <td>ABPI</td>\n",
       "      <td>ACCENTIA BIOPHARMACEUTICALS INC</td>\n",
       "      <td>2834</td>\n",
       "    </tr>\n",
       "    <tr>\n",
       "      <th>2</th>\n",
       "      <td>ACAD</td>\n",
       "      <td>ACADIA PHARMACEUTICALS INC</td>\n",
       "      <td>2834</td>\n",
       "    </tr>\n",
       "    <tr>\n",
       "      <th>3</th>\n",
       "      <td>ACHN</td>\n",
       "      <td>ACHILLION PHARMACEUTICALS INC</td>\n",
       "      <td>2834</td>\n",
       "    </tr>\n",
       "    <tr>\n",
       "      <th>4</th>\n",
       "      <td>ACLI</td>\n",
       "      <td>AMERICAN COMMERCIAL LINES INC.</td>\n",
       "      <td>4492</td>\n",
       "    </tr>\n",
       "  </tbody>\n",
       "</table>\n",
       "</div>"
      ],
      "text/plain": [
       "     I1                                  I2    I3\n",
       "0  AATI  ADVANCED ANALOGIC TECHNOLOGIES INC  3674\n",
       "1  ABPI     ACCENTIA BIOPHARMACEUTICALS INC  2834\n",
       "2  ACAD          ACADIA PHARMACEUTICALS INC  2834\n",
       "3  ACHN       ACHILLION PHARMACEUTICALS INC  2834\n",
       "4  ACLI     AMERICAN COMMERCIAL LINES INC.   4492"
      ]
     },
     "execution_count": 30,
     "metadata": {},
     "output_type": "execute_result"
    }
   ],
   "source": [
    "# read in dfid csv file\n",
    "dfid = pd.read_csv('../csv_files/id.csv', index_col=0)\n",
    "dfid.head()                   "
   ]
  },
  {
   "cell_type": "code",
   "execution_count": 31,
   "metadata": {},
   "outputs": [
    {
     "data": {
      "text/html": [
       "<div>\n",
       "<style scoped>\n",
       "    .dataframe tbody tr th:only-of-type {\n",
       "        vertical-align: middle;\n",
       "    }\n",
       "\n",
       "    .dataframe tbody tr th {\n",
       "        vertical-align: top;\n",
       "    }\n",
       "\n",
       "    .dataframe thead th {\n",
       "        text-align: right;\n",
       "    }\n",
       "</style>\n",
       "<table border=\"1\" class=\"dataframe\">\n",
       "  <thead>\n",
       "    <tr style=\"text-align: right;\">\n",
       "      <th></th>\n",
       "      <th>I1</th>\n",
       "      <th>I2</th>\n",
       "      <th>I3</th>\n",
       "      <th>pIPO</th>\n",
       "      <th>pH</th>\n",
       "      <th>pL</th>\n",
       "      <th>p1day</th>\n",
       "      <th>Pmid</th>\n",
       "      <th>Y1</th>\n",
       "      <th>Y2</th>\n",
       "      <th>C6p</th>\n",
       "    </tr>\n",
       "  </thead>\n",
       "  <tbody>\n",
       "    <tr>\n",
       "      <th>0</th>\n",
       "      <td>AATI</td>\n",
       "      <td>ADVANCED ANALOGIC TECHNOLOGIES INC</td>\n",
       "      <td>3674</td>\n",
       "      <td>10.0</td>\n",
       "      <td>9.5</td>\n",
       "      <td>8.5</td>\n",
       "      <td>11.870000</td>\n",
       "      <td>9.0</td>\n",
       "      <td>0</td>\n",
       "      <td>1</td>\n",
       "      <td>11.111111</td>\n",
       "    </tr>\n",
       "    <tr>\n",
       "      <th>1</th>\n",
       "      <td>ABPI</td>\n",
       "      <td>ACCENTIA BIOPHARMACEUTICALS INC</td>\n",
       "      <td>2834</td>\n",
       "      <td>8.0</td>\n",
       "      <td>10.0</td>\n",
       "      <td>8.0</td>\n",
       "      <td>7.250000</td>\n",
       "      <td>9.0</td>\n",
       "      <td>1</td>\n",
       "      <td>0</td>\n",
       "      <td>0.000000</td>\n",
       "    </tr>\n",
       "    <tr>\n",
       "      <th>2</th>\n",
       "      <td>ACAD</td>\n",
       "      <td>ACADIA PHARMACEUTICALS INC</td>\n",
       "      <td>2834</td>\n",
       "      <td>7.0</td>\n",
       "      <td>14.0</td>\n",
       "      <td>12.0</td>\n",
       "      <td>6.700000</td>\n",
       "      <td>13.0</td>\n",
       "      <td>1</td>\n",
       "      <td>0</td>\n",
       "      <td>0.000000</td>\n",
       "    </tr>\n",
       "    <tr>\n",
       "      <th>3</th>\n",
       "      <td>ACHN</td>\n",
       "      <td>ACHILLION PHARMACEUTICALS INC</td>\n",
       "      <td>2834</td>\n",
       "      <td>11.5</td>\n",
       "      <td>16.0</td>\n",
       "      <td>14.0</td>\n",
       "      <td>12.390000</td>\n",
       "      <td>15.0</td>\n",
       "      <td>1</td>\n",
       "      <td>1</td>\n",
       "      <td>0.000000</td>\n",
       "    </tr>\n",
       "    <tr>\n",
       "      <th>4</th>\n",
       "      <td>ACLI</td>\n",
       "      <td>AMERICAN COMMERCIAL LINES INC.</td>\n",
       "      <td>4492</td>\n",
       "      <td>21.0</td>\n",
       "      <td>21.0</td>\n",
       "      <td>19.0</td>\n",
       "      <td>56.599998</td>\n",
       "      <td>20.0</td>\n",
       "      <td>0</td>\n",
       "      <td>1</td>\n",
       "      <td>5.000000</td>\n",
       "    </tr>\n",
       "  </tbody>\n",
       "</table>\n",
       "</div>"
      ],
      "text/plain": [
       "     I1                                  I2    I3  pIPO    pH    pL  \\\n",
       "0  AATI  ADVANCED ANALOGIC TECHNOLOGIES INC  3674  10.0   9.5   8.5   \n",
       "1  ABPI     ACCENTIA BIOPHARMACEUTICALS INC  2834   8.0  10.0   8.0   \n",
       "2  ACAD          ACADIA PHARMACEUTICALS INC  2834   7.0  14.0  12.0   \n",
       "3  ACHN       ACHILLION PHARMACEUTICALS INC  2834  11.5  16.0  14.0   \n",
       "4  ACLI     AMERICAN COMMERCIAL LINES INC.   4492  21.0  21.0  19.0   \n",
       "\n",
       "       p1day  Pmid  Y1  Y2        C6p  \n",
       "0  11.870000   9.0   0   1  11.111111  \n",
       "1   7.250000   9.0   1   0   0.000000  \n",
       "2   6.700000  13.0   1   0   0.000000  \n",
       "3  12.390000  15.0   1   1   0.000000  \n",
       "4  56.599998  20.0   0   1   5.000000  "
      ]
     },
     "execution_count": 31,
     "metadata": {},
     "output_type": "execute_result"
    }
   ],
   "source": [
    "# concat dfid with dfy\n",
    "df = pd.concat([dfid, dfy], axis=1)\n",
    "df.head()"
   ]
  },
  {
   "cell_type": "code",
   "execution_count": 32,
   "metadata": {},
   "outputs": [
    {
     "data": {
      "text/html": [
       "<div>\n",
       "<style scoped>\n",
       "    .dataframe tbody tr th:only-of-type {\n",
       "        vertical-align: middle;\n",
       "    }\n",
       "\n",
       "    .dataframe tbody tr th {\n",
       "        vertical-align: top;\n",
       "    }\n",
       "\n",
       "    .dataframe thead th {\n",
       "        text-align: right;\n",
       "    }\n",
       "</style>\n",
       "<table border=\"1\" class=\"dataframe\">\n",
       "  <thead>\n",
       "    <tr style=\"text-align: right;\">\n",
       "      <th></th>\n",
       "      <th>I1</th>\n",
       "      <th>I2</th>\n",
       "      <th>I3</th>\n",
       "      <th>pIPO</th>\n",
       "      <th>pH</th>\n",
       "      <th>pL</th>\n",
       "      <th>p1day</th>\n",
       "      <th>Pmid</th>\n",
       "      <th>Y1</th>\n",
       "      <th>Y2</th>\n",
       "      <th>...</th>\n",
       "      <th>S3</th>\n",
       "      <th>C5p</th>\n",
       "      <th>LongSentences</th>\n",
       "      <th>RealWords</th>\n",
       "      <th>LongWords</th>\n",
       "      <th>PositiveWords</th>\n",
       "      <th>NegativeWords</th>\n",
       "      <th>UncertainWords</th>\n",
       "      <th>C2</th>\n",
       "      <th>C3p</th>\n",
       "    </tr>\n",
       "  </thead>\n",
       "  <tbody>\n",
       "    <tr>\n",
       "      <th>0</th>\n",
       "      <td>AATI</td>\n",
       "      <td>ADVANCED ANALOGIC TECHNOLOGIES INC</td>\n",
       "      <td>3674</td>\n",
       "      <td>10.0</td>\n",
       "      <td>9.5</td>\n",
       "      <td>8.5</td>\n",
       "      <td>11.870000</td>\n",
       "      <td>9.0</td>\n",
       "      <td>0</td>\n",
       "      <td>1</td>\n",
       "      <td>...</td>\n",
       "      <td>0.663736</td>\n",
       "      <td>0.570284</td>\n",
       "      <td>0.441786</td>\n",
       "      <td>0.427704</td>\n",
       "      <td>0.428334</td>\n",
       "      <td>0.428161</td>\n",
       "      <td>0.397992</td>\n",
       "      <td>0.379065</td>\n",
       "      <td>1.0</td>\n",
       "      <td>0</td>\n",
       "    </tr>\n",
       "    <tr>\n",
       "      <th>1</th>\n",
       "      <td>ABPI</td>\n",
       "      <td>ACCENTIA BIOPHARMACEUTICALS INC</td>\n",
       "      <td>2834</td>\n",
       "      <td>8.0</td>\n",
       "      <td>10.0</td>\n",
       "      <td>8.0</td>\n",
       "      <td>7.250000</td>\n",
       "      <td>9.0</td>\n",
       "      <td>1</td>\n",
       "      <td>0</td>\n",
       "      <td>...</td>\n",
       "      <td>0.906980</td>\n",
       "      <td>0.698942</td>\n",
       "      <td>0.444796</td>\n",
       "      <td>0.426904</td>\n",
       "      <td>0.424499</td>\n",
       "      <td>0.400971</td>\n",
       "      <td>0.414195</td>\n",
       "      <td>0.378486</td>\n",
       "      <td>0.0</td>\n",
       "      <td>1</td>\n",
       "    </tr>\n",
       "    <tr>\n",
       "      <th>2</th>\n",
       "      <td>ACAD</td>\n",
       "      <td>ACADIA PHARMACEUTICALS INC</td>\n",
       "      <td>2834</td>\n",
       "      <td>7.0</td>\n",
       "      <td>14.0</td>\n",
       "      <td>12.0</td>\n",
       "      <td>6.700000</td>\n",
       "      <td>13.0</td>\n",
       "      <td>1</td>\n",
       "      <td>0</td>\n",
       "      <td>...</td>\n",
       "      <td>0.364079</td>\n",
       "      <td>0.555596</td>\n",
       "      <td>0.439275</td>\n",
       "      <td>0.427741</td>\n",
       "      <td>0.437681</td>\n",
       "      <td>0.493771</td>\n",
       "      <td>0.363924</td>\n",
       "      <td>0.384058</td>\n",
       "      <td>1.0</td>\n",
       "      <td>1</td>\n",
       "    </tr>\n",
       "    <tr>\n",
       "      <th>3</th>\n",
       "      <td>ACHN</td>\n",
       "      <td>ACHILLION PHARMACEUTICALS INC</td>\n",
       "      <td>2834</td>\n",
       "      <td>11.5</td>\n",
       "      <td>16.0</td>\n",
       "      <td>14.0</td>\n",
       "      <td>12.390000</td>\n",
       "      <td>15.0</td>\n",
       "      <td>1</td>\n",
       "      <td>1</td>\n",
       "      <td>...</td>\n",
       "      <td>0.572263</td>\n",
       "      <td>0.553374</td>\n",
       "      <td>0.371690</td>\n",
       "      <td>0.428343</td>\n",
       "      <td>0.437523</td>\n",
       "      <td>0.479331</td>\n",
       "      <td>0.375764</td>\n",
       "      <td>0.401495</td>\n",
       "      <td>1.0</td>\n",
       "      <td>1</td>\n",
       "    </tr>\n",
       "    <tr>\n",
       "      <th>4</th>\n",
       "      <td>ACLI</td>\n",
       "      <td>AMERICAN COMMERCIAL LINES INC.</td>\n",
       "      <td>4492</td>\n",
       "      <td>21.0</td>\n",
       "      <td>21.0</td>\n",
       "      <td>19.0</td>\n",
       "      <td>56.599998</td>\n",
       "      <td>20.0</td>\n",
       "      <td>0</td>\n",
       "      <td>1</td>\n",
       "      <td>...</td>\n",
       "      <td>0.741423</td>\n",
       "      <td>0.566377</td>\n",
       "      <td>0.404918</td>\n",
       "      <td>0.426088</td>\n",
       "      <td>0.420497</td>\n",
       "      <td>0.422876</td>\n",
       "      <td>0.405605</td>\n",
       "      <td>0.382601</td>\n",
       "      <td>1.0</td>\n",
       "      <td>0</td>\n",
       "    </tr>\n",
       "  </tbody>\n",
       "</table>\n",
       "<p>5 rows × 34 columns</p>\n",
       "</div>"
      ],
      "text/plain": [
       "     I1                                  I2    I3  pIPO    pH    pL  \\\n",
       "0  AATI  ADVANCED ANALOGIC TECHNOLOGIES INC  3674  10.0   9.5   8.5   \n",
       "1  ABPI     ACCENTIA BIOPHARMACEUTICALS INC  2834   8.0  10.0   8.0   \n",
       "2  ACAD          ACADIA PHARMACEUTICALS INC  2834   7.0  14.0  12.0   \n",
       "3  ACHN       ACHILLION PHARMACEUTICALS INC  2834  11.5  16.0  14.0   \n",
       "4  ACLI     AMERICAN COMMERCIAL LINES INC.   4492  21.0  21.0  19.0   \n",
       "\n",
       "       p1day  Pmid  Y1  Y2 ...         S3       C5p  LongSentences  RealWords  \\\n",
       "0  11.870000   9.0   0   1 ...   0.663736  0.570284       0.441786   0.427704   \n",
       "1   7.250000   9.0   1   0 ...   0.906980  0.698942       0.444796   0.426904   \n",
       "2   6.700000  13.0   1   0 ...   0.364079  0.555596       0.439275   0.427741   \n",
       "3  12.390000  15.0   1   1 ...   0.572263  0.553374       0.371690   0.428343   \n",
       "4  56.599998  20.0   0   1 ...   0.741423  0.566377       0.404918   0.426088   \n",
       "\n",
       "   LongWords  PositiveWords  NegativeWords  UncertainWords   C2  C3p  \n",
       "0   0.428334       0.428161       0.397992        0.379065  1.0    0  \n",
       "1   0.424499       0.400971       0.414195        0.378486  0.0    1  \n",
       "2   0.437681       0.493771       0.363924        0.384058  1.0    1  \n",
       "3   0.437523       0.479331       0.375764        0.401495  1.0    1  \n",
       "4   0.420497       0.422876       0.405605        0.382601  1.0    0  \n",
       "\n",
       "[5 rows x 34 columns]"
      ]
     },
     "execution_count": 32,
     "metadata": {},
     "output_type": "execute_result"
    }
   ],
   "source": [
    "# concat dfx with df to get the full dataframe \n",
    "df = pd.concat([df, dfx], axis=1)\n",
    "df.head()"
   ]
  },
  {
   "cell_type": "code",
   "execution_count": 33,
   "metadata": {},
   "outputs": [],
   "source": [
    "# export the full dataframe\n",
    "df.to_csv('../csv_files/p1final.csv')"
   ]
  },
  {
   "cell_type": "code",
   "execution_count": 34,
   "metadata": {},
   "outputs": [],
   "source": [
    "# export just the x variables \n",
    "dfx.to_csv('../csv_files/p1no_skewx.csv')"
   ]
  },
  {
   "cell_type": "code",
   "execution_count": null,
   "metadata": {},
   "outputs": [],
   "source": []
  }
 ],
 "metadata": {
  "kernelspec": {
   "display_name": "Python 3",
   "language": "python",
   "name": "python3"
  },
  "language_info": {
   "codemirror_mode": {
    "name": "ipython",
    "version": 3
   },
   "file_extension": ".py",
   "mimetype": "text/x-python",
   "name": "python",
   "nbconvert_exporter": "python",
   "pygments_lexer": "ipython3",
   "version": "3.6.5"
  }
 },
 "nbformat": 4,
 "nbformat_minor": 2
}
