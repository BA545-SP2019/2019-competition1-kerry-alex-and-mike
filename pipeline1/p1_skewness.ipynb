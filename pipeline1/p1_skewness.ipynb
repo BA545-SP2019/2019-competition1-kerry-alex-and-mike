{
 "cells": [
  {
   "cell_type": "code",
   "execution_count": 1,
   "metadata": {},
   "outputs": [],
   "source": [
    "import pandas as pd\n",
    "import numpy as np\n",
    "import matplotlib.pyplot as plt"
   ]
  },
  {
   "cell_type": "code",
   "execution_count": 2,
   "metadata": {},
   "outputs": [
    {
     "data": {
      "text/html": [
       "<div>\n",
       "<style scoped>\n",
       "    .dataframe tbody tr th:only-of-type {\n",
       "        vertical-align: middle;\n",
       "    }\n",
       "\n",
       "    .dataframe tbody tr th {\n",
       "        vertical-align: top;\n",
       "    }\n",
       "\n",
       "    .dataframe thead th {\n",
       "        text-align: right;\n",
       "    }\n",
       "</style>\n",
       "<table border=\"1\" class=\"dataframe\">\n",
       "  <thead>\n",
       "    <tr style=\"text-align: right;\">\n",
       "      <th></th>\n",
       "      <th>C1</th>\n",
       "      <th>C3</th>\n",
       "      <th>C4</th>\n",
       "      <th>C5</th>\n",
       "      <th>C6</th>\n",
       "      <th>C7</th>\n",
       "      <th>T1</th>\n",
       "      <th>T2</th>\n",
       "      <th>T3</th>\n",
       "      <th>T4</th>\n",
       "      <th>...</th>\n",
       "      <th>C3p</th>\n",
       "      <th>C5p</th>\n",
       "      <th>C6p</th>\n",
       "      <th>LongSentences</th>\n",
       "      <th>RealWords</th>\n",
       "      <th>LongWords</th>\n",
       "      <th>PositiveWords</th>\n",
       "      <th>NegativeWords</th>\n",
       "      <th>UncertainWords</th>\n",
       "      <th>C2</th>\n",
       "    </tr>\n",
       "  </thead>\n",
       "  <tbody>\n",
       "    <tr>\n",
       "      <th>0</th>\n",
       "      <td>0.458312</td>\n",
       "      <td>1.000000</td>\n",
       "      <td>0.630418</td>\n",
       "      <td>0.406682</td>\n",
       "      <td>0.454100</td>\n",
       "      <td>0.043128</td>\n",
       "      <td>0.470752</td>\n",
       "      <td>0.520721</td>\n",
       "      <td>0.522445</td>\n",
       "      <td>0.531139</td>\n",
       "      <td>...</td>\n",
       "      <td>1.0</td>\n",
       "      <td>0.034399</td>\n",
       "      <td>0.622222</td>\n",
       "      <td>0.441786</td>\n",
       "      <td>0.006121</td>\n",
       "      <td>0.006176</td>\n",
       "      <td>0.006161</td>\n",
       "      <td>0.003974</td>\n",
       "      <td>0.002967</td>\n",
       "      <td>1.0</td>\n",
       "    </tr>\n",
       "    <tr>\n",
       "      <th>1</th>\n",
       "      <td>1.000000</td>\n",
       "      <td>0.213889</td>\n",
       "      <td>0.384735</td>\n",
       "      <td>0.274723</td>\n",
       "      <td>0.084510</td>\n",
       "      <td>0.021755</td>\n",
       "      <td>0.917827</td>\n",
       "      <td>0.895980</td>\n",
       "      <td>0.885128</td>\n",
       "      <td>0.903025</td>\n",
       "      <td>...</td>\n",
       "      <td>0.0</td>\n",
       "      <td>0.116586</td>\n",
       "      <td>0.000000</td>\n",
       "      <td>0.444796</td>\n",
       "      <td>0.006053</td>\n",
       "      <td>0.005851</td>\n",
       "      <td>0.004156</td>\n",
       "      <td>0.005049</td>\n",
       "      <td>0.002940</td>\n",
       "      <td>0.0</td>\n",
       "    </tr>\n",
       "    <tr>\n",
       "      <th>2</th>\n",
       "      <td>0.327366</td>\n",
       "      <td>0.284259</td>\n",
       "      <td>0.582011</td>\n",
       "      <td>0.143521</td>\n",
       "      <td>0.201697</td>\n",
       "      <td>0.006144</td>\n",
       "      <td>0.096100</td>\n",
       "      <td>0.212300</td>\n",
       "      <td>0.216254</td>\n",
       "      <td>0.223310</td>\n",
       "      <td>...</td>\n",
       "      <td>0.0</td>\n",
       "      <td>0.029414</td>\n",
       "      <td>0.000000</td>\n",
       "      <td>0.439275</td>\n",
       "      <td>0.006125</td>\n",
       "      <td>0.007030</td>\n",
       "      <td>0.014493</td>\n",
       "      <td>0.002323</td>\n",
       "      <td>0.003209</td>\n",
       "      <td>1.0</td>\n",
       "    </tr>\n",
       "    <tr>\n",
       "      <th>3</th>\n",
       "      <td>0.814322</td>\n",
       "      <td>0.345370</td>\n",
       "      <td>0.578004</td>\n",
       "      <td>0.121729</td>\n",
       "      <td>0.179161</td>\n",
       "      <td>0.007110</td>\n",
       "      <td>0.272981</td>\n",
       "      <td>0.336256</td>\n",
       "      <td>0.342301</td>\n",
       "      <td>0.310498</td>\n",
       "      <td>...</td>\n",
       "      <td>0.0</td>\n",
       "      <td>0.028715</td>\n",
       "      <td>0.000000</td>\n",
       "      <td>0.371690</td>\n",
       "      <td>0.006177</td>\n",
       "      <td>0.007015</td>\n",
       "      <td>0.012129</td>\n",
       "      <td>0.002815</td>\n",
       "      <td>0.004189</td>\n",
       "      <td>1.0</td>\n",
       "    </tr>\n",
       "    <tr>\n",
       "      <th>4</th>\n",
       "      <td>0.286445</td>\n",
       "      <td>0.526852</td>\n",
       "      <td>0.259982</td>\n",
       "      <td>0.295157</td>\n",
       "      <td>0.348181</td>\n",
       "      <td>0.531813</td>\n",
       "      <td>0.612813</td>\n",
       "      <td>0.608032</td>\n",
       "      <td>0.595478</td>\n",
       "      <td>0.593416</td>\n",
       "      <td>...</td>\n",
       "      <td>1.0</td>\n",
       "      <td>0.033009</td>\n",
       "      <td>0.280000</td>\n",
       "      <td>0.404918</td>\n",
       "      <td>0.005984</td>\n",
       "      <td>0.005528</td>\n",
       "      <td>0.005718</td>\n",
       "      <td>0.004453</td>\n",
       "      <td>0.003137</td>\n",
       "      <td>1.0</td>\n",
       "    </tr>\n",
       "  </tbody>\n",
       "</table>\n",
       "<p>5 rows × 24 columns</p>\n",
       "</div>"
      ],
      "text/plain": [
       "         C1        C3        C4        C5        C6        C7        T1  \\\n",
       "0  0.458312  1.000000  0.630418  0.406682  0.454100  0.043128  0.470752   \n",
       "1  1.000000  0.213889  0.384735  0.274723  0.084510  0.021755  0.917827   \n",
       "2  0.327366  0.284259  0.582011  0.143521  0.201697  0.006144  0.096100   \n",
       "3  0.814322  0.345370  0.578004  0.121729  0.179161  0.007110  0.272981   \n",
       "4  0.286445  0.526852  0.259982  0.295157  0.348181  0.531813  0.612813   \n",
       "\n",
       "         T2        T3        T4 ...   C3p       C5p       C6p  LongSentences  \\\n",
       "0  0.520721  0.522445  0.531139 ...   1.0  0.034399  0.622222       0.441786   \n",
       "1  0.895980  0.885128  0.903025 ...   0.0  0.116586  0.000000       0.444796   \n",
       "2  0.212300  0.216254  0.223310 ...   0.0  0.029414  0.000000       0.439275   \n",
       "3  0.336256  0.342301  0.310498 ...   0.0  0.028715  0.000000       0.371690   \n",
       "4  0.608032  0.595478  0.593416 ...   1.0  0.033009  0.280000       0.404918   \n",
       "\n",
       "   RealWords  LongWords  PositiveWords  NegativeWords  UncertainWords   C2  \n",
       "0   0.006121   0.006176       0.006161       0.003974        0.002967  1.0  \n",
       "1   0.006053   0.005851       0.004156       0.005049        0.002940  0.0  \n",
       "2   0.006125   0.007030       0.014493       0.002323        0.003209  1.0  \n",
       "3   0.006177   0.007015       0.012129       0.002815        0.004189  1.0  \n",
       "4   0.005984   0.005528       0.005718       0.004453        0.003137  1.0  \n",
       "\n",
       "[5 rows x 24 columns]"
      ]
     },
     "execution_count": 2,
     "metadata": {},
     "output_type": "execute_result"
    }
   ],
   "source": [
    "dfx = pd.read_csv('csv_files/p1minmax.csv', index_col=0)\n",
    "dfx.head()"
   ]
  },
  {
   "cell_type": "code",
   "execution_count": 3,
   "metadata": {},
   "outputs": [
    {
     "data": {
      "text/plain": [
       "C1                 0.760422\n",
       "C3                -0.276378\n",
       "C4                -0.303113\n",
       "C5                 1.070100\n",
       "C6                 1.067244\n",
       "C7                 1.422741\n",
       "T1                 0.490867\n",
       "T2                 0.511435\n",
       "T3                 0.535659\n",
       "T4                 0.502539\n",
       "T5                 0.654890\n",
       "S1                 0.708540\n",
       "S2                 0.836863\n",
       "S3                 0.713525\n",
       "C3p               -0.117764\n",
       "C5p               11.298254\n",
       "C6p                1.180845\n",
       "LongSentences      0.092977\n",
       "RealWords         18.279244\n",
       "LongWords         17.585466\n",
       "PositiveWords     18.631951\n",
       "NegativeWords     18.379272\n",
       "UncertainWords    18.359322\n",
       "C2                -2.102918\n",
       "dtype: float64"
      ]
     },
     "execution_count": 3,
     "metadata": {},
     "output_type": "execute_result"
    }
   ],
   "source": [
    "dfx.skew()"
   ]
  },
  {
   "cell_type": "code",
   "execution_count": 4,
   "metadata": {},
   "outputs": [
    {
     "data": {
      "image/png": "[encoded data removed]",
      "text/plain": [
       "<Figure size 432x288 with 25 Axes>"
      ]
     },
     "metadata": {},
     "output_type": "display_data"
    }
   ],
   "source": [
    "for col in dfx.columns:\n",
    "    dfx.hist(color='blue')\n",
    "    break\n",
    "plt.show()"
   ]
  },
  {
   "cell_type": "code",
   "execution_count": 5,
   "metadata": {},
   "outputs": [],
   "source": [
    "#dfx['C1'] = np.cbrt(dfx['C1'])\n",
    "#dfx['C1'].skew()"
   ]
  },
  {
   "cell_type": "code",
   "execution_count": 6,
   "metadata": {},
   "outputs": [],
   "source": [
    "#['C3'] = np.cbrt(np.sqrt(dfx['C3']))\n",
    "#dfx['C3'].skew()"
   ]
  },
  {
   "cell_type": "code",
   "execution_count": 7,
   "metadata": {},
   "outputs": [
    {
     "data": {
      "text/plain": [
       "0.4857694465417291"
      ]
     },
     "execution_count": 7,
     "metadata": {},
     "output_type": "execute_result"
    }
   ],
   "source": [
    "dfx['C5'] = np.sqrt(dfx['C5'])\n",
    "dfx['C5'].skew()"
   ]
  },
  {
   "cell_type": "code",
   "execution_count": 8,
   "metadata": {},
   "outputs": [
    {
     "data": {
      "text/plain": [
       "0.46396599108107905"
      ]
     },
     "execution_count": 8,
     "metadata": {},
     "output_type": "execute_result"
    }
   ],
   "source": [
    "dfx['C6'] = np.sqrt(dfx['C6'])\n",
    "dfx['C6'].skew()"
   ]
  },
  {
   "cell_type": "code",
   "execution_count": 9,
   "metadata": {},
   "outputs": [
    {
     "data": {
      "text/plain": [
       "0.6432305677833202"
      ]
     },
     "execution_count": 9,
     "metadata": {},
     "output_type": "execute_result"
    }
   ],
   "source": [
    "dfx['C7'] = np.sqrt(dfx['C7'])\n",
    "dfx['C7'].skew()"
   ]
  },
  {
   "cell_type": "code",
   "execution_count": 10,
   "metadata": {},
   "outputs": [],
   "source": [
    "#dfx['T1'] = np.sqrt(dfx['T1'])\n",
    "#dfx['T1'].skew()"
   ]
  },
  {
   "cell_type": "code",
   "execution_count": 11,
   "metadata": {},
   "outputs": [],
   "source": [
    "#dfx['T2'] = np.sqrt(dfx['T2'])\n",
    "#dfx['T2'].skew()"
   ]
  },
  {
   "cell_type": "code",
   "execution_count": 12,
   "metadata": {},
   "outputs": [],
   "source": [
    "#dfx['T3'] = np.sqrt(dfx['T3'])\n",
    "#dfx['T3'].skew()"
   ]
  },
  {
   "cell_type": "code",
   "execution_count": 13,
   "metadata": {},
   "outputs": [],
   "source": [
    "#dfx['T4'] = np.sqrt(dfx['T4'])\n",
    "#dfx['T4'].skew()"
   ]
  },
  {
   "cell_type": "code",
   "execution_count": 14,
   "metadata": {},
   "outputs": [
    {
     "data": {
      "text/plain": [
       "0.06139778748226432"
      ]
     },
     "execution_count": 14,
     "metadata": {},
     "output_type": "execute_result"
    }
   ],
   "source": [
    "dfx['T5'] = np.sqrt(dfx['T5'])\n",
    "dfx['T5'].skew()"
   ]
  },
  {
   "cell_type": "code",
   "execution_count": 15,
   "metadata": {},
   "outputs": [
    {
     "data": {
      "text/plain": [
       "0.07133747393374229"
      ]
     },
     "execution_count": 15,
     "metadata": {},
     "output_type": "execute_result"
    }
   ],
   "source": [
    "dfx['S1'] = np.sqrt(dfx['S1'])\n",
    "dfx['S1'].skew()"
   ]
  },
  {
   "cell_type": "code",
   "execution_count": 16,
   "metadata": {},
   "outputs": [
    {
     "data": {
      "text/plain": [
       "0.12375381777782107"
      ]
     },
     "execution_count": 16,
     "metadata": {},
     "output_type": "execute_result"
    }
   ],
   "source": [
    "dfx['S2'] = np.sqrt(dfx['S2'])\n",
    "dfx['S2'].skew()"
   ]
  },
  {
   "cell_type": "code",
   "execution_count": 17,
   "metadata": {},
   "outputs": [
    {
     "data": {
      "text/plain": [
       "0.06289530238647993"
      ]
     },
     "execution_count": 17,
     "metadata": {},
     "output_type": "execute_result"
    }
   ],
   "source": [
    "dfx['S3'] = np.sqrt(dfx['S3'])\n",
    "dfx['S3'].skew()"
   ]
  },
  {
   "cell_type": "code",
   "execution_count": 18,
   "metadata": {},
   "outputs": [],
   "source": [
    "#dfx['C3p'] = np.sqrt(dfx['C3p'])\n",
    "#dfx['C3p'].skew()"
   ]
  },
  {
   "cell_type": "code",
   "execution_count": 19,
   "metadata": {},
   "outputs": [
    {
     "data": {
      "text/plain": [
       "0.3215454626095804"
      ]
     },
     "execution_count": 19,
     "metadata": {},
     "output_type": "execute_result"
    }
   ],
   "source": [
    "dfx['C5p'] = np.sqrt(np.cbrt(dfx['C5p']))\n",
    "dfx['C5p'].skew()"
   ]
  },
  {
   "cell_type": "code",
   "execution_count": 20,
   "metadata": {},
   "outputs": [
    {
     "data": {
      "text/plain": [
       "0.7699143643344326"
      ]
     },
     "execution_count": 20,
     "metadata": {},
     "output_type": "execute_result"
    }
   ],
   "source": [
    "dfx['C6p'] = np.sqrt(dfx['C6p'])\n",
    "dfx['C6p'].skew()"
   ]
  },
  {
   "cell_type": "code",
   "execution_count": 21,
   "metadata": {},
   "outputs": [],
   "source": [
    "#df['LongSentences'] = np.cbrt(df['LongSentences'])\n",
    "#df['LongSentences'].skew()"
   ]
  },
  {
   "cell_type": "code",
   "execution_count": 22,
   "metadata": {},
   "outputs": [
    {
     "data": {
      "text/plain": [
       "2.837534520766975"
      ]
     },
     "execution_count": 22,
     "metadata": {},
     "output_type": "execute_result"
    }
   ],
   "source": [
    "dfx['RealWords'] = np.sqrt(np.cbrt(dfx['RealWords']))\n",
    "dfx['RealWords'].skew()"
   ]
  },
  {
   "cell_type": "code",
   "execution_count": 23,
   "metadata": {},
   "outputs": [
    {
     "data": {
      "text/plain": [
       "8.647731705626239"
      ]
     },
     "execution_count": 23,
     "metadata": {},
     "output_type": "execute_result"
    }
   ],
   "source": [
    "dfx['LongWords'] = np.sqrt(np.cbrt(dfx['LongWords']))\n",
    "dfx['LongWords'].skew()"
   ]
  },
  {
   "cell_type": "code",
   "execution_count": 24,
   "metadata": {},
   "outputs": [
    {
     "data": {
      "text/plain": [
       "5.257751832393982"
      ]
     },
     "execution_count": 24,
     "metadata": {},
     "output_type": "execute_result"
    }
   ],
   "source": [
    "dfx['PositiveWords'] = np.sqrt(np.cbrt(dfx['PositiveWords']))\n",
    "dfx['PositiveWords'].skew()"
   ]
  },
  {
   "cell_type": "code",
   "execution_count": 25,
   "metadata": {},
   "outputs": [
    {
     "data": {
      "text/plain": [
       "6.3799171684729465"
      ]
     },
     "execution_count": 25,
     "metadata": {},
     "output_type": "execute_result"
    }
   ],
   "source": [
    "dfx['NegativeWords'] = np.sqrt(np.cbrt(dfx['NegativeWords']))\n",
    "dfx['NegativeWords'].skew()"
   ]
  },
  {
   "cell_type": "code",
   "execution_count": 26,
   "metadata": {},
   "outputs": [
    {
     "data": {
      "text/plain": [
       "5.629047731019994"
      ]
     },
     "execution_count": 26,
     "metadata": {},
     "output_type": "execute_result"
    }
   ],
   "source": [
    "dfx['UncertainWords'] = np.sqrt(np.cbrt(dfx['UncertainWords']))\n",
    "dfx['UncertainWords'].skew()"
   ]
  },
  {
   "cell_type": "code",
   "execution_count": 27,
   "metadata": {},
   "outputs": [
    {
     "data": {
      "text/plain": [
       "C1                0.760422\n",
       "C3               -0.276378\n",
       "C4               -0.303113\n",
       "C5                0.485769\n",
       "C6                0.463966\n",
       "C7                0.643231\n",
       "T1                0.490867\n",
       "T2                0.511435\n",
       "T3                0.535659\n",
       "T4                0.502539\n",
       "T5                0.061398\n",
       "S1                0.071337\n",
       "S2                0.123754\n",
       "S3                0.062895\n",
       "C3p              -0.117764\n",
       "C5p               0.321545\n",
       "C6p               0.769914\n",
       "LongSentences     0.092977\n",
       "RealWords         2.837535\n",
       "LongWords         8.647732\n",
       "PositiveWords     5.257752\n",
       "NegativeWords     6.379917\n",
       "UncertainWords    5.629048\n",
       "C2               -2.102918\n",
       "dtype: float64"
      ]
     },
     "execution_count": 27,
     "metadata": {},
     "output_type": "execute_result"
    }
   ],
   "source": [
    "dfx.skew()"
   ]
  },
  {
   "cell_type": "code",
   "execution_count": 28,
   "metadata": {},
   "outputs": [
    {
     "data": {
      "image/png": "[encoded data removed]",
      "text/plain": [
       "<Figure size 432x288 with 25 Axes>"
      ]
     },
     "metadata": {},
     "output_type": "display_data"
    }
   ],
   "source": [
    "for col in dfx.columns:\n",
    "    dfx.hist(color='blue')\n",
    "    break\n",
    "plt.show()"
   ]
  },
  {
   "cell_type": "code",
   "execution_count": 29,
   "metadata": {},
   "outputs": [
    {
     "data": {
      "text/html": [
       "<div>\n",
       "<style scoped>\n",
       "    .dataframe tbody tr th:only-of-type {\n",
       "        vertical-align: middle;\n",
       "    }\n",
       "\n",
       "    .dataframe tbody tr th {\n",
       "        vertical-align: top;\n",
       "    }\n",
       "\n",
       "    .dataframe thead th {\n",
       "        text-align: right;\n",
       "    }\n",
       "</style>\n",
       "<table border=\"1\" class=\"dataframe\">\n",
       "  <thead>\n",
       "    <tr style=\"text-align: right;\">\n",
       "      <th></th>\n",
       "      <th>C1</th>\n",
       "      <th>C3</th>\n",
       "      <th>C4</th>\n",
       "      <th>C5</th>\n",
       "      <th>C6</th>\n",
       "      <th>C7</th>\n",
       "      <th>T1</th>\n",
       "      <th>T2</th>\n",
       "      <th>T3</th>\n",
       "      <th>T4</th>\n",
       "      <th>...</th>\n",
       "      <th>C3p</th>\n",
       "      <th>C5p</th>\n",
       "      <th>C6p</th>\n",
       "      <th>LongSentences</th>\n",
       "      <th>RealWords</th>\n",
       "      <th>LongWords</th>\n",
       "      <th>PositiveWords</th>\n",
       "      <th>NegativeWords</th>\n",
       "      <th>UncertainWords</th>\n",
       "      <th>C2</th>\n",
       "    </tr>\n",
       "  </thead>\n",
       "  <tbody>\n",
       "    <tr>\n",
       "      <th>0</th>\n",
       "      <td>0.458312</td>\n",
       "      <td>1.000000</td>\n",
       "      <td>0.630418</td>\n",
       "      <td>0.637716</td>\n",
       "      <td>0.673869</td>\n",
       "      <td>0.207673</td>\n",
       "      <td>0.470752</td>\n",
       "      <td>0.520721</td>\n",
       "      <td>0.522445</td>\n",
       "      <td>0.531139</td>\n",
       "      <td>...</td>\n",
       "      <td>1.0</td>\n",
       "      <td>0.570284</td>\n",
       "      <td>0.788811</td>\n",
       "      <td>0.441786</td>\n",
       "      <td>0.427704</td>\n",
       "      <td>0.428334</td>\n",
       "      <td>0.428161</td>\n",
       "      <td>0.397992</td>\n",
       "      <td>0.379065</td>\n",
       "      <td>1.0</td>\n",
       "    </tr>\n",
       "    <tr>\n",
       "      <th>1</th>\n",
       "      <td>1.000000</td>\n",
       "      <td>0.213889</td>\n",
       "      <td>0.384735</td>\n",
       "      <td>0.524141</td>\n",
       "      <td>0.290706</td>\n",
       "      <td>0.147494</td>\n",
       "      <td>0.917827</td>\n",
       "      <td>0.895980</td>\n",
       "      <td>0.885128</td>\n",
       "      <td>0.903025</td>\n",
       "      <td>...</td>\n",
       "      <td>0.0</td>\n",
       "      <td>0.698942</td>\n",
       "      <td>0.000000</td>\n",
       "      <td>0.444796</td>\n",
       "      <td>0.426904</td>\n",
       "      <td>0.424499</td>\n",
       "      <td>0.400971</td>\n",
       "      <td>0.414195</td>\n",
       "      <td>0.378486</td>\n",
       "      <td>0.0</td>\n",
       "    </tr>\n",
       "    <tr>\n",
       "      <th>2</th>\n",
       "      <td>0.327366</td>\n",
       "      <td>0.284259</td>\n",
       "      <td>0.582011</td>\n",
       "      <td>0.378842</td>\n",
       "      <td>0.449107</td>\n",
       "      <td>0.078383</td>\n",
       "      <td>0.096100</td>\n",
       "      <td>0.212300</td>\n",
       "      <td>0.216254</td>\n",
       "      <td>0.223310</td>\n",
       "      <td>...</td>\n",
       "      <td>0.0</td>\n",
       "      <td>0.555596</td>\n",
       "      <td>0.000000</td>\n",
       "      <td>0.439275</td>\n",
       "      <td>0.427741</td>\n",
       "      <td>0.437681</td>\n",
       "      <td>0.493771</td>\n",
       "      <td>0.363924</td>\n",
       "      <td>0.384058</td>\n",
       "      <td>1.0</td>\n",
       "    </tr>\n",
       "    <tr>\n",
       "      <th>3</th>\n",
       "      <td>0.814322</td>\n",
       "      <td>0.345370</td>\n",
       "      <td>0.578004</td>\n",
       "      <td>0.348897</td>\n",
       "      <td>0.423274</td>\n",
       "      <td>0.084319</td>\n",
       "      <td>0.272981</td>\n",
       "      <td>0.336256</td>\n",
       "      <td>0.342301</td>\n",
       "      <td>0.310498</td>\n",
       "      <td>...</td>\n",
       "      <td>0.0</td>\n",
       "      <td>0.553374</td>\n",
       "      <td>0.000000</td>\n",
       "      <td>0.371690</td>\n",
       "      <td>0.428343</td>\n",
       "      <td>0.437523</td>\n",
       "      <td>0.479331</td>\n",
       "      <td>0.375764</td>\n",
       "      <td>0.401495</td>\n",
       "      <td>1.0</td>\n",
       "    </tr>\n",
       "    <tr>\n",
       "      <th>4</th>\n",
       "      <td>0.286445</td>\n",
       "      <td>0.526852</td>\n",
       "      <td>0.259982</td>\n",
       "      <td>0.543283</td>\n",
       "      <td>0.590068</td>\n",
       "      <td>0.729255</td>\n",
       "      <td>0.612813</td>\n",
       "      <td>0.608032</td>\n",
       "      <td>0.595478</td>\n",
       "      <td>0.593416</td>\n",
       "      <td>...</td>\n",
       "      <td>1.0</td>\n",
       "      <td>0.566377</td>\n",
       "      <td>0.529150</td>\n",
       "      <td>0.404918</td>\n",
       "      <td>0.426088</td>\n",
       "      <td>0.420497</td>\n",
       "      <td>0.422876</td>\n",
       "      <td>0.405605</td>\n",
       "      <td>0.382601</td>\n",
       "      <td>1.0</td>\n",
       "    </tr>\n",
       "  </tbody>\n",
       "</table>\n",
       "<p>5 rows × 24 columns</p>\n",
       "</div>"
      ],
      "text/plain": [
       "         C1        C3        C4        C5        C6        C7        T1  \\\n",
       "0  0.458312  1.000000  0.630418  0.637716  0.673869  0.207673  0.470752   \n",
       "1  1.000000  0.213889  0.384735  0.524141  0.290706  0.147494  0.917827   \n",
       "2  0.327366  0.284259  0.582011  0.378842  0.449107  0.078383  0.096100   \n",
       "3  0.814322  0.345370  0.578004  0.348897  0.423274  0.084319  0.272981   \n",
       "4  0.286445  0.526852  0.259982  0.543283  0.590068  0.729255  0.612813   \n",
       "\n",
       "         T2        T3        T4 ...   C3p       C5p       C6p  LongSentences  \\\n",
       "0  0.520721  0.522445  0.531139 ...   1.0  0.570284  0.788811       0.441786   \n",
       "1  0.895980  0.885128  0.903025 ...   0.0  0.698942  0.000000       0.444796   \n",
       "2  0.212300  0.216254  0.223310 ...   0.0  0.555596  0.000000       0.439275   \n",
       "3  0.336256  0.342301  0.310498 ...   0.0  0.553374  0.000000       0.371690   \n",
       "4  0.608032  0.595478  0.593416 ...   1.0  0.566377  0.529150       0.404918   \n",
       "\n",
       "   RealWords  LongWords  PositiveWords  NegativeWords  UncertainWords   C2  \n",
       "0   0.427704   0.428334       0.428161       0.397992        0.379065  1.0  \n",
       "1   0.426904   0.424499       0.400971       0.414195        0.378486  0.0  \n",
       "2   0.427741   0.437681       0.493771       0.363924        0.384058  1.0  \n",
       "3   0.428343   0.437523       0.479331       0.375764        0.401495  1.0  \n",
       "4   0.426088   0.420497       0.422876       0.405605        0.382601  1.0  \n",
       "\n",
       "[5 rows x 24 columns]"
      ]
     },
     "execution_count": 29,
     "metadata": {},
     "output_type": "execute_result"
    }
   ],
   "source": [
    "dfx.head()"
   ]
  },
  {
   "cell_type": "code",
   "execution_count": 31,
   "metadata": {},
   "outputs": [],
   "source": [
    "dfx.to_csv('csv_files/p1no_skew.csv')"
   ]
  },
  {
   "cell_type": "code",
   "execution_count": null,
   "metadata": {},
   "outputs": [],
   "source": []
  }
 ],
 "metadata": {
  "kernelspec": {
   "display_name": "Python 3",
   "language": "python",
   "name": "python3"
  },
  "language_info": {
   "codemirror_mode": {
    "name": "ipython",
    "version": 3
   },
   "file_extension": ".py",
   "mimetype": "text/x-python",
   "name": "python",
   "nbconvert_exporter": "python",
   "pygments_lexer": "ipython3",
   "version": "3.6.5"
  }
 },
 "nbformat": 4,
 "nbformat_minor": 2
}
