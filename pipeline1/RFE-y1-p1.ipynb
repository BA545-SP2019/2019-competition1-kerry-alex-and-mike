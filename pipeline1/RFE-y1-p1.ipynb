{
 "cells": [
  {
   "cell_type": "code",
   "execution_count": 1,
   "metadata": {},
   "outputs": [],
   "source": [
    "# Recursive Feature Elimination\n",
    "import numpy as np\n",
    "import pandas as pd\n",
    "from sklearn import datasets\n",
    "from sklearn.feature_selection import RFE\n",
    "from sklearn.linear_model import LogisticRegression"
   ]
  },
  {
   "cell_type": "code",
   "execution_count": 3,
   "metadata": {},
   "outputs": [
    {
     "data": {
      "text/html": [
       "<div>\n",
       "<style scoped>\n",
       "    .dataframe tbody tr th:only-of-type {\n",
       "        vertical-align: middle;\n",
       "    }\n",
       "\n",
       "    .dataframe tbody tr th {\n",
       "        vertical-align: top;\n",
       "    }\n",
       "\n",
       "    .dataframe thead th {\n",
       "        text-align: right;\n",
       "    }\n",
       "</style>\n",
       "<table border=\"1\" class=\"dataframe\">\n",
       "  <thead>\n",
       "    <tr style=\"text-align: right;\">\n",
       "      <th></th>\n",
       "      <th>C1</th>\n",
       "      <th>C4</th>\n",
       "      <th>C6</th>\n",
       "      <th>C7</th>\n",
       "      <th>C5p</th>\n",
       "      <th>T4p</th>\n",
       "      <th>T3p</th>\n",
       "      <th>T5p</th>\n",
       "      <th>S1p</th>\n",
       "      <th>S2p</th>\n",
       "      <th>S3p</th>\n",
       "      <th>C2</th>\n",
       "      <th>C3p</th>\n",
       "      <th>Industry_Bins</th>\n",
       "      <th>Y1</th>\n",
       "      <th>Y2</th>\n",
       "    </tr>\n",
       "  </thead>\n",
       "  <tbody>\n",
       "    <tr>\n",
       "      <th>0</th>\n",
       "      <td>0.458312</td>\n",
       "      <td>0.630418</td>\n",
       "      <td>0.679752</td>\n",
       "      <td>0.278285</td>\n",
       "      <td>0.570284</td>\n",
       "      <td>0.441786</td>\n",
       "      <td>0.427704</td>\n",
       "      <td>0.428334</td>\n",
       "      <td>0.428161</td>\n",
       "      <td>0.397992</td>\n",
       "      <td>0.379065</td>\n",
       "      <td>1.0</td>\n",
       "      <td>0</td>\n",
       "      <td>1</td>\n",
       "      <td>0</td>\n",
       "      <td>1</td>\n",
       "    </tr>\n",
       "    <tr>\n",
       "      <th>1</th>\n",
       "      <td>1.000000</td>\n",
       "      <td>0.384735</td>\n",
       "      <td>0.293244</td>\n",
       "      <td>0.197644</td>\n",
       "      <td>0.698942</td>\n",
       "      <td>0.444796</td>\n",
       "      <td>0.426904</td>\n",
       "      <td>0.424499</td>\n",
       "      <td>0.400971</td>\n",
       "      <td>0.414195</td>\n",
       "      <td>0.378486</td>\n",
       "      <td>0.0</td>\n",
       "      <td>1</td>\n",
       "      <td>1</td>\n",
       "      <td>1</td>\n",
       "      <td>0</td>\n",
       "    </tr>\n",
       "    <tr>\n",
       "      <th>2</th>\n",
       "      <td>0.327366</td>\n",
       "      <td>0.582011</td>\n",
       "      <td>0.453028</td>\n",
       "      <td>0.105035</td>\n",
       "      <td>0.555596</td>\n",
       "      <td>0.439275</td>\n",
       "      <td>0.427741</td>\n",
       "      <td>0.437681</td>\n",
       "      <td>0.493771</td>\n",
       "      <td>0.363924</td>\n",
       "      <td>0.384058</td>\n",
       "      <td>1.0</td>\n",
       "      <td>1</td>\n",
       "      <td>1</td>\n",
       "      <td>1</td>\n",
       "      <td>0</td>\n",
       "    </tr>\n",
       "    <tr>\n",
       "      <th>3</th>\n",
       "      <td>0.814322</td>\n",
       "      <td>0.578004</td>\n",
       "      <td>0.426969</td>\n",
       "      <td>0.112988</td>\n",
       "      <td>0.553374</td>\n",
       "      <td>0.371690</td>\n",
       "      <td>0.428343</td>\n",
       "      <td>0.437523</td>\n",
       "      <td>0.479331</td>\n",
       "      <td>0.375764</td>\n",
       "      <td>0.401495</td>\n",
       "      <td>1.0</td>\n",
       "      <td>1</td>\n",
       "      <td>1</td>\n",
       "      <td>1</td>\n",
       "      <td>1</td>\n",
       "    </tr>\n",
       "    <tr>\n",
       "      <th>4</th>\n",
       "      <td>0.286445</td>\n",
       "      <td>0.259982</td>\n",
       "      <td>0.595220</td>\n",
       "      <td>0.977212</td>\n",
       "      <td>0.566377</td>\n",
       "      <td>0.404918</td>\n",
       "      <td>0.426088</td>\n",
       "      <td>0.420497</td>\n",
       "      <td>0.422876</td>\n",
       "      <td>0.405605</td>\n",
       "      <td>0.382601</td>\n",
       "      <td>1.0</td>\n",
       "      <td>0</td>\n",
       "      <td>3</td>\n",
       "      <td>0</td>\n",
       "      <td>1</td>\n",
       "    </tr>\n",
       "  </tbody>\n",
       "</table>\n",
       "</div>"
      ],
      "text/plain": [
       "         C1        C4        C6        C7       C5p       T4p       T3p  \\\n",
       "0  0.458312  0.630418  0.679752  0.278285  0.570284  0.441786  0.427704   \n",
       "1  1.000000  0.384735  0.293244  0.197644  0.698942  0.444796  0.426904   \n",
       "2  0.327366  0.582011  0.453028  0.105035  0.555596  0.439275  0.427741   \n",
       "3  0.814322  0.578004  0.426969  0.112988  0.553374  0.371690  0.428343   \n",
       "4  0.286445  0.259982  0.595220  0.977212  0.566377  0.404918  0.426088   \n",
       "\n",
       "        T5p       S1p       S2p       S3p   C2  C3p  Industry_Bins  Y1  Y2  \n",
       "0  0.428334  0.428161  0.397992  0.379065  1.0    0              1   0   1  \n",
       "1  0.424499  0.400971  0.414195  0.378486  0.0    1              1   1   0  \n",
       "2  0.437681  0.493771  0.363924  0.384058  1.0    1              1   1   0  \n",
       "3  0.437523  0.479331  0.375764  0.401495  1.0    1              1   1   1  \n",
       "4  0.420497  0.422876  0.405605  0.382601  1.0    0              3   0   1  "
      ]
     },
     "execution_count": 3,
     "metadata": {},
     "output_type": "execute_result"
    }
   ],
   "source": [
    "# load the dataset\n",
    "df = pd.read_csv('../csv_files/p1feature-selection.csv', index_col=0)\n",
    "df.head()"
   ]
  },
  {
   "cell_type": "code",
   "execution_count": 4,
   "metadata": {},
   "outputs": [
    {
     "data": {
      "text/plain": [
       "C1               float64\n",
       "C4               float64\n",
       "C6               float64\n",
       "C7               float64\n",
       "C5p              float64\n",
       "T4p              float64\n",
       "T3p              float64\n",
       "T5p              float64\n",
       "S1p              float64\n",
       "S2p              float64\n",
       "S3p              float64\n",
       "C2               float64\n",
       "C3p                int64\n",
       "Industry_Bins      int64\n",
       "Y1                 int64\n",
       "Y2                 int64\n",
       "dtype: object"
      ]
     },
     "execution_count": 4,
     "metadata": {},
     "output_type": "execute_result"
    }
   ],
   "source": [
    "df.dtypes"
   ]
  },
  {
   "cell_type": "code",
   "execution_count": 5,
   "metadata": {},
   "outputs": [],
   "source": [
    "array = df.values\n",
    "X = array[:,:-2] #features\n",
    "Y = array[:,-2] #target"
   ]
  },
  {
   "cell_type": "code",
   "execution_count": 6,
   "metadata": {},
   "outputs": [
    {
     "name": "stdout",
     "output_type": "stream",
     "text": [
      "[False False False False  True False False False  True  True False False\n",
      " False False]\n",
      "[ 4  2 12  8  1  5 11 10  1  1  7  6  3  9]\n"
     ]
    }
   ],
   "source": [
    "# create a base classifier used to evaluate a subset of attributes\n",
    "model = LogisticRegression()\n",
    "# create the RFE model and select 3 attributes\n",
    "rfe = RFE(model, 3)\n",
    "rfe = rfe.fit(X, Y)\n",
    "# summarize the selection of the attributes\n",
    "print(rfe.support_)\n",
    "print(rfe.ranking_)"
   ]
  },
  {
   "cell_type": "code",
   "execution_count": null,
   "metadata": {},
   "outputs": [],
   "source": [
    "for i in range(1, len(X[0])+1):\n",
    "    print(i)\n",
    "    # create a base classifier used to evaluate a subset of attributes\n",
    "    model = LogisticRegression()\n",
    "    # create the RFE model and select 3 attributes\n",
    "    rfe = RFE(model, i)\n",
    "    rfe = rfe.fit(X, Y)\n",
    "    # summarize the selection of the attributes\n",
    "    print('Model with the best', i, 'features')\n",
    "    print(rfe.support_)\n",
    "    print(rfe.ranking_)"
   ]
  },
  {
   "cell_type": "code",
   "execution_count": null,
   "metadata": {},
   "outputs": [],
   "source": []
  }
 ],
 "metadata": {
  "kernelspec": {
   "display_name": "Python 3",
   "language": "python",
   "name": "python3"
  },
  "language_info": {
   "codemirror_mode": {
    "name": "ipython",
    "version": 3
   },
   "file_extension": ".py",
   "mimetype": "text/x-python",
   "name": "python",
   "nbconvert_exporter": "python",
   "pygments_lexer": "ipython3",
   "version": "3.6.5"
  }
 },
 "nbformat": 4,
 "nbformat_minor": 2
}
