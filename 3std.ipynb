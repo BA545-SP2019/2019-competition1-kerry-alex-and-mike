{
 "cells": [
  {
   "cell_type": "code",
   "execution_count": 1,
   "metadata": {},
   "outputs": [],
   "source": [
    "import numpy as np\n",
    "import pandas as pd\n",
    "import matplotlib.pyplot as plt"
   ]
  },
  {
   "cell_type": "code",
   "execution_count": 2,
   "metadata": {},
   "outputs": [
    {
     "data": {
      "text/html": [
       "<div>\n",
       "<style scoped>\n",
       "    .dataframe tbody tr th:only-of-type {\n",
       "        vertical-align: middle;\n",
       "    }\n",
       "\n",
       "    .dataframe tbody tr th {\n",
       "        vertical-align: top;\n",
       "    }\n",
       "\n",
       "    .dataframe thead th {\n",
       "        text-align: right;\n",
       "    }\n",
       "</style>\n",
       "<table border=\"1\" class=\"dataframe\">\n",
       "  <thead>\n",
       "    <tr style=\"text-align: right;\">\n",
       "      <th></th>\n",
       "      <th>C1</th>\n",
       "      <th>C2</th>\n",
       "      <th>C3</th>\n",
       "      <th>C4</th>\n",
       "      <th>C5</th>\n",
       "      <th>C6</th>\n",
       "      <th>C7</th>\n",
       "      <th>T1</th>\n",
       "      <th>T2</th>\n",
       "      <th>T3</th>\n",
       "      <th>...</th>\n",
       "      <th>S3</th>\n",
       "      <th>C3p</th>\n",
       "      <th>C5p</th>\n",
       "      <th>C6p</th>\n",
       "      <th>LongSentences</th>\n",
       "      <th>RealWords</th>\n",
       "      <th>LongWords</th>\n",
       "      <th>PositiveWords</th>\n",
       "      <th>NegativeWords</th>\n",
       "      <th>UncertainWords</th>\n",
       "    </tr>\n",
       "  </thead>\n",
       "  <tbody>\n",
       "    <tr>\n",
       "      <th>0</th>\n",
       "      <td>2.227033</td>\n",
       "      <td>1.0</td>\n",
       "      <td>1.228049</td>\n",
       "      <td>0.029074</td>\n",
       "      <td>17.528157</td>\n",
       "      <td>16.176365</td>\n",
       "      <td>1.927893</td>\n",
       "      <td>21.679483</td>\n",
       "      <td>112.778544</td>\n",
       "      <td>107.517440</td>\n",
       "      <td>...</td>\n",
       "      <td>2.275984</td>\n",
       "      <td>1</td>\n",
       "      <td>1.351792</td>\n",
       "      <td>1.493802</td>\n",
       "      <td>0.640426</td>\n",
       "      <td>0.646515</td>\n",
       "      <td>0.615270</td>\n",
       "      <td>0.169556</td>\n",
       "      <td>0.209529</td>\n",
       "      <td>0.221915</td>\n",
       "    </tr>\n",
       "    <tr>\n",
       "      <th>1</th>\n",
       "      <td>2.524740</td>\n",
       "      <td>0.0</td>\n",
       "      <td>NaN</td>\n",
       "      <td>-0.013352</td>\n",
       "      <td>17.178286</td>\n",
       "      <td>14.690979</td>\n",
       "      <td>1.720483</td>\n",
       "      <td>28.124722</td>\n",
       "      <td>147.621137</td>\n",
       "      <td>139.946418</td>\n",
       "      <td>...</td>\n",
       "      <td>2.487662</td>\n",
       "      <td>0</td>\n",
       "      <td>2.487306</td>\n",
       "      <td>0.000000</td>\n",
       "      <td>0.644753</td>\n",
       "      <td>0.641182</td>\n",
       "      <td>0.609752</td>\n",
       "      <td>0.148247</td>\n",
       "      <td>0.223103</td>\n",
       "      <td>0.221556</td>\n",
       "    </tr>\n",
       "    <tr>\n",
       "      <th>2</th>\n",
       "      <td>2.116933</td>\n",
       "      <td>1.0</td>\n",
       "      <td>NaN</td>\n",
       "      <td>0.020715</td>\n",
       "      <td>16.639604</td>\n",
       "      <td>15.424948</td>\n",
       "      <td>1.395264</td>\n",
       "      <td>14.177447</td>\n",
       "      <td>72.539644</td>\n",
       "      <td>69.173694</td>\n",
       "      <td>...</td>\n",
       "      <td>1.978602</td>\n",
       "      <td>0</td>\n",
       "      <td>1.214656</td>\n",
       "      <td>0.000000</td>\n",
       "      <td>0.636816</td>\n",
       "      <td>0.646763</td>\n",
       "      <td>0.628717</td>\n",
       "      <td>0.226322</td>\n",
       "      <td>0.184411</td>\n",
       "      <td>0.225078</td>\n",
       "    </tr>\n",
       "    <tr>\n",
       "      <th>3</th>\n",
       "      <td>2.436077</td>\n",
       "      <td>1.0</td>\n",
       "      <td>NaN</td>\n",
       "      <td>0.020023</td>\n",
       "      <td>16.513419</td>\n",
       "      <td>15.319588</td>\n",
       "      <td>1.429303</td>\n",
       "      <td>18.110770</td>\n",
       "      <td>90.879040</td>\n",
       "      <td>87.028731</td>\n",
       "      <td>...</td>\n",
       "      <td>2.188931</td>\n",
       "      <td>0</td>\n",
       "      <td>1.193831</td>\n",
       "      <td>0.000000</td>\n",
       "      <td>0.539634</td>\n",
       "      <td>0.650793</td>\n",
       "      <td>0.628490</td>\n",
       "      <td>0.213167</td>\n",
       "      <td>0.192593</td>\n",
       "      <td>0.237040</td>\n",
       "    </tr>\n",
       "    <tr>\n",
       "      <th>4</th>\n",
       "      <td>2.075782</td>\n",
       "      <td>1.0</td>\n",
       "      <td>0.641972</td>\n",
       "      <td>-0.034895</td>\n",
       "      <td>17.241131</td>\n",
       "      <td>15.925724</td>\n",
       "      <td>2.929681</td>\n",
       "      <td>23.916521</td>\n",
       "      <td>121.778487</td>\n",
       "      <td>114.786759</td>\n",
       "      <td>...</td>\n",
       "      <td>2.346674</td>\n",
       "      <td>1</td>\n",
       "      <td>1.315407</td>\n",
       "      <td>1.307660</td>\n",
       "      <td>0.587413</td>\n",
       "      <td>0.635767</td>\n",
       "      <td>0.603993</td>\n",
       "      <td>0.165315</td>\n",
       "      <td>0.215782</td>\n",
       "      <td>0.224143</td>\n",
       "    </tr>\n",
       "  </tbody>\n",
       "</table>\n",
       "<p>5 rows × 24 columns</p>\n",
       "</div>"
      ],
      "text/plain": [
       "         C1   C2        C3        C4         C5         C6        C7  \\\n",
       "0  2.227033  1.0  1.228049  0.029074  17.528157  16.176365  1.927893   \n",
       "1  2.524740  0.0       NaN -0.013352  17.178286  14.690979  1.720483   \n",
       "2  2.116933  1.0       NaN  0.020715  16.639604  15.424948  1.395264   \n",
       "3  2.436077  1.0       NaN  0.020023  16.513419  15.319588  1.429303   \n",
       "4  2.075782  1.0  0.641972 -0.034895  17.241131  15.925724  2.929681   \n",
       "\n",
       "          T1          T2          T3       ...              S3  C3p       C5p  \\\n",
       "0  21.679483  112.778544  107.517440       ...        2.275984    1  1.351792   \n",
       "1  28.124722  147.621137  139.946418       ...        2.487662    0  2.487306   \n",
       "2  14.177447   72.539644   69.173694       ...        1.978602    0  1.214656   \n",
       "3  18.110770   90.879040   87.028731       ...        2.188931    0  1.193831   \n",
       "4  23.916521  121.778487  114.786759       ...        2.346674    1  1.315407   \n",
       "\n",
       "        C6p  LongSentences  RealWords  LongWords  PositiveWords  \\\n",
       "0  1.493802       0.640426   0.646515   0.615270       0.169556   \n",
       "1  0.000000       0.644753   0.641182   0.609752       0.148247   \n",
       "2  0.000000       0.636816   0.646763   0.628717       0.226322   \n",
       "3  0.000000       0.539634   0.650793   0.628490       0.213167   \n",
       "4  1.307660       0.587413   0.635767   0.603993       0.165315   \n",
       "\n",
       "   NegativeWords  UncertainWords  \n",
       "0       0.209529        0.221915  \n",
       "1       0.223103        0.221556  \n",
       "2       0.184411        0.225078  \n",
       "3       0.192593        0.237040  \n",
       "4       0.215782        0.224143  \n",
       "\n",
       "[5 rows x 24 columns]"
      ]
     },
     "execution_count": 2,
     "metadata": {},
     "output_type": "execute_result"
    }
   ],
   "source": [
    "# read file \n",
    "df_std = pd.read_csv('csv_files/no_skewx2.csv', index_col=0)\n",
    "df_std.head()\n"
   ]
  },
  {
   "cell_type": "code",
   "execution_count": 55,
   "metadata": {},
   "outputs": [
    {
     "data": {
      "text/plain": [
       "{'whiskers': [<matplotlib.lines.Line2D at 0x7ff189b134e0>,\n",
       "  <matplotlib.lines.Line2D at 0x7ff189b13828>],\n",
       " 'caps': [<matplotlib.lines.Line2D at 0x7ff189b13b70>,\n",
       "  <matplotlib.lines.Line2D at 0x7ff189b13eb8>],\n",
       " 'boxes': [<matplotlib.lines.Line2D at 0x7ff189b13390>],\n",
       " 'medians': [<matplotlib.lines.Line2D at 0x7ff187591240>],\n",
       " 'fliers': [<matplotlib.lines.Line2D at 0x7ff187591588>],\n",
       " 'means': []}"
      ]
     },
     "execution_count": 55,
     "metadata": {},
     "output_type": "execute_result"
    },
    {
     "data": {
      "image/png": "[encoded data removed]",
      "text/plain": [
       "<Figure size 432x288 with 1 Axes>"
      ]
     },
     "metadata": {},
     "output_type": "display_data"
    }
   ],
   "source": [
    "plt.boxplot(df_std['C1'])"
   ]
  },
  {
   "cell_type": "code",
   "execution_count": 56,
   "metadata": {},
   "outputs": [],
   "source": [
    "df_binary = df_std.loc[:,['C2', 'C3p']]"
   ]
  },
  {
   "cell_type": "code",
   "execution_count": 14,
   "metadata": {},
   "outputs": [
    {
     "name": "stdout",
     "output_type": "stream",
     "text": [
      "False    673\n",
      "True       9\n",
      "Name: C1, dtype: int64\n"
     ]
    }
   ],
   "source": [
    "my_col = df_std[['C1']]\n",
    "my_col.head()\n",
    "u_bound = my_col.mean() + 3*my_col.std()\n",
    "l_bound = my_col.mean() - 3*my_col.std()\n",
    "\n",
    "outlier = (my_col > u_bound) | (my_col < l_bound)\n",
    "print(outlier.C1.value_counts())"
   ]
  },
  {
   "cell_type": "code",
   "execution_count": 44,
   "metadata": {},
   "outputs": [
    {
     "data": {
      "text/html": [
       "<div>\n",
       "<style scoped>\n",
       "    .dataframe tbody tr th:only-of-type {\n",
       "        vertical-align: middle;\n",
       "    }\n",
       "\n",
       "    .dataframe tbody tr th {\n",
       "        vertical-align: top;\n",
       "    }\n",
       "\n",
       "    .dataframe thead th {\n",
       "        text-align: right;\n",
       "    }\n",
       "</style>\n",
       "<table border=\"1\" class=\"dataframe\">\n",
       "  <thead>\n",
       "    <tr style=\"text-align: right;\">\n",
       "      <th></th>\n",
       "      <th>C2</th>\n",
       "      <th>C3p</th>\n",
       "    </tr>\n",
       "  </thead>\n",
       "  <tbody>\n",
       "    <tr>\n",
       "      <th>0</th>\n",
       "      <td>1.0</td>\n",
       "      <td>1</td>\n",
       "    </tr>\n",
       "    <tr>\n",
       "      <th>1</th>\n",
       "      <td>0.0</td>\n",
       "      <td>0</td>\n",
       "    </tr>\n",
       "    <tr>\n",
       "      <th>2</th>\n",
       "      <td>1.0</td>\n",
       "      <td>0</td>\n",
       "    </tr>\n",
       "    <tr>\n",
       "      <th>3</th>\n",
       "      <td>1.0</td>\n",
       "      <td>0</td>\n",
       "    </tr>\n",
       "    <tr>\n",
       "      <th>4</th>\n",
       "      <td>1.0</td>\n",
       "      <td>1</td>\n",
       "    </tr>\n",
       "  </tbody>\n",
       "</table>\n",
       "</div>"
      ],
      "text/plain": [
       "    C2  C3p\n",
       "0  1.0    1\n",
       "1  0.0    0\n",
       "2  1.0    0\n",
       "3  1.0    0\n",
       "4  1.0    1"
      ]
     },
     "execution_count": 44,
     "metadata": {},
     "output_type": "execute_result"
    }
   ],
   "source": [
    "df_binary.head()"
   ]
  },
  {
   "cell_type": "code",
   "execution_count": 45,
   "metadata": {},
   "outputs": [],
   "source": [
    "df_std = df_std.drop(labels = 'C2', axis =1)"
   ]
  },
  {
   "cell_type": "code",
   "execution_count": 46,
   "metadata": {},
   "outputs": [],
   "source": [
    "    col_value = df_std[col]\n",
    "    col_mean = df_std[col].mean()\n",
    "    col_std = df_std[col].std()"
   ]
  },
  {
   "cell_type": "code",
   "execution_count": 47,
   "metadata": {},
   "outputs": [],
   "source": [
    "upper_std_dev = []\n",
    "lower_std_dev = []\n",
    "\n",
    "for i in df_std.columns:\n",
    "    \n",
    "    col_mean = df_std[i].mean() \n",
    "    col_std = df_std[i].std()\n",
    "    top = col_mean + col_std*3\n",
    "    bottom = col_mean - col_std*3\n",
    "    \n",
    "    upper_std_dev.append(top)\n",
    "    lower_std_dev.append(bottom)\n",
    "    "
   ]
  },
  {
   "cell_type": "code",
   "execution_count": 49,
   "metadata": {},
   "outputs": [],
   "source": [
    "def std_outlier_handling(x, top, bottom):\n",
    "    if x > top:\n",
    "        x = top\n",
    "    elif x < bottom:\n",
    "        x = bottom\n",
    "    else:    \n",
    "        pass\n",
    "    return x"
   ]
  },
  {
   "cell_type": "code",
   "execution_count": 50,
   "metadata": {},
   "outputs": [],
   "source": [
    "for col in df_std.columns:\n",
    "#    u_std = df_std.loc[:,col]\n",
    "#    l_std = df_std.loc[:,col]\n",
    "    \n",
    "    upper = top\n",
    "    lower = bottom\n",
    "    \n",
    "    df_std.loc[:, col] = df_std.loc[:, col].apply(lambda x: std_outlier_handling(x, upper, lower))"
   ]
  },
  {
   "cell_type": "code",
   "execution_count": 51,
   "metadata": {},
   "outputs": [
    {
     "data": {
      "text/plain": [
       "{'whiskers': [<matplotlib.lines.Line2D at 0x7ff187644128>,\n",
       "  <matplotlib.lines.Line2D at 0x7ff187a17898>],\n",
       " 'caps': [<matplotlib.lines.Line2D at 0x7ff187644908>,\n",
       "  <matplotlib.lines.Line2D at 0x7ff187644c50>],\n",
       " 'boxes': [<matplotlib.lines.Line2D at 0x7ff1876441d0>],\n",
       " 'medians': [<matplotlib.lines.Line2D at 0x7ff187644f98>],\n",
       " 'fliers': [<matplotlib.lines.Line2D at 0x7ff18764c320>],\n",
       " 'means': []}"
      ]
     },
     "execution_count": 51,
     "metadata": {},
     "output_type": "execute_result"
    },
    {
     "data": {
      "image/png": "[encoded data removed]",
      "text/plain": [
       "<Figure size 432x288 with 1 Axes>"
      ]
     },
     "metadata": {},
     "output_type": "display_data"
    }
   ],
   "source": [
    "plt.boxplot(df_std['C1'])"
   ]
  },
  {
   "cell_type": "code",
   "execution_count": 52,
   "metadata": {},
   "outputs": [],
   "source": [
    "#(df.c > x1) or (df.c < x2)\n",
    "# if (df.c > x1):\n",
    "    #df[(df.c > x1)] = x1"
   ]
  },
  {
   "cell_type": "code",
   "execution_count": null,
   "metadata": {},
   "outputs": [],
   "source": []
  },
  {
   "cell_type": "code",
   "execution_count": null,
   "metadata": {},
   "outputs": [],
   "source": []
  }
 ],
 "metadata": {
  "kernelspec": {
   "display_name": "Python 3",
   "language": "python",
   "name": "python3"
  },
  "language_info": {
   "codemirror_mode": {
    "name": "ipython",
    "version": 3
   },
   "file_extension": ".py",
   "mimetype": "text/x-python",
   "name": "python",
   "nbconvert_exporter": "python",
   "pygments_lexer": "ipython3",
   "version": "3.6.5"
  }
 },
 "nbformat": 4,
 "nbformat_minor": 2
}
