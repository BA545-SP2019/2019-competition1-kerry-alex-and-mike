{
 "cells": [
  {
   "cell_type": "code",
   "execution_count": 1,
   "metadata": {},
   "outputs": [],
   "source": [
    "# import packages \n",
    "import numpy as np\n",
    "import pandas as pd\n",
    "import matplotlib.pyplot as plt"
   ]
  },
  {
   "cell_type": "code",
   "execution_count": 2,
   "metadata": {},
   "outputs": [
    {
     "data": {
      "text/html": [
       "<div>\n",
       "<style scoped>\n",
       "    .dataframe tbody tr th:only-of-type {\n",
       "        vertical-align: middle;\n",
       "    }\n",
       "\n",
       "    .dataframe tbody tr th {\n",
       "        vertical-align: top;\n",
       "    }\n",
       "\n",
       "    .dataframe thead th {\n",
       "        text-align: right;\n",
       "    }\n",
       "</style>\n",
       "<table border=\"1\" class=\"dataframe\">\n",
       "  <thead>\n",
       "    <tr style=\"text-align: right;\">\n",
       "      <th></th>\n",
       "      <th>C1</th>\n",
       "      <th>C4</th>\n",
       "      <th>C7</th>\n",
       "      <th>C3p</th>\n",
       "      <th>C5p</th>\n",
       "      <th>C6p</th>\n",
       "      <th>T4p</th>\n",
       "      <th>T3p</th>\n",
       "      <th>T5p</th>\n",
       "      <th>S1p</th>\n",
       "      <th>S2p</th>\n",
       "      <th>S3p</th>\n",
       "      <th>C2</th>\n",
       "    </tr>\n",
       "  </thead>\n",
       "  <tbody>\n",
       "    <tr>\n",
       "      <th>0</th>\n",
       "      <td>2.227033</td>\n",
       "      <td>0.029074</td>\n",
       "      <td>1.927893</td>\n",
       "      <td>0</td>\n",
       "      <td>1.351792</td>\n",
       "      <td>1.493802</td>\n",
       "      <td>0.640426</td>\n",
       "      <td>0.984202</td>\n",
       "      <td>0.615270</td>\n",
       "      <td>0.169556</td>\n",
       "      <td>0.209529</td>\n",
       "      <td>0.221915</td>\n",
       "      <td>1.0</td>\n",
       "    </tr>\n",
       "    <tr>\n",
       "      <th>1</th>\n",
       "      <td>2.524740</td>\n",
       "      <td>-0.013352</td>\n",
       "      <td>1.720483</td>\n",
       "      <td>1</td>\n",
       "      <td>2.487306</td>\n",
       "      <td>0.000000</td>\n",
       "      <td>0.644753</td>\n",
       "      <td>0.982361</td>\n",
       "      <td>0.609752</td>\n",
       "      <td>0.148247</td>\n",
       "      <td>0.223103</td>\n",
       "      <td>0.221556</td>\n",
       "      <td>0.0</td>\n",
       "    </tr>\n",
       "    <tr>\n",
       "      <th>2</th>\n",
       "      <td>2.116933</td>\n",
       "      <td>0.020715</td>\n",
       "      <td>1.395264</td>\n",
       "      <td>1</td>\n",
       "      <td>1.214656</td>\n",
       "      <td>0.000000</td>\n",
       "      <td>0.636816</td>\n",
       "      <td>0.984287</td>\n",
       "      <td>0.628717</td>\n",
       "      <td>0.226322</td>\n",
       "      <td>0.184411</td>\n",
       "      <td>0.225078</td>\n",
       "      <td>1.0</td>\n",
       "    </tr>\n",
       "    <tr>\n",
       "      <th>3</th>\n",
       "      <td>2.436077</td>\n",
       "      <td>0.020023</td>\n",
       "      <td>1.429303</td>\n",
       "      <td>1</td>\n",
       "      <td>1.193831</td>\n",
       "      <td>0.000000</td>\n",
       "      <td>0.539634</td>\n",
       "      <td>0.985673</td>\n",
       "      <td>0.628490</td>\n",
       "      <td>0.213167</td>\n",
       "      <td>0.192593</td>\n",
       "      <td>0.237040</td>\n",
       "      <td>1.0</td>\n",
       "    </tr>\n",
       "    <tr>\n",
       "      <th>4</th>\n",
       "      <td>2.075782</td>\n",
       "      <td>-0.034895</td>\n",
       "      <td>2.929681</td>\n",
       "      <td>0</td>\n",
       "      <td>1.315407</td>\n",
       "      <td>1.307660</td>\n",
       "      <td>0.587413</td>\n",
       "      <td>0.980484</td>\n",
       "      <td>0.603993</td>\n",
       "      <td>0.165315</td>\n",
       "      <td>0.215782</td>\n",
       "      <td>0.224143</td>\n",
       "      <td>1.0</td>\n",
       "    </tr>\n",
       "  </tbody>\n",
       "</table>\n",
       "</div>"
      ],
      "text/plain": [
       "         C1        C4        C7  C3p       C5p       C6p       T4p       T3p  \\\n",
       "0  2.227033  0.029074  1.927893    0  1.351792  1.493802  0.640426  0.984202   \n",
       "1  2.524740 -0.013352  1.720483    1  2.487306  0.000000  0.644753  0.982361   \n",
       "2  2.116933  0.020715  1.395264    1  1.214656  0.000000  0.636816  0.984287   \n",
       "3  2.436077  0.020023  1.429303    1  1.193831  0.000000  0.539634  0.985673   \n",
       "4  2.075782 -0.034895  2.929681    0  1.315407  1.307660  0.587413  0.980484   \n",
       "\n",
       "        T5p       S1p       S2p       S3p   C2  \n",
       "0  0.615270  0.169556  0.209529  0.221915  1.0  \n",
       "1  0.609752  0.148247  0.223103  0.221556  0.0  \n",
       "2  0.628717  0.226322  0.184411  0.225078  1.0  \n",
       "3  0.628490  0.213167  0.192593  0.237040  1.0  \n",
       "4  0.603993  0.165315  0.215782  0.224143  1.0  "
      ]
     },
     "execution_count": 2,
     "metadata": {},
     "output_type": "execute_result"
    }
   ],
   "source": [
    "# read file \n",
    "dfx = pd.read_csv('../csv_files/p2no_skew.csv', index_col=0)\n",
    "dfx.head()"
   ]
  },
  {
   "cell_type": "code",
   "execution_count": 3,
   "metadata": {},
   "outputs": [
    {
     "data": {
      "text/html": [
       "<div>\n",
       "<style scoped>\n",
       "    .dataframe tbody tr th:only-of-type {\n",
       "        vertical-align: middle;\n",
       "    }\n",
       "\n",
       "    .dataframe tbody tr th {\n",
       "        vertical-align: top;\n",
       "    }\n",
       "\n",
       "    .dataframe thead th {\n",
       "        text-align: right;\n",
       "    }\n",
       "</style>\n",
       "<table border=\"1\" class=\"dataframe\">\n",
       "  <thead>\n",
       "    <tr style=\"text-align: right;\">\n",
       "      <th></th>\n",
       "      <th>C2</th>\n",
       "      <th>C3p</th>\n",
       "    </tr>\n",
       "  </thead>\n",
       "  <tbody>\n",
       "    <tr>\n",
       "      <th>0</th>\n",
       "      <td>1.0</td>\n",
       "      <td>0</td>\n",
       "    </tr>\n",
       "    <tr>\n",
       "      <th>1</th>\n",
       "      <td>0.0</td>\n",
       "      <td>1</td>\n",
       "    </tr>\n",
       "    <tr>\n",
       "      <th>2</th>\n",
       "      <td>1.0</td>\n",
       "      <td>1</td>\n",
       "    </tr>\n",
       "    <tr>\n",
       "      <th>3</th>\n",
       "      <td>1.0</td>\n",
       "      <td>1</td>\n",
       "    </tr>\n",
       "    <tr>\n",
       "      <th>4</th>\n",
       "      <td>1.0</td>\n",
       "      <td>0</td>\n",
       "    </tr>\n",
       "  </tbody>\n",
       "</table>\n",
       "</div>"
      ],
      "text/plain": [
       "    C2  C3p\n",
       "0  1.0    0\n",
       "1  0.0    1\n",
       "2  1.0    1\n",
       "3  1.0    1\n",
       "4  1.0    0"
      ]
     },
     "execution_count": 3,
     "metadata": {},
     "output_type": "execute_result"
    }
   ],
   "source": [
    "# separate out binary variables \n",
    "# they do not need to be normalized or standardized\n",
    "dfbinary = dfx.filter(['C2', 'C3p'])\n",
    "dfbinary.head()"
   ]
  },
  {
   "cell_type": "code",
   "execution_count": 4,
   "metadata": {},
   "outputs": [
    {
     "data": {
      "text/html": [
       "<div>\n",
       "<style scoped>\n",
       "    .dataframe tbody tr th:only-of-type {\n",
       "        vertical-align: middle;\n",
       "    }\n",
       "\n",
       "    .dataframe tbody tr th {\n",
       "        vertical-align: top;\n",
       "    }\n",
       "\n",
       "    .dataframe thead th {\n",
       "        text-align: right;\n",
       "    }\n",
       "</style>\n",
       "<table border=\"1\" class=\"dataframe\">\n",
       "  <thead>\n",
       "    <tr style=\"text-align: right;\">\n",
       "      <th></th>\n",
       "      <th>C1</th>\n",
       "      <th>C4</th>\n",
       "      <th>C7</th>\n",
       "      <th>C5p</th>\n",
       "      <th>C6p</th>\n",
       "      <th>T4p</th>\n",
       "      <th>T3p</th>\n",
       "      <th>T5p</th>\n",
       "      <th>S1p</th>\n",
       "      <th>S2p</th>\n",
       "      <th>S3p</th>\n",
       "    </tr>\n",
       "  </thead>\n",
       "  <tbody>\n",
       "    <tr>\n",
       "      <th>0</th>\n",
       "      <td>2.227033</td>\n",
       "      <td>0.029074</td>\n",
       "      <td>1.927893</td>\n",
       "      <td>1.351792</td>\n",
       "      <td>1.493802</td>\n",
       "      <td>0.640426</td>\n",
       "      <td>0.984202</td>\n",
       "      <td>0.615270</td>\n",
       "      <td>0.169556</td>\n",
       "      <td>0.209529</td>\n",
       "      <td>0.221915</td>\n",
       "    </tr>\n",
       "    <tr>\n",
       "      <th>1</th>\n",
       "      <td>2.524740</td>\n",
       "      <td>-0.013352</td>\n",
       "      <td>1.720483</td>\n",
       "      <td>2.487306</td>\n",
       "      <td>0.000000</td>\n",
       "      <td>0.644753</td>\n",
       "      <td>0.982361</td>\n",
       "      <td>0.609752</td>\n",
       "      <td>0.148247</td>\n",
       "      <td>0.223103</td>\n",
       "      <td>0.221556</td>\n",
       "    </tr>\n",
       "    <tr>\n",
       "      <th>2</th>\n",
       "      <td>2.116933</td>\n",
       "      <td>0.020715</td>\n",
       "      <td>1.395264</td>\n",
       "      <td>1.214656</td>\n",
       "      <td>0.000000</td>\n",
       "      <td>0.636816</td>\n",
       "      <td>0.984287</td>\n",
       "      <td>0.628717</td>\n",
       "      <td>0.226322</td>\n",
       "      <td>0.184411</td>\n",
       "      <td>0.225078</td>\n",
       "    </tr>\n",
       "    <tr>\n",
       "      <th>3</th>\n",
       "      <td>2.436077</td>\n",
       "      <td>0.020023</td>\n",
       "      <td>1.429303</td>\n",
       "      <td>1.193831</td>\n",
       "      <td>0.000000</td>\n",
       "      <td>0.539634</td>\n",
       "      <td>0.985673</td>\n",
       "      <td>0.628490</td>\n",
       "      <td>0.213167</td>\n",
       "      <td>0.192593</td>\n",
       "      <td>0.237040</td>\n",
       "    </tr>\n",
       "    <tr>\n",
       "      <th>4</th>\n",
       "      <td>2.075782</td>\n",
       "      <td>-0.034895</td>\n",
       "      <td>2.929681</td>\n",
       "      <td>1.315407</td>\n",
       "      <td>1.307660</td>\n",
       "      <td>0.587413</td>\n",
       "      <td>0.980484</td>\n",
       "      <td>0.603993</td>\n",
       "      <td>0.165315</td>\n",
       "      <td>0.215782</td>\n",
       "      <td>0.224143</td>\n",
       "    </tr>\n",
       "  </tbody>\n",
       "</table>\n",
       "</div>"
      ],
      "text/plain": [
       "         C1        C4        C7       C5p       C6p       T4p       T3p  \\\n",
       "0  2.227033  0.029074  1.927893  1.351792  1.493802  0.640426  0.984202   \n",
       "1  2.524740 -0.013352  1.720483  2.487306  0.000000  0.644753  0.982361   \n",
       "2  2.116933  0.020715  1.395264  1.214656  0.000000  0.636816  0.984287   \n",
       "3  2.436077  0.020023  1.429303  1.193831  0.000000  0.539634  0.985673   \n",
       "4  2.075782 -0.034895  2.929681  1.315407  1.307660  0.587413  0.980484   \n",
       "\n",
       "        T5p       S1p       S2p       S3p  \n",
       "0  0.615270  0.169556  0.209529  0.221915  \n",
       "1  0.609752  0.148247  0.223103  0.221556  \n",
       "2  0.628717  0.226322  0.184411  0.225078  \n",
       "3  0.628490  0.213167  0.192593  0.237040  \n",
       "4  0.603993  0.165315  0.215782  0.224143  "
      ]
     },
     "execution_count": 4,
     "metadata": {},
     "output_type": "execute_result"
    }
   ],
   "source": [
    "# drop binary variables from the working dataframe \n",
    "dfx = dfx.drop(labels=['C2', 'C3p'],axis=1)\n",
    "dfx.head()"
   ]
  },
  {
   "cell_type": "markdown",
   "metadata": {},
   "source": [
    "**Check if process works with one column**"
   ]
  },
  {
   "cell_type": "code",
   "execution_count": 5,
   "metadata": {},
   "outputs": [
    {
     "data": {
      "text/plain": [
       "0    2.227033\n",
       "1    2.524740\n",
       "2    2.116933\n",
       "3    2.436077\n",
       "4    2.075782\n",
       "Name: C1, dtype: float64"
      ]
     },
     "execution_count": 5,
     "metadata": {},
     "output_type": "execute_result"
    }
   ],
   "source": [
    "my_col = dfx['C1']\n",
    "my_col.head()"
   ]
  },
  {
   "cell_type": "code",
   "execution_count": 6,
   "metadata": {},
   "outputs": [
    {
     "name": "stdout",
     "output_type": "stream",
     "text": [
      "2.9704458878613647\n"
     ]
    }
   ],
   "source": [
    "# define upper boundary\n",
    "u_bound = my_col.mean() + 3* my_col.std()\n",
    "print(u_bound)"
   ]
  },
  {
   "cell_type": "code",
   "execution_count": 7,
   "metadata": {},
   "outputs": [
    {
     "data": {
      "text/plain": [
       "65     3.574816\n",
       "141    3.067427\n",
       "228    3.089133\n",
       "391    3.316625\n",
       "396    2.972635\n",
       "413    3.004782\n",
       "628    3.063733\n",
       "665    3.289497\n",
       "Name: C1, dtype: float64"
      ]
     },
     "execution_count": 7,
     "metadata": {},
     "output_type": "execute_result"
    }
   ],
   "source": [
    "# which records are above the upper boundary\n",
    "my_col[my_col>u_bound]"
   ]
  },
  {
   "cell_type": "code",
   "execution_count": 8,
   "metadata": {},
   "outputs": [],
   "source": [
    "# replace outliers with upper boundary\n",
    "my_col[my_col>u_bound] = u_bound"
   ]
  },
  {
   "cell_type": "code",
   "execution_count": 9,
   "metadata": {},
   "outputs": [
    {
     "data": {
      "text/plain": [
       "False    682\n",
       "Name: C1, dtype: int64"
      ]
     },
     "execution_count": 9,
     "metadata": {},
     "output_type": "execute_result"
    }
   ],
   "source": [
    "# check\n",
    "pd.Series(my_col>u_bound).value_counts()"
   ]
  },
  {
   "cell_type": "code",
   "execution_count": 10,
   "metadata": {},
   "outputs": [
    {
     "data": {
      "text/plain": [
       "Series([], Name: C1, dtype: float64)"
      ]
     },
     "execution_count": 10,
     "metadata": {},
     "output_type": "execute_result"
    }
   ],
   "source": [
    "# another check\n",
    "my_col[my_col>u_bound]"
   ]
  },
  {
   "cell_type": "code",
   "execution_count": 11,
   "metadata": {},
   "outputs": [
    {
     "name": "stdout",
     "output_type": "stream",
     "text": [
      "1.4993056100937951\n"
     ]
    }
   ],
   "source": [
    "# define lower boundary \n",
    "l_bound = my_col.mean() - 3* my_col.std()\n",
    "print(l_bound)"
   ]
  },
  {
   "cell_type": "code",
   "execution_count": 12,
   "metadata": {},
   "outputs": [
    {
     "data": {
      "text/plain": [
       "148    1.491301\n",
       "575    1.467799\n",
       "589    1.467799\n",
       "Name: C1, dtype: float64"
      ]
     },
     "execution_count": 12,
     "metadata": {},
     "output_type": "execute_result"
    }
   ],
   "source": [
    "# which records are under the lower boundary\n",
    "my_col[my_col<l_bound]"
   ]
  },
  {
   "cell_type": "code",
   "execution_count": 13,
   "metadata": {},
   "outputs": [],
   "source": [
    "# replace outliers with lower boundary\n",
    "my_col[my_col<l_bound] = l_bound"
   ]
  },
  {
   "cell_type": "code",
   "execution_count": 14,
   "metadata": {},
   "outputs": [
    {
     "data": {
      "text/plain": [
       "False    682\n",
       "Name: C1, dtype: int64"
      ]
     },
     "execution_count": 14,
     "metadata": {},
     "output_type": "execute_result"
    }
   ],
   "source": [
    "# check\n",
    "pd.Series(my_col<l_bound).value_counts()"
   ]
  },
  {
   "cell_type": "code",
   "execution_count": 15,
   "metadata": {},
   "outputs": [
    {
     "data": {
      "text/plain": [
       "Series([], Name: C1, dtype: float64)"
      ]
     },
     "execution_count": 15,
     "metadata": {},
     "output_type": "execute_result"
    }
   ],
   "source": [
    "# another check\n",
    "my_col[my_col<l_bound]"
   ]
  },
  {
   "cell_type": "markdown",
   "metadata": {},
   "source": [
    "**All Columns Upper**"
   ]
  },
  {
   "cell_type": "code",
   "execution_count": 16,
   "metadata": {},
   "outputs": [],
   "source": [
    "for col in dfx.columns:\n",
    "    u_bound = dfx[col].mean() + 3* dfx[col].std()\n",
    "    dfx[col][dfx[col] > u_bound] = u_bound"
   ]
  },
  {
   "cell_type": "code",
   "execution_count": 17,
   "metadata": {},
   "outputs": [
    {
     "data": {
      "text/plain": [
       "False    682\n",
       "Name: S3p, dtype: int64"
      ]
     },
     "execution_count": 17,
     "metadata": {},
     "output_type": "execute_result"
    }
   ],
   "source": [
    "# check\n",
    "pd.Series(dfx[col][dfx[col]] > u_bound).value_counts()"
   ]
  },
  {
   "cell_type": "markdown",
   "metadata": {},
   "source": [
    "**All Columns Lower**"
   ]
  },
  {
   "cell_type": "code",
   "execution_count": 18,
   "metadata": {},
   "outputs": [],
   "source": [
    "for col in dfx.columns:\n",
    "    l_bound = dfx[col].mean() - 3* dfx[col].std()\n",
    "    dfx[col][dfx[col] < l_bound] = l_bound"
   ]
  },
  {
   "cell_type": "code",
   "execution_count": 19,
   "metadata": {},
   "outputs": [
    {
     "data": {
      "text/plain": [
       "False    682\n",
       "Name: S3p, dtype: int64"
      ]
     },
     "execution_count": 19,
     "metadata": {},
     "output_type": "execute_result"
    }
   ],
   "source": [
    "# check\n",
    "pd.Series(dfx[col][dfx[col]] < l_bound).value_counts()"
   ]
  },
  {
   "cell_type": "markdown",
   "metadata": {},
   "source": [
    "**Verifying that outliers were removed**"
   ]
  },
  {
   "cell_type": "markdown",
   "metadata": {},
   "source": [
    "whis = 'range' allows the whiskers of the plot to encompass all values up until the upper and lower bounds "
   ]
  },
  {
   "cell_type": "code",
   "execution_count": 20,
   "metadata": {},
   "outputs": [
    {
     "data": {
      "image/png": "[encoded data removed]",
      "text/plain": [
       "<Figure size 432x288 with 1 Axes>"
      ]
     },
     "metadata": {},
     "output_type": "display_data"
    }
   ],
   "source": [
    "plt.boxplot(dfx['C1'], whis='range')\n",
    "plt.show()"
   ]
  },
  {
   "cell_type": "code",
   "execution_count": 21,
   "metadata": {},
   "outputs": [
    {
     "data": {
      "image/png": "[encoded data removed]",
      "text/plain": [
       "<Figure size 432x288 with 1 Axes>"
      ]
     },
     "metadata": {},
     "output_type": "display_data"
    }
   ],
   "source": [
    "plt.boxplot(dfx['C4'], whis='range')\n",
    "plt.show()"
   ]
  },
  {
   "cell_type": "code",
   "execution_count": 22,
   "metadata": {},
   "outputs": [
    {
     "data": {
      "image/png": "[encoded data removed]",
      "text/plain": [
       "<Figure size 432x288 with 1 Axes>"
      ]
     },
     "metadata": {},
     "output_type": "display_data"
    }
   ],
   "source": [
    "plt.boxplot(dfx['C5p'], whis='range')\n",
    "plt.show()"
   ]
  },
  {
   "cell_type": "code",
   "execution_count": 23,
   "metadata": {},
   "outputs": [
    {
     "data": {
      "image/png": "[encoded data removed]",
      "text/plain": [
       "<Figure size 432x288 with 1 Axes>"
      ]
     },
     "metadata": {},
     "output_type": "display_data"
    }
   ],
   "source": [
    "plt.boxplot(dfx['C6p'], whis='range')\n",
    "plt.show()"
   ]
  },
  {
   "cell_type": "code",
   "execution_count": 24,
   "metadata": {},
   "outputs": [
    {
     "data": {
      "image/png": "[encoded data removed]",
      "text/plain": [
       "<Figure size 432x288 with 1 Axes>"
      ]
     },
     "metadata": {},
     "output_type": "display_data"
    }
   ],
   "source": [
    "plt.boxplot(dfx['C7'], whis='range')\n",
    "plt.show()"
   ]
  },
  {
   "cell_type": "code",
   "execution_count": 25,
   "metadata": {},
   "outputs": [
    {
     "data": {
      "image/png": "[encoded data removed]",
      "text/plain": [
       "<Figure size 432x288 with 1 Axes>"
      ]
     },
     "metadata": {},
     "output_type": "display_data"
    }
   ],
   "source": [
    "plt.boxplot(dfx['T3p'], whis='range')\n",
    "plt.show()"
   ]
  },
  {
   "cell_type": "code",
   "execution_count": 26,
   "metadata": {},
   "outputs": [
    {
     "data": {
      "image/png": "[encoded data removed]",
      "text/plain": [
       "<Figure size 432x288 with 1 Axes>"
      ]
     },
     "metadata": {},
     "output_type": "display_data"
    }
   ],
   "source": [
    "plt.boxplot(dfx['T4p'], whis='range')\n",
    "plt.show()"
   ]
  },
  {
   "cell_type": "code",
   "execution_count": 27,
   "metadata": {},
   "outputs": [
    {
     "data": {
      "image/png": "[encoded data removed]",
      "text/plain": [
       "<Figure size 432x288 with 1 Axes>"
      ]
     },
     "metadata": {},
     "output_type": "display_data"
    }
   ],
   "source": [
    "plt.boxplot(dfx['T5p'], whis='range')\n",
    "plt.show()"
   ]
  },
  {
   "cell_type": "code",
   "execution_count": 28,
   "metadata": {},
   "outputs": [
    {
     "data": {
      "image/png": "[encoded data removed]",
      "text/plain": [
       "<Figure size 432x288 with 1 Axes>"
      ]
     },
     "metadata": {},
     "output_type": "display_data"
    }
   ],
   "source": [
    "plt.boxplot(dfx['S1p'], whis='range')\n",
    "plt.show()"
   ]
  },
  {
   "cell_type": "code",
   "execution_count": 29,
   "metadata": {},
   "outputs": [
    {
     "data": {
      "image/png": "[encoded data removed]",
      "text/plain": [
       "<Figure size 432x288 with 1 Axes>"
      ]
     },
     "metadata": {},
     "output_type": "display_data"
    }
   ],
   "source": [
    "plt.boxplot(dfx['S2p'], whis='range')\n",
    "plt.show()"
   ]
  },
  {
   "cell_type": "code",
   "execution_count": 30,
   "metadata": {},
   "outputs": [
    {
     "data": {
      "image/png": "[encoded data removed]",
      "text/plain": [
       "<Figure size 432x288 with 1 Axes>"
      ]
     },
     "metadata": {},
     "output_type": "display_data"
    }
   ],
   "source": [
    "plt.boxplot(dfx['S3p'], whis='range')\n",
    "plt.show()"
   ]
  },
  {
   "cell_type": "code",
   "execution_count": 31,
   "metadata": {},
   "outputs": [
    {
     "data": {
      "text/html": [
       "<div>\n",
       "<style scoped>\n",
       "    .dataframe tbody tr th:only-of-type {\n",
       "        vertical-align: middle;\n",
       "    }\n",
       "\n",
       "    .dataframe tbody tr th {\n",
       "        vertical-align: top;\n",
       "    }\n",
       "\n",
       "    .dataframe thead th {\n",
       "        text-align: right;\n",
       "    }\n",
       "</style>\n",
       "<table border=\"1\" class=\"dataframe\">\n",
       "  <thead>\n",
       "    <tr style=\"text-align: right;\">\n",
       "      <th></th>\n",
       "      <th>C1</th>\n",
       "      <th>C4</th>\n",
       "      <th>C7</th>\n",
       "      <th>C5p</th>\n",
       "      <th>C6p</th>\n",
       "      <th>T4p</th>\n",
       "      <th>T3p</th>\n",
       "      <th>T5p</th>\n",
       "      <th>S1p</th>\n",
       "      <th>S2p</th>\n",
       "      <th>S3p</th>\n",
       "      <th>C2</th>\n",
       "      <th>C3p</th>\n",
       "    </tr>\n",
       "  </thead>\n",
       "  <tbody>\n",
       "    <tr>\n",
       "      <th>0</th>\n",
       "      <td>2.227033</td>\n",
       "      <td>0.029074</td>\n",
       "      <td>1.927893</td>\n",
       "      <td>1.351792</td>\n",
       "      <td>1.493802</td>\n",
       "      <td>0.640426</td>\n",
       "      <td>0.984202</td>\n",
       "      <td>0.615270</td>\n",
       "      <td>0.169556</td>\n",
       "      <td>0.209529</td>\n",
       "      <td>0.221915</td>\n",
       "      <td>1.0</td>\n",
       "      <td>0</td>\n",
       "    </tr>\n",
       "    <tr>\n",
       "      <th>1</th>\n",
       "      <td>2.524740</td>\n",
       "      <td>-0.013352</td>\n",
       "      <td>1.720483</td>\n",
       "      <td>2.487306</td>\n",
       "      <td>0.000000</td>\n",
       "      <td>0.644753</td>\n",
       "      <td>0.982361</td>\n",
       "      <td>0.609752</td>\n",
       "      <td>0.148247</td>\n",
       "      <td>0.223103</td>\n",
       "      <td>0.221556</td>\n",
       "      <td>0.0</td>\n",
       "      <td>1</td>\n",
       "    </tr>\n",
       "    <tr>\n",
       "      <th>2</th>\n",
       "      <td>2.116933</td>\n",
       "      <td>0.020715</td>\n",
       "      <td>1.395264</td>\n",
       "      <td>1.214656</td>\n",
       "      <td>0.000000</td>\n",
       "      <td>0.636816</td>\n",
       "      <td>0.984287</td>\n",
       "      <td>0.628717</td>\n",
       "      <td>0.226322</td>\n",
       "      <td>0.184411</td>\n",
       "      <td>0.225078</td>\n",
       "      <td>1.0</td>\n",
       "      <td>1</td>\n",
       "    </tr>\n",
       "    <tr>\n",
       "      <th>3</th>\n",
       "      <td>2.436077</td>\n",
       "      <td>0.020023</td>\n",
       "      <td>1.429303</td>\n",
       "      <td>1.193831</td>\n",
       "      <td>0.000000</td>\n",
       "      <td>0.539634</td>\n",
       "      <td>0.985673</td>\n",
       "      <td>0.628490</td>\n",
       "      <td>0.213167</td>\n",
       "      <td>0.192593</td>\n",
       "      <td>0.237040</td>\n",
       "      <td>1.0</td>\n",
       "      <td>1</td>\n",
       "    </tr>\n",
       "    <tr>\n",
       "      <th>4</th>\n",
       "      <td>2.075782</td>\n",
       "      <td>-0.034895</td>\n",
       "      <td>2.929681</td>\n",
       "      <td>1.315407</td>\n",
       "      <td>1.307660</td>\n",
       "      <td>0.587413</td>\n",
       "      <td>0.980484</td>\n",
       "      <td>0.603993</td>\n",
       "      <td>0.165315</td>\n",
       "      <td>0.215782</td>\n",
       "      <td>0.224143</td>\n",
       "      <td>1.0</td>\n",
       "      <td>0</td>\n",
       "    </tr>\n",
       "  </tbody>\n",
       "</table>\n",
       "</div>"
      ],
      "text/plain": [
       "         C1        C4        C7       C5p       C6p       T4p       T3p  \\\n",
       "0  2.227033  0.029074  1.927893  1.351792  1.493802  0.640426  0.984202   \n",
       "1  2.524740 -0.013352  1.720483  2.487306  0.000000  0.644753  0.982361   \n",
       "2  2.116933  0.020715  1.395264  1.214656  0.000000  0.636816  0.984287   \n",
       "3  2.436077  0.020023  1.429303  1.193831  0.000000  0.539634  0.985673   \n",
       "4  2.075782 -0.034895  2.929681  1.315407  1.307660  0.587413  0.980484   \n",
       "\n",
       "        T5p       S1p       S2p       S3p   C2  C3p  \n",
       "0  0.615270  0.169556  0.209529  0.221915  1.0    0  \n",
       "1  0.609752  0.148247  0.223103  0.221556  0.0    1  \n",
       "2  0.628717  0.226322  0.184411  0.225078  1.0    1  \n",
       "3  0.628490  0.213167  0.192593  0.237040  1.0    1  \n",
       "4  0.603993  0.165315  0.215782  0.224143  1.0    0  "
      ]
     },
     "execution_count": 31,
     "metadata": {},
     "output_type": "execute_result"
    }
   ],
   "source": [
    "# concat binary variables back in with the main dataframe \n",
    "dfx = pd.concat([dfx, dfbinary], axis=1)\n",
    "dfx.head()"
   ]
  },
  {
   "cell_type": "code",
   "execution_count": 32,
   "metadata": {},
   "outputs": [],
   "source": [
    "dfx.to_csv('../csv_files/p2stdev.csv')"
   ]
  },
  {
   "cell_type": "code",
   "execution_count": null,
   "metadata": {},
   "outputs": [],
   "source": []
  }
 ],
 "metadata": {
  "kernelspec": {
   "display_name": "Python 3",
   "language": "python",
   "name": "python3"
  },
  "language_info": {
   "codemirror_mode": {
    "name": "ipython",
    "version": 3
   },
   "file_extension": ".py",
   "mimetype": "text/x-python",
   "name": "python",
   "nbconvert_exporter": "python",
   "pygments_lexer": "ipython3",
   "version": "3.6.5"
  }
 },
 "nbformat": 4,
 "nbformat_minor": 2
}
