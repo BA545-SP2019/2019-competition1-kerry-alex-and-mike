{
 "cells": [
  {
   "cell_type": "code",
   "execution_count": 1,
   "metadata": {},
   "outputs": [],
   "source": [
    "import pandas as pd\n",
    "import numpy as np\n",
    "from sklearn.linear_model import Ridge"
   ]
  },
  {
   "cell_type": "code",
   "execution_count": 2,
   "metadata": {},
   "outputs": [],
   "source": [
    "# load the dataset into a DataFrame object\n",
    "finaldata = pd.read_csv(\"../csv_files/p2evalcode.csv\", index_col = 0)\n",
    "finaldata2 = finaldata.drop('C2', axis=1)"
   ]
  },
  {
   "cell_type": "code",
   "execution_count": 3,
   "metadata": {},
   "outputs": [
    {
     "name": "stdout",
     "output_type": "stream",
     "text": [
      "         C1        C4        C6        C7       C5p       T4p       T3p  \\\n",
      "0  0.013297  0.671107  0.336688 -0.561408  0.054797  0.168664  0.385146   \n",
      "1  1.259277 -0.641901 -1.649356 -0.861441  2.432764  0.229323  0.151570   \n",
      "2 -0.447500  0.412402 -0.667998 -1.331894 -0.232390  0.118072  0.396011   \n",
      "3  0.888201  0.390990 -0.808871 -1.282655 -0.276002 -1.244015  0.572529   \n",
      "4 -0.619728 -1.308620  0.001567  0.887747 -0.021399 -0.574359 -0.085643   \n",
      "\n",
      "        T5p       S1p       S2p       S3p  C3p  Industry_Bins  Y1  Y2  \n",
      "0  0.310576 -0.147291  0.165044 -0.128181    0              1   0   1  \n",
      "1 -0.016410 -1.241195  0.781034 -0.147795    1              1   1   0  \n",
      "2  1.107408  2.766871 -0.974778  0.044531    1              1   1   0  \n",
      "3  1.093939  2.091573 -0.603481  0.697712    1              1   1   1  \n",
      "4 -0.357698 -0.365024  0.448793 -0.006539    0              3   0   1  \n",
      "(682, 15)\n"
     ]
    }
   ],
   "source": [
    "# print out the first five columns of the data\n",
    "print(finaldata2.head())\n",
    "print(finaldata2.shape)"
   ]
  },
  {
   "cell_type": "code",
   "execution_count": 4,
   "metadata": {},
   "outputs": [],
   "source": [
    "# convert the Dataframe to a Numpy array\n",
    "array = finaldata2.values\n",
    "X = array[:,:13] #features\n",
    "Y1 = array[:,13] #Y1target\n"
   ]
  },
  {
   "cell_type": "code",
   "execution_count": 5,
   "metadata": {},
   "outputs": [
    {
     "data": {
      "text/plain": [
       "Ridge(alpha=1.0, copy_X=True, fit_intercept=True, max_iter=None,\n",
       "   normalize=False, random_state=None, solver='auto', tol=0.001)"
      ]
     },
     "execution_count": 5,
     "metadata": {},
     "output_type": "execute_result"
    }
   ],
   "source": [
    "# use Ridge regression\n",
    "ridge = Ridge(alpha=1.0)\n",
    "ridge.fit(X,Y1)"
   ]
  },
  {
   "cell_type": "code",
   "execution_count": 6,
   "metadata": {},
   "outputs": [],
   "source": [
    "# A helper method for pretty-printing the coefficients\n",
    "def pretty_print_coefs(coefs, names = None, sort = False):\n",
    "    if names == None:\n",
    "        names = [\"X%s\" % x for x in range(len(coefs))]\n",
    "    lst = zip(coefs, names)\n",
    "    if sort:\n",
    "        lst = sorted(lst,  key = lambda x:-np.abs(x[0]))\n",
    "    return \" + \".join(\"%s * %s\" % (round(coef, 3), name)\n",
    "                                   for coef, name in lst)"
   ]
  },
  {
   "cell_type": "code",
   "execution_count": 7,
   "metadata": {},
   "outputs": [
    {
     "name": "stdout",
     "output_type": "stream",
     "text": [
      "Ridge model: 0.019 * X0 + -0.048 * X1 + -0.051 * X2 + 0.007 * X3 + -0.057 * X4 + 0.055 * X5 + -0.018 * X6 + 0.022 * X7 + 0.032 * X8 + 0.074 * X9 + -0.008 * X10 + 0.089 * X11 + -0.036 * X12\n"
     ]
    }
   ],
   "source": [
    "print (\"Ridge model:\", pretty_print_coefs(ridge.coef_))"
   ]
  },
  {
   "cell_type": "code",
   "execution_count": 8,
   "metadata": {},
   "outputs": [],
   "source": [
    "# convert the Dataframe to a Numpy array\n",
    "array = finaldata2.values\n",
    "X = array[:,:13] #features\n",
    "Y2 = array[:,14] #Y2target"
   ]
  },
  {
   "cell_type": "code",
   "execution_count": 9,
   "metadata": {},
   "outputs": [
    {
     "data": {
      "text/plain": [
       "Ridge(alpha=1.0, copy_X=True, fit_intercept=True, max_iter=None,\n",
       "   normalize=False, random_state=None, solver='auto', tol=0.001)"
      ]
     },
     "execution_count": 9,
     "metadata": {},
     "output_type": "execute_result"
    }
   ],
   "source": [
    "# use Ridge regression\n",
    "ridge = Ridge(alpha=1.0)\n",
    "ridge.fit(X,Y2)"
   ]
  },
  {
   "cell_type": "code",
   "execution_count": 10,
   "metadata": {},
   "outputs": [],
   "source": [
    "# A helper method for pretty-printing the coefficients\n",
    "def pretty_print_coefs(coefs, names = None, sort = False):\n",
    "    if names == None:\n",
    "        names = [\"X%s\" % x for x in range(len(coefs))]\n",
    "    lst = zip(coefs, names)\n",
    "    if sort:\n",
    "        lst = sorted(lst,  key = lambda x:-np.abs(x[0]))\n",
    "    return \" + \".join(\"%s * %s\" % (round(coef, 3), name)\n",
    "                                   for coef, name in lst)"
   ]
  },
  {
   "cell_type": "code",
   "execution_count": 11,
   "metadata": {},
   "outputs": [
    {
     "name": "stdout",
     "output_type": "stream",
     "text": [
      "Ridge model: -0.011 * X0 + 0.044 * X1 + 0.032 * X2 + -0.014 * X3 + 0.038 * X4 + -0.012 * X5 + -0.018 * X6 + 0.031 * X7 + -0.028 * X8 + -0.048 * X9 + 0.012 * X10 + 0.001 * X11 + -0.045 * X12\n"
     ]
    }
   ],
   "source": [
    "print (\"Ridge model:\", pretty_print_coefs(ridge.coef_))"
   ]
  },
  {
   "cell_type": "code",
   "execution_count": null,
   "metadata": {},
   "outputs": [],
   "source": []
  }
 ],
 "metadata": {
  "kernelspec": {
   "display_name": "Python 3",
   "language": "python",
   "name": "python3"
  },
  "language_info": {
   "codemirror_mode": {
    "name": "ipython",
    "version": 3
   },
   "file_extension": ".py",
   "mimetype": "text/x-python",
   "name": "python",
   "nbconvert_exporter": "python",
   "pygments_lexer": "ipython3",
   "version": "3.6.5"
  }
 },
 "nbformat": 4,
 "nbformat_minor": 2
}
