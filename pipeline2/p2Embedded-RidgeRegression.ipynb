{
 "cells": [
  {
   "cell_type": "code",
   "execution_count": 1,
   "metadata": {},
   "outputs": [],
   "source": [
    "import pandas as pd\n",
    "import numpy as np\n",
    "from sklearn.linear_model import Ridge"
   ]
  },
  {
   "cell_type": "code",
   "execution_count": 2,
   "metadata": {},
   "outputs": [],
   "source": [
    "# load the dataset into a DataFrame object\n",
    "finaldata = pd.read_csv(\"../csv_files/p2feature-selection.csv\", index_col = 0)"
   ]
  },
  {
   "cell_type": "code",
   "execution_count": 5,
   "metadata": {},
   "outputs": [
    {
     "name": "stdout",
     "output_type": "stream",
     "text": [
      "         C1        C4        C6        C7       C5p       T4p       T3p  \\\n",
      "0  0.030756  0.669243  0.343380 -0.477847  0.056127  0.168742  0.385070   \n",
      "1  1.279824 -0.643726 -1.645602 -0.789310  2.434275  0.229402  0.151494   \n",
      "2 -0.431183  0.410546 -0.662792 -1.277684 -0.231083  0.118150  0.395935   \n",
      "3  0.907828  0.389135 -0.803873 -1.226569 -0.274697 -1.243939  0.572453   \n",
      "4 -0.603838 -1.310426  0.007764  1.026514 -0.020075 -0.574282 -0.085718   \n",
      "\n",
      "        T5p       S1p       S2p       S3p   C2  C3p  Industry_Bins  Y1  Y2  \n",
      "0  0.310826 -0.146970  0.165628 -0.128062  1.0    0              1   0   1  \n",
      "1 -0.016168 -1.240880  0.781633 -0.147676  0.0    1              1   1   0  \n",
      "2  1.107680  2.767209 -0.974221  0.044649  1.0    1              1   1   0  \n",
      "3  1.094210  2.091907 -0.602916  0.697829  1.0    1              1   1   1  \n",
      "4 -0.357465 -0.364704  0.449384 -0.006421  1.0    0              3   0   1  \n"
     ]
    }
   ],
   "source": [
    "# print out the first five columns of the data\n",
    "print(finaldata.head())"
   ]
  },
  {
   "cell_type": "code",
   "execution_count": 7,
   "metadata": {},
   "outputs": [],
   "source": [
    "# convert the Dataframe to a Numpy array\n",
    "array = finaldata.values\n",
    "X = array[:,:13] #features\n",
    "Y1 = array[:,14] #Y1target\n"
   ]
  },
  {
   "cell_type": "code",
   "execution_count": 8,
   "metadata": {},
   "outputs": [
    {
     "data": {
      "text/plain": [
       "Ridge(alpha=1.0, copy_X=True, fit_intercept=True, max_iter=None,\n",
       "   normalize=False, random_state=None, solver='auto', tol=0.001)"
      ]
     },
     "execution_count": 8,
     "metadata": {},
     "output_type": "execute_result"
    }
   ],
   "source": [
    "# use Ridge regression\n",
    "ridge = Ridge(alpha=1.0)\n",
    "ridge.fit(X,Y1)"
   ]
  },
  {
   "cell_type": "code",
   "execution_count": 9,
   "metadata": {},
   "outputs": [],
   "source": [
    "# A helper method for pretty-printing the coefficients\n",
    "def pretty_print_coefs(coefs, names = None, sort = False):\n",
    "    if names == None:\n",
    "        names = [\"X%s\" % x for x in range(len(coefs))]\n",
    "    lst = zip(coefs, names)\n",
    "    if sort:\n",
    "        lst = sorted(lst,  key = lambda x:-np.abs(x[0]))\n",
    "    return \" + \".join(\"%s * %s\" % (round(coef, 3), name)\n",
    "                                   for coef, name in lst)"
   ]
  },
  {
   "cell_type": "code",
   "execution_count": 10,
   "metadata": {},
   "outputs": [
    {
     "name": "stdout",
     "output_type": "stream",
     "text": [
      "Ridge model: 0.017 * X0 + -0.048 * X1 + -0.026 * X2 + -0.01 * X3 + -0.043 * X4 + 0.054 * X5 + -0.023 * X6 + 0.025 * X7 + 0.038 * X8 + 0.073 * X9 + -0.004 * X10 + -0.099 * X11 + 0.097 * X12\n"
     ]
    }
   ],
   "source": [
    "print (\"Ridge model:\", pretty_print_coefs(ridge.coef_))"
   ]
  },
  {
   "cell_type": "code",
   "execution_count": 12,
   "metadata": {},
   "outputs": [],
   "source": [
    "# convert the Dataframe to a Numpy array\n",
    "array = finaldata.values\n",
    "X = array[:,:13] #features\n",
    "Y2 = array[:,15] #Y2target"
   ]
  },
  {
   "cell_type": "code",
   "execution_count": 13,
   "metadata": {},
   "outputs": [
    {
     "data": {
      "text/plain": [
       "Ridge(alpha=1.0, copy_X=True, fit_intercept=True, max_iter=None,\n",
       "   normalize=False, random_state=None, solver='auto', tol=0.001)"
      ]
     },
     "execution_count": 13,
     "metadata": {},
     "output_type": "execute_result"
    }
   ],
   "source": [
    "# use Ridge regression\n",
    "ridge = Ridge(alpha=1.0)\n",
    "ridge.fit(X,Y2)"
   ]
  },
  {
   "cell_type": "code",
   "execution_count": 14,
   "metadata": {},
   "outputs": [],
   "source": [
    "# A helper method for pretty-printing the coefficients\n",
    "def pretty_print_coefs(coefs, names = None, sort = False):\n",
    "    if names == None:\n",
    "        names = [\"X%s\" % x for x in range(len(coefs))]\n",
    "    lst = zip(coefs, names)\n",
    "    if sort:\n",
    "        lst = sorted(lst,  key = lambda x:-np.abs(x[0]))\n",
    "    return \" + \".join(\"%s * %s\" % (round(coef, 3), name)\n",
    "                                   for coef, name in lst)"
   ]
  },
  {
   "cell_type": "code",
   "execution_count": 15,
   "metadata": {},
   "outputs": [
    {
     "name": "stdout",
     "output_type": "stream",
     "text": [
      "Ridge model: -0.002 * X0 + 0.042 * X1 + 0.023 * X2 + -0.003 * X3 + 0.04 * X4 + -0.012 * X5 + -0.018 * X6 + 0.033 * X7 + -0.024 * X8 + -0.051 * X9 + 0.016 * X10 + 0.033 * X11 + 0.024 * X12\n"
     ]
    }
   ],
   "source": [
    "print (\"Ridge model:\", pretty_print_coefs(ridge.coef_))"
   ]
  },
  {
   "cell_type": "code",
   "execution_count": null,
   "metadata": {},
   "outputs": [],
   "source": []
  }
 ],
 "metadata": {
  "kernelspec": {
   "display_name": "Python 3",
   "language": "python",
   "name": "python3"
  },
  "language_info": {
   "codemirror_mode": {
    "name": "ipython",
    "version": 3
   },
   "file_extension": ".py",
   "mimetype": "text/x-python",
   "name": "python",
   "nbconvert_exporter": "python",
   "pygments_lexer": "ipython3",
   "version": "3.6.5"
  }
 },
 "nbformat": 4,
 "nbformat_minor": 2
}
