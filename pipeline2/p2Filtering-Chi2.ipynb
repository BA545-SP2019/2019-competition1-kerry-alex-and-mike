{
 "cells": [
  {
   "cell_type": "code",
   "execution_count": 1,
   "metadata": {},
   "outputs": [],
   "source": [
    "#Loading the correct packages\n",
    "import pandas as pd\n",
    "import numpy as np\n",
    "from sklearn.feature_selection import SelectKBest\n",
    "from sklearn.feature_selection import chi2"
   ]
  },
  {
   "cell_type": "code",
   "execution_count": 2,
   "metadata": {},
   "outputs": [
    {
     "data": {
      "text/html": [
       "<div>\n",
       "<style scoped>\n",
       "    .dataframe tbody tr th:only-of-type {\n",
       "        vertical-align: middle;\n",
       "    }\n",
       "\n",
       "    .dataframe tbody tr th {\n",
       "        vertical-align: top;\n",
       "    }\n",
       "\n",
       "    .dataframe thead th {\n",
       "        text-align: right;\n",
       "    }\n",
       "</style>\n",
       "<table border=\"1\" class=\"dataframe\">\n",
       "  <thead>\n",
       "    <tr style=\"text-align: right;\">\n",
       "      <th></th>\n",
       "      <th>C1</th>\n",
       "      <th>C4</th>\n",
       "      <th>C6p</th>\n",
       "      <th>C7</th>\n",
       "      <th>C5p</th>\n",
       "      <th>T4p</th>\n",
       "      <th>T3p</th>\n",
       "      <th>T5p</th>\n",
       "      <th>S1p</th>\n",
       "      <th>S2p</th>\n",
       "      <th>S3p</th>\n",
       "      <th>C2</th>\n",
       "      <th>C3p</th>\n",
       "      <th>Industry_Bins</th>\n",
       "      <th>Y1</th>\n",
       "      <th>Y2</th>\n",
       "    </tr>\n",
       "  </thead>\n",
       "  <tbody>\n",
       "    <tr>\n",
       "      <th>0</th>\n",
       "      <td>0.030756</td>\n",
       "      <td>0.669243</td>\n",
       "      <td>1.282356</td>\n",
       "      <td>-0.477847</td>\n",
       "      <td>0.056127</td>\n",
       "      <td>0.168742</td>\n",
       "      <td>0.174345</td>\n",
       "      <td>0.310826</td>\n",
       "      <td>-0.146970</td>\n",
       "      <td>0.165628</td>\n",
       "      <td>-0.128062</td>\n",
       "      <td>1.0</td>\n",
       "      <td>0</td>\n",
       "      <td>1</td>\n",
       "      <td>0</td>\n",
       "      <td>1</td>\n",
       "    </tr>\n",
       "    <tr>\n",
       "      <th>1</th>\n",
       "      <td>1.279824</td>\n",
       "      <td>-0.643726</td>\n",
       "      <td>-0.759933</td>\n",
       "      <td>-0.789310</td>\n",
       "      <td>2.434275</td>\n",
       "      <td>0.229402</td>\n",
       "      <td>0.099767</td>\n",
       "      <td>-0.016168</td>\n",
       "      <td>-1.240880</td>\n",
       "      <td>0.781633</td>\n",
       "      <td>-0.147676</td>\n",
       "      <td>0.0</td>\n",
       "      <td>1</td>\n",
       "      <td>1</td>\n",
       "      <td>1</td>\n",
       "      <td>0</td>\n",
       "    </tr>\n",
       "    <tr>\n",
       "      <th>2</th>\n",
       "      <td>-0.431183</td>\n",
       "      <td>0.410546</td>\n",
       "      <td>-0.759933</td>\n",
       "      <td>-1.277684</td>\n",
       "      <td>-0.231083</td>\n",
       "      <td>0.118150</td>\n",
       "      <td>0.177807</td>\n",
       "      <td>1.107680</td>\n",
       "      <td>2.767209</td>\n",
       "      <td>-0.974221</td>\n",
       "      <td>0.044649</td>\n",
       "      <td>1.0</td>\n",
       "      <td>1</td>\n",
       "      <td>1</td>\n",
       "      <td>1</td>\n",
       "      <td>0</td>\n",
       "    </tr>\n",
       "    <tr>\n",
       "      <th>3</th>\n",
       "      <td>0.907828</td>\n",
       "      <td>0.389135</td>\n",
       "      <td>-0.759933</td>\n",
       "      <td>-1.226569</td>\n",
       "      <td>-0.274697</td>\n",
       "      <td>-1.243939</td>\n",
       "      <td>0.233959</td>\n",
       "      <td>1.094210</td>\n",
       "      <td>2.091907</td>\n",
       "      <td>-0.602916</td>\n",
       "      <td>0.697829</td>\n",
       "      <td>1.0</td>\n",
       "      <td>1</td>\n",
       "      <td>1</td>\n",
       "      <td>1</td>\n",
       "      <td>1</td>\n",
       "    </tr>\n",
       "    <tr>\n",
       "      <th>4</th>\n",
       "      <td>-0.603838</td>\n",
       "      <td>-1.310426</td>\n",
       "      <td>1.027869</td>\n",
       "      <td>1.026514</td>\n",
       "      <td>-0.020075</td>\n",
       "      <td>-0.574282</td>\n",
       "      <td>0.023718</td>\n",
       "      <td>-0.357465</td>\n",
       "      <td>-0.364704</td>\n",
       "      <td>0.449384</td>\n",
       "      <td>-0.006421</td>\n",
       "      <td>1.0</td>\n",
       "      <td>0</td>\n",
       "      <td>3</td>\n",
       "      <td>0</td>\n",
       "      <td>1</td>\n",
       "    </tr>\n",
       "  </tbody>\n",
       "</table>\n",
       "</div>"
      ],
      "text/plain": [
       "         C1        C4       C6p        C7       C5p       T4p       T3p  \\\n",
       "0  0.030756  0.669243  1.282356 -0.477847  0.056127  0.168742  0.174345   \n",
       "1  1.279824 -0.643726 -0.759933 -0.789310  2.434275  0.229402  0.099767   \n",
       "2 -0.431183  0.410546 -0.759933 -1.277684 -0.231083  0.118150  0.177807   \n",
       "3  0.907828  0.389135 -0.759933 -1.226569 -0.274697 -1.243939  0.233959   \n",
       "4 -0.603838 -1.310426  1.027869  1.026514 -0.020075 -0.574282  0.023718   \n",
       "\n",
       "        T5p       S1p       S2p       S3p   C2  C3p  Industry_Bins  Y1  Y2  \n",
       "0  0.310826 -0.146970  0.165628 -0.128062  1.0    0              1   0   1  \n",
       "1 -0.016168 -1.240880  0.781633 -0.147676  0.0    1              1   1   0  \n",
       "2  1.107680  2.767209 -0.974221  0.044649  1.0    1              1   1   0  \n",
       "3  1.094210  2.091907 -0.602916  0.697829  1.0    1              1   1   1  \n",
       "4 -0.357465 -0.364704  0.449384 -0.006421  1.0    0              3   0   1  "
      ]
     },
     "execution_count": 2,
     "metadata": {},
     "output_type": "execute_result"
    }
   ],
   "source": [
    "#Loading in our DataFrame\n",
    "data = pd.read_csv('../csv_files/p2feature-selection.csv', header=0, index_col=0)\n",
    "data.head()"
   ]
  },
  {
   "cell_type": "code",
   "execution_count": 6,
   "metadata": {},
   "outputs": [],
   "source": [
    "#Changing the X and Y DataFrames to an array in order to make running Chi2 easier\n",
    "array = data.values\n",
    "#Had to take the abs since can not have negative numbers run through \n",
    "x = abs(array[:,:14]) #X is our group of variables \n",
    "y1 = array[:,14] #Y1 which is our Target 1\n",
    "y2 = array[:,15] #Y2 which is our Target 2"
   ]
  },
  {
   "cell_type": "code",
   "execution_count": 8,
   "metadata": {},
   "outputs": [
    {
     "name": "stdout",
     "output_type": "stream",
     "text": [
      "[7.417e-01 1.080e+00 2.760e+01 7.327e+00 4.532e-01 1.434e-01 2.399e+00\n",
      " 1.720e-02 2.992e-01 4.989e-02 6.144e-01 4.750e-01 4.831e+00 2.006e+00]\n"
     ]
    }
   ],
   "source": [
    "#Going to look at Target 1 first\n",
    "filtering = SelectKBest(score_func=chi2, k=4)\n",
    "fit = filtering.fit(x, y1)\n",
    "#Printing out the results\n",
    "np.set_printoptions(precision=3)\n",
    "print(fit.scores_)"
   ]
  },
  {
   "cell_type": "code",
   "execution_count": 9,
   "metadata": {},
   "outputs": [
    {
     "name": "stdout",
     "output_type": "stream",
     "text": [
      "[2.542e-04 8.318e-02 3.963e+00 1.116e-02 2.516e+00 5.053e-01 1.054e+01\n",
      " 5.453e+00 1.070e+00 9.118e-01 1.455e+00 1.834e-01 4.211e-01 2.095e+00]\n"
     ]
    }
   ],
   "source": [
    "#Going to look at Target 2 second\n",
    "filtering = SelectKBest(score_func=chi2, k=4)\n",
    "fit = filtering.fit(x, y2)\n",
    "#Printing out the results \n",
    "np.set_printoptions(precision=3)\n",
    "print(fit.scores_)"
   ]
  },
  {
   "cell_type": "code",
   "execution_count": null,
   "metadata": {},
   "outputs": [],
   "source": []
  }
 ],
 "metadata": {
  "kernelspec": {
   "display_name": "Python 3",
   "language": "python",
   "name": "python3"
  },
  "language_info": {
   "codemirror_mode": {
    "name": "ipython",
    "version": 3
   },
   "file_extension": ".py",
   "mimetype": "text/x-python",
   "name": "python",
   "nbconvert_exporter": "python",
   "pygments_lexer": "ipython3",
   "version": "3.6.5"
  }
 },
 "nbformat": 4,
 "nbformat_minor": 2
}
