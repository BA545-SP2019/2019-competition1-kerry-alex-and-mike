{
 "cells": [
  {
   "cell_type": "code",
   "execution_count": 23,
   "metadata": {},
   "outputs": [],
   "source": [
    "import numpy as np\n",
    "import pandas as pd\n",
    "import matplotlib.pyplot as plt"
   ]
  },
  {
   "cell_type": "code",
   "execution_count": 24,
   "metadata": {},
   "outputs": [
    {
     "data": {
      "text/html": [
       "<div>\n",
       "<style scoped>\n",
       "    .dataframe tbody tr th:only-of-type {\n",
       "        vertical-align: middle;\n",
       "    }\n",
       "\n",
       "    .dataframe tbody tr th {\n",
       "        vertical-align: top;\n",
       "    }\n",
       "\n",
       "    .dataframe thead th {\n",
       "        text-align: right;\n",
       "    }\n",
       "</style>\n",
       "<table border=\"1\" class=\"dataframe\">\n",
       "  <thead>\n",
       "    <tr style=\"text-align: right;\">\n",
       "      <th></th>\n",
       "      <th>C1</th>\n",
       "      <th>C3</th>\n",
       "      <th>C4</th>\n",
       "      <th>C5</th>\n",
       "      <th>C6</th>\n",
       "      <th>C7</th>\n",
       "      <th>T1</th>\n",
       "      <th>T2</th>\n",
       "      <th>T3</th>\n",
       "      <th>T4</th>\n",
       "      <th>...</th>\n",
       "      <th>S3</th>\n",
       "      <th>C3p</th>\n",
       "      <th>C5p</th>\n",
       "      <th>C2</th>\n",
       "      <th>LongSentences</th>\n",
       "      <th>RealWords</th>\n",
       "      <th>LongWords</th>\n",
       "      <th>PositiveWords</th>\n",
       "      <th>NegativeWords</th>\n",
       "      <th>UncertainWords</th>\n",
       "    </tr>\n",
       "  </thead>\n",
       "  <tbody>\n",
       "    <tr>\n",
       "      <th>0</th>\n",
       "      <td>2.227033</td>\n",
       "      <td>1.488400</td>\n",
       "      <td>0.029074</td>\n",
       "      <td>17.528157</td>\n",
       "      <td>16.176365</td>\n",
       "      <td>1.927893</td>\n",
       "      <td>21.679483</td>\n",
       "      <td>112.778544</td>\n",
       "      <td>107.517440</td>\n",
       "      <td>17.349352</td>\n",
       "      <td>...</td>\n",
       "      <td>2.275984</td>\n",
       "      <td>0</td>\n",
       "      <td>1.351792</td>\n",
       "      <td>1.0</td>\n",
       "      <td>0.640426</td>\n",
       "      <td>0.646515</td>\n",
       "      <td>0.615270</td>\n",
       "      <td>0.169556</td>\n",
       "      <td>0.209529</td>\n",
       "      <td>0.221915</td>\n",
       "    </tr>\n",
       "    <tr>\n",
       "      <th>1</th>\n",
       "      <td>2.524740</td>\n",
       "      <td>0.963174</td>\n",
       "      <td>-0.013352</td>\n",
       "      <td>17.178286</td>\n",
       "      <td>14.690979</td>\n",
       "      <td>1.720483</td>\n",
       "      <td>28.124722</td>\n",
       "      <td>147.621137</td>\n",
       "      <td>139.946418</td>\n",
       "      <td>22.583180</td>\n",
       "      <td>...</td>\n",
       "      <td>2.487662</td>\n",
       "      <td>1</td>\n",
       "      <td>2.487306</td>\n",
       "      <td>0.0</td>\n",
       "      <td>0.644753</td>\n",
       "      <td>0.641182</td>\n",
       "      <td>0.609752</td>\n",
       "      <td>0.148247</td>\n",
       "      <td>0.223103</td>\n",
       "      <td>0.221556</td>\n",
       "    </tr>\n",
       "    <tr>\n",
       "      <th>2</th>\n",
       "      <td>2.116933</td>\n",
       "      <td>0.806476</td>\n",
       "      <td>0.020715</td>\n",
       "      <td>16.639604</td>\n",
       "      <td>15.424948</td>\n",
       "      <td>1.395264</td>\n",
       "      <td>14.177447</td>\n",
       "      <td>72.539644</td>\n",
       "      <td>69.173694</td>\n",
       "      <td>11.313708</td>\n",
       "      <td>...</td>\n",
       "      <td>1.978602</td>\n",
       "      <td>1</td>\n",
       "      <td>1.214656</td>\n",
       "      <td>1.0</td>\n",
       "      <td>0.636816</td>\n",
       "      <td>0.646763</td>\n",
       "      <td>0.628717</td>\n",
       "      <td>0.226322</td>\n",
       "      <td>0.184411</td>\n",
       "      <td>0.225078</td>\n",
       "    </tr>\n",
       "    <tr>\n",
       "      <th>3</th>\n",
       "      <td>2.436077</td>\n",
       "      <td>0.647103</td>\n",
       "      <td>0.020023</td>\n",
       "      <td>16.513419</td>\n",
       "      <td>15.319588</td>\n",
       "      <td>1.429303</td>\n",
       "      <td>18.110770</td>\n",
       "      <td>90.879040</td>\n",
       "      <td>87.028731</td>\n",
       "      <td>13.304135</td>\n",
       "      <td>...</td>\n",
       "      <td>2.188931</td>\n",
       "      <td>1</td>\n",
       "      <td>1.193831</td>\n",
       "      <td>1.0</td>\n",
       "      <td>0.539634</td>\n",
       "      <td>0.650793</td>\n",
       "      <td>0.628490</td>\n",
       "      <td>0.213167</td>\n",
       "      <td>0.192593</td>\n",
       "      <td>0.237040</td>\n",
       "    </tr>\n",
       "    <tr>\n",
       "      <th>4</th>\n",
       "      <td>2.075782</td>\n",
       "      <td>0.067659</td>\n",
       "      <td>-0.034895</td>\n",
       "      <td>17.241131</td>\n",
       "      <td>15.925724</td>\n",
       "      <td>2.929681</td>\n",
       "      <td>23.916521</td>\n",
       "      <td>121.778487</td>\n",
       "      <td>114.786759</td>\n",
       "      <td>18.330303</td>\n",
       "      <td>...</td>\n",
       "      <td>2.346674</td>\n",
       "      <td>0</td>\n",
       "      <td>1.315407</td>\n",
       "      <td>1.0</td>\n",
       "      <td>0.587413</td>\n",
       "      <td>0.635767</td>\n",
       "      <td>0.603993</td>\n",
       "      <td>0.165315</td>\n",
       "      <td>0.215782</td>\n",
       "      <td>0.224143</td>\n",
       "    </tr>\n",
       "  </tbody>\n",
       "</table>\n",
       "<p>5 rows × 23 columns</p>\n",
       "</div>"
      ],
      "text/plain": [
       "         C1        C3        C4         C5         C6        C7         T1  \\\n",
       "0  2.227033  1.488400  0.029074  17.528157  16.176365  1.927893  21.679483   \n",
       "1  2.524740  0.963174 -0.013352  17.178286  14.690979  1.720483  28.124722   \n",
       "2  2.116933  0.806476  0.020715  16.639604  15.424948  1.395264  14.177447   \n",
       "3  2.436077  0.647103  0.020023  16.513419  15.319588  1.429303  18.110770   \n",
       "4  2.075782  0.067659 -0.034895  17.241131  15.925724  2.929681  23.916521   \n",
       "\n",
       "           T2          T3         T4       ...              S3  C3p       C5p  \\\n",
       "0  112.778544  107.517440  17.349352       ...        2.275984    0  1.351792   \n",
       "1  147.621137  139.946418  22.583180       ...        2.487662    1  2.487306   \n",
       "2   72.539644   69.173694  11.313708       ...        1.978602    1  1.214656   \n",
       "3   90.879040   87.028731  13.304135       ...        2.188931    1  1.193831   \n",
       "4  121.778487  114.786759  18.330303       ...        2.346674    0  1.315407   \n",
       "\n",
       "    C2  LongSentences  RealWords  LongWords  PositiveWords  NegativeWords  \\\n",
       "0  1.0       0.640426   0.646515   0.615270       0.169556       0.209529   \n",
       "1  0.0       0.644753   0.641182   0.609752       0.148247       0.223103   \n",
       "2  1.0       0.636816   0.646763   0.628717       0.226322       0.184411   \n",
       "3  1.0       0.539634   0.650793   0.628490       0.213167       0.192593   \n",
       "4  1.0       0.587413   0.635767   0.603993       0.165315       0.215782   \n",
       "\n",
       "   UncertainWords  \n",
       "0        0.221915  \n",
       "1        0.221556  \n",
       "2        0.225078  \n",
       "3        0.237040  \n",
       "4        0.224143  \n",
       "\n",
       "[5 rows x 23 columns]"
      ]
     },
     "execution_count": 24,
     "metadata": {},
     "output_type": "execute_result"
    }
   ],
   "source": [
    "# read file \n",
    "df_std = pd.read_csv('csv_files/p2no_skew.csv', index_col=0)\n",
    "df_std.head()"
   ]
  },
  {
   "cell_type": "code",
   "execution_count": 25,
   "metadata": {},
   "outputs": [
    {
     "data": {
      "text/plain": [
       "0    2.227033\n",
       "1    2.524740\n",
       "2    2.116933\n",
       "3    2.436077\n",
       "4    2.075782\n",
       "Name: C1, dtype: float64"
      ]
     },
     "execution_count": 25,
     "metadata": {},
     "output_type": "execute_result"
    }
   ],
   "source": [
    "#Creating a new df withe just Column 'C1' in it \n",
    "my_col = df_std.C1\n",
    "my_col.head()"
   ]
  },
  {
   "cell_type": "code",
   "execution_count": 26,
   "metadata": {},
   "outputs": [
    {
     "data": {
      "text/plain": [
       "2.975333116663967"
      ]
     },
     "execution_count": 26,
     "metadata": {},
     "output_type": "execute_result"
    }
   ],
   "source": [
    "#Calculating the upper bound (> 3 standard deviations) for Column 'C1'\n",
    "u2_bound = my_col.mean() + 3 * my_col.std()\n",
    "u2_bound"
   ]
  },
  {
   "cell_type": "code",
   "execution_count": 27,
   "metadata": {},
   "outputs": [
    {
     "data": {
      "text/plain": [
       "65     3.574816\n",
       "141    3.067427\n",
       "228    3.089133\n",
       "391    3.316625\n",
       "413    3.004782\n",
       "628    3.063733\n",
       "665    3.289497\n",
       "Name: C1, dtype: float64"
      ]
     },
     "execution_count": 27,
     "metadata": {},
     "output_type": "execute_result"
    }
   ],
   "source": [
    "# detecting any values are greater than the upper boundary\n",
    "my_col[my_col>u2_bound]"
   ]
  },
  {
   "cell_type": "code",
   "execution_count": 28,
   "metadata": {},
   "outputs": [
    {
     "name": "stderr",
     "output_type": "stream",
     "text": [
      "/opt/tljh/user/lib/python3.6/site-packages/ipykernel_launcher.py:2: SettingWithCopyWarning: \n",
      "A value is trying to be set on a copy of a slice from a DataFrame\n",
      "\n",
      "See the caveats in the documentation: http://pandas.pydata.org/pandas-docs/stable/indexing.html#indexing-view-versus-copy\n",
      "  \n"
     ]
    }
   ],
   "source": [
    "#Replace the values greater than the upper boundary with the upper boundary\n",
    "my_col[my_col>u2_bound] = u2_bound"
   ]
  },
  {
   "cell_type": "code",
   "execution_count": 29,
   "metadata": {},
   "outputs": [
    {
     "data": {
      "text/plain": [
       "False    682\n",
       "Name: C1, dtype: int64"
      ]
     },
     "execution_count": 29,
     "metadata": {},
     "output_type": "execute_result"
    }
   ],
   "source": [
    "# verifying there is no value greater than the upper boundary\n",
    "pd.Series(my_col>u2_bound).value_counts()"
   ]
  },
  {
   "cell_type": "code",
   "execution_count": 30,
   "metadata": {},
   "outputs": [
    {
     "data": {
      "text/plain": [
       "1.5019178597752965"
      ]
     },
     "execution_count": 30,
     "metadata": {},
     "output_type": "execute_result"
    }
   ],
   "source": [
    "#Calculating the lower bound (< 3 standard deviations) for Column 'C1'\n",
    "l2_bound = my_col.mean() - 3 * my_col.std()\n",
    "l2_bound"
   ]
  },
  {
   "cell_type": "code",
   "execution_count": 31,
   "metadata": {},
   "outputs": [
    {
     "data": {
      "text/plain": [
       "148    1.491301\n",
       "575    1.467799\n",
       "589    1.467799\n",
       "Name: C1, dtype: float64"
      ]
     },
     "execution_count": 31,
     "metadata": {},
     "output_type": "execute_result"
    }
   ],
   "source": [
    "# detecting any values are less than the lower boundary\n",
    "my_col[my_col<l2_bound]"
   ]
  },
  {
   "cell_type": "code",
   "execution_count": 32,
   "metadata": {},
   "outputs": [
    {
     "name": "stderr",
     "output_type": "stream",
     "text": [
      "/opt/tljh/user/lib/python3.6/site-packages/ipykernel_launcher.py:2: SettingWithCopyWarning: \n",
      "A value is trying to be set on a copy of a slice from a DataFrame\n",
      "\n",
      "See the caveats in the documentation: http://pandas.pydata.org/pandas-docs/stable/indexing.html#indexing-view-versus-copy\n",
      "  \n"
     ]
    }
   ],
   "source": [
    "#Replace the values lower than the lower boundary with the lower boundary\n",
    "my_col[my_col<l2_bound] = l2_bound"
   ]
  },
  {
   "cell_type": "code",
   "execution_count": 33,
   "metadata": {},
   "outputs": [
    {
     "data": {
      "text/plain": [
       "False    682\n",
       "Name: C1, dtype: int64"
      ]
     },
     "execution_count": 33,
     "metadata": {},
     "output_type": "execute_result"
    }
   ],
   "source": [
    "# verifying there is no value less than the lower boundary\n",
    "pd.Series(my_col<l2_bound).value_counts()"
   ]
  },
  {
   "cell_type": "code",
   "execution_count": 34,
   "metadata": {},
   "outputs": [
    {
     "name": "stderr",
     "output_type": "stream",
     "text": [
      "/opt/tljh/user/lib/python3.6/site-packages/ipykernel_launcher.py:5: SettingWithCopyWarning: \n",
      "A value is trying to be set on a copy of a slice from a DataFrame\n",
      "\n",
      "See the caveats in the documentation: http://pandas.pydata.org/pandas-docs/stable/indexing.html#indexing-view-versus-copy\n",
      "  \"\"\"\n",
      "/opt/tljh/user/lib/python3.6/site-packages/ipykernel_launcher.py:6: SettingWithCopyWarning: \n",
      "A value is trying to be set on a copy of a slice from a DataFrame\n",
      "\n",
      "See the caveats in the documentation: http://pandas.pydata.org/pandas-docs/stable/indexing.html#indexing-view-versus-copy\n",
      "  \n"
     ]
    }
   ],
   "source": [
    "# going for all the columns in the DataFrame\n",
    "for col in df_std.columns:\n",
    "    u_bound = df_std[col].mean() + 3 * df_std[col].std()\n",
    "    l_bound = df_std[col].mean() - 3 * df_std[col].std()\n",
    "    df_std[col][df_std[col] > u_bound] = u_bound\n",
    "    df_std[col][df_std[col] < l_bound] = l_bound"
   ]
  },
  {
   "cell_type": "code",
   "execution_count": 35,
   "metadata": {},
   "outputs": [
    {
     "name": "stdout",
     "output_type": "stream",
     "text": [
      "       C1     C3    C4    C5    C6    C7    T1    T2    T3    T4  \\\n",
      "0    True   True  True  True  True  True  True  True  True  True   \n",
      "1    True   True  True  True  True  True  True  True  True  True   \n",
      "2    True   True  True  True  True  True  True  True  True  True   \n",
      "3    True   True  True  True  True  True  True  True  True  True   \n",
      "4    True   True  True  True  True  True  True  True  True  True   \n",
      "5    True   True  True  True  True  True  True  True  True  True   \n",
      "6    True   True  True  True  True  True  True  True  True  True   \n",
      "7    True   True  True  True  True  True  True  True  True  True   \n",
      "8    True   True  True  True  True  True  True  True  True  True   \n",
      "9    True   True  True  True  True  True  True  True  True  True   \n",
      "10   True   True  True  True  True  True  True  True  True  True   \n",
      "11   True   True  True  True  True  True  True  True  True  True   \n",
      "12   True  False  True  True  True  True  True  True  True  True   \n",
      "13   True   True  True  True  True  True  True  True  True  True   \n",
      "14   True  False  True  True  True  True  True  True  True  True   \n",
      "15   True  False  True  True  True  True  True  True  True  True   \n",
      "16   True  False  True  True  True  True  True  True  True  True   \n",
      "17   True   True  True  True  True  True  True  True  True  True   \n",
      "18   True   True  True  True  True  True  True  True  True  True   \n",
      "19   True   True  True  True  True  True  True  True  True  True   \n",
      "20   True   True  True  True  True  True  True  True  True  True   \n",
      "21   True   True  True  True  True  True  True  True  True  True   \n",
      "22   True   True  True  True  True  True  True  True  True  True   \n",
      "23   True   True  True  True  True  True  True  True  True  True   \n",
      "24   True   True  True  True  True  True  True  True  True  True   \n",
      "25   True   True  True  True  True  True  True  True  True  True   \n",
      "26   True   True  True  True  True  True  True  True  True  True   \n",
      "27   True   True  True  True  True  True  True  True  True  True   \n",
      "28   True   True  True  True  True  True  True  True  True  True   \n",
      "29   True   True  True  True  True  True  True  True  True  True   \n",
      "..    ...    ...   ...   ...   ...   ...   ...   ...   ...   ...   \n",
      "652  True   True  True  True  True  True  True  True  True  True   \n",
      "653  True   True  True  True  True  True  True  True  True  True   \n",
      "654  True   True  True  True  True  True  True  True  True  True   \n",
      "655  True   True  True  True  True  True  True  True  True  True   \n",
      "656  True   True  True  True  True  True  True  True  True  True   \n",
      "657  True  False  True  True  True  True  True  True  True  True   \n",
      "658  True  False  True  True  True  True  True  True  True  True   \n",
      "659  True   True  True  True  True  True  True  True  True  True   \n",
      "660  True   True  True  True  True  True  True  True  True  True   \n",
      "661  True   True  True  True  True  True  True  True  True  True   \n",
      "662  True   True  True  True  True  True  True  True  True  True   \n",
      "663  True  False  True  True  True  True  True  True  True  True   \n",
      "664  True   True  True  True  True  True  True  True  True  True   \n",
      "665  True   True  True  True  True  True  True  True  True  True   \n",
      "666  True   True  True  True  True  True  True  True  True  True   \n",
      "667  True   True  True  True  True  True  True  True  True  True   \n",
      "668  True   True  True  True  True  True  True  True  True  True   \n",
      "669  True   True  True  True  True  True  True  True  True  True   \n",
      "670  True   True  True  True  True  True  True  True  True  True   \n",
      "671  True   True  True  True  True  True  True  True  True  True   \n",
      "672  True   True  True  True  True  True  True  True  True  True   \n",
      "673  True   True  True  True  True  True  True  True  True  True   \n",
      "674  True   True  True  True  True  True  True  True  True  True   \n",
      "675  True   True  True  True  True  True  True  True  True  True   \n",
      "676  True   True  True  True  True  True  True  True  True  True   \n",
      "677  True   True  True  True  True  True  True  True  True  True   \n",
      "678  True   True  True  True  True  True  True  True  True  True   \n",
      "679  True   True  True  True  True  True  True  True  True  True   \n",
      "680  True  False  True  True  True  True  True  True  True  True   \n",
      "681  True   True  True  True  True  True  True  True  True  True   \n",
      "\n",
      "          ...          S3   C3p    C5p     C2  LongSentences  RealWords  \\\n",
      "0         ...        True  True   True   True           True       True   \n",
      "1         ...        True  True   True   True           True       True   \n",
      "2         ...        True  True   True   True           True       True   \n",
      "3         ...        True  True   True   True           True       True   \n",
      "4         ...        True  True   True   True           True       True   \n",
      "5         ...        True  True   True   True           True       True   \n",
      "6         ...        True  True   True   True           True       True   \n",
      "7         ...        True  True   True   True           True       True   \n",
      "8         ...        True  True   True   True           True       True   \n",
      "9         ...        True  True   True   True           True       True   \n",
      "10        ...        True  True   True  False           True       True   \n",
      "11        ...        True  True   True   True           True       True   \n",
      "12        ...        True  True   True   True           True       True   \n",
      "13        ...        True  True   True   True           True       True   \n",
      "14        ...        True  True   True   True           True       True   \n",
      "15        ...        True  True   True   True           True       True   \n",
      "16        ...        True  True   True   True           True       True   \n",
      "17        ...        True  True   True   True           True       True   \n",
      "18        ...        True  True   True   True           True       True   \n",
      "19        ...        True  True   True   True           True       True   \n",
      "20        ...        True  True   True   True           True       True   \n",
      "21        ...        True  True   True   True           True       True   \n",
      "22        ...        True  True   True   True           True       True   \n",
      "23        ...        True  True   True   True           True       True   \n",
      "24        ...        True  True   True   True           True       True   \n",
      "25        ...        True  True   True   True           True       True   \n",
      "26        ...        True  True   True   True           True       True   \n",
      "27        ...        True  True   True   True           True       True   \n",
      "28        ...        True  True   True   True           True       True   \n",
      "29        ...        True  True   True   True           True       True   \n",
      "..        ...         ...   ...    ...    ...            ...        ...   \n",
      "652       ...        True  True   True   True           True       True   \n",
      "653       ...        True  True   True   True           True       True   \n",
      "654       ...        True  True   True   True           True       True   \n",
      "655       ...        True  True   True   True           True       True   \n",
      "656       ...        True  True   True   True           True       True   \n",
      "657       ...        True  True   True   True           True       True   \n",
      "658       ...        True  True   True   True           True       True   \n",
      "659       ...        True  True  False   True           True       True   \n",
      "660       ...        True  True   True   True           True       True   \n",
      "661       ...        True  True   True   True           True       True   \n",
      "662       ...        True  True   True   True           True       True   \n",
      "663       ...        True  True   True   True           True       True   \n",
      "664       ...        True  True   True   True           True       True   \n",
      "665       ...        True  True   True   True           True       True   \n",
      "666       ...        True  True   True   True           True       True   \n",
      "667       ...        True  True   True   True           True       True   \n",
      "668       ...        True  True   True   True           True       True   \n",
      "669       ...        True  True   True   True           True       True   \n",
      "670       ...        True  True   True   True           True       True   \n",
      "671       ...        True  True   True   True           True       True   \n",
      "672       ...        True  True   True   True           True       True   \n",
      "673       ...        True  True   True   True           True       True   \n",
      "674       ...        True  True   True   True           True       True   \n",
      "675       ...        True  True   True  False           True       True   \n",
      "676       ...        True  True   True   True           True       True   \n",
      "677       ...        True  True   True   True           True       True   \n",
      "678       ...        True  True   True   True           True       True   \n",
      "679       ...        True  True   True   True           True       True   \n",
      "680       ...        True  True   True   True           True       True   \n",
      "681       ...        True  True   True   True           True       True   \n",
      "\n",
      "     LongWords  PositiveWords  NegativeWords  UncertainWords  \n",
      "0         True          False          False           False  \n",
      "1         True          False          False           False  \n",
      "2         True          False          False           False  \n",
      "3         True          False          False           False  \n",
      "4         True          False          False           False  \n",
      "5         True          False          False           False  \n",
      "6         True          False          False           False  \n",
      "7         True          False          False           False  \n",
      "8         True          False          False           False  \n",
      "9         True          False          False           False  \n",
      "10        True          False          False           False  \n",
      "11        True          False          False           False  \n",
      "12        True          False          False           False  \n",
      "13        True          False          False           False  \n",
      "14        True          False          False           False  \n",
      "15        True          False          False           False  \n",
      "16        True          False          False           False  \n",
      "17        True          False          False           False  \n",
      "18        True          False          False           False  \n",
      "19        True          False          False           False  \n",
      "20        True          False          False           False  \n",
      "21        True          False          False           False  \n",
      "22        True          False          False           False  \n",
      "23        True          False          False           False  \n",
      "24        True          False          False           False  \n",
      "25        True          False          False           False  \n",
      "26        True          False          False           False  \n",
      "27        True           True          False           False  \n",
      "28        True          False          False           False  \n",
      "29        True          False          False           False  \n",
      "..         ...            ...            ...             ...  \n",
      "652       True          False          False           False  \n",
      "653       True          False          False           False  \n",
      "654       True          False          False           False  \n",
      "655       True          False          False           False  \n",
      "656       True          False          False           False  \n",
      "657       True           True          False           False  \n",
      "658       True          False          False           False  \n",
      "659       True          False          False           False  \n",
      "660       True          False          False           False  \n",
      "661       True          False          False           False  \n",
      "662       True          False          False           False  \n",
      "663       True          False          False           False  \n",
      "664       True          False          False           False  \n",
      "665       True          False          False           False  \n",
      "666       True          False          False           False  \n",
      "667       True          False          False           False  \n",
      "668       True          False          False           False  \n",
      "669       True           True          False           False  \n",
      "670       True          False          False           False  \n",
      "671       True          False          False           False  \n",
      "672       True          False          False           False  \n",
      "673       True          False          False           False  \n",
      "674       True          False          False           False  \n",
      "675       True          False          False           False  \n",
      "676       True          False          False           False  \n",
      "677       True          False          False           False  \n",
      "678       True          False          False           False  \n",
      "679       True          False          False           False  \n",
      "680       True          False          False           False  \n",
      "681       True          False          False           False  \n",
      "\n",
      "[682 rows x 23 columns]\n"
     ]
    }
   ],
   "source": [
    "#Trying to see if there are any outliers left in the DataFrame\n",
    "outlier = (df_std < l_bound) | (df_std > u_bound)\n",
    "print(outlier)"
   ]
  },
  {
   "cell_type": "code",
   "execution_count": 37,
   "metadata": {},
   "outputs": [
    {
     "ename": "SyntaxError",
     "evalue": "'return' outside function (<ipython-input-37-a7546a99cbeb>, line 8)",
     "output_type": "error",
     "traceback": [
      "\u001b[0;36m  File \u001b[0;32m\"<ipython-input-37-a7546a99cbeb>\"\u001b[0;36m, line \u001b[0;32m8\u001b[0m\n\u001b[0;31m    return u_bound\u001b[0m\n\u001b[0m    ^\u001b[0m\n\u001b[0;31mSyntaxError\u001b[0m\u001b[0;31m:\u001b[0m 'return' outside function\n"
     ]
    }
   ],
   "source": [
    "# going for all the columns in the DataFrame\n",
    "u_bound = df_std[col].mean() + 3 * df_std[col].std()\n",
    "l_bound = df_std[col].mean() - 3 * df_std[col].std()\n",
    "for col in df_std.columns:\n",
    "    u_bound = df_std[col].mean() + 3 * df_std[col].std()\n",
    "    l_bound = df_std[col].mean() - 3 * df_std[col].std()\n",
    "    if df_std[col] > u_bound:\n",
    "        return u_bound\n",
    "    elif df_std[col] < l_bound:\n",
    "        return l_bound\n",
    "    else:\n",
    "        pass"
   ]
  },
  {
   "cell_type": "code",
   "execution_count": null,
   "metadata": {},
   "outputs": [],
   "source": []
  },
  {
   "cell_type": "code",
   "execution_count": null,
   "metadata": {},
   "outputs": [],
   "source": []
  }
 ],
 "metadata": {
  "kernelspec": {
   "display_name": "Python 3",
   "language": "python",
   "name": "python3"
  },
  "language_info": {
   "codemirror_mode": {
    "name": "ipython",
    "version": 3
   },
   "file_extension": ".py",
   "mimetype": "text/x-python",
   "name": "python",
   "nbconvert_exporter": "python",
   "pygments_lexer": "ipython3",
   "version": "3.6.5"
  }
 },
 "nbformat": 4,
 "nbformat_minor": 2
}
