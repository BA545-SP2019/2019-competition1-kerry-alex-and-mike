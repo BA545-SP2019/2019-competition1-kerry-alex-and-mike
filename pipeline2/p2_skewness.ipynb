{
 "cells": [
  {
   "cell_type": "code",
   "execution_count": 1,
   "metadata": {},
   "outputs": [],
   "source": [
    "# import packages \n",
    "import pandas as pd\n",
    "import numpy as np\n",
    "import matplotlib.pyplot as plt"
   ]
  },
  {
   "cell_type": "code",
   "execution_count": 2,
   "metadata": {},
   "outputs": [
    {
     "data": {
      "text/html": [
       "<div>\n",
       "<style scoped>\n",
       "    .dataframe tbody tr th:only-of-type {\n",
       "        vertical-align: middle;\n",
       "    }\n",
       "\n",
       "    .dataframe tbody tr th {\n",
       "        vertical-align: top;\n",
       "    }\n",
       "\n",
       "    .dataframe thead th {\n",
       "        text-align: right;\n",
       "    }\n",
       "</style>\n",
       "<table border=\"1\" class=\"dataframe\">\n",
       "  <thead>\n",
       "    <tr style=\"text-align: right;\">\n",
       "      <th></th>\n",
       "      <th>C1</th>\n",
       "      <th>C3</th>\n",
       "      <th>C4</th>\n",
       "      <th>C5</th>\n",
       "      <th>C6</th>\n",
       "      <th>C7</th>\n",
       "      <th>T1</th>\n",
       "      <th>T2</th>\n",
       "      <th>T3</th>\n",
       "      <th>T4</th>\n",
       "      <th>T5</th>\n",
       "      <th>S1</th>\n",
       "      <th>S2</th>\n",
       "      <th>S3</th>\n",
       "      <th>C3p</th>\n",
       "      <th>C5p</th>\n",
       "      <th>C2</th>\n",
       "    </tr>\n",
       "  </thead>\n",
       "  <tbody>\n",
       "    <tr>\n",
       "      <th>0</th>\n",
       "      <td>122.0</td>\n",
       "      <td>3.43</td>\n",
       "      <td>0.029074</td>\n",
       "      <td>40962052.0</td>\n",
       "      <td>10600000.0</td>\n",
       "      <td>51.345</td>\n",
       "      <td>470.0</td>\n",
       "      <td>12719.0</td>\n",
       "      <td>11560.0</td>\n",
       "      <td>301.0</td>\n",
       "      <td>690.0</td>\n",
       "      <td>62.0</td>\n",
       "      <td>117.0</td>\n",
       "      <td>139.0</td>\n",
       "      <td>0</td>\n",
       "      <td>3.864345</td>\n",
       "      <td>1.0</td>\n",
       "    </tr>\n",
       "    <tr>\n",
       "      <th>1</th>\n",
       "      <td>259.0</td>\n",
       "      <td>-1.62</td>\n",
       "      <td>-0.013352</td>\n",
       "      <td>28869196.0</td>\n",
       "      <td>2400000.0</td>\n",
       "      <td>25.936</td>\n",
       "      <td>791.0</td>\n",
       "      <td>21792.0</td>\n",
       "      <td>19585.0</td>\n",
       "      <td>510.0</td>\n",
       "      <td>1120.0</td>\n",
       "      <td>71.0</td>\n",
       "      <td>242.0</td>\n",
       "      <td>237.0</td>\n",
       "      <td>1</td>\n",
       "      <td>12.028832</td>\n",
       "      <td>0.0</td>\n",
       "    </tr>\n",
       "    <tr>\n",
       "      <th>2</th>\n",
       "      <td>90.0</td>\n",
       "      <td>-1.24</td>\n",
       "      <td>0.020715</td>\n",
       "      <td>16845668.0</td>\n",
       "      <td>5000000.0</td>\n",
       "      <td>7.378</td>\n",
       "      <td>201.0</td>\n",
       "      <td>5262.0</td>\n",
       "      <td>4785.0</td>\n",
       "      <td>128.0</td>\n",
       "      <td>325.0</td>\n",
       "      <td>61.0</td>\n",
       "      <td>33.0</td>\n",
       "      <td>60.0</td>\n",
       "      <td>1</td>\n",
       "      <td>3.369134</td>\n",
       "      <td>1.0</td>\n",
       "    </tr>\n",
       "    <tr>\n",
       "      <th>3</th>\n",
       "      <td>209.0</td>\n",
       "      <td>-0.91</td>\n",
       "      <td>0.020023</td>\n",
       "      <td>14848637.0</td>\n",
       "      <td>4500000.0</td>\n",
       "      <td>8.526</td>\n",
       "      <td>328.0</td>\n",
       "      <td>8259.0</td>\n",
       "      <td>7574.0</td>\n",
       "      <td>177.0</td>\n",
       "      <td>509.0</td>\n",
       "      <td>80.0</td>\n",
       "      <td>59.0</td>\n",
       "      <td>110.0</td>\n",
       "      <td>1</td>\n",
       "      <td>3.299697</td>\n",
       "      <td>1.0</td>\n",
       "    </tr>\n",
       "    <tr>\n",
       "      <th>4</th>\n",
       "      <td>80.0</td>\n",
       "      <td>0.07</td>\n",
       "      <td>-0.034895</td>\n",
       "      <td>30741716.0</td>\n",
       "      <td>8250000.0</td>\n",
       "      <td>632.298</td>\n",
       "      <td>572.0</td>\n",
       "      <td>14830.0</td>\n",
       "      <td>13176.0</td>\n",
       "      <td>336.0</td>\n",
       "      <td>720.0</td>\n",
       "      <td>67.0</td>\n",
       "      <td>149.0</td>\n",
       "      <td>167.0</td>\n",
       "      <td>0</td>\n",
       "      <td>3.726269</td>\n",
       "      <td>1.0</td>\n",
       "    </tr>\n",
       "  </tbody>\n",
       "</table>\n",
       "</div>"
      ],
      "text/plain": [
       "      C1    C3        C4          C5          C6       C7     T1       T2  \\\n",
       "0  122.0  3.43  0.029074  40962052.0  10600000.0   51.345  470.0  12719.0   \n",
       "1  259.0 -1.62 -0.013352  28869196.0   2400000.0   25.936  791.0  21792.0   \n",
       "2   90.0 -1.24  0.020715  16845668.0   5000000.0    7.378  201.0   5262.0   \n",
       "3  209.0 -0.91  0.020023  14848637.0   4500000.0    8.526  328.0   8259.0   \n",
       "4   80.0  0.07 -0.034895  30741716.0   8250000.0  632.298  572.0  14830.0   \n",
       "\n",
       "        T3     T4      T5    S1     S2     S3  C3p        C5p   C2  \n",
       "0  11560.0  301.0   690.0  62.0  117.0  139.0    0   3.864345  1.0  \n",
       "1  19585.0  510.0  1120.0  71.0  242.0  237.0    1  12.028832  0.0  \n",
       "2   4785.0  128.0   325.0  61.0   33.0   60.0    1   3.369134  1.0  \n",
       "3   7574.0  177.0   509.0  80.0   59.0  110.0    1   3.299697  1.0  \n",
       "4  13176.0  336.0   720.0  67.0  149.0  167.0    0   3.726269  1.0  "
      ]
     },
     "execution_count": 2,
     "metadata": {},
     "output_type": "execute_result"
    }
   ],
   "source": [
    "# read imputed csv file\n",
    "dfx = pd.read_csv('../csv_files/x.csv', index_col=0)\n",
    "dfx.head()"
   ]
  },
  {
   "cell_type": "code",
   "execution_count": 3,
   "metadata": {},
   "outputs": [],
   "source": [
    "# Define Long Sentences\n",
    "def LongSentences(row):\n",
    "    return row['T4']/row['T1']\n",
    "    \n",
    "# add a new column with the values returned from the previous function\n",
    "dfx['LongSentences'] = dfx.apply(lambda row: LongSentences(row),axis=1)"
   ]
  },
  {
   "cell_type": "code",
   "execution_count": 4,
   "metadata": {},
   "outputs": [],
   "source": [
    "# Define Real Words\n",
    "def RealWords(row):\n",
    "    if row['T2'] == 0 :\n",
    "        return 0\n",
    "    else: \n",
    "        return row['T3']/row['T2']\n",
    "\n",
    "# add a new column with the values returned from the previous function\n",
    "dfx['RealWords'] = dfx.apply(lambda row: RealWords(row),axis=1)"
   ]
  },
  {
   "cell_type": "code",
   "execution_count": 5,
   "metadata": {},
   "outputs": [],
   "source": [
    "# Define Long Words\n",
    "def LongWords(row):\n",
    "    if row['T2'] == 0 :\n",
    "        return 0\n",
    "    else: \n",
    "        return row['T5']/row['T2']\n",
    "    \n",
    "# add a new column with the values returned from the previous function\n",
    "dfx['LongWords'] = dfx.apply(lambda row: LongWords(row),axis=1)"
   ]
  },
  {
   "cell_type": "code",
   "execution_count": 6,
   "metadata": {},
   "outputs": [],
   "source": [
    "# Define Positive Words\n",
    "def PositiveWords(row):\n",
    "    if row['T2'] == 0 :\n",
    "        return 0\n",
    "    else: \n",
    "        return row['S1']/row['T2']\n",
    "    \n",
    "# add a new column with the values returned from the previous function\n",
    "dfx['PositiveWords'] = dfx.apply(lambda row: PositiveWords(row),axis=1)"
   ]
  },
  {
   "cell_type": "code",
   "execution_count": 7,
   "metadata": {},
   "outputs": [],
   "source": [
    "# Define Negative Words\n",
    "def NegativeWords(row):\n",
    "    if row['T2'] == 0 :\n",
    "        return 0\n",
    "    else: \n",
    "        return row['S2']/row['T2']\n",
    "    \n",
    "# add a new column with the values returned from the previous function\n",
    "dfx['NegativeWords'] = dfx.apply(lambda row: NegativeWords(row),axis=1)"
   ]
  },
  {
   "cell_type": "code",
   "execution_count": 8,
   "metadata": {},
   "outputs": [],
   "source": [
    "# Define Uncertain Words\n",
    "def UncertainWords(row):\n",
    "    if row['T2'] == 0 :\n",
    "        return 0\n",
    "    else: \n",
    "        return row['S3']/row['T2']\n",
    "    \n",
    "# add a new column with the values returned from the previous function\n",
    "dfx['UncertainWords'] = dfx.apply(lambda row: UncertainWords(row),axis=1)"
   ]
  },
  {
   "cell_type": "code",
   "execution_count": 9,
   "metadata": {},
   "outputs": [
    {
     "data": {
      "text/plain": [
       "C1                 5.742449\n",
       "C3                21.157185\n",
       "C4                -0.485756\n",
       "C5                13.661534\n",
       "C6                12.614696\n",
       "C7                12.382952\n",
       "T1                 1.740406\n",
       "T2                 1.639730\n",
       "T3                 1.617222\n",
       "T4                 1.420097\n",
       "T5                12.772259\n",
       "S1                 2.312075\n",
       "S2                 3.737300\n",
       "S3                 3.439784\n",
       "C3p                0.147347\n",
       "C5p               10.648764\n",
       "C2                -2.068874\n",
       "LongSentences      0.079998\n",
       "RealWords         25.462582\n",
       "LongWords         26.111002\n",
       "PositiveWords     20.846925\n",
       "NegativeWords     10.311730\n",
       "UncertainWords    22.121962\n",
       "dtype: float64"
      ]
     },
     "execution_count": 9,
     "metadata": {},
     "output_type": "execute_result"
    }
   ],
   "source": [
    "# examine skew of each column\n",
    "# keep in mind we do not have to fix the skew of C2 or C3p because they are binary \n",
    "dfx.skew()"
   ]
  },
  {
   "cell_type": "code",
   "execution_count": 10,
   "metadata": {},
   "outputs": [
    {
     "data": {
      "image/png": "[encoded data removed]",
      "text/plain": [
       "<Figure size 432x288 with 25 Axes>"
      ]
     },
     "metadata": {},
     "output_type": "display_data"
    }
   ],
   "source": [
    "# examine distribution of each column\n",
    "for col in dfx.columns:\n",
    "    dfx.hist(color='blue')\n",
    "    break\n",
    "plt.show()"
   ]
  },
  {
   "cell_type": "markdown",
   "metadata": {},
   "source": [
    "**Fixing Skewness of Columns**"
   ]
  },
  {
   "cell_type": "code",
   "execution_count": 11,
   "metadata": {},
   "outputs": [
    {
     "data": {
      "text/plain": [
       "0.8604030074298509"
      ]
     },
     "execution_count": 11,
     "metadata": {},
     "output_type": "execute_result"
    }
   ],
   "source": [
    "dfx['C1'] = np.cbrt(np.sqrt(dfx['C1']))\n",
    "dfx['C1'].skew()"
   ]
  },
  {
   "cell_type": "code",
   "execution_count": 12,
   "metadata": {},
   "outputs": [
    {
     "data": {
      "text/plain": [
       "2.7665573605892657"
      ]
     },
     "execution_count": 12,
     "metadata": {},
     "output_type": "execute_result"
    }
   ],
   "source": [
    "dfx['C3'] = np.log(abs(dfx['C3'])+1)\n",
    "dfx['C3'].skew()"
   ]
  },
  {
   "cell_type": "code",
   "execution_count": 13,
   "metadata": {},
   "outputs": [
    {
     "data": {
      "text/plain": [
       "0.7855411470954896"
      ]
     },
     "execution_count": 13,
     "metadata": {},
     "output_type": "execute_result"
    }
   ],
   "source": [
    "dfx['C5'] = np.log(dfx['C5'])\n",
    "dfx['C5'].skew()"
   ]
  },
  {
   "cell_type": "code",
   "execution_count": 14,
   "metadata": {},
   "outputs": [
    {
     "data": {
      "text/plain": [
       "0.6642273809763178"
      ]
     },
     "execution_count": 14,
     "metadata": {},
     "output_type": "execute_result"
    }
   ],
   "source": [
    "dfx['C6'] = np.log(dfx['C6'])\n",
    "dfx['C6'].skew()"
   ]
  },
  {
   "cell_type": "code",
   "execution_count": 15,
   "metadata": {},
   "outputs": [
    {
     "data": {
      "text/plain": [
       "0.42965828360148195"
      ]
     },
     "execution_count": 15,
     "metadata": {},
     "output_type": "execute_result"
    }
   ],
   "source": [
    "dfx['C7'] = np.cbrt(np.sqrt(dfx['C7']))\n",
    "dfx['C7'].skew()"
   ]
  },
  {
   "cell_type": "code",
   "execution_count": 16,
   "metadata": {},
   "outputs": [
    {
     "data": {
      "text/plain": [
       "0.6706540494201525"
      ]
     },
     "execution_count": 16,
     "metadata": {},
     "output_type": "execute_result"
    }
   ],
   "source": [
    "dfx['T1'] = np.sqrt(dfx['T1'])\n",
    "dfx['T1'].skew()"
   ]
  },
  {
   "cell_type": "code",
   "execution_count": 17,
   "metadata": {},
   "outputs": [
    {
     "data": {
      "text/plain": [
       "0.2592280288366243"
      ]
     },
     "execution_count": 17,
     "metadata": {},
     "output_type": "execute_result"
    }
   ],
   "source": [
    "dfx['T2'] = np.sqrt(dfx['T2'])\n",
    "dfx['T2'].skew()"
   ]
  },
  {
   "cell_type": "code",
   "execution_count": 18,
   "metadata": {},
   "outputs": [
    {
     "data": {
      "text/plain": [
       "0.1698578718543317"
      ]
     },
     "execution_count": 18,
     "metadata": {},
     "output_type": "execute_result"
    }
   ],
   "source": [
    "dfx['T3'] = np.sqrt(dfx['T3'])\n",
    "dfx['T3'].skew()"
   ]
  },
  {
   "cell_type": "code",
   "execution_count": 19,
   "metadata": {},
   "outputs": [
    {
     "data": {
      "text/plain": [
       "0.18555661504791"
      ]
     },
     "execution_count": 19,
     "metadata": {},
     "output_type": "execute_result"
    }
   ],
   "source": [
    "dfx['T4'] = np.sqrt(dfx['T4'])\n",
    "dfx['T4'].skew()"
   ]
  },
  {
   "cell_type": "code",
   "execution_count": 20,
   "metadata": {},
   "outputs": [
    {
     "data": {
      "text/plain": [
       "0.8093171483748224"
      ]
     },
     "execution_count": 20,
     "metadata": {},
     "output_type": "execute_result"
    }
   ],
   "source": [
    "dfx['T5'] = np.sqrt(np.sqrt(abs(dfx['T5'])))\n",
    "dfx['T5'].skew()"
   ]
  },
  {
   "cell_type": "code",
   "execution_count": 21,
   "metadata": {},
   "outputs": [
    {
     "data": {
      "text/plain": [
       "0.024719099412808105"
      ]
     },
     "execution_count": 21,
     "metadata": {},
     "output_type": "execute_result"
    }
   ],
   "source": [
    "dfx['S1'] = np.cbrt(dfx['S1'])\n",
    "dfx['S1'].skew()"
   ]
  },
  {
   "cell_type": "code",
   "execution_count": 22,
   "metadata": {},
   "outputs": [
    {
     "data": {
      "text/plain": [
       "0.6530193847582565"
      ]
     },
     "execution_count": 22,
     "metadata": {},
     "output_type": "execute_result"
    }
   ],
   "source": [
    "dfx['S2'] = np.cbrt(np.sqrt(dfx['S2']))\n",
    "dfx['S2'].skew()"
   ]
  },
  {
   "cell_type": "code",
   "execution_count": 23,
   "metadata": {},
   "outputs": [
    {
     "data": {
      "text/plain": [
       "0.42063329582422193"
      ]
     },
     "execution_count": 23,
     "metadata": {},
     "output_type": "execute_result"
    }
   ],
   "source": [
    "dfx['S3'] = np.cbrt(np.sqrt(dfx['S3']))\n",
    "dfx['S3'].skew()"
   ]
  },
  {
   "cell_type": "code",
   "execution_count": 24,
   "metadata": {},
   "outputs": [],
   "source": [
    "#dfx['C3p'] = np.sqrt(dfx['C3p'])\n",
    "#dfx['C3p'].skew()"
   ]
  },
  {
   "cell_type": "code",
   "execution_count": 25,
   "metadata": {},
   "outputs": [
    {
     "data": {
      "text/plain": [
       "0.8217829602661499"
      ]
     },
     "execution_count": 25,
     "metadata": {},
     "output_type": "execute_result"
    }
   ],
   "source": [
    "dfx['C5p'] = np.log(dfx['C5p'])\n",
    "dfx['C5p'].skew()"
   ]
  },
  {
   "cell_type": "code",
   "execution_count": 26,
   "metadata": {},
   "outputs": [],
   "source": [
    "#df['LongSentences'] = np.cbrt(df['LongSentences'])\n",
    "#df['LongSentences'].skew()"
   ]
  },
  {
   "cell_type": "code",
   "execution_count": 27,
   "metadata": {},
   "outputs": [
    {
     "data": {
      "text/plain": [
       "13.771855344274266"
      ]
     },
     "execution_count": 27,
     "metadata": {},
     "output_type": "execute_result"
    }
   ],
   "source": [
    "dfx['RealWords'] = np.log((dfx['RealWords'])+1)\n",
    "dfx['RealWords'].skew()"
   ]
  },
  {
   "cell_type": "code",
   "execution_count": 28,
   "metadata": {},
   "outputs": [
    {
     "data": {
      "text/plain": [
       "5.032391045094357"
      ]
     },
     "execution_count": 28,
     "metadata": {},
     "output_type": "execute_result"
    }
   ],
   "source": [
    "dfx['LongWords'] = np.sqrt(np.cbrt(abs(dfx['LongWords'])))\n",
    "dfx['LongWords'].skew()"
   ]
  },
  {
   "cell_type": "code",
   "execution_count": 29,
   "metadata": {},
   "outputs": [
    {
     "data": {
      "text/plain": [
       "1.253949986619339"
      ]
     },
     "execution_count": 29,
     "metadata": {},
     "output_type": "execute_result"
    }
   ],
   "source": [
    "dfx['PositiveWords'] = np.cbrt(dfx['PositiveWords'])\n",
    "dfx['PositiveWords'].skew()"
   ]
  },
  {
   "cell_type": "code",
   "execution_count": 30,
   "metadata": {},
   "outputs": [
    {
     "data": {
      "text/plain": [
       "0.021245196574127673"
      ]
     },
     "execution_count": 30,
     "metadata": {},
     "output_type": "execute_result"
    }
   ],
   "source": [
    "dfx['NegativeWords'] = np.cbrt(dfx['NegativeWords'])\n",
    "dfx['NegativeWords'].skew()"
   ]
  },
  {
   "cell_type": "code",
   "execution_count": 31,
   "metadata": {},
   "outputs": [
    {
     "data": {
      "text/plain": [
       "3.2245723147414838"
      ]
     },
     "execution_count": 31,
     "metadata": {},
     "output_type": "execute_result"
    }
   ],
   "source": [
    "dfx['UncertainWords'] = np.cbrt(dfx['UncertainWords'])\n",
    "dfx['UncertainWords'].skew()"
   ]
  },
  {
   "cell_type": "code",
   "execution_count": 32,
   "metadata": {},
   "outputs": [
    {
     "data": {
      "text/plain": [
       "C1                 0.860403\n",
       "C3                 2.766557\n",
       "C4                -0.485756\n",
       "C5                 0.785541\n",
       "C6                 0.664227\n",
       "C7                 0.429658\n",
       "T1                 0.670654\n",
       "T2                 0.259228\n",
       "T3                 0.169858\n",
       "T4                 0.185557\n",
       "T5                 0.809317\n",
       "S1                 0.024719\n",
       "S2                 0.653019\n",
       "S3                 0.420633\n",
       "C3p                0.147347\n",
       "C5p                0.821783\n",
       "C2                -2.068874\n",
       "LongSentences      0.079998\n",
       "RealWords         13.771855\n",
       "LongWords          5.032391\n",
       "PositiveWords      1.253950\n",
       "NegativeWords      0.021245\n",
       "UncertainWords     3.224572\n",
       "dtype: float64"
      ]
     },
     "execution_count": 32,
     "metadata": {},
     "output_type": "execute_result"
    }
   ],
   "source": [
    "dfx.skew()"
   ]
  },
  {
   "cell_type": "code",
   "execution_count": 33,
   "metadata": {},
   "outputs": [
    {
     "data": {
      "image/png": "[encoded data removed]",
      "text/plain": [
       "<Figure size 432x288 with 25 Axes>"
      ]
     },
     "metadata": {},
     "output_type": "display_data"
    }
   ],
   "source": [
    "for col in dfx.columns:\n",
    "    dfx.hist(color='blue')\n",
    "    break\n",
    "plt.show()"
   ]
  },
  {
   "cell_type": "code",
   "execution_count": 34,
   "metadata": {},
   "outputs": [
    {
     "data": {
      "text/html": [
       "<div>\n",
       "<style scoped>\n",
       "    .dataframe tbody tr th:only-of-type {\n",
       "        vertical-align: middle;\n",
       "    }\n",
       "\n",
       "    .dataframe tbody tr th {\n",
       "        vertical-align: top;\n",
       "    }\n",
       "\n",
       "    .dataframe thead th {\n",
       "        text-align: right;\n",
       "    }\n",
       "</style>\n",
       "<table border=\"1\" class=\"dataframe\">\n",
       "  <thead>\n",
       "    <tr style=\"text-align: right;\">\n",
       "      <th></th>\n",
       "      <th>C1</th>\n",
       "      <th>C3</th>\n",
       "      <th>C4</th>\n",
       "      <th>C5</th>\n",
       "      <th>C6</th>\n",
       "      <th>C7</th>\n",
       "      <th>T1</th>\n",
       "      <th>T2</th>\n",
       "      <th>T3</th>\n",
       "      <th>T4</th>\n",
       "      <th>...</th>\n",
       "      <th>S3</th>\n",
       "      <th>C3p</th>\n",
       "      <th>C5p</th>\n",
       "      <th>C2</th>\n",
       "      <th>LongSentences</th>\n",
       "      <th>RealWords</th>\n",
       "      <th>LongWords</th>\n",
       "      <th>PositiveWords</th>\n",
       "      <th>NegativeWords</th>\n",
       "      <th>UncertainWords</th>\n",
       "    </tr>\n",
       "  </thead>\n",
       "  <tbody>\n",
       "    <tr>\n",
       "      <th>0</th>\n",
       "      <td>2.227033</td>\n",
       "      <td>1.488400</td>\n",
       "      <td>0.029074</td>\n",
       "      <td>17.528157</td>\n",
       "      <td>16.176365</td>\n",
       "      <td>1.927893</td>\n",
       "      <td>21.679483</td>\n",
       "      <td>112.778544</td>\n",
       "      <td>107.517440</td>\n",
       "      <td>17.349352</td>\n",
       "      <td>...</td>\n",
       "      <td>2.275984</td>\n",
       "      <td>0</td>\n",
       "      <td>1.351792</td>\n",
       "      <td>1.0</td>\n",
       "      <td>0.640426</td>\n",
       "      <td>0.646515</td>\n",
       "      <td>0.615270</td>\n",
       "      <td>0.169556</td>\n",
       "      <td>0.209529</td>\n",
       "      <td>0.221915</td>\n",
       "    </tr>\n",
       "    <tr>\n",
       "      <th>1</th>\n",
       "      <td>2.524740</td>\n",
       "      <td>0.963174</td>\n",
       "      <td>-0.013352</td>\n",
       "      <td>17.178286</td>\n",
       "      <td>14.690979</td>\n",
       "      <td>1.720483</td>\n",
       "      <td>28.124722</td>\n",
       "      <td>147.621137</td>\n",
       "      <td>139.946418</td>\n",
       "      <td>22.583180</td>\n",
       "      <td>...</td>\n",
       "      <td>2.487662</td>\n",
       "      <td>1</td>\n",
       "      <td>2.487306</td>\n",
       "      <td>0.0</td>\n",
       "      <td>0.644753</td>\n",
       "      <td>0.641182</td>\n",
       "      <td>0.609752</td>\n",
       "      <td>0.148247</td>\n",
       "      <td>0.223103</td>\n",
       "      <td>0.221556</td>\n",
       "    </tr>\n",
       "    <tr>\n",
       "      <th>2</th>\n",
       "      <td>2.116933</td>\n",
       "      <td>0.806476</td>\n",
       "      <td>0.020715</td>\n",
       "      <td>16.639604</td>\n",
       "      <td>15.424948</td>\n",
       "      <td>1.395264</td>\n",
       "      <td>14.177447</td>\n",
       "      <td>72.539644</td>\n",
       "      <td>69.173694</td>\n",
       "      <td>11.313708</td>\n",
       "      <td>...</td>\n",
       "      <td>1.978602</td>\n",
       "      <td>1</td>\n",
       "      <td>1.214656</td>\n",
       "      <td>1.0</td>\n",
       "      <td>0.636816</td>\n",
       "      <td>0.646763</td>\n",
       "      <td>0.628717</td>\n",
       "      <td>0.226322</td>\n",
       "      <td>0.184411</td>\n",
       "      <td>0.225078</td>\n",
       "    </tr>\n",
       "    <tr>\n",
       "      <th>3</th>\n",
       "      <td>2.436077</td>\n",
       "      <td>0.647103</td>\n",
       "      <td>0.020023</td>\n",
       "      <td>16.513419</td>\n",
       "      <td>15.319588</td>\n",
       "      <td>1.429303</td>\n",
       "      <td>18.110770</td>\n",
       "      <td>90.879040</td>\n",
       "      <td>87.028731</td>\n",
       "      <td>13.304135</td>\n",
       "      <td>...</td>\n",
       "      <td>2.188931</td>\n",
       "      <td>1</td>\n",
       "      <td>1.193831</td>\n",
       "      <td>1.0</td>\n",
       "      <td>0.539634</td>\n",
       "      <td>0.650793</td>\n",
       "      <td>0.628490</td>\n",
       "      <td>0.213167</td>\n",
       "      <td>0.192593</td>\n",
       "      <td>0.237040</td>\n",
       "    </tr>\n",
       "    <tr>\n",
       "      <th>4</th>\n",
       "      <td>2.075782</td>\n",
       "      <td>0.067659</td>\n",
       "      <td>-0.034895</td>\n",
       "      <td>17.241131</td>\n",
       "      <td>15.925724</td>\n",
       "      <td>2.929681</td>\n",
       "      <td>23.916521</td>\n",
       "      <td>121.778487</td>\n",
       "      <td>114.786759</td>\n",
       "      <td>18.330303</td>\n",
       "      <td>...</td>\n",
       "      <td>2.346674</td>\n",
       "      <td>0</td>\n",
       "      <td>1.315407</td>\n",
       "      <td>1.0</td>\n",
       "      <td>0.587413</td>\n",
       "      <td>0.635767</td>\n",
       "      <td>0.603993</td>\n",
       "      <td>0.165315</td>\n",
       "      <td>0.215782</td>\n",
       "      <td>0.224143</td>\n",
       "    </tr>\n",
       "  </tbody>\n",
       "</table>\n",
       "<p>5 rows × 23 columns</p>\n",
       "</div>"
      ],
      "text/plain": [
       "         C1        C3        C4         C5         C6        C7         T1  \\\n",
       "0  2.227033  1.488400  0.029074  17.528157  16.176365  1.927893  21.679483   \n",
       "1  2.524740  0.963174 -0.013352  17.178286  14.690979  1.720483  28.124722   \n",
       "2  2.116933  0.806476  0.020715  16.639604  15.424948  1.395264  14.177447   \n",
       "3  2.436077  0.647103  0.020023  16.513419  15.319588  1.429303  18.110770   \n",
       "4  2.075782  0.067659 -0.034895  17.241131  15.925724  2.929681  23.916521   \n",
       "\n",
       "           T2          T3         T4       ...              S3  C3p       C5p  \\\n",
       "0  112.778544  107.517440  17.349352       ...        2.275984    0  1.351792   \n",
       "1  147.621137  139.946418  22.583180       ...        2.487662    1  2.487306   \n",
       "2   72.539644   69.173694  11.313708       ...        1.978602    1  1.214656   \n",
       "3   90.879040   87.028731  13.304135       ...        2.188931    1  1.193831   \n",
       "4  121.778487  114.786759  18.330303       ...        2.346674    0  1.315407   \n",
       "\n",
       "    C2  LongSentences  RealWords  LongWords  PositiveWords  NegativeWords  \\\n",
       "0  1.0       0.640426   0.646515   0.615270       0.169556       0.209529   \n",
       "1  0.0       0.644753   0.641182   0.609752       0.148247       0.223103   \n",
       "2  1.0       0.636816   0.646763   0.628717       0.226322       0.184411   \n",
       "3  1.0       0.539634   0.650793   0.628490       0.213167       0.192593   \n",
       "4  1.0       0.587413   0.635767   0.603993       0.165315       0.215782   \n",
       "\n",
       "   UncertainWords  \n",
       "0        0.221915  \n",
       "1        0.221556  \n",
       "2        0.225078  \n",
       "3        0.237040  \n",
       "4        0.224143  \n",
       "\n",
       "[5 rows x 23 columns]"
      ]
     },
     "execution_count": 34,
     "metadata": {},
     "output_type": "execute_result"
    }
   ],
   "source": [
    "dfx.head()"
   ]
  },
  {
   "cell_type": "code",
   "execution_count": 36,
   "metadata": {},
   "outputs": [],
   "source": [
    "dfx.to_csv('../csv_files/p2no_skew.csv')"
   ]
  },
  {
   "cell_type": "code",
   "execution_count": null,
   "metadata": {},
   "outputs": [],
   "source": []
  }
 ],
 "metadata": {
  "kernelspec": {
   "display_name": "Python 3",
   "language": "python",
   "name": "python3"
  },
  "language_info": {
   "codemirror_mode": {
    "name": "ipython",
    "version": 3
   },
   "file_extension": ".py",
   "mimetype": "text/x-python",
   "name": "python",
   "nbconvert_exporter": "python",
   "pygments_lexer": "ipython3",
   "version": "3.6.5"
  }
 },
 "nbformat": 4,
 "nbformat_minor": 2
}
