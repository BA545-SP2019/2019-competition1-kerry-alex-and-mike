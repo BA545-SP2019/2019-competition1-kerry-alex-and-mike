{
 "cells": [
  {
   "cell_type": "code",
   "execution_count": 1,
   "metadata": {},
   "outputs": [],
   "source": [
    "import pandas as pd\n",
    "import numpy as np\n",
    "from sklearn.linear_model import Ridge"
   ]
  },
  {
   "cell_type": "code",
   "execution_count": 2,
   "metadata": {},
   "outputs": [],
   "source": [
    "# load the dataset into a DataFrame object\n",
    "finaldata = pd.read_csv(\"../csv_files/p3feature-selection.csv\", index_col = 0)"
   ]
  },
  {
   "cell_type": "code",
   "execution_count": 3,
   "metadata": {},
   "outputs": [
    {
     "name": "stdout",
     "output_type": "stream",
     "text": [
      "         C1        C4       C6p        C7       C5p       T4p       T3p  \\\n",
      "0  0.458312  0.630418  0.788811  0.207673  0.471242  0.534307  0.617569   \n",
      "1  1.000000  0.384735  0.000000  0.147494  1.000000  0.545709  0.521720   \n",
      "2  0.327366  0.582011  0.000000  0.078383  0.406077  0.524798  0.622040   \n",
      "3  0.814322  0.578004  0.000000  0.084319  0.396940  0.268780  0.694834   \n",
      "4  0.286445  0.259982  0.529150  0.729255  0.453073  0.394649  0.424900   \n",
      "\n",
      "        T5p       S1p       S2p       S3p   C2  C3p  Industry_Bins  Y1  Y2  \n",
      "0  0.567375  0.462525  0.729701  0.478776  1.0    0              1   0   1  \n",
      "1  0.489104  0.271483  0.817120  0.474754  0.0    1              1   1   0  \n",
      "2  0.773408  1.000000  0.569904  0.514761  1.0    1              1   1   0  \n",
      "3  0.769738  1.000000  0.621831  0.660248  1.0    1              1   1   1  \n",
      "4  0.411101  0.420367  0.769835  0.504014  1.0    0              3   0   1  \n"
     ]
    }
   ],
   "source": [
    "# print out the first five columns of the data\n",
    "print(finaldata.head())"
   ]
  },
  {
   "cell_type": "code",
   "execution_count": 4,
   "metadata": {},
   "outputs": [],
   "source": [
    "# convert the Dataframe to a Numpy array\n",
    "array = finaldata.values\n",
    "X = array[:,:14] #features\n",
    "Y1 = array[:,-2] #Y1target\n"
   ]
  },
  {
   "cell_type": "code",
   "execution_count": 5,
   "metadata": {},
   "outputs": [
    {
     "data": {
      "text/plain": [
       "Ridge(alpha=1.0, copy_X=True, fit_intercept=True, max_iter=None,\n",
       "   normalize=False, random_state=None, solver='auto', tol=0.001)"
      ]
     },
     "execution_count": 5,
     "metadata": {},
     "output_type": "execute_result"
    }
   ],
   "source": [
    "# use Ridge regression\n",
    "ridge = Ridge(alpha=1.0)\n",
    "ridge.fit(X,Y1)"
   ]
  },
  {
   "cell_type": "code",
   "execution_count": 6,
   "metadata": {},
   "outputs": [],
   "source": [
    "# A helper method for pretty-printing the coefficients\n",
    "def pretty_print_coefs(coefs, names = None, sort = False):\n",
    "    if names == None:\n",
    "        names = [\"X%s\" % x for x in range(len(coefs))]\n",
    "    lst = zip(coefs, names)\n",
    "    if sort:\n",
    "        lst = sorted(lst,  key = lambda x:-np.abs(x[0]))\n",
    "    return \" + \".join(\"%s * %s\" % (round(coef, 3), name)\n",
    "                                   for coef, name in lst)"
   ]
  },
  {
   "cell_type": "code",
   "execution_count": 7,
   "metadata": {},
   "outputs": [
    {
     "name": "stdout",
     "output_type": "stream",
     "text": [
      "Ridge model: 0.122 * X0 + -0.243 * X1 + -0.04 * X2 + 0.056 * X3 + -0.518 * X4 + 0.3 * X5 + -0.253 * X6 + -0.053 * X7 + 0.409 * X8 + 0.82 * X9 + -0.001 * X10 + -0.119 * X11 + 0.1 * X12 + -0.054 * X13\n"
     ]
    }
   ],
   "source": [
    "print (\"Ridge model:\", pretty_print_coefs(ridge.coef_))"
   ]
  },
  {
   "cell_type": "code",
   "execution_count": 8,
   "metadata": {},
   "outputs": [],
   "source": [
    "# convert the Dataframe to a Numpy array\n",
    "array = finaldata.values\n",
    "X = array[:,:14] #features\n",
    "Y2 = array[:,-1] #Y2target"
   ]
  },
  {
   "cell_type": "code",
   "execution_count": 9,
   "metadata": {},
   "outputs": [
    {
     "data": {
      "text/plain": [
       "Ridge(alpha=1.0, copy_X=True, fit_intercept=True, max_iter=None,\n",
       "   normalize=False, random_state=None, solver='auto', tol=0.001)"
      ]
     },
     "execution_count": 9,
     "metadata": {},
     "output_type": "execute_result"
    }
   ],
   "source": [
    "# use Ridge regression\n",
    "ridge = Ridge(alpha=1.0)\n",
    "ridge.fit(X,Y2)"
   ]
  },
  {
   "cell_type": "code",
   "execution_count": 10,
   "metadata": {},
   "outputs": [],
   "source": [
    "# A helper method for pretty-printing the coefficients\n",
    "def pretty_print_coefs(coefs, names = None, sort = False):\n",
    "    if names == None:\n",
    "        names = [\"X%s\" % x for x in range(len(coefs))]\n",
    "    lst = zip(coefs, names)\n",
    "    if sort:\n",
    "        lst = sorted(lst,  key = lambda x:-np.abs(x[0]))\n",
    "    return \" + \".join(\"%s * %s\" % (round(coef, 3), name)\n",
    "                                   for coef, name in lst)"
   ]
  },
  {
   "cell_type": "code",
   "execution_count": 11,
   "metadata": {},
   "outputs": [
    {
     "name": "stdout",
     "output_type": "stream",
     "text": [
      "Ridge model: -0.005 * X0 + 0.224 * X1 + 0.02 * X2 + -0.023 * X3 + 0.229 * X4 + -0.033 * X5 + -0.111 * X6 + 0.102 * X7 + -0.442 * X8 + -0.636 * X9 + 0.062 * X10 + 0.064 * X11 + 0.01 * X12 + -0.045 * X13\n"
     ]
    }
   ],
   "source": [
    "print (\"Ridge model:\", pretty_print_coefs(ridge.coef_))"
   ]
  },
  {
   "cell_type": "code",
   "execution_count": null,
   "metadata": {},
   "outputs": [],
   "source": []
  }
 ],
 "metadata": {
  "kernelspec": {
   "display_name": "Python 3",
   "language": "python",
   "name": "python3"
  },
  "language_info": {
   "codemirror_mode": {
    "name": "ipython",
    "version": 3
   },
   "file_extension": ".py",
   "mimetype": "text/x-python",
   "name": "python",
   "nbconvert_exporter": "python",
   "pygments_lexer": "ipython3",
   "version": "3.6.5"
  }
 },
 "nbformat": 4,
 "nbformat_minor": 2
}
