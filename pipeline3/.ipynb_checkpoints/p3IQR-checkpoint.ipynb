{
 "cells": [
  {
   "cell_type": "code",
   "execution_count": 1,
   "metadata": {},
   "outputs": [],
   "source": [
    "# import packages\n",
    "import numpy as np\n",
    "import pandas as pd\n",
    "import matplotlib.pyplot as plt"
   ]
  },
  {
   "cell_type": "code",
   "execution_count": 2,
   "metadata": {},
   "outputs": [
    {
     "data": {
      "text/html": [
       "<div>\n",
       "<style scoped>\n",
       "    .dataframe tbody tr th:only-of-type {\n",
       "        vertical-align: middle;\n",
       "    }\n",
       "\n",
       "    .dataframe tbody tr th {\n",
       "        vertical-align: top;\n",
       "    }\n",
       "\n",
       "    .dataframe thead th {\n",
       "        text-align: right;\n",
       "    }\n",
       "</style>\n",
       "<table border=\"1\" class=\"dataframe\">\n",
       "  <thead>\n",
       "    <tr style=\"text-align: right;\">\n",
       "      <th></th>\n",
       "      <th>C1</th>\n",
       "      <th>C4</th>\n",
       "      <th>C7</th>\n",
       "      <th>C3p</th>\n",
       "      <th>C5p</th>\n",
       "      <th>C6p</th>\n",
       "      <th>T4p</th>\n",
       "      <th>T3p</th>\n",
       "      <th>T5p</th>\n",
       "      <th>S1p</th>\n",
       "      <th>S2p</th>\n",
       "      <th>S3p</th>\n",
       "      <th>C2</th>\n",
       "    </tr>\n",
       "  </thead>\n",
       "  <tbody>\n",
       "    <tr>\n",
       "      <th>0</th>\n",
       "      <td>122.0</td>\n",
       "      <td>0.029074</td>\n",
       "      <td>51.345</td>\n",
       "      <td>0</td>\n",
       "      <td>3.864345</td>\n",
       "      <td>11.111111</td>\n",
       "      <td>0.640426</td>\n",
       "      <td>0.908876</td>\n",
       "      <td>0.054250</td>\n",
       "      <td>0.004875</td>\n",
       "      <td>0.009199</td>\n",
       "      <td>0.010929</td>\n",
       "      <td>1.0</td>\n",
       "    </tr>\n",
       "    <tr>\n",
       "      <th>1</th>\n",
       "      <td>259.0</td>\n",
       "      <td>-0.013352</td>\n",
       "      <td>25.936</td>\n",
       "      <td>1</td>\n",
       "      <td>12.028832</td>\n",
       "      <td>0.000000</td>\n",
       "      <td>0.644753</td>\n",
       "      <td>0.898724</td>\n",
       "      <td>0.051395</td>\n",
       "      <td>0.003258</td>\n",
       "      <td>0.011105</td>\n",
       "      <td>0.010876</td>\n",
       "      <td>0.0</td>\n",
       "    </tr>\n",
       "    <tr>\n",
       "      <th>2</th>\n",
       "      <td>90.0</td>\n",
       "      <td>0.020715</td>\n",
       "      <td>7.378</td>\n",
       "      <td>1</td>\n",
       "      <td>3.369134</td>\n",
       "      <td>0.000000</td>\n",
       "      <td>0.636816</td>\n",
       "      <td>0.909350</td>\n",
       "      <td>0.061764</td>\n",
       "      <td>0.011593</td>\n",
       "      <td>0.006271</td>\n",
       "      <td>0.011403</td>\n",
       "      <td>1.0</td>\n",
       "    </tr>\n",
       "    <tr>\n",
       "      <th>3</th>\n",
       "      <td>209.0</td>\n",
       "      <td>0.020023</td>\n",
       "      <td>8.526</td>\n",
       "      <td>1</td>\n",
       "      <td>3.299697</td>\n",
       "      <td>0.000000</td>\n",
       "      <td>0.539634</td>\n",
       "      <td>0.917060</td>\n",
       "      <td>0.061630</td>\n",
       "      <td>0.009686</td>\n",
       "      <td>0.007144</td>\n",
       "      <td>0.013319</td>\n",
       "      <td>1.0</td>\n",
       "    </tr>\n",
       "    <tr>\n",
       "      <th>4</th>\n",
       "      <td>80.0</td>\n",
       "      <td>-0.034895</td>\n",
       "      <td>632.298</td>\n",
       "      <td>0</td>\n",
       "      <td>3.726269</td>\n",
       "      <td>5.000000</td>\n",
       "      <td>0.587413</td>\n",
       "      <td>0.888469</td>\n",
       "      <td>0.048550</td>\n",
       "      <td>0.004518</td>\n",
       "      <td>0.010047</td>\n",
       "      <td>0.011261</td>\n",
       "      <td>1.0</td>\n",
       "    </tr>\n",
       "  </tbody>\n",
       "</table>\n",
       "</div>"
      ],
      "text/plain": [
       "      C1        C4       C7  C3p        C5p        C6p       T4p       T3p  \\\n",
       "0  122.0  0.029074   51.345    0   3.864345  11.111111  0.640426  0.908876   \n",
       "1  259.0 -0.013352   25.936    1  12.028832   0.000000  0.644753  0.898724   \n",
       "2   90.0  0.020715    7.378    1   3.369134   0.000000  0.636816  0.909350   \n",
       "3  209.0  0.020023    8.526    1   3.299697   0.000000  0.539634  0.917060   \n",
       "4   80.0 -0.034895  632.298    0   3.726269   5.000000  0.587413  0.888469   \n",
       "\n",
       "        T5p       S1p       S2p       S3p   C2  \n",
       "0  0.054250  0.004875  0.009199  0.010929  1.0  \n",
       "1  0.051395  0.003258  0.011105  0.010876  0.0  \n",
       "2  0.061764  0.011593  0.006271  0.011403  1.0  \n",
       "3  0.061630  0.009686  0.007144  0.013319  1.0  \n",
       "4  0.048550  0.004518  0.010047  0.011261  1.0  "
      ]
     },
     "execution_count": 2,
     "metadata": {},
     "output_type": "execute_result"
    }
   ],
   "source": [
    "# read imputed data filev - x.csv\n",
    "dfx = pd.read_csv('../csv_files/p3xmean.csv', index_col=0)\n",
    "dfx.head()"
   ]
  },
  {
   "cell_type": "code",
   "execution_count": 3,
   "metadata": {},
   "outputs": [
    {
     "data": {
      "text/html": [
       "<div>\n",
       "<style scoped>\n",
       "    .dataframe tbody tr th:only-of-type {\n",
       "        vertical-align: middle;\n",
       "    }\n",
       "\n",
       "    .dataframe tbody tr th {\n",
       "        vertical-align: top;\n",
       "    }\n",
       "\n",
       "    .dataframe thead th {\n",
       "        text-align: right;\n",
       "    }\n",
       "</style>\n",
       "<table border=\"1\" class=\"dataframe\">\n",
       "  <thead>\n",
       "    <tr style=\"text-align: right;\">\n",
       "      <th></th>\n",
       "      <th>C2</th>\n",
       "      <th>C3p</th>\n",
       "    </tr>\n",
       "  </thead>\n",
       "  <tbody>\n",
       "    <tr>\n",
       "      <th>0</th>\n",
       "      <td>1.0</td>\n",
       "      <td>0</td>\n",
       "    </tr>\n",
       "    <tr>\n",
       "      <th>1</th>\n",
       "      <td>0.0</td>\n",
       "      <td>1</td>\n",
       "    </tr>\n",
       "    <tr>\n",
       "      <th>2</th>\n",
       "      <td>1.0</td>\n",
       "      <td>1</td>\n",
       "    </tr>\n",
       "    <tr>\n",
       "      <th>3</th>\n",
       "      <td>1.0</td>\n",
       "      <td>1</td>\n",
       "    </tr>\n",
       "    <tr>\n",
       "      <th>4</th>\n",
       "      <td>1.0</td>\n",
       "      <td>0</td>\n",
       "    </tr>\n",
       "  </tbody>\n",
       "</table>\n",
       "</div>"
      ],
      "text/plain": [
       "    C2  C3p\n",
       "0  1.0    0\n",
       "1  0.0    1\n",
       "2  1.0    1\n",
       "3  1.0    1\n",
       "4  1.0    0"
      ]
     },
     "execution_count": 3,
     "metadata": {},
     "output_type": "execute_result"
    }
   ],
   "source": [
    "# create separate dataframe for C2 and C3p as we do not need to change any outliers because it is a binary variable\n",
    "# will concat this df with dfx dataframe later \n",
    "dfbinary = dfx.filter(['C2', 'C3p'])\n",
    "dfbinary.head()"
   ]
  },
  {
   "cell_type": "code",
   "execution_count": 4,
   "metadata": {},
   "outputs": [
    {
     "data": {
      "text/html": [
       "<div>\n",
       "<style scoped>\n",
       "    .dataframe tbody tr th:only-of-type {\n",
       "        vertical-align: middle;\n",
       "    }\n",
       "\n",
       "    .dataframe tbody tr th {\n",
       "        vertical-align: top;\n",
       "    }\n",
       "\n",
       "    .dataframe thead th {\n",
       "        text-align: right;\n",
       "    }\n",
       "</style>\n",
       "<table border=\"1\" class=\"dataframe\">\n",
       "  <thead>\n",
       "    <tr style=\"text-align: right;\">\n",
       "      <th></th>\n",
       "      <th>C1</th>\n",
       "      <th>C4</th>\n",
       "      <th>C7</th>\n",
       "      <th>C5p</th>\n",
       "      <th>C6p</th>\n",
       "      <th>T4p</th>\n",
       "      <th>T3p</th>\n",
       "      <th>T5p</th>\n",
       "      <th>S1p</th>\n",
       "      <th>S2p</th>\n",
       "      <th>S3p</th>\n",
       "    </tr>\n",
       "  </thead>\n",
       "  <tbody>\n",
       "    <tr>\n",
       "      <th>0</th>\n",
       "      <td>122.0</td>\n",
       "      <td>0.029074</td>\n",
       "      <td>51.345</td>\n",
       "      <td>3.864345</td>\n",
       "      <td>11.111111</td>\n",
       "      <td>0.640426</td>\n",
       "      <td>0.908876</td>\n",
       "      <td>0.054250</td>\n",
       "      <td>0.004875</td>\n",
       "      <td>0.009199</td>\n",
       "      <td>0.010929</td>\n",
       "    </tr>\n",
       "    <tr>\n",
       "      <th>1</th>\n",
       "      <td>259.0</td>\n",
       "      <td>-0.013352</td>\n",
       "      <td>25.936</td>\n",
       "      <td>12.028832</td>\n",
       "      <td>0.000000</td>\n",
       "      <td>0.644753</td>\n",
       "      <td>0.898724</td>\n",
       "      <td>0.051395</td>\n",
       "      <td>0.003258</td>\n",
       "      <td>0.011105</td>\n",
       "      <td>0.010876</td>\n",
       "    </tr>\n",
       "    <tr>\n",
       "      <th>2</th>\n",
       "      <td>90.0</td>\n",
       "      <td>0.020715</td>\n",
       "      <td>7.378</td>\n",
       "      <td>3.369134</td>\n",
       "      <td>0.000000</td>\n",
       "      <td>0.636816</td>\n",
       "      <td>0.909350</td>\n",
       "      <td>0.061764</td>\n",
       "      <td>0.011593</td>\n",
       "      <td>0.006271</td>\n",
       "      <td>0.011403</td>\n",
       "    </tr>\n",
       "    <tr>\n",
       "      <th>3</th>\n",
       "      <td>209.0</td>\n",
       "      <td>0.020023</td>\n",
       "      <td>8.526</td>\n",
       "      <td>3.299697</td>\n",
       "      <td>0.000000</td>\n",
       "      <td>0.539634</td>\n",
       "      <td>0.917060</td>\n",
       "      <td>0.061630</td>\n",
       "      <td>0.009686</td>\n",
       "      <td>0.007144</td>\n",
       "      <td>0.013319</td>\n",
       "    </tr>\n",
       "    <tr>\n",
       "      <th>4</th>\n",
       "      <td>80.0</td>\n",
       "      <td>-0.034895</td>\n",
       "      <td>632.298</td>\n",
       "      <td>3.726269</td>\n",
       "      <td>5.000000</td>\n",
       "      <td>0.587413</td>\n",
       "      <td>0.888469</td>\n",
       "      <td>0.048550</td>\n",
       "      <td>0.004518</td>\n",
       "      <td>0.010047</td>\n",
       "      <td>0.011261</td>\n",
       "    </tr>\n",
       "  </tbody>\n",
       "</table>\n",
       "</div>"
      ],
      "text/plain": [
       "      C1        C4       C7        C5p        C6p       T4p       T3p  \\\n",
       "0  122.0  0.029074   51.345   3.864345  11.111111  0.640426  0.908876   \n",
       "1  259.0 -0.013352   25.936  12.028832   0.000000  0.644753  0.898724   \n",
       "2   90.0  0.020715    7.378   3.369134   0.000000  0.636816  0.909350   \n",
       "3  209.0  0.020023    8.526   3.299697   0.000000  0.539634  0.917060   \n",
       "4   80.0 -0.034895  632.298   3.726269   5.000000  0.587413  0.888469   \n",
       "\n",
       "        T5p       S1p       S2p       S3p  \n",
       "0  0.054250  0.004875  0.009199  0.010929  \n",
       "1  0.051395  0.003258  0.011105  0.010876  \n",
       "2  0.061764  0.011593  0.006271  0.011403  \n",
       "3  0.061630  0.009686  0.007144  0.013319  \n",
       "4  0.048550  0.004518  0.010047  0.011261  "
      ]
     },
     "execution_count": 4,
     "metadata": {},
     "output_type": "execute_result"
    }
   ],
   "source": [
    "# drop C2 and C3p variable from working dfx dataframe\n",
    "dfx = dfx.drop(labels=['C2', 'C3p'], axis=1)\n",
    "dfx.head()"
   ]
  },
  {
   "cell_type": "code",
   "execution_count": 5,
   "metadata": {},
   "outputs": [
    {
     "name": "stdout",
     "output_type": "stream",
     "text": [
      "C1      67.750000\n",
      "C4       0.044292\n",
      "C7     458.948462\n",
      "C5p      2.011641\n",
      "C6p      7.142857\n",
      "T4p      0.094898\n",
      "T3p      0.026479\n",
      "T5p      0.009118\n",
      "S1p      0.002115\n",
      "S2p      0.003524\n",
      "S3p      0.003293\n",
      "dtype: float64\n"
     ]
    }
   ],
   "source": [
    "# finding IQR for each column\n",
    "Q1 = dfx.quantile(0.25)\n",
    "Q3 = dfx.quantile(0.75)\n",
    "IQR = Q3 - Q1\n",
    "print(IQR)"
   ]
  },
  {
   "cell_type": "code",
   "execution_count": 6,
   "metadata": {},
   "outputs": [
    {
     "name": "stdout",
     "output_type": "stream",
     "text": [
      "Q1 Values\n",
      "C1     85.000000\n",
      "C4     -0.013352\n",
      "C7     41.511500\n",
      "C5p     2.853439\n",
      "C6p     0.000000\n",
      "T4p     0.579954\n",
      "T3p     0.883184\n",
      "T5p     0.047234\n",
      "S1p     0.004134\n",
      "S2p     0.006979\n",
      "S3p     0.009562\n",
      "Name: 0.25, dtype: float64\n",
      "Q3 Values\n",
      "C1     152.750000\n",
      "C4       0.030941\n",
      "C7     500.459962\n",
      "C5p      4.865080\n",
      "C6p      7.142857\n",
      "T4p      0.674852\n",
      "T3p      0.909664\n",
      "T5p      0.056351\n",
      "S1p      0.006249\n",
      "S2p      0.010503\n",
      "S3p      0.012855\n",
      "Name: 0.75, dtype: float64\n"
     ]
    }
   ],
   "source": [
    "# print out Q1 and Q3 values for each variable \n",
    "print('Q1 Values')\n",
    "print(Q1)\n",
    "print('Q3 Values')\n",
    "print(Q3)"
   ]
  },
  {
   "cell_type": "code",
   "execution_count": 7,
   "metadata": {},
   "outputs": [
    {
     "name": "stdout",
     "output_type": "stream",
     "text": [
      "        C1     C4     C7    C5p    C6p    T4p    T3p    T5p    S1p    S2p  \\\n",
      "0    False  False  False  False  False  False  False  False  False  False   \n",
      "1     True  False  False   True  False  False  False  False  False  False   \n",
      "2    False  False  False  False  False  False  False  False   True  False   \n",
      "3    False  False  False  False  False  False  False  False   True  False   \n",
      "4    False  False  False  False  False  False  False  False  False  False   \n",
      "5    False  False  False  False  False  False   True  False  False  False   \n",
      "6    False  False  False  False  False  False  False  False  False  False   \n",
      "7    False  False  False  False  False   True  False   True  False  False   \n",
      "8    False  False  False  False  False  False  False  False  False  False   \n",
      "9    False  False  False  False  False  False  False  False  False  False   \n",
      "10   False  False  False  False  False  False  False  False  False  False   \n",
      "11   False  False  False  False  False  False  False  False  False  False   \n",
      "12   False  False  False  False  False  False  False  False  False  False   \n",
      "13   False  False  False  False  False  False  False  False  False  False   \n",
      "14    True  False  False  False  False  False  False  False  False  False   \n",
      "15   False   True  False   True  False  False  False  False  False  False   \n",
      "16   False  False  False  False  False  False  False  False  False  False   \n",
      "17   False  False  False  False  False  False  False  False  False  False   \n",
      "18   False  False  False  False  False  False  False  False  False  False   \n",
      "19   False  False  False  False  False  False  False  False  False  False   \n",
      "20   False  False  False  False  False  False  False  False  False  False   \n",
      "21   False  False   True  False  False  False  False  False  False  False   \n",
      "22   False  False  False  False  False  False  False  False  False  False   \n",
      "23   False  False  False  False  False  False  False  False  False  False   \n",
      "24   False  False  False  False  False  False  False  False  False  False   \n",
      "25   False  False  False  False  False  False  False  False  False  False   \n",
      "26    True  False  False  False  False  False  False  False  False  False   \n",
      "27   False  False  False  False  False  False   True  False  False  False   \n",
      "28   False  False  False  False  False  False  False  False  False  False   \n",
      "29   False  False  False  False  False  False  False  False  False  False   \n",
      "..     ...    ...    ...    ...    ...    ...    ...    ...    ...    ...   \n",
      "652  False  False  False  False  False  False  False  False  False  False   \n",
      "653  False  False  False  False  False  False  False  False  False  False   \n",
      "654  False  False  False  False  False  False  False  False  False  False   \n",
      "655  False  False  False  False  False  False  False  False  False  False   \n",
      "656  False  False  False  False  False  False  False  False  False  False   \n",
      "657  False  False  False  False  False  False  False  False  False  False   \n",
      "658  False  False   True  False  False  False  False  False  False  False   \n",
      "659  False  False  False  False  False  False  False  False  False  False   \n",
      "660  False  False  False  False  False  False  False  False  False  False   \n",
      "661  False  False   True  False  False  False  False  False  False   True   \n",
      "662  False  False   True  False  False  False  False  False  False  False   \n",
      "663  False  False  False  False  False  False  False  False  False  False   \n",
      "664  False  False  False  False  False  False  False  False  False  False   \n",
      "665   True  False  False  False  False  False  False  False  False  False   \n",
      "666   True  False  False  False  False  False  False  False  False  False   \n",
      "667  False  False  False  False  False  False  False  False  False  False   \n",
      "668  False  False  False  False  False  False  False  False  False  False   \n",
      "669  False  False  False  False  False  False  False  False  False  False   \n",
      "670   True  False  False  False  False  False  False  False  False  False   \n",
      "671  False  False  False  False  False  False  False  False  False  False   \n",
      "672  False  False  False  False  False  False  False  False  False  False   \n",
      "673  False  False  False  False   True  False   True  False  False  False   \n",
      "674  False  False  False  False  False  False  False  False  False  False   \n",
      "675  False  False  False  False  False  False  False  False  False  False   \n",
      "676  False  False  False  False  False  False  False  False  False  False   \n",
      "677   True  False  False  False   True  False  False  False  False  False   \n",
      "678  False  False  False  False  False  False  False  False  False  False   \n",
      "679  False  False  False  False  False  False  False  False  False  False   \n",
      "680  False  False  False  False   True  False  False  False  False  False   \n",
      "681   True  False   True  False  False  False  False  False  False  False   \n",
      "\n",
      "       S3p  \n",
      "0    False  \n",
      "1    False  \n",
      "2    False  \n",
      "3    False  \n",
      "4    False  \n",
      "5    False  \n",
      "6    False  \n",
      "7    False  \n",
      "8    False  \n",
      "9    False  \n",
      "10   False  \n",
      "11   False  \n",
      "12   False  \n",
      "13   False  \n",
      "14   False  \n",
      "15   False  \n",
      "16   False  \n",
      "17   False  \n",
      "18   False  \n",
      "19   False  \n",
      "20   False  \n",
      "21   False  \n",
      "22   False  \n",
      "23   False  \n",
      "24   False  \n",
      "25   False  \n",
      "26   False  \n",
      "27   False  \n",
      "28   False  \n",
      "29   False  \n",
      "..     ...  \n",
      "652  False  \n",
      "653  False  \n",
      "654  False  \n",
      "655  False  \n",
      "656  False  \n",
      "657  False  \n",
      "658  False  \n",
      "659  False  \n",
      "660  False  \n",
      "661  False  \n",
      "662  False  \n",
      "663  False  \n",
      "664  False  \n",
      "665  False  \n",
      "666  False  \n",
      "667  False  \n",
      "668  False  \n",
      "669  False  \n",
      "670  False  \n",
      "671  False  \n",
      "672  False  \n",
      "673  False  \n",
      "674  False  \n",
      "675  False  \n",
      "676  False  \n",
      "677  False  \n",
      "678  False  \n",
      "679  False  \n",
      "680  False  \n",
      "681  False  \n",
      "\n",
      "[682 rows x 11 columns]\n"
     ]
    }
   ],
   "source": [
    "# identifying outlier value locations sort of \n",
    "# Q1 - 1.5 * IQR = lower bound \n",
    "# Q3 + 1.5 * IQR = upper bound \n",
    "\n",
    "# define upper bound\n",
    "upper = Q3 + 1.5 * IQR\n",
    "# define lower bound \n",
    "lower = Q1 - 1.5 * IQR\n",
    "# define outlier variable \n",
    "# below is equivalent to this formula: outlier = (dfx < (Q1 - 1.5 * IQR)) | (dfx > (Q3 + 1.5 * IQR))\n",
    "outlier = (dfx < lower) | (dfx > upper)\n",
    "\n",
    "# print out the results\n",
    "# gives the location of the outlier values (indicated by True) based on the bounds defined above \n",
    "print(outlier)"
   ]
  },
  {
   "cell_type": "code",
   "execution_count": 8,
   "metadata": {},
   "outputs": [
    {
     "name": "stdout",
     "output_type": "stream",
     "text": [
      "C1      254.375000\n",
      "C4        0.097379\n",
      "C7     1188.882656\n",
      "C5p       7.882541\n",
      "C6p      17.857143\n",
      "T4p       0.817198\n",
      "T3p       0.949383\n",
      "T5p       0.070027\n",
      "S1p       0.009423\n",
      "S2p       0.015789\n",
      "S3p       0.017794\n",
      "dtype: float64\n"
     ]
    }
   ],
   "source": [
    "# print the upper bound value for each variable\n",
    "print(upper)"
   ]
  },
  {
   "cell_type": "code",
   "execution_count": 9,
   "metadata": {},
   "outputs": [
    {
     "name": "stdout",
     "output_type": "stream",
     "text": [
      "C1     -16.625000\n",
      "C4      -0.079790\n",
      "C7    -646.911193\n",
      "C5p     -0.164022\n",
      "C6p    -10.714286\n",
      "T4p      0.437608\n",
      "T3p      0.843465\n",
      "T5p      0.033557\n",
      "S1p      0.000961\n",
      "S2p      0.001693\n",
      "S3p      0.004622\n",
      "dtype: float64\n"
     ]
    }
   ],
   "source": [
    "# print the lower bound for each variable \n",
    "print(lower)"
   ]
  },
  {
   "cell_type": "code",
   "execution_count": 10,
   "metadata": {},
   "outputs": [],
   "source": [
    "# define upper and lower lists\n",
    "upper = []\n",
    "lower = []\n",
    "\n",
    "# create for loop that will iterate over each value in every column\n",
    "for i in dfx.columns:\n",
    "    # define Q1 and Q3 for each column\n",
    "    Q1 = dfx[i].quantile(0.25)\n",
    "    Q3 = dfx[i].quantile(0.75)\n",
    "    # define IQR for each column\n",
    "    IQR = Q3 - Q1\n",
    "    # append empty lists upper and lower\n",
    "    upper_list = Q3 + 1.5 * IQR\n",
    "    upper.append(upper_list)\n",
    "    lower_list = Q1 - 1.5 * IQR\n",
    "    lower.append(lower_list)\n",
    "    "
   ]
  },
  {
   "cell_type": "code",
   "execution_count": 11,
   "metadata": {},
   "outputs": [],
   "source": [
    "# define the function that will replace outlier values in each column with the appropriate upper or lower limit \n",
    "def outlier_handling(x, upper, lower):\n",
    "    if x > upper:\n",
    "        x = upper\n",
    "    elif x < lower:\n",
    "            x = lower\n",
    "    else:\n",
    "        pass\n",
    "    return x"
   ]
  },
  {
   "cell_type": "code",
   "execution_count": 12,
   "metadata": {},
   "outputs": [],
   "source": [
    "# apply the outlier handling function to the dfx dataframe to replace the outlier values in each column\n",
    "for col in dfx.columns:\n",
    "    q1 = dfx.loc[:, col].quantile(0.25)\n",
    "    q3 = dfx.loc[:, col].quantile(0.75)\n",
    "    IQR = q3 - q1\n",
    "    lbound = q1 - 1.5*IQR\n",
    "    ubound = q3 + 1.5*IQR\n",
    "    dfx.loc[:, col] = dfx.loc[:, col].apply(lambda x: outlier_handling(x, ubound,lbound))"
   ]
  },
  {
   "cell_type": "markdown",
   "metadata": {},
   "source": [
    "### Check that the Outlier Handling function Worked\n",
    "### Examine the boxplots for each variable (should see no outliers) "
   ]
  },
  {
   "cell_type": "code",
   "execution_count": 13,
   "metadata": {},
   "outputs": [
    {
     "data": {
      "text/plain": [
       "{'whiskers': [<matplotlib.lines.Line2D at 0x7f832fcbdc18>,\n",
       "  <matplotlib.lines.Line2D at 0x7f832fcbdf60>],\n",
       " 'caps': [<matplotlib.lines.Line2D at 0x7f832fc542e8>,\n",
       "  <matplotlib.lines.Line2D at 0x7f832fc54630>],\n",
       " 'boxes': [<matplotlib.lines.Line2D at 0x7f832fcbdac8>],\n",
       " 'medians': [<matplotlib.lines.Line2D at 0x7f832fc54978>],\n",
       " 'fliers': [<matplotlib.lines.Line2D at 0x7f832fc54cc0>],\n",
       " 'means': []}"
      ]
     },
     "execution_count": 13,
     "metadata": {},
     "output_type": "execute_result"
    },
    {
     "data": {
      "image/png": "[encoded data removed]",
      "text/plain": [
       "<Figure size 432x288 with 1 Axes>"
      ]
     },
     "metadata": {},
     "output_type": "display_data"
    }
   ],
   "source": [
    "plt.boxplot(dfx['C1'])"
   ]
  },
  {
   "cell_type": "code",
   "execution_count": 14,
   "metadata": {},
   "outputs": [
    {
     "data": {
      "text/plain": [
       "{'whiskers': [<matplotlib.lines.Line2D at 0x7f832fc407f0>,\n",
       "  <matplotlib.lines.Line2D at 0x7f832fc52898>],\n",
       " 'caps': [<matplotlib.lines.Line2D at 0x7f832fc52be0>,\n",
       "  <matplotlib.lines.Line2D at 0x7f832fc52f28>],\n",
       " 'boxes': [<matplotlib.lines.Line2D at 0x7f832fc52208>],\n",
       " 'medians': [<matplotlib.lines.Line2D at 0x7f832fbdc2b0>],\n",
       " 'fliers': [<matplotlib.lines.Line2D at 0x7f832fbdc5f8>],\n",
       " 'means': []}"
      ]
     },
     "execution_count": 14,
     "metadata": {},
     "output_type": "execute_result"
    },
    {
     "data": {
      "image/png": "[encoded data removed]",
      "text/plain": [
       "<Figure size 432x288 with 1 Axes>"
      ]
     },
     "metadata": {},
     "output_type": "display_data"
    }
   ],
   "source": [
    "plt.boxplot(dfx['C4'])"
   ]
  },
  {
   "cell_type": "code",
   "execution_count": 15,
   "metadata": {},
   "outputs": [
    {
     "data": {
      "text/plain": [
       "{'whiskers': [<matplotlib.lines.Line2D at 0x7f832fbb57f0>,\n",
       "  <matplotlib.lines.Line2D at 0x7f832fbb5b38>],\n",
       " 'caps': [<matplotlib.lines.Line2D at 0x7f832fbb5e80>,\n",
       "  <matplotlib.lines.Line2D at 0x7f832fbbc208>],\n",
       " 'boxes': [<matplotlib.lines.Line2D at 0x7f832fbb56a0>],\n",
       " 'medians': [<matplotlib.lines.Line2D at 0x7f832fbbc550>],\n",
       " 'fliers': [<matplotlib.lines.Line2D at 0x7f832fbbc898>],\n",
       " 'means': []}"
      ]
     },
     "execution_count": 15,
     "metadata": {},
     "output_type": "execute_result"
    },
    {
     "data": {
      "image/png": "[encoded data removed]",
      "text/plain": [
       "<Figure size 432x288 with 1 Axes>"
      ]
     },
     "metadata": {},
     "output_type": "display_data"
    }
   ],
   "source": [
    "plt.boxplot(dfx['C6p'])"
   ]
  },
  {
   "cell_type": "code",
   "execution_count": 16,
   "metadata": {},
   "outputs": [
    {
     "data": {
      "text/plain": [
       "{'whiskers': [<matplotlib.lines.Line2D at 0x7f832fb16b38>,\n",
       "  <matplotlib.lines.Line2D at 0x7f832fb16e80>],\n",
       " 'caps': [<matplotlib.lines.Line2D at 0x7f832fb1b208>,\n",
       "  <matplotlib.lines.Line2D at 0x7f832fb1b550>],\n",
       " 'boxes': [<matplotlib.lines.Line2D at 0x7f832fb169e8>],\n",
       " 'medians': [<matplotlib.lines.Line2D at 0x7f832fb1b898>],\n",
       " 'fliers': [<matplotlib.lines.Line2D at 0x7f832fb1bbe0>],\n",
       " 'means': []}"
      ]
     },
     "execution_count": 16,
     "metadata": {},
     "output_type": "execute_result"
    },
    {
     "data": {
      "image/png": "[encoded data removed]",
      "text/plain": [
       "<Figure size 432x288 with 1 Axes>"
      ]
     },
     "metadata": {},
     "output_type": "display_data"
    }
   ],
   "source": [
    "plt.boxplot(dfx['C7'])"
   ]
  },
  {
   "cell_type": "code",
   "execution_count": 17,
   "metadata": {},
   "outputs": [
    {
     "data": {
      "text/plain": [
       "{'whiskers': [<matplotlib.lines.Line2D at 0x7f832faf65c0>,\n",
       "  <matplotlib.lines.Line2D at 0x7f832faf6908>],\n",
       " 'caps': [<matplotlib.lines.Line2D at 0x7f832faf6c50>,\n",
       "  <matplotlib.lines.Line2D at 0x7f832faf6f98>],\n",
       " 'boxes': [<matplotlib.lines.Line2D at 0x7f832faf6470>],\n",
       " 'medians': [<matplotlib.lines.Line2D at 0x7f832fafe320>],\n",
       " 'fliers': [<matplotlib.lines.Line2D at 0x7f832fafe668>],\n",
       " 'means': []}"
      ]
     },
     "execution_count": 17,
     "metadata": {},
     "output_type": "execute_result"
    },
    {
     "data": {
      "image/png": "[encoded data removed]",
      "text/plain": [
       "<Figure size 432x288 with 1 Axes>"
      ]
     },
     "metadata": {},
     "output_type": "display_data"
    }
   ],
   "source": [
    "plt.boxplot(dfx['C5p'])"
   ]
  },
  {
   "cell_type": "code",
   "execution_count": 18,
   "metadata": {},
   "outputs": [
    {
     "data": {
      "text/plain": [
       "{'whiskers': [<matplotlib.lines.Line2D at 0x7f832fa55780>,\n",
       "  <matplotlib.lines.Line2D at 0x7f832fa55ac8>],\n",
       " 'caps': [<matplotlib.lines.Line2D at 0x7f832fa55e10>,\n",
       "  <matplotlib.lines.Line2D at 0x7f832fa5b198>],\n",
       " 'boxes': [<matplotlib.lines.Line2D at 0x7f832fa55630>],\n",
       " 'medians': [<matplotlib.lines.Line2D at 0x7f832fa5b4e0>],\n",
       " 'fliers': [<matplotlib.lines.Line2D at 0x7f832fa5b828>],\n",
       " 'means': []}"
      ]
     },
     "execution_count": 18,
     "metadata": {},
     "output_type": "execute_result"
    },
    {
     "data": {
      "image/png": "[encoded data removed]",
      "text/plain": [
       "<Figure size 432x288 with 1 Axes>"
      ]
     },
     "metadata": {},
     "output_type": "display_data"
    }
   ],
   "source": [
    "plt.boxplot(dfx['T3p'])"
   ]
  },
  {
   "cell_type": "code",
   "execution_count": 19,
   "metadata": {},
   "outputs": [
    {
     "data": {
      "text/plain": [
       "{'whiskers': [<matplotlib.lines.Line2D at 0x7f8331cee8d0>,\n",
       "  <matplotlib.lines.Line2D at 0x7f8331ceebe0>],\n",
       " 'caps': [<matplotlib.lines.Line2D at 0x7f8331ceef60>,\n",
       "  <matplotlib.lines.Line2D at 0x7f8331ce8278>],\n",
       " 'boxes': [<matplotlib.lines.Line2D at 0x7f8331cee780>],\n",
       " 'medians': [<matplotlib.lines.Line2D at 0x7f8331ce8588>],\n",
       " 'fliers': [<matplotlib.lines.Line2D at 0x7f8331ce8f28>],\n",
       " 'means': []}"
      ]
     },
     "execution_count": 19,
     "metadata": {},
     "output_type": "execute_result"
    },
    {
     "data": {
      "image/png": "[encoded data removed]",
      "text/plain": [
       "<Figure size 432x288 with 1 Axes>"
      ]
     },
     "metadata": {},
     "output_type": "display_data"
    }
   ],
   "source": [
    "plt.boxplot(dfx['T4p'])"
   ]
  },
  {
   "cell_type": "code",
   "execution_count": 20,
   "metadata": {},
   "outputs": [
    {
     "data": {
      "text/plain": [
       "{'whiskers': [<matplotlib.lines.Line2D at 0x7f832fa03c88>,\n",
       "  <matplotlib.lines.Line2D at 0x7f832fa03fd0>],\n",
       " 'caps': [<matplotlib.lines.Line2D at 0x7f832fa0c358>,\n",
       "  <matplotlib.lines.Line2D at 0x7f832fa0c6a0>],\n",
       " 'boxes': [<matplotlib.lines.Line2D at 0x7f832fa03b38>],\n",
       " 'medians': [<matplotlib.lines.Line2D at 0x7f832fa0c9e8>],\n",
       " 'fliers': [<matplotlib.lines.Line2D at 0x7f832fa0cd30>],\n",
       " 'means': []}"
      ]
     },
     "execution_count": 20,
     "metadata": {},
     "output_type": "execute_result"
    },
    {
     "data": {
      "image/png": "[encoded data removed]",
      "text/plain": [
       "<Figure size 432x288 with 1 Axes>"
      ]
     },
     "metadata": {},
     "output_type": "display_data"
    }
   ],
   "source": [
    "plt.boxplot(dfx['T5p'])"
   ]
  },
  {
   "cell_type": "code",
   "execution_count": 21,
   "metadata": {},
   "outputs": [
    {
     "data": {
      "text/plain": [
       "{'whiskers': [<matplotlib.lines.Line2D at 0x7f832f962ef0>,\n",
       "  <matplotlib.lines.Line2D at 0x7f832f969278>],\n",
       " 'caps': [<matplotlib.lines.Line2D at 0x7f832f9695c0>,\n",
       "  <matplotlib.lines.Line2D at 0x7f832f969908>],\n",
       " 'boxes': [<matplotlib.lines.Line2D at 0x7f832f962da0>],\n",
       " 'medians': [<matplotlib.lines.Line2D at 0x7f832f969c50>],\n",
       " 'fliers': [<matplotlib.lines.Line2D at 0x7f832f969f98>],\n",
       " 'means': []}"
      ]
     },
     "execution_count": 21,
     "metadata": {},
     "output_type": "execute_result"
    },
    {
     "data": {
      "image/png": "[encoded data removed]",
      "text/plain": [
       "<Figure size 432x288 with 1 Axes>"
      ]
     },
     "metadata": {},
     "output_type": "display_data"
    }
   ],
   "source": [
    "plt.boxplot(dfx['S1p'])"
   ]
  },
  {
   "cell_type": "code",
   "execution_count": 22,
   "metadata": {},
   "outputs": [
    {
     "data": {
      "text/plain": [
       "{'whiskers': [<matplotlib.lines.Line2D at 0x7f832f936e10>,\n",
       "  <matplotlib.lines.Line2D at 0x7f832f919198>],\n",
       " 'caps': [<matplotlib.lines.Line2D at 0x7f832f9194e0>,\n",
       "  <matplotlib.lines.Line2D at 0x7f832f919828>],\n",
       " 'boxes': [<matplotlib.lines.Line2D at 0x7f832f9369e8>],\n",
       " 'medians': [<matplotlib.lines.Line2D at 0x7f832f919b70>],\n",
       " 'fliers': [<matplotlib.lines.Line2D at 0x7f832f919eb8>],\n",
       " 'means': []}"
      ]
     },
     "execution_count": 22,
     "metadata": {},
     "output_type": "execute_result"
    },
    {
     "data": {
      "image/png": "[encoded data removed]",
      "text/plain": [
       "<Figure size 432x288 with 1 Axes>"
      ]
     },
     "metadata": {},
     "output_type": "display_data"
    }
   ],
   "source": [
    "plt.boxplot(dfx['S2p'])"
   ]
  },
  {
   "cell_type": "code",
   "execution_count": 23,
   "metadata": {},
   "outputs": [
    {
     "data": {
      "text/plain": [
       "{'whiskers': [<matplotlib.lines.Line2D at 0x7f832f912f98>,\n",
       "  <matplotlib.lines.Line2D at 0x7f832f89d320>],\n",
       " 'caps': [<matplotlib.lines.Line2D at 0x7f832f89d668>,\n",
       "  <matplotlib.lines.Line2D at 0x7f832f89d9b0>],\n",
       " 'boxes': [<matplotlib.lines.Line2D at 0x7f832f912e48>],\n",
       " 'medians': [<matplotlib.lines.Line2D at 0x7f832f89dcf8>],\n",
       " 'fliers': [<matplotlib.lines.Line2D at 0x7f832f8a5080>],\n",
       " 'means': []}"
      ]
     },
     "execution_count": 23,
     "metadata": {},
     "output_type": "execute_result"
    },
    {
     "data": {
      "image/png": "[encoded data removed]",
      "text/plain": [
       "<Figure size 432x288 with 1 Axes>"
      ]
     },
     "metadata": {},
     "output_type": "display_data"
    }
   ],
   "source": [
    "plt.boxplot(dfx['S3p'])"
   ]
  },
  {
   "cell_type": "code",
   "execution_count": 24,
   "metadata": {},
   "outputs": [
    {
     "data": {
      "text/html": [
       "<div>\n",
       "<style scoped>\n",
       "    .dataframe tbody tr th:only-of-type {\n",
       "        vertical-align: middle;\n",
       "    }\n",
       "\n",
       "    .dataframe tbody tr th {\n",
       "        vertical-align: top;\n",
       "    }\n",
       "\n",
       "    .dataframe thead th {\n",
       "        text-align: right;\n",
       "    }\n",
       "</style>\n",
       "<table border=\"1\" class=\"dataframe\">\n",
       "  <thead>\n",
       "    <tr style=\"text-align: right;\">\n",
       "      <th></th>\n",
       "      <th>C1</th>\n",
       "      <th>C4</th>\n",
       "      <th>C7</th>\n",
       "      <th>C5p</th>\n",
       "      <th>C6p</th>\n",
       "      <th>T4p</th>\n",
       "      <th>T3p</th>\n",
       "      <th>T5p</th>\n",
       "      <th>S1p</th>\n",
       "      <th>S2p</th>\n",
       "      <th>S3p</th>\n",
       "      <th>C2</th>\n",
       "      <th>C3p</th>\n",
       "    </tr>\n",
       "  </thead>\n",
       "  <tbody>\n",
       "    <tr>\n",
       "      <th>0</th>\n",
       "      <td>122.000</td>\n",
       "      <td>0.029074</td>\n",
       "      <td>51.345</td>\n",
       "      <td>3.864345</td>\n",
       "      <td>11.111111</td>\n",
       "      <td>0.640426</td>\n",
       "      <td>0.908876</td>\n",
       "      <td>0.054250</td>\n",
       "      <td>0.004875</td>\n",
       "      <td>0.009199</td>\n",
       "      <td>0.010929</td>\n",
       "      <td>1.0</td>\n",
       "      <td>0</td>\n",
       "    </tr>\n",
       "    <tr>\n",
       "      <th>1</th>\n",
       "      <td>254.375</td>\n",
       "      <td>-0.013352</td>\n",
       "      <td>25.936</td>\n",
       "      <td>7.882541</td>\n",
       "      <td>0.000000</td>\n",
       "      <td>0.644753</td>\n",
       "      <td>0.898724</td>\n",
       "      <td>0.051395</td>\n",
       "      <td>0.003258</td>\n",
       "      <td>0.011105</td>\n",
       "      <td>0.010876</td>\n",
       "      <td>0.0</td>\n",
       "      <td>1</td>\n",
       "    </tr>\n",
       "    <tr>\n",
       "      <th>2</th>\n",
       "      <td>90.000</td>\n",
       "      <td>0.020715</td>\n",
       "      <td>7.378</td>\n",
       "      <td>3.369134</td>\n",
       "      <td>0.000000</td>\n",
       "      <td>0.636816</td>\n",
       "      <td>0.909350</td>\n",
       "      <td>0.061764</td>\n",
       "      <td>0.009423</td>\n",
       "      <td>0.006271</td>\n",
       "      <td>0.011403</td>\n",
       "      <td>1.0</td>\n",
       "      <td>1</td>\n",
       "    </tr>\n",
       "    <tr>\n",
       "      <th>3</th>\n",
       "      <td>209.000</td>\n",
       "      <td>0.020023</td>\n",
       "      <td>8.526</td>\n",
       "      <td>3.299697</td>\n",
       "      <td>0.000000</td>\n",
       "      <td>0.539634</td>\n",
       "      <td>0.917060</td>\n",
       "      <td>0.061630</td>\n",
       "      <td>0.009423</td>\n",
       "      <td>0.007144</td>\n",
       "      <td>0.013319</td>\n",
       "      <td>1.0</td>\n",
       "      <td>1</td>\n",
       "    </tr>\n",
       "    <tr>\n",
       "      <th>4</th>\n",
       "      <td>80.000</td>\n",
       "      <td>-0.034895</td>\n",
       "      <td>632.298</td>\n",
       "      <td>3.726269</td>\n",
       "      <td>5.000000</td>\n",
       "      <td>0.587413</td>\n",
       "      <td>0.888469</td>\n",
       "      <td>0.048550</td>\n",
       "      <td>0.004518</td>\n",
       "      <td>0.010047</td>\n",
       "      <td>0.011261</td>\n",
       "      <td>1.0</td>\n",
       "      <td>0</td>\n",
       "    </tr>\n",
       "  </tbody>\n",
       "</table>\n",
       "</div>"
      ],
      "text/plain": [
       "        C1        C4       C7       C5p        C6p       T4p       T3p  \\\n",
       "0  122.000  0.029074   51.345  3.864345  11.111111  0.640426  0.908876   \n",
       "1  254.375 -0.013352   25.936  7.882541   0.000000  0.644753  0.898724   \n",
       "2   90.000  0.020715    7.378  3.369134   0.000000  0.636816  0.909350   \n",
       "3  209.000  0.020023    8.526  3.299697   0.000000  0.539634  0.917060   \n",
       "4   80.000 -0.034895  632.298  3.726269   5.000000  0.587413  0.888469   \n",
       "\n",
       "        T5p       S1p       S2p       S3p   C2  C3p  \n",
       "0  0.054250  0.004875  0.009199  0.010929  1.0    0  \n",
       "1  0.051395  0.003258  0.011105  0.010876  0.0    1  \n",
       "2  0.061764  0.009423  0.006271  0.011403  1.0    1  \n",
       "3  0.061630  0.009423  0.007144  0.013319  1.0    1  \n",
       "4  0.048550  0.004518  0.010047  0.011261  1.0    0  "
      ]
     },
     "execution_count": 24,
     "metadata": {},
     "output_type": "execute_result"
    }
   ],
   "source": [
    "# concat dfx dataframe and dfbinary dataframe to create the full x-variable dataframe \n",
    "dfx = pd.concat([dfx, dfbinary], axis=1)\n",
    "dfx.head()"
   ]
  },
  {
   "cell_type": "code",
   "execution_count": 25,
   "metadata": {},
   "outputs": [],
   "source": [
    "# export the new csv file to use in normalization using min/max scaler \n",
    "dfx.to_csv('../csv_files/p3iqr.csv')"
   ]
  },
  {
   "cell_type": "code",
   "execution_count": null,
   "metadata": {},
   "outputs": [],
   "source": []
  }
 ],
 "metadata": {
  "kernelspec": {
   "display_name": "Python 3",
   "language": "python",
   "name": "python3"
  },
  "language_info": {
   "codemirror_mode": {
    "name": "ipython",
    "version": 3
   },
   "file_extension": ".py",
   "mimetype": "text/x-python",
   "name": "python",
   "nbconvert_exporter": "python",
   "pygments_lexer": "ipython3",
   "version": "3.6.5"
  }
 },
 "nbformat": 4,
 "nbformat_minor": 2
}
