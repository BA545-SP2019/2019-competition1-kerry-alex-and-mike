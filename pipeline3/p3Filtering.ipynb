{
 "cells": [
  {
   "cell_type": "code",
   "execution_count": 7,
   "metadata": {},
   "outputs": [],
   "source": [
    "import pandas as pd\n",
    "import numpy as np\n",
    "from sklearn.feature_selection import SelectKBest\n",
    "from sklearn.feature_selection import chi2"
   ]
  },
  {
   "cell_type": "code",
   "execution_count": 8,
   "metadata": {},
   "outputs": [
    {
     "data": {
      "text/html": [
       "<div>\n",
       "<style scoped>\n",
       "    .dataframe tbody tr th:only-of-type {\n",
       "        vertical-align: middle;\n",
       "    }\n",
       "\n",
       "    .dataframe tbody tr th {\n",
       "        vertical-align: top;\n",
       "    }\n",
       "\n",
       "    .dataframe thead th {\n",
       "        text-align: right;\n",
       "    }\n",
       "</style>\n",
       "<table border=\"1\" class=\"dataframe\">\n",
       "  <thead>\n",
       "    <tr style=\"text-align: right;\">\n",
       "      <th></th>\n",
       "      <th>C1</th>\n",
       "      <th>C4</th>\n",
       "      <th>C6p</th>\n",
       "      <th>C7</th>\n",
       "      <th>C5p</th>\n",
       "      <th>T4p</th>\n",
       "      <th>T3p</th>\n",
       "      <th>T5p</th>\n",
       "      <th>S1p</th>\n",
       "      <th>S2p</th>\n",
       "      <th>S3p</th>\n",
       "      <th>C2</th>\n",
       "      <th>C3p</th>\n",
       "      <th>Industry_Bins</th>\n",
       "      <th>Y1</th>\n",
       "      <th>Y2</th>\n",
       "    </tr>\n",
       "  </thead>\n",
       "  <tbody>\n",
       "    <tr>\n",
       "      <th>0</th>\n",
       "      <td>0.458312</td>\n",
       "      <td>0.630418</td>\n",
       "      <td>0.788811</td>\n",
       "      <td>0.207673</td>\n",
       "      <td>0.471242</td>\n",
       "      <td>0.534307</td>\n",
       "      <td>0.617569</td>\n",
       "      <td>0.567375</td>\n",
       "      <td>0.462525</td>\n",
       "      <td>0.729701</td>\n",
       "      <td>0.478776</td>\n",
       "      <td>1.0</td>\n",
       "      <td>0</td>\n",
       "      <td>1</td>\n",
       "      <td>0</td>\n",
       "      <td>1</td>\n",
       "    </tr>\n",
       "    <tr>\n",
       "      <th>1</th>\n",
       "      <td>1.000000</td>\n",
       "      <td>0.384735</td>\n",
       "      <td>0.000000</td>\n",
       "      <td>0.147494</td>\n",
       "      <td>1.000000</td>\n",
       "      <td>0.545709</td>\n",
       "      <td>0.521720</td>\n",
       "      <td>0.489104</td>\n",
       "      <td>0.271483</td>\n",
       "      <td>0.817120</td>\n",
       "      <td>0.474754</td>\n",
       "      <td>0.0</td>\n",
       "      <td>1</td>\n",
       "      <td>1</td>\n",
       "      <td>1</td>\n",
       "      <td>0</td>\n",
       "    </tr>\n",
       "    <tr>\n",
       "      <th>2</th>\n",
       "      <td>0.327366</td>\n",
       "      <td>0.582011</td>\n",
       "      <td>0.000000</td>\n",
       "      <td>0.078383</td>\n",
       "      <td>0.406077</td>\n",
       "      <td>0.524798</td>\n",
       "      <td>0.622040</td>\n",
       "      <td>0.773408</td>\n",
       "      <td>1.000000</td>\n",
       "      <td>0.569904</td>\n",
       "      <td>0.514761</td>\n",
       "      <td>1.0</td>\n",
       "      <td>1</td>\n",
       "      <td>1</td>\n",
       "      <td>1</td>\n",
       "      <td>0</td>\n",
       "    </tr>\n",
       "    <tr>\n",
       "      <th>3</th>\n",
       "      <td>0.814322</td>\n",
       "      <td>0.578004</td>\n",
       "      <td>0.000000</td>\n",
       "      <td>0.084319</td>\n",
       "      <td>0.396940</td>\n",
       "      <td>0.268780</td>\n",
       "      <td>0.694834</td>\n",
       "      <td>0.769738</td>\n",
       "      <td>1.000000</td>\n",
       "      <td>0.621831</td>\n",
       "      <td>0.660248</td>\n",
       "      <td>1.0</td>\n",
       "      <td>1</td>\n",
       "      <td>1</td>\n",
       "      <td>1</td>\n",
       "      <td>1</td>\n",
       "    </tr>\n",
       "    <tr>\n",
       "      <th>4</th>\n",
       "      <td>0.286445</td>\n",
       "      <td>0.259982</td>\n",
       "      <td>0.529150</td>\n",
       "      <td>0.729255</td>\n",
       "      <td>0.453073</td>\n",
       "      <td>0.394649</td>\n",
       "      <td>0.424900</td>\n",
       "      <td>0.411101</td>\n",
       "      <td>0.420367</td>\n",
       "      <td>0.769835</td>\n",
       "      <td>0.504014</td>\n",
       "      <td>1.0</td>\n",
       "      <td>0</td>\n",
       "      <td>3</td>\n",
       "      <td>0</td>\n",
       "      <td>1</td>\n",
       "    </tr>\n",
       "  </tbody>\n",
       "</table>\n",
       "</div>"
      ],
      "text/plain": [
       "         C1        C4       C6p        C7       C5p       T4p       T3p  \\\n",
       "0  0.458312  0.630418  0.788811  0.207673  0.471242  0.534307  0.617569   \n",
       "1  1.000000  0.384735  0.000000  0.147494  1.000000  0.545709  0.521720   \n",
       "2  0.327366  0.582011  0.000000  0.078383  0.406077  0.524798  0.622040   \n",
       "3  0.814322  0.578004  0.000000  0.084319  0.396940  0.268780  0.694834   \n",
       "4  0.286445  0.259982  0.529150  0.729255  0.453073  0.394649  0.424900   \n",
       "\n",
       "        T5p       S1p       S2p       S3p   C2  C3p  Industry_Bins  Y1  Y2  \n",
       "0  0.567375  0.462525  0.729701  0.478776  1.0    0              1   0   1  \n",
       "1  0.489104  0.271483  0.817120  0.474754  0.0    1              1   1   0  \n",
       "2  0.773408  1.000000  0.569904  0.514761  1.0    1              1   1   0  \n",
       "3  0.769738  1.000000  0.621831  0.660248  1.0    1              1   1   1  \n",
       "4  0.411101  0.420367  0.769835  0.504014  1.0    0              3   0   1  "
      ]
     },
     "execution_count": 8,
     "metadata": {},
     "output_type": "execute_result"
    }
   ],
   "source": [
    "# read in file \n",
    "df = pd.read_csv('../csv_files/p3feature-selection.csv', index_col=0)\n",
    "df.head()"
   ]
  },
  {
   "cell_type": "code",
   "execution_count": 9,
   "metadata": {},
   "outputs": [],
   "source": [
    "#Converting the datagrame into the correct arrays to make filtering easier \n",
    "array = df.values\n",
    "X = array[:,:-2] #features\n",
    "Y1 = array[:,-2] #Target 1\n",
    "Y2 = array[:,-1] #Targer 2"
   ]
  },
  {
   "cell_type": "code",
   "execution_count": 10,
   "metadata": {},
   "outputs": [
    {
     "name": "stdout",
     "output_type": "stream",
     "text": [
      "[2.947e-01 2.838e-01 1.954e+02 1.988e-02 1.629e-01 2.404e-01 8.255e-01\n",
      " 6.903e-01 5.180e-01 4.140e-01 1.604e-01 4.750e-01 4.831e+00 2.006e+00]\n"
     ]
    }
   ],
   "source": [
    "# Feature selection for Y1 \n",
    "test = SelectKBest(score_func=chi2, k=4)\n",
    "fit = test.fit(X, Y1)\n",
    "#Printing out the results\n",
    "np.set_printoptions(precision=3)\n",
    "print(fit.scores_)"
   ]
  },
  {
   "cell_type": "code",
   "execution_count": 11,
   "metadata": {},
   "outputs": [
    {
     "name": "stdout",
     "output_type": "stream",
     "text": [
      "[1.043e-01 3.515e-01 2.852e+01 7.584e-01 2.245e-01 2.554e-03 3.236e-02\n",
      " 6.743e-02 1.431e-01 1.243e-01 7.347e-02 1.834e-01 4.211e-01 2.095e+00]\n"
     ]
    }
   ],
   "source": [
    "# Feature selection for Y2\n",
    "test = SelectKBest(score_func=chi2, k=4)\n",
    "fit = test.fit(X, Y2)\n",
    "#Printing out the results\n",
    "np.set_printoptions(precision=3)\n",
    "print(fit.scores_)"
   ]
  },
  {
   "cell_type": "code",
   "execution_count": null,
   "metadata": {},
   "outputs": [],
   "source": []
  }
 ],
 "metadata": {
  "kernelspec": {
   "display_name": "Python 3",
   "language": "python",
   "name": "python3"
  },
  "language_info": {
   "codemirror_mode": {
    "name": "ipython",
    "version": 3
   },
   "file_extension": ".py",
   "mimetype": "text/x-python",
   "name": "python",
   "nbconvert_exporter": "python",
   "pygments_lexer": "ipython3",
   "version": "3.6.5"
  }
 },
 "nbformat": 4,
 "nbformat_minor": 2
}
