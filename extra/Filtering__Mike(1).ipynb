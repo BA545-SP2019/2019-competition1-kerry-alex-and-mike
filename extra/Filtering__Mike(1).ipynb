{
 "cells": [
  {
   "cell_type": "markdown",
   "metadata": {},
   "source": [
    "**Filtering for Feature Selection** "
   ]
  },
  {
   "cell_type": "code",
   "execution_count": 69,
   "metadata": {},
   "outputs": [],
   "source": [
    "import pandas as pd\n",
    "import numpy as np\n",
    "from sklearn.feature_selection import SelectKBest\n",
    "from sklearn.feature_selection import chi2\n",
    "import matplotlib.pyplot as plt \n",
    "%matplotlib inline\n",
    "plt.style.use('ggplot')\n",
    "import seaborn as sns "
   ]
  },
  {
   "cell_type": "code",
   "execution_count": 70,
   "metadata": {},
   "outputs": [
    {
     "data": {
      "text/html": [
       "<div>\n",
       "<style scoped>\n",
       "    .dataframe tbody tr th:only-of-type {\n",
       "        vertical-align: middle;\n",
       "    }\n",
       "\n",
       "    .dataframe tbody tr th {\n",
       "        vertical-align: top;\n",
       "    }\n",
       "\n",
       "    .dataframe thead th {\n",
       "        text-align: right;\n",
       "    }\n",
       "</style>\n",
       "<table border=\"1\" class=\"dataframe\">\n",
       "  <thead>\n",
       "    <tr style=\"text-align: right;\">\n",
       "      <th></th>\n",
       "      <th>C1</th>\n",
       "      <th>C4</th>\n",
       "      <th>C6</th>\n",
       "      <th>C7</th>\n",
       "      <th>C5p</th>\n",
       "      <th>T4p</th>\n",
       "      <th>T3p</th>\n",
       "      <th>T5p</th>\n",
       "      <th>S1p</th>\n",
       "      <th>S2p</th>\n",
       "      <th>S3p</th>\n",
       "      <th>C3p</th>\n",
       "      <th>Industry_Bins</th>\n",
       "      <th>Y1</th>\n",
       "      <th>Y2</th>\n",
       "    </tr>\n",
       "  </thead>\n",
       "  <tbody>\n",
       "    <tr>\n",
       "      <th>0</th>\n",
       "      <td>0.458312</td>\n",
       "      <td>0.630418</td>\n",
       "      <td>0.673869</td>\n",
       "      <td>0.207673</td>\n",
       "      <td>0.570284</td>\n",
       "      <td>0.441786</td>\n",
       "      <td>0.427704</td>\n",
       "      <td>0.428334</td>\n",
       "      <td>0.428161</td>\n",
       "      <td>0.397992</td>\n",
       "      <td>0.379065</td>\n",
       "      <td>0</td>\n",
       "      <td>1</td>\n",
       "      <td>0</td>\n",
       "      <td>1</td>\n",
       "    </tr>\n",
       "    <tr>\n",
       "      <th>1</th>\n",
       "      <td>1.000000</td>\n",
       "      <td>0.384735</td>\n",
       "      <td>0.290706</td>\n",
       "      <td>0.147494</td>\n",
       "      <td>0.698942</td>\n",
       "      <td>0.444796</td>\n",
       "      <td>0.426904</td>\n",
       "      <td>0.424499</td>\n",
       "      <td>0.400971</td>\n",
       "      <td>0.414195</td>\n",
       "      <td>0.378486</td>\n",
       "      <td>1</td>\n",
       "      <td>1</td>\n",
       "      <td>1</td>\n",
       "      <td>0</td>\n",
       "    </tr>\n",
       "    <tr>\n",
       "      <th>2</th>\n",
       "      <td>0.327366</td>\n",
       "      <td>0.582011</td>\n",
       "      <td>0.449107</td>\n",
       "      <td>0.078383</td>\n",
       "      <td>0.555596</td>\n",
       "      <td>0.439275</td>\n",
       "      <td>0.427741</td>\n",
       "      <td>0.437681</td>\n",
       "      <td>0.493771</td>\n",
       "      <td>0.363924</td>\n",
       "      <td>0.384058</td>\n",
       "      <td>1</td>\n",
       "      <td>1</td>\n",
       "      <td>1</td>\n",
       "      <td>0</td>\n",
       "    </tr>\n",
       "    <tr>\n",
       "      <th>3</th>\n",
       "      <td>0.814322</td>\n",
       "      <td>0.578004</td>\n",
       "      <td>0.423274</td>\n",
       "      <td>0.084319</td>\n",
       "      <td>0.553374</td>\n",
       "      <td>0.371690</td>\n",
       "      <td>0.428343</td>\n",
       "      <td>0.437523</td>\n",
       "      <td>0.479331</td>\n",
       "      <td>0.375764</td>\n",
       "      <td>0.401495</td>\n",
       "      <td>1</td>\n",
       "      <td>1</td>\n",
       "      <td>1</td>\n",
       "      <td>1</td>\n",
       "    </tr>\n",
       "    <tr>\n",
       "      <th>4</th>\n",
       "      <td>0.286445</td>\n",
       "      <td>0.259982</td>\n",
       "      <td>0.590068</td>\n",
       "      <td>0.729255</td>\n",
       "      <td>0.566377</td>\n",
       "      <td>0.404918</td>\n",
       "      <td>0.426088</td>\n",
       "      <td>0.420497</td>\n",
       "      <td>0.422876</td>\n",
       "      <td>0.405605</td>\n",
       "      <td>0.382601</td>\n",
       "      <td>0</td>\n",
       "      <td>3</td>\n",
       "      <td>0</td>\n",
       "      <td>1</td>\n",
       "    </tr>\n",
       "  </tbody>\n",
       "</table>\n",
       "</div>"
      ],
      "text/plain": [
       "         C1        C4        C6        C7       C5p       T4p       T3p  \\\n",
       "0  0.458312  0.630418  0.673869  0.207673  0.570284  0.441786  0.427704   \n",
       "1  1.000000  0.384735  0.290706  0.147494  0.698942  0.444796  0.426904   \n",
       "2  0.327366  0.582011  0.449107  0.078383  0.555596  0.439275  0.427741   \n",
       "3  0.814322  0.578004  0.423274  0.084319  0.553374  0.371690  0.428343   \n",
       "4  0.286445  0.259982  0.590068  0.729255  0.566377  0.404918  0.426088   \n",
       "\n",
       "        T5p       S1p       S2p       S3p  C3p  Industry_Bins  Y1  Y2  \n",
       "0  0.428334  0.428161  0.397992  0.379065    0              1   0   1  \n",
       "1  0.424499  0.400971  0.414195  0.378486    1              1   1   0  \n",
       "2  0.437681  0.493771  0.363924  0.384058    1              1   1   0  \n",
       "3  0.437523  0.479331  0.375764  0.401495    1              1   1   1  \n",
       "4  0.420497  0.422876  0.405605  0.382601    0              3   0   1  "
      ]
     },
     "execution_count": 70,
     "metadata": {},
     "output_type": "execute_result"
    }
   ],
   "source": [
    "data = pd.read_csv('./csv_files/evalcodep1.csv', index_col=0)\n",
    "data = data.drop('C2', axis=1)\n",
    "data.head()"
   ]
  },
  {
   "cell_type": "code",
   "execution_count": 71,
   "metadata": {},
   "outputs": [],
   "source": [
    "#Changing the X and Y DataFrames to an array\n",
    "array = data.values\n",
    "x1 = array[:,:13]\n",
    "y1 = array[:,13] #Y1 which is our Target 1\n",
    "y2 = array[:,14] #Y2 which is our Target 2\n"
   ]
  },
  {
   "cell_type": "code",
   "execution_count": 72,
   "metadata": {},
   "outputs": [
    {
     "name": "stdout",
     "output_type": "stream",
     "text": [
      "[2.947e-01 2.838e-01 4.461e-02 1.988e-02 2.097e-02 7.771e-03 1.254e-03\n",
      " 5.249e-03 2.533e-02 6.217e-02 1.289e-02 4.831e+00 2.006e+00]\n",
      "[[0.458 0.63  0.    1.   ]\n",
      " [1.    0.385 1.    1.   ]\n",
      " [0.327 0.582 1.    1.   ]\n",
      " [0.814 0.578 1.    1.   ]\n",
      " [0.286 0.26  0.    3.   ]]\n"
     ]
    }
   ],
   "source": [
    "#Going to look at Target 1 first\n",
    "filtering = SelectKBest(score_func=chi2, k=4)\n",
    "fit = filtering.fit(x1, y1)\n",
    "\n",
    "np.set_printoptions(precision=3)\n",
    "print(fit.scores_)\n",
    "\n",
    "features = fit.transform(x1)\n",
    "# Summarize selected features\n",
    "print(features[0:5,:])"
   ]
  },
  {
   "cell_type": "code",
   "execution_count": 73,
   "metadata": {},
   "outputs": [
    {
     "name": "stdout",
     "output_type": "stream",
     "text": [
      "[1.043e-01 3.515e-01 3.083e-02 7.584e-01 1.288e-02 4.176e-04 1.432e-02\n",
      " 6.492e-03 2.974e-02 5.367e-02 6.550e-03 4.211e-01 2.095e+00]\n",
      "[[0.63  0.208 0.    1.   ]\n",
      " [0.385 0.147 1.    1.   ]\n",
      " [0.582 0.078 1.    1.   ]\n",
      " [0.578 0.084 1.    1.   ]\n",
      " [0.26  0.729 0.    3.   ]]\n"
     ]
    }
   ],
   "source": [
    "#Going to look at Target 2 second\n",
    "filtering = SelectKBest(score_func=chi2, k=4)\n",
    "fit = filtering.fit(x1, y2)\n",
    "\n",
    "np.set_printoptions(precision=3)\n",
    "print(fit.scores_)\n",
    "\n",
    "features = fit.transform(x1)\n",
    "# Summarize selected features\n",
    "print(features[0:5,:])"
   ]
  }
 ],
 "metadata": {
  "kernelspec": {
   "display_name": "Python 3",
   "language": "python",
   "name": "python3"
  },
  "language_info": {
   "codemirror_mode": {
    "name": "ipython",
    "version": 3
   },
   "file_extension": ".py",
   "mimetype": "text/x-python",
   "name": "python",
   "nbconvert_exporter": "python",
   "pygments_lexer": "ipython3",
   "version": "3.6.5"
  }
 },
 "nbformat": 4,
 "nbformat_minor": 2
}
