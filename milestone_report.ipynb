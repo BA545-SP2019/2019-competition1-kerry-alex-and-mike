{
 "cells": [
  {
   "cell_type": "markdown",
   "metadata": {},
   "source": [
    "# Competition 1 Milestone Report\n",
    "## Group Members: Alex Cattie, Mike Szemenyei, Kerry Clarke"
   ]
  },
  {
   "cell_type": "markdown",
   "metadata": {},
   "source": [
    "### 1: Working Plan\n",
    "- Descriptive Statistics - Mike\n",
    "- Imputation - Kerry\n",
    "- Normalization - Alex\n",
    "- Correlation - Mike\n",
    "- Standardization - Kerry\n",
    "- Recoding - Alex\n",
    "- Modeling \n",
    "    - Logistic Regression - Kerry\n",
    "    - Extra Credit Attempt - All "
   ]
  },
  {
   "cell_type": "markdown",
   "metadata": {},
   "source": [
    "This is a basic plan for our project. The person listed next to each step will be the lead person for that step in the process and will communicate progress made and obstacles encountered. However, we all expect to contribute to each step in the process to some degree. Kerry, as group leader, will check in on the progress of each step and help troubleshoot issues to keep the project moving forward. \n"
   ]
  },
  {
   "cell_type": "markdown",
   "metadata": {},
   "source": [
    "### 2: Descriptive Stats"
   ]
  },
  {
   "cell_type": "markdown",
   "metadata": {},
   "source": [
    "![Descriptive Stats Picture One]('./desc_stats_1.png')"
   ]
  },
  {
   "cell_type": "markdown",
   "metadata": {},
   "source": [
    "![Descriptive Stats Picture Two]('./desc_stats_2.png')"
   ]
  },
  {
   "cell_type": "markdown",
   "metadata": {},
   "source": [
    "### 3: Progress"
   ]
  },
  {
   "cell_type": "markdown",
   "metadata": {},
   "source": [
    "- **Descriptive Stats for Initial Data Exploration**\n",
    "    - Used .describe() and .median to capture all the necessary statistics on the dataset\n",
    "    - Also found the number of missing values for each column\n",
    "- **Imputation**\n",
    "    - Replaced the ‘-’ values with NaN\n",
    "    - Determined the best method (mean or median) of imputation for each column based on histogram analysis \n",
    "    - Replaced all NaN values with imputed values \n",
    "        - We chose to use the mean value \n",
    "        - Could not impute for column I3 as this is a classifier \n",
    "- **Descriptive Stats after Imputation**\n",
    "    - Ran same stats after imputing the values\n",
    "- **Attribute Creation**\n",
    "    - Added new columns for target variables and other columns needed\n",
    "- **Normalization**\n",
    "    - Completed initial normalization on the cleaned dataset\n",
    "        - Created a column normalization function that calculated each item in a column into a standardized score: (col_item - mean) / (high - low)\n",
    "        - Created a new normalized data frame and with a for loop went through all of the columns with continuous data and used the previous normalization function to standardize the data\n",
    "        - Imported preprocessing from sklearn\n",
    "        - Used preprocessing.MinMaxScaler() to set a value equal to a scaled number from 0-1\n",
    "        - Used scaler.fit_transform on this previous value to fit the data to range and transform it\n",
    "        - Lastly, created a new dataframe using the newly scaled data and columns\n",
    "- **Standardization**\n",
    "    - Standardized the normalized dataset using the scikit learn preprocessing package StandardScaler \n",
    "    - Used descriptive stats and histogram analysis to determine that all columns had a mean of 0 and standard deviation of 1. \n"
   ]
  },
  {
   "cell_type": "markdown",
   "metadata": {},
   "source": [
    "### 4: Next Steps"
   ]
  },
  {
   "cell_type": "markdown",
   "metadata": {},
   "source": [
    "Our next step in the competition will be feature selection. We will utililze correlation analysis as the primary method of our feature selection. Once we have complied our desired features we will continue on to the modeling protion of the competition. We will run a logistic regression and attempt another type of modeling that will statisfy the criteria of the extra credit. We have a coaching session scheduled on Thursday that we will use to ask Dr. Tao any questions we have at that point."
   ]
  },
  {
   "cell_type": "code",
   "execution_count": null,
   "metadata": {},
   "outputs": [],
   "source": []
  }
 ],
 "metadata": {
  "kernelspec": {
   "display_name": "Python 3",
   "language": "python",
   "name": "python3"
  },
  "language_info": {
   "codemirror_mode": {
    "name": "ipython",
    "version": 3
   },
   "file_extension": ".py",
   "mimetype": "text/x-python",
   "name": "python",
   "nbconvert_exporter": "python",
   "pygments_lexer": "ipython3",
   "version": "3.6.5"
  }
 },
 "nbformat": 4,
 "nbformat_minor": 2
}
